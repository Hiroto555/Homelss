{
 "cells": [
  {
   "cell_type": "markdown",
   "id": "59e85f1b",
   "metadata": {
    "papermill": {
     "duration": 0.014436,
     "end_time": "2023-02-22T10:14:51.136574",
     "exception": false,
     "start_time": "2023-02-22T10:14:51.122138",
     "status": "completed"
    },
    "tags": []
   },
   "source": [
    "# Data Science Tools & Applications\n",
    "# Assignment No. 2\n",
    "# Author: Fahad Majeed\n",
    "# ID: 210044316"
   ]
  },
  {
   "cell_type": "markdown",
   "id": "5a9eeab3",
   "metadata": {
    "papermill": {
     "duration": 0.006952,
     "end_time": "2023-02-22T10:14:51.158099",
     "exception": false,
     "start_time": "2023-02-22T10:14:51.151147",
     "status": "completed"
    },
    "tags": []
   },
   "source": [
    "> * **The workflow consists of following 5 steps:**"
   ]
  },
  {
   "cell_type": "code",
   "execution_count": 1,
   "id": "69243874",
   "metadata": {
    "execution": {
     "iopub.execute_input": "2023-02-22T10:14:51.173064Z",
     "iopub.status.busy": "2023-02-22T10:14:51.172663Z",
     "iopub.status.idle": "2023-02-22T10:14:54.393984Z",
     "shell.execute_reply": "2023-02-22T10:14:54.393000Z"
    },
    "papermill": {
     "duration": 3.231758,
     "end_time": "2023-02-22T10:14:54.396616",
     "exception": false,
     "start_time": "2023-02-22T10:14:51.164858",
     "status": "completed"
    },
    "tags": []
   },
   "outputs": [
    {
     "data": {
      "text/html": [
       "<style type='text/css'>\n",
       ".datatable table.frame { margin-bottom: 0; }\n",
       ".datatable table.frame thead { border-bottom: none; }\n",
       ".datatable table.frame tr.coltypes td {  color: #FFFFFF;  line-height: 6px;  padding: 0 0.5em;}\n",
       ".datatable .bool    { background: #DDDD99; }\n",
       ".datatable .object  { background: #565656; }\n",
       ".datatable .int     { background: #5D9E5D; }\n",
       ".datatable .float   { background: #4040CC; }\n",
       ".datatable .str     { background: #CC4040; }\n",
       ".datatable .time    { background: #40CC40; }\n",
       ".datatable .row_index {  background: var(--jp-border-color3);  border-right: 1px solid var(--jp-border-color0);  color: var(--jp-ui-font-color3);  font-size: 9px;}\n",
       ".datatable .frame tbody td { text-align: left; }\n",
       ".datatable .frame tr.coltypes .row_index {  background: var(--jp-border-color0);}\n",
       ".datatable th:nth-child(2) { padding-left: 12px; }\n",
       ".datatable .hellipsis {  color: var(--jp-cell-editor-border-color);}\n",
       ".datatable .vellipsis {  background: var(--jp-layout-color0);  color: var(--jp-cell-editor-border-color);}\n",
       ".datatable .na {  color: var(--jp-cell-editor-border-color);  font-size: 80%;}\n",
       ".datatable .sp {  opacity: 0.25;}\n",
       ".datatable .footer { font-size: 9px; }\n",
       ".datatable .frame_dimensions {  background: var(--jp-border-color3);  border-top: 1px solid var(--jp-border-color0);  color: var(--jp-ui-font-color3);  display: inline-block;  opacity: 0.6;  padding: 1px 10px 1px 5px;}\n",
       "</style>\n"
      ],
      "text/plain": [
       "<IPython.core.display.HTML object>"
      ]
     },
     "metadata": {},
     "output_type": "display_data"
    }
   ],
   "source": [
    "import numpy as np \n",
    "import pandas as pd \n",
    "\n",
    "from sklearn.model_selection import cross_val_score\n",
    "from sklearn.metrics import mean_squared_error\n",
    "from scipy.stats import skew\n",
    "\n",
    "from sklearn.linear_model import Ridge, ElasticNet,  Lasso\n",
    "from sklearn.kernel_ridge import KernelRidge\n",
    "from sklearn.ensemble import GradientBoostingRegressor\n",
    "from catboost import CatBoostRegressor\n",
    "import lightgbm as lgb\n",
    "import xgboost as xg\n",
    "\n",
    "import seaborn as sns\n",
    "import matplotlib.pyplot as plt"
   ]
  },
  {
   "cell_type": "code",
   "execution_count": 2,
   "id": "bf20bce0",
   "metadata": {
    "execution": {
     "iopub.execute_input": "2023-02-22T10:14:54.413735Z",
     "iopub.status.busy": "2023-02-22T10:14:54.412044Z",
     "iopub.status.idle": "2023-02-22T10:14:54.417921Z",
     "shell.execute_reply": "2023-02-22T10:14:54.416952Z"
    },
    "papermill": {
     "duration": 0.015805,
     "end_time": "2023-02-22T10:14:54.419844",
     "exception": false,
     "start_time": "2023-02-22T10:14:54.404039",
     "status": "completed"
    },
    "tags": []
   },
   "outputs": [],
   "source": [
    "import warnings\n",
    "warnings.filterwarnings('ignore')"
   ]
  },
  {
   "cell_type": "code",
   "execution_count": 3,
   "id": "eb835c76",
   "metadata": {
    "execution": {
     "iopub.execute_input": "2023-02-22T10:14:54.435528Z",
     "iopub.status.busy": "2023-02-22T10:14:54.434706Z",
     "iopub.status.idle": "2023-02-22T10:14:54.537250Z",
     "shell.execute_reply": "2023-02-22T10:14:54.536312Z"
    },
    "papermill": {
     "duration": 0.112321,
     "end_time": "2023-02-22T10:14:54.539328",
     "exception": false,
     "start_time": "2023-02-22T10:14:54.427007",
     "status": "completed"
    },
    "tags": []
   },
   "outputs": [
    {
     "data": {
      "text/html": [
       "<div>\n",
       "<style scoped>\n",
       "    .dataframe tbody tr th:only-of-type {\n",
       "        vertical-align: middle;\n",
       "    }\n",
       "\n",
       "    .dataframe tbody tr th {\n",
       "        vertical-align: top;\n",
       "    }\n",
       "\n",
       "    .dataframe thead th {\n",
       "        text-align: right;\n",
       "    }\n",
       "</style>\n",
       "<table border=\"1\" class=\"dataframe\">\n",
       "  <thead>\n",
       "    <tr style=\"text-align: right;\">\n",
       "      <th></th>\n",
       "      <th>MSSubClass</th>\n",
       "      <th>MSZoning</th>\n",
       "      <th>LotFrontage</th>\n",
       "      <th>LotArea</th>\n",
       "      <th>Street</th>\n",
       "      <th>Alley</th>\n",
       "      <th>LotShape</th>\n",
       "      <th>LandContour</th>\n",
       "      <th>Utilities</th>\n",
       "      <th>LotConfig</th>\n",
       "      <th>...</th>\n",
       "      <th>PoolArea</th>\n",
       "      <th>PoolQC</th>\n",
       "      <th>Fence</th>\n",
       "      <th>MiscFeature</th>\n",
       "      <th>MiscVal</th>\n",
       "      <th>MoSold</th>\n",
       "      <th>YrSold</th>\n",
       "      <th>SaleType</th>\n",
       "      <th>SaleCondition</th>\n",
       "      <th>SalePrice</th>\n",
       "    </tr>\n",
       "  </thead>\n",
       "  <tbody>\n",
       "    <tr>\n",
       "      <th>0</th>\n",
       "      <td>60</td>\n",
       "      <td>RL</td>\n",
       "      <td>65.0</td>\n",
       "      <td>8450</td>\n",
       "      <td>Pave</td>\n",
       "      <td>NaN</td>\n",
       "      <td>Reg</td>\n",
       "      <td>Lvl</td>\n",
       "      <td>AllPub</td>\n",
       "      <td>Inside</td>\n",
       "      <td>...</td>\n",
       "      <td>0</td>\n",
       "      <td>NaN</td>\n",
       "      <td>NaN</td>\n",
       "      <td>NaN</td>\n",
       "      <td>0</td>\n",
       "      <td>2</td>\n",
       "      <td>2008</td>\n",
       "      <td>WD</td>\n",
       "      <td>Normal</td>\n",
       "      <td>208500</td>\n",
       "    </tr>\n",
       "    <tr>\n",
       "      <th>1</th>\n",
       "      <td>20</td>\n",
       "      <td>RL</td>\n",
       "      <td>80.0</td>\n",
       "      <td>9600</td>\n",
       "      <td>Pave</td>\n",
       "      <td>NaN</td>\n",
       "      <td>Reg</td>\n",
       "      <td>Lvl</td>\n",
       "      <td>AllPub</td>\n",
       "      <td>FR2</td>\n",
       "      <td>...</td>\n",
       "      <td>0</td>\n",
       "      <td>NaN</td>\n",
       "      <td>NaN</td>\n",
       "      <td>NaN</td>\n",
       "      <td>0</td>\n",
       "      <td>5</td>\n",
       "      <td>2007</td>\n",
       "      <td>WD</td>\n",
       "      <td>Normal</td>\n",
       "      <td>181500</td>\n",
       "    </tr>\n",
       "    <tr>\n",
       "      <th>2</th>\n",
       "      <td>60</td>\n",
       "      <td>RL</td>\n",
       "      <td>68.0</td>\n",
       "      <td>11250</td>\n",
       "      <td>Pave</td>\n",
       "      <td>NaN</td>\n",
       "      <td>IR1</td>\n",
       "      <td>Lvl</td>\n",
       "      <td>AllPub</td>\n",
       "      <td>Inside</td>\n",
       "      <td>...</td>\n",
       "      <td>0</td>\n",
       "      <td>NaN</td>\n",
       "      <td>NaN</td>\n",
       "      <td>NaN</td>\n",
       "      <td>0</td>\n",
       "      <td>9</td>\n",
       "      <td>2008</td>\n",
       "      <td>WD</td>\n",
       "      <td>Normal</td>\n",
       "      <td>223500</td>\n",
       "    </tr>\n",
       "    <tr>\n",
       "      <th>3</th>\n",
       "      <td>70</td>\n",
       "      <td>RL</td>\n",
       "      <td>60.0</td>\n",
       "      <td>9550</td>\n",
       "      <td>Pave</td>\n",
       "      <td>NaN</td>\n",
       "      <td>IR1</td>\n",
       "      <td>Lvl</td>\n",
       "      <td>AllPub</td>\n",
       "      <td>Corner</td>\n",
       "      <td>...</td>\n",
       "      <td>0</td>\n",
       "      <td>NaN</td>\n",
       "      <td>NaN</td>\n",
       "      <td>NaN</td>\n",
       "      <td>0</td>\n",
       "      <td>2</td>\n",
       "      <td>2006</td>\n",
       "      <td>WD</td>\n",
       "      <td>Abnorml</td>\n",
       "      <td>140000</td>\n",
       "    </tr>\n",
       "    <tr>\n",
       "      <th>4</th>\n",
       "      <td>60</td>\n",
       "      <td>RL</td>\n",
       "      <td>84.0</td>\n",
       "      <td>14260</td>\n",
       "      <td>Pave</td>\n",
       "      <td>NaN</td>\n",
       "      <td>IR1</td>\n",
       "      <td>Lvl</td>\n",
       "      <td>AllPub</td>\n",
       "      <td>FR2</td>\n",
       "      <td>...</td>\n",
       "      <td>0</td>\n",
       "      <td>NaN</td>\n",
       "      <td>NaN</td>\n",
       "      <td>NaN</td>\n",
       "      <td>0</td>\n",
       "      <td>12</td>\n",
       "      <td>2008</td>\n",
       "      <td>WD</td>\n",
       "      <td>Normal</td>\n",
       "      <td>250000</td>\n",
       "    </tr>\n",
       "  </tbody>\n",
       "</table>\n",
       "<p>5 rows × 80 columns</p>\n",
       "</div>"
      ],
      "text/plain": [
       "   MSSubClass MSZoning  LotFrontage  LotArea Street Alley LotShape  \\\n",
       "0          60       RL         65.0     8450   Pave   NaN      Reg   \n",
       "1          20       RL         80.0     9600   Pave   NaN      Reg   \n",
       "2          60       RL         68.0    11250   Pave   NaN      IR1   \n",
       "3          70       RL         60.0     9550   Pave   NaN      IR1   \n",
       "4          60       RL         84.0    14260   Pave   NaN      IR1   \n",
       "\n",
       "  LandContour Utilities LotConfig  ... PoolArea PoolQC Fence MiscFeature  \\\n",
       "0         Lvl    AllPub    Inside  ...        0    NaN   NaN         NaN   \n",
       "1         Lvl    AllPub       FR2  ...        0    NaN   NaN         NaN   \n",
       "2         Lvl    AllPub    Inside  ...        0    NaN   NaN         NaN   \n",
       "3         Lvl    AllPub    Corner  ...        0    NaN   NaN         NaN   \n",
       "4         Lvl    AllPub       FR2  ...        0    NaN   NaN         NaN   \n",
       "\n",
       "  MiscVal MoSold  YrSold  SaleType  SaleCondition  SalePrice  \n",
       "0       0      2    2008        WD         Normal     208500  \n",
       "1       0      5    2007        WD         Normal     181500  \n",
       "2       0      9    2008        WD         Normal     223500  \n",
       "3       0      2    2006        WD        Abnorml     140000  \n",
       "4       0     12    2008        WD         Normal     250000  \n",
       "\n",
       "[5 rows x 80 columns]"
      ]
     },
     "execution_count": 3,
     "metadata": {},
     "output_type": "execute_result"
    }
   ],
   "source": [
    "data = pd.read_csv('../input/house-prices-advanced-regression-techniques/train.csv')\n",
    "test = pd.read_csv(\"../input/house-prices-advanced-regression-techniques/test.csv\")\n",
    "\n",
    "data_b = data.drop(['Id'], axis=1) \n",
    "test_b = test.drop(['Id'], axis=1) \n",
    "data_b.head()"
   ]
  },
  {
   "cell_type": "markdown",
   "id": "db755ac1",
   "metadata": {
    "papermill": {
     "duration": 0.007293,
     "end_time": "2023-02-22T10:14:54.554051",
     "exception": false,
     "start_time": "2023-02-22T10:14:54.546758",
     "status": "completed"
    },
    "tags": []
   },
   "source": [
    "# 1. Feature Engineering:\n",
    "> * **Analysis of Missing Values**"
   ]
  },
  {
   "cell_type": "code",
   "execution_count": 4,
   "id": "39e4c697",
   "metadata": {
    "execution": {
     "iopub.execute_input": "2023-02-22T10:14:54.571394Z",
     "iopub.status.busy": "2023-02-22T10:14:54.569913Z",
     "iopub.status.idle": "2023-02-22T10:14:54.584288Z",
     "shell.execute_reply": "2023-02-22T10:14:54.583366Z"
    },
    "papermill": {
     "duration": 0.024998,
     "end_time": "2023-02-22T10:14:54.586579",
     "exception": false,
     "start_time": "2023-02-22T10:14:54.561581",
     "status": "completed"
    },
    "tags": []
   },
   "outputs": [
    {
     "data": {
      "text/plain": [
       "PoolQC          1453\n",
       "MiscFeature     1406\n",
       "Alley           1369\n",
       "Fence           1179\n",
       "FireplaceQu      690\n",
       "LotFrontage      259\n",
       "GarageYrBlt       81\n",
       "GarageCond        81\n",
       "GarageType        81\n",
       "GarageFinish      81\n",
       "GarageQual        81\n",
       "BsmtExposure      38\n",
       "BsmtFinType2      38\n",
       "BsmtCond          37\n",
       "BsmtQual          37\n",
       "BsmtFinType1      37\n",
       "MasVnrArea         8\n",
       "MasVnrType         8\n",
       "Electrical         1\n",
       "MSSubClass         0\n",
       "dtype: int64"
      ]
     },
     "execution_count": 4,
     "metadata": {},
     "output_type": "execute_result"
    }
   ],
   "source": [
    "data_b.isnull().sum().sort_values(ascending=False).head(20)"
   ]
  },
  {
   "cell_type": "markdown",
   "id": "549edda0",
   "metadata": {
    "papermill": {
     "duration": 0.006911,
     "end_time": "2023-02-22T10:14:54.600631",
     "exception": false,
     "start_time": "2023-02-22T10:14:54.593720",
     "status": "completed"
    },
    "tags": []
   },
   "source": [
    "> * **Analysis of all features one-by-one using the following function**"
   ]
  },
  {
   "cell_type": "code",
   "execution_count": 5,
   "id": "a6f4b7db",
   "metadata": {
    "execution": {
     "iopub.execute_input": "2023-02-22T10:14:54.616134Z",
     "iopub.status.busy": "2023-02-22T10:14:54.615852Z",
     "iopub.status.idle": "2023-02-22T10:14:55.187430Z",
     "shell.execute_reply": "2023-02-22T10:14:55.186183Z"
    },
    "papermill": {
     "duration": 0.582637,
     "end_time": "2023-02-22T10:14:55.190540",
     "exception": false,
     "start_time": "2023-02-22T10:14:54.607903",
     "status": "completed"
    },
    "tags": []
   },
   "outputs": [
    {
     "data": {
      "image/png": "[encoded data removed]",
      "text/plain": [
       "<Figure size 600x600 with 3 Axes>"
      ]
     },
     "metadata": {},
     "output_type": "display_data"
    },
    {
     "name": "stdout",
     "output_type": "stream",
     "text": [
      "\n",
      "****INFO****\n",
      "count     1460\n",
      "unique       5\n",
      "top         RL\n",
      "freq      1151\n",
      "Name: MSZoning, dtype: object\n",
      "\n",
      "****VALUE COUNTS****\n",
      "RL         1151\n",
      "RM          218\n",
      "FV           65\n",
      "RH           16\n",
      "C (all)      10\n",
      "Name: MSZoning, dtype: int64\n",
      "\n",
      "****VALUE AVG SALE PRICE****\n",
      "MSZoning\n",
      "C (all)     74528.000000\n",
      "FV         214014.061538\n",
      "RH         131558.375000\n",
      "RL         191004.994787\n",
      "RM         126316.830275\n",
      "Name: SalePrice, dtype: float64\n",
      "\n",
      "****TEST INFO****\n",
      "count     1455\n",
      "unique       5\n",
      "top         RL\n",
      "freq      1114\n",
      "Name: MSZoning, dtype: object\n",
      "\n",
      "****VALUE COUNTS****\n",
      "RL         1114\n",
      "RM          242\n",
      "FV           74\n",
      "C (all)      15\n",
      "RH           10\n",
      "Name: MSZoning, dtype: int64\n",
      "\n",
      "Only in Train: []\n",
      "Only in Test: []\n"
     ]
    }
   ],
   "source": [
    "def analyse_feature(feature_name):\n",
    "\n",
    "    sns.jointplot(data=data_b, y=\"SalePrice\", x=feature_name)\n",
    "    plt.show()\n",
    "    print(\"\\n****INFO****\")\n",
    "    print(data_b[feature_name].describe())\n",
    "    print(\"\\n****VALUE COUNTS****\")\n",
    "    print(data_b[feature_name].value_counts())\n",
    "    print(\"\\n****VALUE AVG SALE PRICE****\")\n",
    "    print(data_b.groupby(feature_name)['SalePrice'].mean())\n",
    "    if data_b[feature_name].dtype!=\"O\":\n",
    "        print(\"\\nSkewness:\",str(skew(data_b[feature_name])))\n",
    "\n",
    "    print(\"\\n****TEST INFO****\")\n",
    "    print(test_b[feature_name].describe())\n",
    "    print(\"\\n****VALUE COUNTS****\")\n",
    "    print(test_b[feature_name].value_counts())\n",
    "    \n",
    "    print(\"\\nOnly in Train: \"+str(list(set(data_b[feature_name].value_counts().index.values) - set(test_b[feature_name].value_counts().index.values))))\n",
    "    print(\"Only in Test: \"+ str(list(set(test_b[feature_name].value_counts().index.values) - set(data_b[feature_name].value_counts().index.values))))\n",
    "    \n",
    "analyse_feature(\"MSZoning\")"
   ]
  },
  {
   "cell_type": "markdown",
   "id": "1b38fe59",
   "metadata": {
    "papermill": {
     "duration": 0.00792,
     "end_time": "2023-02-22T10:14:55.207967",
     "exception": false,
     "start_time": "2023-02-22T10:14:55.200047",
     "status": "completed"
    },
    "tags": []
   },
   "source": [
    "> * **After Analysing Each Column -> Fill Missing Values**"
   ]
  },
  {
   "cell_type": "code",
   "execution_count": 6,
   "id": "5c24ecee",
   "metadata": {
    "execution": {
     "iopub.execute_input": "2023-02-22T10:14:55.224722Z",
     "iopub.status.busy": "2023-02-22T10:14:55.224362Z",
     "iopub.status.idle": "2023-02-22T10:14:55.254684Z",
     "shell.execute_reply": "2023-02-22T10:14:55.253674Z"
    },
    "papermill": {
     "duration": 0.041232,
     "end_time": "2023-02-22T10:14:55.256879",
     "exception": false,
     "start_time": "2023-02-22T10:14:55.215647",
     "status": "completed"
    },
    "tags": []
   },
   "outputs": [],
   "source": [
    "test_b['MSZoning']=test_b['MSZoning'].fillna(\"C (all)\") \n",
    "test_b['GarageCars']=test_b['GarageCars'].fillna(0) \n",
    "test_b['GarageArea']=test_b['GarageArea'].fillna(0) \n",
    "test_b['Functional']=test_b['Functional'].fillna(\"Typ\") \n",
    "test_b['SaleType']=test_b['SaleType'].fillna(\"WD\") \n",
    "test_b['SaleCondition']=test_b['SaleCondition'].fillna(\"Normal\")\n",
    "data_b['Fence']=data_b['Fence'].fillna(\"None\") \n",
    "test_b['Fence']=test_b['Fence'].fillna(\"None\") \n",
    "data_b['Electrical'] = data_b['Electrical'].fillna(\"SBrkr\")\n",
    "data_b['FireplaceQu'] = data_b['FireplaceQu'].fillna(\"None\")\n",
    "test_b['FireplaceQu'] = test_b['FireplaceQu'].fillna(\"None\")\n",
    "data_b['GarageType'] = data_b['GarageType'].fillna(\"None\")\n",
    "test_b['GarageType'] = test_b['GarageType'].fillna(\"None\")\n",
    "data_b['GarageQual'] = data_b['GarageQual'].fillna(\"None\")\n",
    "test_b['GarageQual'] = test_b['GarageQual'].fillna(\"None\")\n",
    "data_b['GarageCond'] = data_b['GarageCond'].fillna(\"None\")\n",
    "test_b['GarageCond'] = test_b['GarageCond'].fillna(\"None\")\n",
    "data_b['GarageFinish'] = data_b['GarageFinish'].fillna(\"None\")\n",
    "test_b['GarageFinish'] = test_b['GarageFinish'].fillna(\"None\")\n",
    "test_b['Exterior1st'] = test_b['Exterior1st'].fillna(\"VinylSd\")\n",
    "test_b['Exterior2nd']= test_b['Exterior2nd'].fillna(\"VinylSd\")\n",
    "data_b['MasVnrType'] = data_b['MasVnrType'].fillna(\"None\")\n",
    "test_b['MasVnrType'] = test_b['MasVnrType'].fillna(\"None\")\n",
    "data_b['MasVnrArea'] = data_b['MasVnrArea'].fillna(0)\n",
    "test_b['MasVnrArea'] = test_b['MasVnrArea'].fillna(0)\n",
    "test_b['BsmtHalfBath']=test_b['BsmtHalfBath'].fillna(0) \n",
    "test_b['BsmtFullBath']=test_b['BsmtFullBath'].fillna(0) \n",
    "test_b['KitchenQual']=test_b['KitchenQual'].fillna(\"Gd\") \n",
    "test_b['TotalBsmtSF']=test_b['TotalBsmtSF'].fillna(0) \n",
    "test_b['BsmtUnfSF']=test_b['BsmtUnfSF'].fillna(0)\n",
    "test_b['BsmtFinSF1']=test_b['BsmtFinSF1'].fillna(0) \n",
    "test_b['BsmtFinSF2']= test_b['BsmtFinSF2'].fillna(0) \n",
    "test_b['BsmtQual']=test_b['BsmtQual'].fillna(\"None\") \n",
    "data_b['BsmtQual']=data_b['BsmtQual'].fillna(\"None\")\n",
    "test_b['BsmtCond']= test_b['BsmtCond'].fillna(\"None\")\n",
    "data_b['BsmtCond']= data_b['BsmtCond'].fillna(\"None\")\n",
    "test_b['BsmtExposure']= test_b['BsmtExposure'].fillna(\"None\") \n",
    "data_b['BsmtExposure']= data_b['BsmtExposure'].fillna(\"None\") \n",
    "test_b['Utilities']= test_b['Utilities'].fillna(\"AllPub\") \n",
    "data_b['GarageYrBlt'] = data_b['GarageYrBlt'].fillna(1895)\n",
    "test_b['GarageYrBlt'] = test_b['GarageYrBlt'].fillna(1895)"
   ]
  },
  {
   "cell_type": "markdown",
   "id": "b96a2163",
   "metadata": {
    "papermill": {
     "duration": 0.00802,
     "end_time": "2023-02-22T10:14:55.273559",
     "exception": false,
     "start_time": "2023-02-22T10:14:55.265539",
     "status": "completed"
    },
    "tags": []
   },
   "source": [
    "> * **After Analysing Each Column -> Fixing Outliers**"
   ]
  },
  {
   "cell_type": "code",
   "execution_count": 7,
   "id": "177d0268",
   "metadata": {
    "execution": {
     "iopub.execute_input": "2023-02-22T10:14:55.292180Z",
     "iopub.status.busy": "2023-02-22T10:14:55.291148Z",
     "iopub.status.idle": "2023-02-22T10:14:55.321684Z",
     "shell.execute_reply": "2023-02-22T10:14:55.320752Z"
    },
    "papermill": {
     "duration": 0.042192,
     "end_time": "2023-02-22T10:14:55.323936",
     "exception": false,
     "start_time": "2023-02-22T10:14:55.281744",
     "status": "completed"
    },
    "tags": []
   },
   "outputs": [],
   "source": [
    "test_b.loc[test.GarageYrBlt==2207,'GarageYrBlt'] = 2007 \n",
    "test_b.loc[test_b.LotArea==1533,'LotFrontage'] = 21 \n",
    "data_b.loc[data_b.LotArea>40000,'LotArea'] = 40000\n",
    "test_b.loc[test_b.LotArea>40000,'LotArea'] = 40000\n",
    "data_b.loc[data_b.LotFrontage>150,'LotFrontage'] = 150\n",
    "test_b.loc[test_b.LotFrontage>150,'LotFrontage'] = 150\n",
    "data_b.loc[data_b[\"1stFlrSF\"]>3000,'1stFlrSF'] = 3000\n",
    "test_b.loc[test_b[\"1stFlrSF\"]>3000,'1stFlrSF'] = 3000\n",
    "data_b.loc[data_b[\"GrLivArea\"]>4000,'GrLivArea'] = 4000\n",
    "test_b.loc[test_b[\"GrLivArea\"]>4000,'GrLivArea'] = 4000\n",
    "data_b.loc[data_b[\"TotRmsAbvGrd\"]>12,'TotRmsAbvGrd'] = 12\n",
    "test_b.loc[test_b[\"TotRmsAbvGrd\"]>12,'TotRmsAbvGrd'] = 12\n",
    "data_b.loc[data_b[\"BsmtFinSF1\"]>2200,'BsmtFinSF1'] = 2200\n",
    "test_b.loc[test_b[\"BsmtFinSF1\"]>2200,'BsmtFinSF1'] = 2200\n",
    "data_b.loc[data_b[\"TotalBsmtSF\"]>2500,'TotalBsmtSF'] = 2500\n",
    "test_b.loc[test_b[\"TotalBsmtSF\"]>2500,'TotalBsmtSF'] = 2500\n",
    "data_b.loc[data_b[\"GarageCars\"]>3,'GarageCars'] = 3\n",
    "test_b.loc[test_b[\"GarageCars\"]>3,'GarageCars'] = 3\n",
    "data_b.loc[data_b[\"GarageArea\"]>1000,'GarageArea'] = 1000\n",
    "test_b.loc[test_b[\"GarageArea\"]>1000,'GarageArea'] = 1000\n",
    "\n",
    "#Simple Linear Reg to fill missin LotFrontage values\n",
    "test_b.loc[test_b[\"LotFrontage\"].isnull(),[\"LotFrontage\"]]=(test_b.loc[test_b[\"LotFrontage\"].isnull(),[\"LotArea\"]]*0.00885-15.17).values\n",
    "data_b.loc[data_b[\"LotFrontage\"].isnull(),[\"LotFrontage\"]]=(data_b.loc[data_b[\"LotFrontage\"].isnull(),[\"LotArea\"]]*0.00885-15.17).values"
   ]
  },
  {
   "cell_type": "markdown",
   "id": "03116284",
   "metadata": {
    "papermill": {
     "duration": 0.007482,
     "end_time": "2023-02-22T10:14:55.339245",
     "exception": false,
     "start_time": "2023-02-22T10:14:55.331763",
     "status": "completed"
    },
    "tags": []
   },
   "source": [
    "> * **Feature Extraction (Converting Years to Ages)**"
   ]
  },
  {
   "cell_type": "code",
   "execution_count": 8,
   "id": "853a501f",
   "metadata": {
    "execution": {
     "iopub.execute_input": "2023-02-22T10:14:55.356416Z",
     "iopub.status.busy": "2023-02-22T10:14:55.355584Z",
     "iopub.status.idle": "2023-02-22T10:14:55.380927Z",
     "shell.execute_reply": "2023-02-22T10:14:55.379941Z"
    },
    "papermill": {
     "duration": 0.03624,
     "end_time": "2023-02-22T10:14:55.383215",
     "exception": false,
     "start_time": "2023-02-22T10:14:55.346975",
     "status": "completed"
    },
    "tags": []
   },
   "outputs": [],
   "source": [
    "data_b[\"Age\"] = 2011 - data_b[\"YearBuilt\"]\n",
    "test_b[\"Age\"] = 2011 - test_b[\"YearBuilt\"]\n",
    "\n",
    "data_b[\"RemodAfter\"] = data_b[\"YearRemodAdd\"] - data_b[\"YearBuilt\"]\n",
    "data_b[\"AgeRemodAdd\"] = 2011 - data_b[\"YearRemodAdd\"]\n",
    "\n",
    "test_b[\"RemodAfter\"] = test_b[\"YearRemodAdd\"] - test_b[\"YearBuilt\"]\n",
    "test_b.loc[test_b.RemodAfter<0,'RemodAfter'] = 0\n",
    "test_b[\"AgeRemodAdd\"] = 2011 - test_b[\"YearRemodAdd\"]\n",
    "\n",
    "data_b[\"Age_Sold\"] = data_b[\"YrSold\"] - data_b[\"YearBuilt\"] \n",
    "test_b[\"Age_Sold\"] = test_b[\"YrSold\"] - test_b[\"YearBuilt\"]\n",
    "test_b.loc[test_b.Age_Sold<0,'Age_Sold'] = 0\n",
    "\n",
    "data_b[\"Sold_before\"] = 2011 - data_b[\"YrSold\"]\n",
    "test_b[\"Sold_before\"] = 2011 - test_b[\"YrSold\"] \n",
    "\n",
    "data_b['Age_Garage'] = 2011 - data_b['GarageYrBlt']\n",
    "test_b['Age_Garage'] = 2011 - test_b['GarageYrBlt']\n",
    "data_b['Age_Garage_Sold'] = data_b[\"YrSold\"] - data_b['GarageYrBlt']\n",
    "test_b['Age_Garage_Sold'] = test_b[\"YrSold\"] - test_b['GarageYrBlt']\n",
    "\n",
    "data_b['TotalPorch']=data_b['EnclosedPorch'] + data_b['OpenPorchSF'] + data_b['ScreenPorch'] + data_b['3SsnPorch'] \n",
    "test_b['TotalPorch']=test_b['EnclosedPorch'] + test_b['OpenPorchSF'] + test_b['ScreenPorch'] + test_b['3SsnPorch'] \n",
    "\n",
    "data_b['TotalBath'] = data_b['FullBath']+ data_b['HalfBath']+ data_b['BsmtFullBath']+ data_b['BsmtHalfBath']\n",
    "test_b['TotalBath'] = test_b['FullBath']+ test_b['HalfBath']+ test_b['BsmtFullBath']+ test_b['BsmtHalfBath']"
   ]
  },
  {
   "cell_type": "code",
   "execution_count": 9,
   "id": "7dc44545",
   "metadata": {
    "execution": {
     "iopub.execute_input": "2023-02-22T10:14:55.400324Z",
     "iopub.status.busy": "2023-02-22T10:14:55.400021Z",
     "iopub.status.idle": "2023-02-22T10:14:55.413064Z",
     "shell.execute_reply": "2023-02-22T10:14:55.412241Z"
    },
    "papermill": {
     "duration": 0.023858,
     "end_time": "2023-02-22T10:14:55.415163",
     "exception": false,
     "start_time": "2023-02-22T10:14:55.391305",
     "status": "completed"
    },
    "tags": []
   },
   "outputs": [],
   "source": [
    "#Update some values that is not exist one of two datasets\n",
    "test_b['MSSubClass'] = test_b['MSSubClass'].replace([\"150\"], [\"160\"])\n",
    "data_b['HouseStyle'] = data_b['HouseStyle'].replace([\"2.5Fin\"], [\"2Story\"])\n",
    "data_b['Exterior1st'] = data_b['Exterior1st'].replace(['Stone', 'ImStucc'],['CemntBd', 'Stucco'])\n",
    "data_b['Electrical'] = data_b['Electrical'].replace([\"Mix\",\"FuseF\",\"FuseP\"], [\"SBrkr\",\"FuseA\",\"FuseA\"])\n",
    "test_b['Electrical'] = test_b['Electrical'].replace([\"Mix\",\"FuseF\",\"FuseP\"], [\"SBrkr\",\"FuseA\",\"FuseA\"])\n",
    "test_b['BsmtCond'] = test_b['BsmtCond'].replace([\"Ex\"], [\"Gd\"])\n",
    "data_b['GarageQual'] = data_b['GarageQual'].replace([\"Ex\"], [\"Gd\"])\n",
    "data_b['GarageCond'] = data_b['GarageCond'].replace([\"Ex\"], [\"Gd\"])\n",
    "test_b['GarageCond'] = test_b['GarageCond'].replace([\"Ex\"], [\"Gd\"])"
   ]
  },
  {
   "cell_type": "code",
   "execution_count": 10,
   "id": "5ec9be0b",
   "metadata": {
    "execution": {
     "iopub.execute_input": "2023-02-22T10:14:55.431600Z",
     "iopub.status.busy": "2023-02-22T10:14:55.431297Z",
     "iopub.status.idle": "2023-02-22T10:14:55.436178Z",
     "shell.execute_reply": "2023-02-22T10:14:55.435211Z"
    },
    "papermill": {
     "duration": 0.01539,
     "end_time": "2023-02-22T10:14:55.438190",
     "exception": false,
     "start_time": "2023-02-22T10:14:55.422800",
     "status": "completed"
    },
    "tags": []
   },
   "outputs": [],
   "source": [
    "y = data_b.pop(\"SalePrice\")"
   ]
  },
  {
   "cell_type": "markdown",
   "id": "0d9ac581",
   "metadata": {
    "papermill": {
     "duration": 0.007527,
     "end_time": "2023-02-22T10:14:55.453452",
     "exception": false,
     "start_time": "2023-02-22T10:14:55.445925",
     "status": "completed"
    },
    "tags": []
   },
   "source": [
    "> * **Check Missing values from Training set**"
   ]
  },
  {
   "cell_type": "code",
   "execution_count": 11,
   "id": "76e1595d",
   "metadata": {
    "execution": {
     "iopub.execute_input": "2023-02-22T10:14:55.470281Z",
     "iopub.status.busy": "2023-02-22T10:14:55.469978Z",
     "iopub.status.idle": "2023-02-22T10:14:55.487394Z",
     "shell.execute_reply": "2023-02-22T10:14:55.486281Z"
    },
    "papermill": {
     "duration": 0.028513,
     "end_time": "2023-02-22T10:14:55.489675",
     "exception": false,
     "start_time": "2023-02-22T10:14:55.461162",
     "status": "completed"
    },
    "tags": []
   },
   "outputs": [
    {
     "data": {
      "text/plain": [
       "PoolQC          1453\n",
       "MiscFeature     1406\n",
       "Alley           1369\n",
       "BsmtFinType2      38\n",
       "BsmtFinType1      37\n",
       "GarageType         0\n",
       "GarageCond         0\n",
       "GarageQual         0\n",
       "GarageArea         0\n",
       "GarageCars         0\n",
       "dtype: int64"
      ]
     },
     "execution_count": 11,
     "metadata": {},
     "output_type": "execute_result"
    }
   ],
   "source": [
    "data_b.isnull().sum().sort_values(ascending=False).head(10)"
   ]
  },
  {
   "cell_type": "markdown",
   "id": "3c6b166e",
   "metadata": {
    "papermill": {
     "duration": 0.007692,
     "end_time": "2023-02-22T10:14:55.505425",
     "exception": false,
     "start_time": "2023-02-22T10:14:55.497733",
     "status": "completed"
    },
    "tags": []
   },
   "source": [
    "> * **Check Missing values from Test set**"
   ]
  },
  {
   "cell_type": "code",
   "execution_count": 12,
   "id": "85e51218",
   "metadata": {
    "execution": {
     "iopub.execute_input": "2023-02-22T10:14:55.522238Z",
     "iopub.status.busy": "2023-02-22T10:14:55.521925Z",
     "iopub.status.idle": "2023-02-22T10:14:55.534499Z",
     "shell.execute_reply": "2023-02-22T10:14:55.533453Z"
    },
    "papermill": {
     "duration": 0.023743,
     "end_time": "2023-02-22T10:14:55.536764",
     "exception": false,
     "start_time": "2023-02-22T10:14:55.513021",
     "status": "completed"
    },
    "tags": []
   },
   "outputs": [
    {
     "data": {
      "text/plain": [
       "PoolQC          1456\n",
       "MiscFeature     1408\n",
       "Alley           1352\n",
       "BsmtFinType2      42\n",
       "BsmtFinType1      42\n",
       "GarageType         0\n",
       "GarageCond         0\n",
       "GarageQual         0\n",
       "GarageArea         0\n",
       "GarageCars         0\n",
       "dtype: int64"
      ]
     },
     "execution_count": 12,
     "metadata": {},
     "output_type": "execute_result"
    }
   ],
   "source": [
    "test_b.isnull().sum().sort_values(ascending=False).head(10)"
   ]
  },
  {
   "cell_type": "markdown",
   "id": "5bcc1be4",
   "metadata": {
    "papermill": {
     "duration": 0.007639,
     "end_time": "2023-02-22T10:14:55.553177",
     "exception": false,
     "start_time": "2023-02-22T10:14:55.545538",
     "status": "completed"
    },
    "tags": []
   },
   "source": [
    "> * **Drop Missing Columns**"
   ]
  },
  {
   "cell_type": "code",
   "execution_count": 13,
   "id": "351cb744",
   "metadata": {
    "execution": {
     "iopub.execute_input": "2023-02-22T10:14:55.570608Z",
     "iopub.status.busy": "2023-02-22T10:14:55.570076Z",
     "iopub.status.idle": "2023-02-22T10:14:55.596588Z",
     "shell.execute_reply": "2023-02-22T10:14:55.595764Z"
    },
    "papermill": {
     "duration": 0.037429,
     "end_time": "2023-02-22T10:14:55.598645",
     "exception": false,
     "start_time": "2023-02-22T10:14:55.561216",
     "status": "completed"
    },
    "tags": []
   },
   "outputs": [],
   "source": [
    "data_b = data_b.dropna(axis=1) \n",
    "test_b = test_b.dropna(axis=1)"
   ]
  },
  {
   "cell_type": "markdown",
   "id": "12f7c918",
   "metadata": {
    "papermill": {
     "duration": 0.007849,
     "end_time": "2023-02-22T10:14:55.616587",
     "exception": false,
     "start_time": "2023-02-22T10:14:55.608738",
     "status": "completed"
    },
    "tags": []
   },
   "source": [
    "> * **After Analysing Each Column -> Drop Insignificant Columns**"
   ]
  },
  {
   "cell_type": "code",
   "execution_count": 14,
   "id": "8561327f",
   "metadata": {
    "execution": {
     "iopub.execute_input": "2023-02-22T10:14:55.633178Z",
     "iopub.status.busy": "2023-02-22T10:14:55.632922Z",
     "iopub.status.idle": "2023-02-22T10:14:55.641221Z",
     "shell.execute_reply": "2023-02-22T10:14:55.640353Z"
    },
    "papermill": {
     "duration": 0.019087,
     "end_time": "2023-02-22T10:14:55.643375",
     "exception": false,
     "start_time": "2023-02-22T10:14:55.624288",
     "status": "completed"
    },
    "tags": []
   },
   "outputs": [],
   "source": [
    "data_b = data_b.drop([\"YearBuilt\",\"YearRemodAdd\",\"Street\",\"Condition2\",\"LowQualFinSF\",\"RoofMatl\",\"Exterior2nd\",\"OpenPorchSF\",\"EnclosedPorch\",\n",
    "                    \"3SsnPorch\",\"ScreenPorch\",\"PoolArea\",\"MiscVal\",\"YrSold\",\"Utilities\",\"Heating\",\"KitchenAbvGr\",\"GarageYrBlt\"], axis=1) \n",
    "test_b = test_b.drop([\"YearBuilt\",\"YearRemodAdd\",\"Street\",\"Condition2\",\"LowQualFinSF\",\"RoofMatl\",\"Exterior2nd\",\"OpenPorchSF\",\"EnclosedPorch\",\n",
    "                    \"3SsnPorch\",\"ScreenPorch\",\"PoolArea\",\"MiscVal\",\"YrSold\",\"Utilities\",\"Heating\",\"KitchenAbvGr\",\"GarageYrBlt\"], axis=1)"
   ]
  },
  {
   "cell_type": "markdown",
   "id": "a483ceac",
   "metadata": {
    "papermill": {
     "duration": 0.007603,
     "end_time": "2023-02-22T10:14:55.658733",
     "exception": false,
     "start_time": "2023-02-22T10:14:55.651130",
     "status": "completed"
    },
    "tags": []
   },
   "source": [
    "# 2. Transforming Categorical Variables:"
   ]
  },
  {
   "cell_type": "code",
   "execution_count": 15,
   "id": "f48dea3a",
   "metadata": {
    "execution": {
     "iopub.execute_input": "2023-02-22T10:14:55.675606Z",
     "iopub.status.busy": "2023-02-22T10:14:55.675319Z",
     "iopub.status.idle": "2023-02-22T10:14:55.708631Z",
     "shell.execute_reply": "2023-02-22T10:14:55.707660Z"
    },
    "papermill": {
     "duration": 0.044179,
     "end_time": "2023-02-22T10:14:55.710889",
     "exception": false,
     "start_time": "2023-02-22T10:14:55.666710",
     "status": "completed"
    },
    "tags": []
   },
   "outputs": [
    {
     "data": {
      "text/html": [
       "<div>\n",
       "<style scoped>\n",
       "    .dataframe tbody tr th:only-of-type {\n",
       "        vertical-align: middle;\n",
       "    }\n",
       "\n",
       "    .dataframe tbody tr th {\n",
       "        vertical-align: top;\n",
       "    }\n",
       "\n",
       "    .dataframe thead th {\n",
       "        text-align: right;\n",
       "    }\n",
       "</style>\n",
       "<table border=\"1\" class=\"dataframe\">\n",
       "  <thead>\n",
       "    <tr style=\"text-align: right;\">\n",
       "      <th></th>\n",
       "      <th>Feature</th>\n",
       "      <th>Categories</th>\n",
       "      <th>Number</th>\n",
       "    </tr>\n",
       "  </thead>\n",
       "  <tbody>\n",
       "    <tr>\n",
       "      <th>0</th>\n",
       "      <td>MSZoning</td>\n",
       "      <td>[RL, RM, C (all), FV, RH]</td>\n",
       "      <td>5</td>\n",
       "    </tr>\n",
       "    <tr>\n",
       "      <th>1</th>\n",
       "      <td>LotShape</td>\n",
       "      <td>[Reg, IR1, IR2, IR3]</td>\n",
       "      <td>4</td>\n",
       "    </tr>\n",
       "    <tr>\n",
       "      <th>2</th>\n",
       "      <td>LandContour</td>\n",
       "      <td>[Lvl, Bnk, Low, HLS]</td>\n",
       "      <td>4</td>\n",
       "    </tr>\n",
       "    <tr>\n",
       "      <th>3</th>\n",
       "      <td>LotConfig</td>\n",
       "      <td>[Inside, FR2, Corner, CulDSac, FR3]</td>\n",
       "      <td>5</td>\n",
       "    </tr>\n",
       "    <tr>\n",
       "      <th>4</th>\n",
       "      <td>LandSlope</td>\n",
       "      <td>[Gtl, Mod, Sev]</td>\n",
       "      <td>3</td>\n",
       "    </tr>\n",
       "    <tr>\n",
       "      <th>5</th>\n",
       "      <td>Neighborhood</td>\n",
       "      <td>[CollgCr, Veenker, Crawfor, NoRidge, Mitchel, ...</td>\n",
       "      <td>25</td>\n",
       "    </tr>\n",
       "    <tr>\n",
       "      <th>6</th>\n",
       "      <td>Condition1</td>\n",
       "      <td>[Norm, Feedr, PosN, Artery, RRAe, RRNn, RRAn, ...</td>\n",
       "      <td>9</td>\n",
       "    </tr>\n",
       "    <tr>\n",
       "      <th>7</th>\n",
       "      <td>BldgType</td>\n",
       "      <td>[1Fam, 2fmCon, Duplex, TwnhsE, Twnhs]</td>\n",
       "      <td>5</td>\n",
       "    </tr>\n",
       "    <tr>\n",
       "      <th>8</th>\n",
       "      <td>HouseStyle</td>\n",
       "      <td>[2Story, 1Story, 1.5Fin, 1.5Unf, SFoyer, SLvl,...</td>\n",
       "      <td>7</td>\n",
       "    </tr>\n",
       "    <tr>\n",
       "      <th>9</th>\n",
       "      <td>RoofStyle</td>\n",
       "      <td>[Gable, Hip, Gambrel, Mansard, Flat, Shed]</td>\n",
       "      <td>6</td>\n",
       "    </tr>\n",
       "    <tr>\n",
       "      <th>10</th>\n",
       "      <td>Exterior1st</td>\n",
       "      <td>[VinylSd, MetalSd, Wd Sdng, HdBoard, BrkFace, ...</td>\n",
       "      <td>13</td>\n",
       "    </tr>\n",
       "    <tr>\n",
       "      <th>11</th>\n",
       "      <td>MasVnrType</td>\n",
       "      <td>[BrkFace, None, Stone, BrkCmn]</td>\n",
       "      <td>4</td>\n",
       "    </tr>\n",
       "    <tr>\n",
       "      <th>12</th>\n",
       "      <td>ExterQual</td>\n",
       "      <td>[Gd, TA, Ex, Fa]</td>\n",
       "      <td>4</td>\n",
       "    </tr>\n",
       "    <tr>\n",
       "      <th>13</th>\n",
       "      <td>ExterCond</td>\n",
       "      <td>[TA, Gd, Fa, Po, Ex]</td>\n",
       "      <td>5</td>\n",
       "    </tr>\n",
       "    <tr>\n",
       "      <th>14</th>\n",
       "      <td>Foundation</td>\n",
       "      <td>[PConc, CBlock, BrkTil, Wood, Slab, Stone]</td>\n",
       "      <td>6</td>\n",
       "    </tr>\n",
       "    <tr>\n",
       "      <th>15</th>\n",
       "      <td>BsmtQual</td>\n",
       "      <td>[Gd, TA, Ex, None, Fa]</td>\n",
       "      <td>5</td>\n",
       "    </tr>\n",
       "    <tr>\n",
       "      <th>16</th>\n",
       "      <td>BsmtCond</td>\n",
       "      <td>[TA, Gd, None, Fa, Po]</td>\n",
       "      <td>5</td>\n",
       "    </tr>\n",
       "    <tr>\n",
       "      <th>17</th>\n",
       "      <td>BsmtExposure</td>\n",
       "      <td>[No, Gd, Mn, Av, None]</td>\n",
       "      <td>5</td>\n",
       "    </tr>\n",
       "    <tr>\n",
       "      <th>18</th>\n",
       "      <td>HeatingQC</td>\n",
       "      <td>[Ex, Gd, TA, Fa, Po]</td>\n",
       "      <td>5</td>\n",
       "    </tr>\n",
       "    <tr>\n",
       "      <th>19</th>\n",
       "      <td>CentralAir</td>\n",
       "      <td>[Y, N]</td>\n",
       "      <td>2</td>\n",
       "    </tr>\n",
       "    <tr>\n",
       "      <th>20</th>\n",
       "      <td>Electrical</td>\n",
       "      <td>[SBrkr, FuseA]</td>\n",
       "      <td>2</td>\n",
       "    </tr>\n",
       "    <tr>\n",
       "      <th>21</th>\n",
       "      <td>KitchenQual</td>\n",
       "      <td>[Gd, TA, Ex, Fa]</td>\n",
       "      <td>4</td>\n",
       "    </tr>\n",
       "    <tr>\n",
       "      <th>22</th>\n",
       "      <td>Functional</td>\n",
       "      <td>[Typ, Min1, Maj1, Min2, Mod, Maj2, Sev]</td>\n",
       "      <td>7</td>\n",
       "    </tr>\n",
       "    <tr>\n",
       "      <th>23</th>\n",
       "      <td>FireplaceQu</td>\n",
       "      <td>[None, TA, Gd, Fa, Ex, Po]</td>\n",
       "      <td>6</td>\n",
       "    </tr>\n",
       "    <tr>\n",
       "      <th>24</th>\n",
       "      <td>GarageType</td>\n",
       "      <td>[Attchd, Detchd, BuiltIn, CarPort, None, Basme...</td>\n",
       "      <td>7</td>\n",
       "    </tr>\n",
       "    <tr>\n",
       "      <th>25</th>\n",
       "      <td>GarageFinish</td>\n",
       "      <td>[RFn, Unf, Fin, None]</td>\n",
       "      <td>4</td>\n",
       "    </tr>\n",
       "    <tr>\n",
       "      <th>26</th>\n",
       "      <td>GarageQual</td>\n",
       "      <td>[TA, Fa, Gd, None, Po]</td>\n",
       "      <td>5</td>\n",
       "    </tr>\n",
       "    <tr>\n",
       "      <th>27</th>\n",
       "      <td>GarageCond</td>\n",
       "      <td>[TA, Fa, None, Gd, Po]</td>\n",
       "      <td>5</td>\n",
       "    </tr>\n",
       "    <tr>\n",
       "      <th>28</th>\n",
       "      <td>PavedDrive</td>\n",
       "      <td>[Y, N, P]</td>\n",
       "      <td>3</td>\n",
       "    </tr>\n",
       "    <tr>\n",
       "      <th>29</th>\n",
       "      <td>Fence</td>\n",
       "      <td>[None, MnPrv, GdWo, GdPrv, MnWw]</td>\n",
       "      <td>5</td>\n",
       "    </tr>\n",
       "    <tr>\n",
       "      <th>30</th>\n",
       "      <td>SaleType</td>\n",
       "      <td>[WD, New, COD, ConLD, ConLI, CWD, ConLw, Con, ...</td>\n",
       "      <td>9</td>\n",
       "    </tr>\n",
       "    <tr>\n",
       "      <th>31</th>\n",
       "      <td>SaleCondition</td>\n",
       "      <td>[Normal, Abnorml, Partial, AdjLand, Alloca, Fa...</td>\n",
       "      <td>6</td>\n",
       "    </tr>\n",
       "  </tbody>\n",
       "</table>\n",
       "</div>"
      ],
      "text/plain": [
       "          Feature                                         Categories  Number\n",
       "0        MSZoning                          [RL, RM, C (all), FV, RH]       5\n",
       "1        LotShape                               [Reg, IR1, IR2, IR3]       4\n",
       "2     LandContour                               [Lvl, Bnk, Low, HLS]       4\n",
       "3       LotConfig                [Inside, FR2, Corner, CulDSac, FR3]       5\n",
       "4       LandSlope                                    [Gtl, Mod, Sev]       3\n",
       "5    Neighborhood  [CollgCr, Veenker, Crawfor, NoRidge, Mitchel, ...      25\n",
       "6      Condition1  [Norm, Feedr, PosN, Artery, RRAe, RRNn, RRAn, ...       9\n",
       "7        BldgType              [1Fam, 2fmCon, Duplex, TwnhsE, Twnhs]       5\n",
       "8      HouseStyle  [2Story, 1Story, 1.5Fin, 1.5Unf, SFoyer, SLvl,...       7\n",
       "9       RoofStyle         [Gable, Hip, Gambrel, Mansard, Flat, Shed]       6\n",
       "10    Exterior1st  [VinylSd, MetalSd, Wd Sdng, HdBoard, BrkFace, ...      13\n",
       "11     MasVnrType                     [BrkFace, None, Stone, BrkCmn]       4\n",
       "12      ExterQual                                   [Gd, TA, Ex, Fa]       4\n",
       "13      ExterCond                               [TA, Gd, Fa, Po, Ex]       5\n",
       "14     Foundation         [PConc, CBlock, BrkTil, Wood, Slab, Stone]       6\n",
       "15       BsmtQual                             [Gd, TA, Ex, None, Fa]       5\n",
       "16       BsmtCond                             [TA, Gd, None, Fa, Po]       5\n",
       "17   BsmtExposure                             [No, Gd, Mn, Av, None]       5\n",
       "18      HeatingQC                               [Ex, Gd, TA, Fa, Po]       5\n",
       "19     CentralAir                                             [Y, N]       2\n",
       "20     Electrical                                     [SBrkr, FuseA]       2\n",
       "21    KitchenQual                                   [Gd, TA, Ex, Fa]       4\n",
       "22     Functional            [Typ, Min1, Maj1, Min2, Mod, Maj2, Sev]       7\n",
       "23    FireplaceQu                         [None, TA, Gd, Fa, Ex, Po]       6\n",
       "24     GarageType  [Attchd, Detchd, BuiltIn, CarPort, None, Basme...       7\n",
       "25   GarageFinish                              [RFn, Unf, Fin, None]       4\n",
       "26     GarageQual                             [TA, Fa, Gd, None, Po]       5\n",
       "27     GarageCond                             [TA, Fa, None, Gd, Po]       5\n",
       "28     PavedDrive                                          [Y, N, P]       3\n",
       "29          Fence                   [None, MnPrv, GdWo, GdPrv, MnWw]       5\n",
       "30       SaleType  [WD, New, COD, ConLD, ConLI, CWD, ConLw, Con, ...       9\n",
       "31  SaleCondition  [Normal, Abnorml, Partial, AdjLand, Alloca, Fa...       6"
      ]
     },
     "execution_count": 15,
     "metadata": {},
     "output_type": "execute_result"
    }
   ],
   "source": [
    "#Split Categorical / Numeric\n",
    "cols = data_b.columns\n",
    "numeric_columns, categorical_columns = [], []\n",
    "for i in range(len(cols)):\n",
    "    if data_b[cols[i]].dtypes == 'O':\n",
    "        categorical_columns.append(cols[i])\n",
    "    else:\n",
    "        numeric_columns.append(cols[i])\n",
    "\n",
    "#Show Unique items in categorical variables\n",
    "category_analysis = pd.DataFrame(categorical_columns, columns = [\"Feature\"])\n",
    "unique_values = []\n",
    "unique_counts = []\n",
    "for col in categorical_columns:\n",
    "    unique_values.append(data_b[col].unique())\n",
    "    unique_counts.append(len(data_b[col].unique()))\n",
    "    \n",
    "category_analysis[\"Categories\"] = unique_values\n",
    "category_analysis[\"Number\"] = unique_counts\n",
    "category_analysis"
   ]
  },
  {
   "cell_type": "markdown",
   "id": "299763bd",
   "metadata": {
    "papermill": {
     "duration": 0.008331,
     "end_time": "2023-02-22T10:14:55.727389",
     "exception": false,
     "start_time": "2023-02-22T10:14:55.719058",
     "status": "completed"
    },
    "tags": []
   },
   "source": [
    "> * **Convert Categorical variables into ONE HOT ENCODING**"
   ]
  },
  {
   "cell_type": "code",
   "execution_count": 16,
   "id": "f4d3f8d2",
   "metadata": {
    "execution": {
     "iopub.execute_input": "2023-02-22T10:14:55.744753Z",
     "iopub.status.busy": "2023-02-22T10:14:55.744503Z",
     "iopub.status.idle": "2023-02-22T10:14:55.798811Z",
     "shell.execute_reply": "2023-02-22T10:14:55.797934Z"
    },
    "papermill": {
     "duration": 0.06532,
     "end_time": "2023-02-22T10:14:55.800904",
     "exception": false,
     "start_time": "2023-02-22T10:14:55.735584",
     "status": "completed"
    },
    "tags": []
   },
   "outputs": [],
   "source": [
    "data_b = pd.get_dummies(data_b)\n",
    "test_b = pd.get_dummies(test_b)"
   ]
  },
  {
   "cell_type": "markdown",
   "id": "090a36bf",
   "metadata": {
    "papermill": {
     "duration": 0.007987,
     "end_time": "2023-02-22T10:14:55.817256",
     "exception": false,
     "start_time": "2023-02-22T10:14:55.809269",
     "status": "completed"
    },
    "tags": []
   },
   "source": [
    "# 3. Log Level Transformation:"
   ]
  },
  {
   "cell_type": "code",
   "execution_count": 17,
   "id": "5cab9bc0",
   "metadata": {
    "execution": {
     "iopub.execute_input": "2023-02-22T10:14:55.835499Z",
     "iopub.status.busy": "2023-02-22T10:14:55.835201Z",
     "iopub.status.idle": "2023-02-22T10:14:56.058904Z",
     "shell.execute_reply": "2023-02-22T10:14:56.057411Z"
    },
    "papermill": {
     "duration": 0.236014,
     "end_time": "2023-02-22T10:14:56.061637",
     "exception": false,
     "start_time": "2023-02-22T10:14:55.825623",
     "status": "completed"
    },
    "tags": []
   },
   "outputs": [
    {
     "name": "stdout",
     "output_type": "stream",
     "text": [
      "\n",
      "Skew in numerical features: \n",
      "\n",
      "There are 223 skewed numerical features to Log1p transform\n"
     ]
    }
   ],
   "source": [
    "skewed_feats = data_b.apply(lambda x: skew(x.dropna())).sort_values(ascending=False)\n",
    "print(\"\\nSkew in numerical features: \\n\")\n",
    "skewness = pd.DataFrame({'Skew' :skewed_feats})\n",
    "skewness.head(10)\n",
    "\n",
    "#New data \n",
    "data_b_skewed = data_b.copy()\n",
    "test_b_skewed = test_b.copy()\n",
    "\n",
    "skewness = skewness[abs(skewness) > 1]\n",
    "print(\"There are {} skewed numerical features to Log1p transform\".format(skewness.shape[0]))\n",
    "\n",
    "skewed_features = skewness.index\n",
    "for feat in skewed_features:\n",
    "    data_b_skewed[feat] = np.log1p(data_b_skewed[feat])\n",
    "    test_b_skewed[feat] = np.log1p(test_b_skewed[feat])"
   ]
  },
  {
   "cell_type": "code",
   "execution_count": 18,
   "id": "2a0fa531",
   "metadata": {
    "execution": {
     "iopub.execute_input": "2023-02-22T10:14:56.080422Z",
     "iopub.status.busy": "2023-02-22T10:14:56.080072Z",
     "iopub.status.idle": "2023-02-22T10:14:56.086661Z",
     "shell.execute_reply": "2023-02-22T10:14:56.085366Z"
    },
    "papermill": {
     "duration": 0.018194,
     "end_time": "2023-02-22T10:14:56.088749",
     "exception": false,
     "start_time": "2023-02-22T10:14:56.070555",
     "status": "completed"
    },
    "tags": []
   },
   "outputs": [
    {
     "name": "stdout",
     "output_type": "stream",
     "text": [
      "\n",
      "Only in Train: []\n",
      "Only in Test: []\n"
     ]
    }
   ],
   "source": [
    "print(\"\\nOnly in Train: \"+ str(list(set(data_b_skewed.columns) - set(test_b_skewed.columns))))\n",
    "print(\"Only in Test: \"+ str(list(set(test_b_skewed.columns) - set(data_b_skewed.columns))))"
   ]
  },
  {
   "cell_type": "code",
   "execution_count": 19,
   "id": "b048fd63",
   "metadata": {
    "execution": {
     "iopub.execute_input": "2023-02-22T10:14:56.107439Z",
     "iopub.status.busy": "2023-02-22T10:14:56.106574Z",
     "iopub.status.idle": "2023-02-22T10:14:56.111334Z",
     "shell.execute_reply": "2023-02-22T10:14:56.110517Z"
    },
    "papermill": {
     "duration": 0.016142,
     "end_time": "2023-02-22T10:14:56.113220",
     "exception": false,
     "start_time": "2023-02-22T10:14:56.097078",
     "status": "completed"
    },
    "tags": []
   },
   "outputs": [],
   "source": [
    "# Convert Target also Log level\n",
    "y_log = np.log1p(y)"
   ]
  },
  {
   "cell_type": "code",
   "execution_count": 20,
   "id": "2b4e6267",
   "metadata": {
    "execution": {
     "iopub.execute_input": "2023-02-22T10:14:56.130943Z",
     "iopub.status.busy": "2023-02-22T10:14:56.130676Z",
     "iopub.status.idle": "2023-02-22T10:14:56.141277Z",
     "shell.execute_reply": "2023-02-22T10:14:56.140395Z"
    },
    "papermill": {
     "duration": 0.021871,
     "end_time": "2023-02-22T10:14:56.143306",
     "exception": false,
     "start_time": "2023-02-22T10:14:56.121435",
     "status": "completed"
    },
    "tags": []
   },
   "outputs": [],
   "source": [
    "#Convert -INF to Zero\n",
    "test_b_skewed=test_b_skewed.replace(-np.Inf, 0)"
   ]
  },
  {
   "cell_type": "markdown",
   "id": "e14d4069",
   "metadata": {
    "papermill": {
     "duration": 0.009498,
     "end_time": "2023-02-22T10:14:56.161317",
     "exception": false,
     "start_time": "2023-02-22T10:14:56.151819",
     "status": "completed"
    },
    "tags": []
   },
   "source": [
    "# 4. Training Different Models:\n",
    "> I trained 4 models by mostly-used algorithms"
   ]
  },
  {
   "cell_type": "code",
   "execution_count": 21,
   "id": "0df1ac9a",
   "metadata": {
    "execution": {
     "iopub.execute_input": "2023-02-22T10:14:56.180412Z",
     "iopub.status.busy": "2023-02-22T10:14:56.179599Z",
     "iopub.status.idle": "2023-02-22T10:19:58.626728Z",
     "shell.execute_reply": "2023-02-22T10:19:58.625699Z"
    },
    "papermill": {
     "duration": 302.467953,
     "end_time": "2023-02-22T10:19:58.638321",
     "exception": false,
     "start_time": "2023-02-22T10:14:56.170368",
     "status": "completed"
    },
    "tags": []
   },
   "outputs": [
    {
     "name": "stdout",
     "output_type": "stream",
     "text": [
      "LGBM avg: 0.8998234725965346\n",
      "XGB avg: 0.9114278665679272\n",
      "CatB avg: 0.9145825780429611\n",
      "GBR avg: 0.9074841598297718\n"
     ]
    }
   ],
   "source": [
    "#Run Cross validation for each Model \n",
    "def run_cvs(X,y):\n",
    "    \n",
    "    baseline = lgb.LGBMRegressor(learning_rate=0.01,num_leaves=4,n_estimators=2000, random_state=0)\n",
    "    baseline_score = cross_val_score(baseline, X, y, cv=10)\n",
    "    print(\"LGBM avg:\",np.mean(baseline_score))\n",
    "\n",
    "    baseline = xg.XGBRegressor(learning_rate=0.01,n_estimators=2000, subsample=0.7,colsample_bytree=0.7,random_state=0)\n",
    "    baseline_score = cross_val_score(baseline, X, y, cv=10)\n",
    "    print(\"XGB avg:\",np.mean(baseline_score))\n",
    "    \n",
    "    baseline = CatBoostRegressor(random_state=0,verbose=0)\n",
    "    baseline_score = cross_val_score(baseline, X, y, cv=10)\n",
    "    print(\"CatB avg:\",np.mean(baseline_score))\n",
    "\n",
    "    baseline = GradientBoostingRegressor(n_estimators=1000, learning_rate=0.02,max_depth=4, max_features='sqrt',\n",
    "                min_samples_leaf=15, min_samples_split=50,loss='huber', random_state = 0)\n",
    "    baseline_score = cross_val_score(baseline, X, y, cv=10)\n",
    "    print(\"GBR avg:\",np.mean(baseline_score))\n",
    "    \n",
    "run_cvs(data_b_skewed,y_log)"
   ]
  },
  {
   "cell_type": "markdown",
   "id": "3545e15b",
   "metadata": {
    "papermill": {
     "duration": 0.00864,
     "end_time": "2023-02-22T10:19:58.656496",
     "exception": false,
     "start_time": "2023-02-22T10:19:58.647856",
     "status": "completed"
    },
    "tags": []
   },
   "source": [
    "# 5. Blending Models:\n",
    "> I simply averaged 4 models"
   ]
  },
  {
   "cell_type": "code",
   "execution_count": 22,
   "id": "aa275335",
   "metadata": {
    "execution": {
     "iopub.execute_input": "2023-02-22T10:19:58.675602Z",
     "iopub.status.busy": "2023-02-22T10:19:58.674706Z",
     "iopub.status.idle": "2023-02-22T10:20:31.102792Z",
     "shell.execute_reply": "2023-02-22T10:20:31.101713Z"
    },
    "papermill": {
     "duration": 32.44052,
     "end_time": "2023-02-22T10:20:31.105453",
     "exception": false,
     "start_time": "2023-02-22T10:19:58.664933",
     "status": "completed"
    },
    "tags": []
   },
   "outputs": [],
   "source": [
    "#Combine 4 models\n",
    "def make_submission(X_train, y_train, X_test):    \n",
    "    sub_df = pd.read_csv('/kaggle/input/house-prices-advanced-regression-techniques/sample_submission.csv', index_col = \"Id\")\n",
    "    \n",
    "    lgbr = lgb.LGBMRegressor(learning_rate=0.01,num_leaves=4,n_estimators=2000, random_state=0).fit(X_train,y_train)\n",
    "    lgbr_preds_log=lgbr.predict(X_test)\n",
    "\n",
    "    catB = CatBoostRegressor(random_state=0,verbose=0).fit(X_train,y_train)\n",
    "    catB_preds_log=catB.predict(X_test)\n",
    "\n",
    "    xgb = xg.XGBRegressor(learning_rate=0.01,n_estimators=2000, subsample=0.7,colsample_bytree=0.7,random_state=0).fit(X_train,y_train)\n",
    "    xgb_preds_log=xgb.predict(X_test)\n",
    "    \n",
    "    gbr = GradientBoostingRegressor(n_estimators=1000, learning_rate=0.02,max_depth=4, max_features='sqrt',\n",
    "                min_samples_leaf=15, min_samples_split=50,loss='huber', random_state = 0).fit(X_train,y_train)\n",
    "    gbr_preds_log=gbr.predict(X_test)\n",
    "    \n",
    "    lgbr_catb_xgb_gbr_mean_preds_log=(lgbr_preds_log+catB_preds_log+xgb_preds_log+gbr_preds_log)/4\n",
    "    sub_df['SalePrice'] = np.exp(lgbr_catb_xgb_gbr_mean_preds_log)-1\n",
    "    sub_df.to_csv(\"submission.csv\")\n",
    "    \n",
    "make_submission(data_b_skewed,y_log,test_b_skewed) "
   ]
  },
  {
   "cell_type": "code",
   "execution_count": null,
   "id": "fb4b130b",
   "metadata": {
    "papermill": {
     "duration": 0.008509,
     "end_time": "2023-02-22T10:20:31.123027",
     "exception": false,
     "start_time": "2023-02-22T10:20:31.114518",
     "status": "completed"
    },
    "tags": []
   },
   "outputs": [],
   "source": []
  }
 ],
 "metadata": {
  "kernelspec": {
   "display_name": "Python 3",
   "language": "python",
   "name": "python3"
  },
  "language_info": {
   "codemirror_mode": {
    "name": "ipython",
    "version": 3
   },
   "file_extension": ".py",
   "mimetype": "text/x-python",
   "name": "python",
   "nbconvert_exporter": "python",
   "pygments_lexer": "ipython3",
   "version": "3.7.12"
  },
  "papermill": {
   "default_parameters": {},
   "duration": 348.773151,
   "end_time": "2023-02-22T10:20:32.154839",
   "environment_variables": {},
   "exception": null,
   "input_path": "__notebook__.ipynb",
   "output_path": "__notebook__.ipynb",
   "parameters": {},
   "start_time": "2023-02-22T10:14:43.381688",
   "version": "2.3.4"
  }
 },
 "nbformat": 4,
 "nbformat_minor": 5
}
