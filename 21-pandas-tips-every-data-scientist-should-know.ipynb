{
 "cells": [
  {
   "cell_type": "markdown",
   "id": "8d328e90",
   "metadata": {
    "papermill": {
     "duration": 0.014256,
     "end_time": "2023-02-15T08:57:23.053672",
     "exception": false,
     "start_time": "2023-02-15T08:57:23.039416",
     "status": "completed"
    },
    "tags": []
   },
   "source": [
    "# Maximize Your Pandas Skills: Essential Tips and Tricks for Mastering Data Manipulation\n",
    "\n",
    "Whether you’re a beginner or an experienced data analyst, the 21 tips and tricks covered in this article will help you tackle any analytical task with ease. From writing clean code to avoiding reinventing the wheel, these tips will help you work smarter, not harder. Discover the hidden gems of Pandas and become a master user in no time. And if you have any additional tips to share, don’t hesitate to leave a comment."
   ]
  },
  {
   "cell_type": "markdown",
   "id": "b9eaba6a",
   "metadata": {
    "papermill": {
     "duration": 0.012867,
     "end_time": "2023-02-15T08:57:23.079914",
     "exception": false,
     "start_time": "2023-02-15T08:57:23.067047",
     "status": "completed"
    },
    "tags": []
   },
   "source": [
    "# 1: Print DataFrame in Markdown-friendly format\n",
    "\n",
    "- Markdown is a lightweight markup language that is used to create formatted text using a plain-text editor. Sometimes, you might want to include a table in a markdown, such as GitHub README or Latex.\n",
    "\n",
    "- If you want to print a DataFrame in markdown format, use `to_markdown()` function."
   ]
  },
  {
   "cell_type": "code",
   "execution_count": 1,
   "id": "946decad",
   "metadata": {
    "execution": {
     "iopub.execute_input": "2023-02-15T08:57:23.108105Z",
     "iopub.status.busy": "2023-02-15T08:57:23.107056Z",
     "iopub.status.idle": "2023-02-15T08:57:23.145095Z",
     "shell.execute_reply": "2023-02-15T08:57:23.143837Z"
    },
    "papermill": {
     "duration": 0.055188,
     "end_time": "2023-02-15T08:57:23.147940",
     "exception": false,
     "start_time": "2023-02-15T08:57:23.092752",
     "status": "completed"
    },
    "tags": []
   },
   "outputs": [
    {
     "name": "stdout",
     "output_type": "stream",
     "text": [
      "|    |   a |   b |\n",
      "|---:|----:|----:|\n",
      "|  0 |   1 |   5 |\n",
      "|  1 |   2 |   6 |\n",
      "|  2 |   3 |   7 |\n",
      "|  3 |   4 |   8 |\n"
     ]
    }
   ],
   "source": [
    "import pandas as pd\n",
    "\n",
    "df = pd.DataFrame({'a': [1, 2, 3, 4],\n",
    "                   'b': [5, 6, 7, 8]})\n",
    "\n",
    "print(df.to_markdown())"
   ]
  },
  {
   "cell_type": "code",
   "execution_count": 2,
   "id": "cfcff2ed",
   "metadata": {
    "execution": {
     "iopub.execute_input": "2023-02-15T08:57:23.175079Z",
     "iopub.status.busy": "2023-02-15T08:57:23.174262Z",
     "iopub.status.idle": "2023-02-15T08:57:23.181491Z",
     "shell.execute_reply": "2023-02-15T08:57:23.180009Z"
    },
    "papermill": {
     "duration": 0.023617,
     "end_time": "2023-02-15T08:57:23.184148",
     "exception": false,
     "start_time": "2023-02-15T08:57:23.160531",
     "status": "completed"
    },
    "tags": []
   },
   "outputs": [
    {
     "name": "stdout",
     "output_type": "stream",
     "text": [
      "+----+-----+-----+\n",
      "|    |   a |   b |\n",
      "+====+=====+=====+\n",
      "|  0 |   1 |   5 |\n",
      "+----+-----+-----+\n",
      "|  1 |   2 |   6 |\n",
      "+----+-----+-----+\n",
      "|  2 |   3 |   7 |\n",
      "+----+-----+-----+\n",
      "|  3 |   4 |   8 |\n",
      "+----+-----+-----+\n"
     ]
    }
   ],
   "source": [
    "# Ouput markdown with a tabulate option\n",
    "print(df.to_markdown(tablefmt=\"grid\"))"
   ]
  },
  {
   "cell_type": "markdown",
   "id": "a7c18f80",
   "metadata": {
    "papermill": {
     "duration": 0.013258,
     "end_time": "2023-02-15T08:57:23.210122",
     "exception": false,
     "start_time": "2023-02-15T08:57:23.196864",
     "status": "completed"
    },
    "tags": []
   },
   "source": [
    "# 2: Group rows into a list\n",
    "\n",
    "- It is common to use groupby to get the statistics of rows in the same group such as count, mean, median, etc. \n",
    "\n",
    "- If you want to group rows into a list instead, use `“lambda x: list(x)”`."
   ]
  },
  {
   "cell_type": "code",
   "execution_count": 3,
   "id": "06483b03",
   "metadata": {
    "execution": {
     "iopub.execute_input": "2023-02-15T08:57:23.237224Z",
     "iopub.status.busy": "2023-02-15T08:57:23.236482Z",
     "iopub.status.idle": "2023-02-15T08:57:23.266186Z",
     "shell.execute_reply": "2023-02-15T08:57:23.264575Z"
    },
    "papermill": {
     "duration": 0.045995,
     "end_time": "2023-02-15T08:57:23.268684",
     "exception": false,
     "start_time": "2023-02-15T08:57:23.222689",
     "status": "completed"
    },
    "tags": []
   },
   "outputs": [
    {
     "name": "stdout",
     "output_type": "stream",
     "text": [
      "      col1    col3\n",
      "col2              \n",
      "a      1.5  [d, e]\n",
      "b      3.5  [f, g]\n",
      "c      3.0     [h]\n"
     ]
    }
   ],
   "source": [
    "import pandas as pd\n",
    "\n",
    "df = pd.DataFrame(\n",
    "    {\n",
    "        \"col1\": [1, 2, 3, 4, 3],\n",
    "        \"col2\": [\"a\", \"a\", \"b\", \"b\", \"c\"],\n",
    "        \"col3\": [\"d\", \"e\", \"f\", \"g\", \"h\"],\n",
    "    }\n",
    ")\n",
    "\n",
    "# Group by col2\n",
    "print(df.groupby([\"col2\"]).agg(\n",
    "    {\n",
    "        \"col1\": \"mean\",           # get mean\n",
    "        \"col3\": lambda x: list(x) # get list\n",
    "    }\n",
    "))"
   ]
  },
  {
   "cell_type": "markdown",
   "id": "9e01cdcf",
   "metadata": {
    "papermill": {
     "duration": 0.01207,
     "end_time": "2023-02-15T08:57:23.293118",
     "exception": false,
     "start_time": "2023-02-15T08:57:23.281048",
     "status": "completed"
    },
    "tags": []
   },
   "source": [
    "# 3: DataFrame.explode()\n",
    "\n",
    "When working with a DataFrame, if you want to turn a string into a list and then split elements in a list into multiple rows, use the combination of `str.split()` and `explode()`."
   ]
  },
  {
   "cell_type": "code",
   "execution_count": 4,
   "id": "a85b43a1",
   "metadata": {
    "execution": {
     "iopub.execute_input": "2023-02-15T08:57:23.320082Z",
     "iopub.status.busy": "2023-02-15T08:57:23.319067Z",
     "iopub.status.idle": "2023-02-15T08:57:23.332205Z",
     "shell.execute_reply": "2023-02-15T08:57:23.330219Z"
    },
    "papermill": {
     "duration": 0.029402,
     "end_time": "2023-02-15T08:57:23.334836",
     "exception": false,
     "start_time": "2023-02-15T08:57:23.305434",
     "status": "completed"
    },
    "tags": []
   },
   "outputs": [
    {
     "name": "stdout",
     "output_type": "stream",
     "text": [
      "        a   b\n",
      "0  [1, 2]  11\n",
      "1  [4, 5]  13\n"
     ]
    }
   ],
   "source": [
    "import pandas as pd\n",
    "\n",
    "df = pd.DataFrame({\"a\": [\"1,2\", \"4,5\"],\n",
    "                   \"b\": [11, 13]})\n",
    "\n",
    "# Turn strings into lists\n",
    "df.a = df.a.str.split(\",\")\n",
    "print(df)"
   ]
  },
  {
   "cell_type": "code",
   "execution_count": 5,
   "id": "e3775273",
   "metadata": {
    "execution": {
     "iopub.execute_input": "2023-02-15T08:57:23.361768Z",
     "iopub.status.busy": "2023-02-15T08:57:23.361375Z",
     "iopub.status.idle": "2023-02-15T08:57:23.382917Z",
     "shell.execute_reply": "2023-02-15T08:57:23.381067Z"
    },
    "papermill": {
     "duration": 0.038881,
     "end_time": "2023-02-15T08:57:23.386424",
     "exception": false,
     "start_time": "2023-02-15T08:57:23.347543",
     "status": "completed"
    },
    "tags": []
   },
   "outputs": [
    {
     "name": "stdout",
     "output_type": "stream",
     "text": [
      "   a   b\n",
      "0  1  11\n",
      "0  2  11\n",
      "1  4  13\n",
      "1  5  13\n"
     ]
    }
   ],
   "source": [
    "print(df.explode(\"a\", ignore_index=False))"
   ]
  },
  {
   "cell_type": "markdown",
   "id": "0366b7e0",
   "metadata": {
    "papermill": {
     "duration": 0.012491,
     "end_time": "2023-02-15T08:57:23.413204",
     "exception": false,
     "start_time": "2023-02-15T08:57:23.400713",
     "status": "completed"
    },
    "tags": []
   },
   "source": [
    "# 4: DataFrame.copy()\n",
    "\n",
    "Have you ever tried to make a copy of a DataFrame user \"=\"? You will not get a copy but a reference to the original DataFrame. Thus, changing the new DataFrame will also change the original DataFrame.\n",
    "\n",
    "A better way to make a copy is to use `df.copy()`. Now, changing the copy will not affect the original DataFrame."
   ]
  },
  {
   "cell_type": "code",
   "execution_count": 6,
   "id": "752b4f34",
   "metadata": {
    "execution": {
     "iopub.execute_input": "2023-02-15T08:57:23.442838Z",
     "iopub.status.busy": "2023-02-15T08:57:23.441633Z",
     "iopub.status.idle": "2023-02-15T08:57:23.453201Z",
     "shell.execute_reply": "2023-02-15T08:57:23.451526Z"
    },
    "papermill": {
     "duration": 0.030034,
     "end_time": "2023-02-15T08:57:23.455988",
     "exception": false,
     "start_time": "2023-02-15T08:57:23.425954",
     "status": "completed"
    },
    "tags": []
   },
   "outputs": [
    {
     "name": "stdout",
     "output_type": "stream",
     "text": [
      "   col1  col2\n",
      "0     7     4\n",
      "1     8     5\n",
      "2     9     6\n"
     ]
    }
   ],
   "source": [
    "import pandas as pd\n",
    "\n",
    "df = pd.DataFrame({\"col1\": [1, 2, 3],\n",
    "                   \"col2\": [4, 5, 6]})\n",
    "\n",
    "df2 = df # Make a copy using =\n",
    "df2[\"col1\"] = [7, 8, 9]\n",
    "print(df) # df also changes"
   ]
  },
  {
   "cell_type": "code",
   "execution_count": 7,
   "id": "f0b1dcbc",
   "metadata": {
    "execution": {
     "iopub.execute_input": "2023-02-15T08:57:23.485779Z",
     "iopub.status.busy": "2023-02-15T08:57:23.484912Z",
     "iopub.status.idle": "2023-02-15T08:57:23.495478Z",
     "shell.execute_reply": "2023-02-15T08:57:23.493643Z"
    },
    "papermill": {
     "duration": 0.027489,
     "end_time": "2023-02-15T08:57:23.498161",
     "exception": false,
     "start_time": "2023-02-15T08:57:23.470672",
     "status": "completed"
    },
    "tags": []
   },
   "outputs": [
    {
     "name": "stdout",
     "output_type": "stream",
     "text": [
      "   col1  col2\n",
      "0     1     4\n",
      "1     2     5\n",
      "2     3     6\n"
     ]
    }
   ],
   "source": [
    "# Recrate df\n",
    "df = pd.DataFrame({\"col1\": [1, 2, 3],\n",
    "                   \"col2\": [4, 5, 6]})\n",
    "\n",
    "df3 = df.copy() # Create a copy of df\n",
    "df3[\"col1\"] = [7, 8, 9]\n",
    "print(df) # df doesn't change"
   ]
  },
  {
   "cell_type": "markdown",
   "id": "58949059",
   "metadata": {
    "papermill": {
     "duration": 0.012965,
     "end_time": "2023-02-15T08:57:23.524861",
     "exception": false,
     "start_time": "2023-02-15T08:57:23.511896",
     "status": "completed"
    },
    "tags": []
   },
   "source": [
    "# 5: Groupby().count vs Groupby( ).size\n",
    "\n",
    "If you want to get the `count` of elements in one column of a Pandas DataFrame, use `groupby` and `count`.\n",
    "\n",
    "If you want to get the size of groups composed of 2 or more columns, use `groupby` and `size` instead."
   ]
  },
  {
   "cell_type": "code",
   "execution_count": 8,
   "id": "36bd195f",
   "metadata": {
    "execution": {
     "iopub.execute_input": "2023-02-15T08:57:23.553410Z",
     "iopub.status.busy": "2023-02-15T08:57:23.552995Z",
     "iopub.status.idle": "2023-02-15T08:57:23.564018Z",
     "shell.execute_reply": "2023-02-15T08:57:23.562479Z"
    },
    "papermill": {
     "duration": 0.028757,
     "end_time": "2023-02-15T08:57:23.566944",
     "exception": false,
     "start_time": "2023-02-15T08:57:23.538187",
     "status": "completed"
    },
    "tags": []
   },
   "outputs": [
    {
     "name": "stdout",
     "output_type": "stream",
     "text": [
      "      col2\n",
      "col1      \n",
      "a        1\n",
      "b        2\n",
      "c        2\n",
      "d        1\n"
     ]
    }
   ],
   "source": [
    "import pandas as pd\n",
    "\n",
    "df = pd.DataFrame(\n",
    "    {\n",
    "        \"col1\": [\"a\", \"b\", \"b\", \"c\", \"c\", \"d\"],\n",
    "        \"col2\": [\"S\", \"S\", \"M\", \"L\", \"L\", \"L\"]\n",
    "    }\n",
    ")\n",
    "\n",
    "# get the count of elements in one column\n",
    "print(df.groupby([\"col1\"]).count())"
   ]
  },
  {
   "cell_type": "code",
   "execution_count": 9,
   "id": "288674c5",
   "metadata": {
    "execution": {
     "iopub.execute_input": "2023-02-15T08:57:23.596887Z",
     "iopub.status.busy": "2023-02-15T08:57:23.596492Z",
     "iopub.status.idle": "2023-02-15T08:57:23.606631Z",
     "shell.execute_reply": "2023-02-15T08:57:23.605671Z"
    },
    "papermill": {
     "duration": 0.029738,
     "end_time": "2023-02-15T08:57:23.610617",
     "exception": false,
     "start_time": "2023-02-15T08:57:23.580879",
     "status": "completed"
    },
    "tags": []
   },
   "outputs": [
    {
     "name": "stdout",
     "output_type": "stream",
     "text": [
      "col1  col2\n",
      "a     S       1\n",
      "b     M       1\n",
      "      S       1\n",
      "c     L       2\n",
      "d     L       1\n",
      "dtype: int64\n"
     ]
    }
   ],
   "source": [
    "# Get the size of groups of 2+ columns\n",
    "print(df.groupby([\"col1\", \"col2\"]).size())"
   ]
  },
  {
   "cell_type": "markdown",
   "id": "61061b56",
   "metadata": {
    "papermill": {
     "duration": 0.012625,
     "end_time": "2023-02-15T08:57:23.637051",
     "exception": false,
     "start_time": "2023-02-15T08:57:23.624426",
     "status": "completed"
    },
    "tags": []
   },
   "source": [
    "# 6: Correlation\n",
    "If you want to compute the correlation between rows or columns of two DataFrame, use `.corrwith()`."
   ]
  },
  {
   "cell_type": "code",
   "execution_count": 10,
   "id": "8d9d4238",
   "metadata": {
    "execution": {
     "iopub.execute_input": "2023-02-15T08:57:23.665867Z",
     "iopub.status.busy": "2023-02-15T08:57:23.665457Z",
     "iopub.status.idle": "2023-02-15T08:57:23.686369Z",
     "shell.execute_reply": "2023-02-15T08:57:23.685190Z"
    },
    "papermill": {
     "duration": 0.038285,
     "end_time": "2023-02-15T08:57:23.688942",
     "exception": false,
     "start_time": "2023-02-15T08:57:23.650657",
     "status": "completed"
    },
    "tags": []
   },
   "outputs": [
    {
     "data": {
      "text/plain": [
       "a    0.94388\n",
       "b    0.68313\n",
       "dtype: float64"
      ]
     },
     "execution_count": 10,
     "metadata": {},
     "output_type": "execute_result"
    }
   ],
   "source": [
    "import pandas as pd\n",
    "\n",
    "df1 = pd.DataFrame({\n",
    "    \"a\": [1, 2, 3, 4],\n",
    "    \"b\": [2, 3, 4, 6]\n",
    "})\n",
    "\n",
    "df2 = pd.DataFrame({\n",
    "    \"a\": [1, 2, 3, 3],\n",
    "    \"b\": [2, 2, 5, 4]\n",
    "})\n",
    "\n",
    "df1.corrwith(df2)"
   ]
  },
  {
   "cell_type": "markdown",
   "id": "feeb0a00",
   "metadata": {
    "papermill": {
     "duration": 0.013527,
     "end_time": "2023-02-15T08:57:23.715685",
     "exception": false,
     "start_time": "2023-02-15T08:57:23.702158",
     "status": "completed"
    },
    "tags": []
   },
   "source": [
    "# 7: Cross-Tabulation\n",
    "Cross-tabulation allows you to analyze the relationship between multiple variables. To turn a Pandas DataFrame into a cross-tabulation, use `pandas.crosstab()`."
   ]
  },
  {
   "cell_type": "code",
   "execution_count": 11,
   "id": "70057a11",
   "metadata": {
    "execution": {
     "iopub.execute_input": "2023-02-15T08:57:23.747877Z",
     "iopub.status.busy": "2023-02-15T08:57:23.747122Z",
     "iopub.status.idle": "2023-02-15T08:57:23.780692Z",
     "shell.execute_reply": "2023-02-15T08:57:23.778768Z"
    },
    "papermill": {
     "duration": 0.054461,
     "end_time": "2023-02-15T08:57:23.783845",
     "exception": false,
     "start_time": "2023-02-15T08:57:23.729384",
     "status": "completed"
    },
    "tags": []
   },
   "outputs": [
    {
     "name": "stdout",
     "output_type": "stream",
     "text": [
      "person2  Ben  Jone  Patrick  Smith  Warren\n",
      "person1                                   \n",
      "Ben        0     0        1      1       0\n",
      "Jone       0     0        0      0       1\n",
      "Patrick    1     0        0      1       0\n",
      "Smith      1     0        1      0       1\n",
      "Warren     0     1        0      1       0\n"
     ]
    }
   ],
   "source": [
    "import pandas as pd\n",
    "\n",
    "network = [\n",
    "    (\"Ben\", \"Smith\"),\n",
    "    (\"Ben\", \"Patrick\"),\n",
    "    (\"Warren\", \"Jone\"),\n",
    "    (\"Warren\", \"Smith\"),\n",
    "    (\"Smith\", \"Patrick\"),\n",
    "]\n",
    "\n",
    "# Create a dataframe of the network\n",
    "friends1 = pd.DataFrame(\n",
    "    network, columns=[\"person1\", \"person2\"]\n",
    ")\n",
    "\n",
    "# Create the order of the columns\n",
    "friends2 = pd.DataFrame(\n",
    "    network, columns=[\"person2\", \"person1\"]\n",
    ")\n",
    "\n",
    "# Create a symmetric dataframe\n",
    "friends = pd.concat([friends1, friends2])\n",
    "\n",
    "# Create a cross tabulation\n",
    "print(pd.crosstab(friends.person1, friends.person2))"
   ]
  },
  {
   "cell_type": "markdown",
   "id": "9155b3bf",
   "metadata": {
    "papermill": {
     "duration": 0.014586,
     "end_time": "2023-02-15T08:57:23.815098",
     "exception": false,
     "start_time": "2023-02-15T08:57:23.800512",
     "status": "completed"
    },
    "tags": []
   },
   "source": [
    "# 8: DataFrame.query()\n",
    "It can be lengthy to filter columns of pandas DataFrame using brackets. To shorten the filtering statements, use `df.query()` instead."
   ]
  },
  {
   "cell_type": "code",
   "execution_count": 12,
   "id": "c1fee73f",
   "metadata": {
    "execution": {
     "iopub.execute_input": "2023-02-15T08:57:23.843863Z",
     "iopub.status.busy": "2023-02-15T08:57:23.843454Z",
     "iopub.status.idle": "2023-02-15T08:57:23.853656Z",
     "shell.execute_reply": "2023-02-15T08:57:23.852430Z"
    },
    "papermill": {
     "duration": 0.028117,
     "end_time": "2023-02-15T08:57:23.856740",
     "exception": false,
     "start_time": "2023-02-15T08:57:23.828623",
     "status": "completed"
    },
    "tags": []
   },
   "outputs": [
    {
     "name": "stdout",
     "output_type": "stream",
     "text": [
      "   fruit  price\n",
      "2  grape      6\n",
      "3  grape      7\n"
     ]
    }
   ],
   "source": [
    "import pandas as pd\n",
    "\n",
    "df = pd.DataFrame({\n",
    "    \"fruit\": [\"apple\", \"orange\", \"grape\", \"grape\"],\n",
    "    \"price\": [4, 5, 6, 7]\n",
    "})\n",
    "\n",
    "# Filter using brackets\n",
    "print(df[(df.price > 4) & (df.fruit == \"grape\")])"
   ]
  },
  {
   "cell_type": "code",
   "execution_count": 13,
   "id": "f0acb43d",
   "metadata": {
    "execution": {
     "iopub.execute_input": "2023-02-15T08:57:23.887264Z",
     "iopub.status.busy": "2023-02-15T08:57:23.886842Z",
     "iopub.status.idle": "2023-02-15T08:57:23.899766Z",
     "shell.execute_reply": "2023-02-15T08:57:23.898217Z"
    },
    "papermill": {
     "duration": 0.031551,
     "end_time": "2023-02-15T08:57:23.903403",
     "exception": false,
     "start_time": "2023-02-15T08:57:23.871852",
     "status": "completed"
    },
    "tags": []
   },
   "outputs": [
    {
     "name": "stdout",
     "output_type": "stream",
     "text": [
      "   fruit  price\n",
      "2  grape      6\n",
      "3  grape      7\n"
     ]
    }
   ],
   "source": [
    "# Filter using query\n",
    "print(df.query(\"price > 4 & fruit == 'grape'\"))"
   ]
  },
  {
   "cell_type": "markdown",
   "id": "88e0fd17",
   "metadata": {
    "papermill": {
     "duration": 0.013882,
     "end_time": "2023-02-15T08:57:23.933005",
     "exception": false,
     "start_time": "2023-02-15T08:57:23.919123",
     "status": "completed"
    },
    "tags": []
   },
   "source": [
    "# 9: Unpivot DataFrame\n",
    "If you want to unpivot a DataFrame from wide to long format, use `pandas.melt()`.\n",
    "For example, you can use `pandas.melt()` to turn multiple columns (\"Aldi\", \"Walmart\", \"Costco\") into values of one column (\"store\")."
   ]
  },
  {
   "cell_type": "code",
   "execution_count": 14,
   "id": "b448f78d",
   "metadata": {
    "execution": {
     "iopub.execute_input": "2023-02-15T08:57:23.962575Z",
     "iopub.status.busy": "2023-02-15T08:57:23.962165Z",
     "iopub.status.idle": "2023-02-15T08:57:23.971172Z",
     "shell.execute_reply": "2023-02-15T08:57:23.970231Z"
    },
    "papermill": {
     "duration": 0.0282,
     "end_time": "2023-02-15T08:57:23.975031",
     "exception": false,
     "start_time": "2023-02-15T08:57:23.946831",
     "status": "completed"
    },
    "tags": []
   },
   "outputs": [
    {
     "name": "stdout",
     "output_type": "stream",
     "text": [
      "    fruit  Aldi  Walmart  Costco\n",
      "0   apple     4        6       1\n",
      "1  orange     5        7       2\n"
     ]
    }
   ],
   "source": [
    "import pandas as pd\n",
    "\n",
    "df = pd.DataFrame({\n",
    "    \"fruit\": [\"apple\", \"orange\"],\n",
    "    \"Aldi\": [4, 5],\n",
    "    \"Walmart\": [6, 7],\n",
    "    \"Costco\": [1, 2]\n",
    "})\n",
    "\n",
    "print(df)"
   ]
  },
  {
   "cell_type": "code",
   "execution_count": 15,
   "id": "722ff6b1",
   "metadata": {
    "execution": {
     "iopub.execute_input": "2023-02-15T08:57:24.005368Z",
     "iopub.status.busy": "2023-02-15T08:57:24.004930Z",
     "iopub.status.idle": "2023-02-15T08:57:24.020693Z",
     "shell.execute_reply": "2023-02-15T08:57:24.019377Z"
    },
    "papermill": {
     "duration": 0.033586,
     "end_time": "2023-02-15T08:57:24.023630",
     "exception": false,
     "start_time": "2023-02-15T08:57:23.990044",
     "status": "completed"
    },
    "tags": []
   },
   "outputs": [
    {
     "name": "stdout",
     "output_type": "stream",
     "text": [
      "    fruit    store  value\n",
      "0   apple     Aldi      4\n",
      "1  orange     Aldi      5\n",
      "2   apple  Walmart      6\n",
      "3  orange  Walmart      7\n",
      "4   apple   Costco      1\n",
      "5  orange   Costco      2\n"
     ]
    }
   ],
   "source": [
    "# Turn Aldi, Walmart, Costco into values of \"store\"\n",
    "print(df.melt(\n",
    "    id_vars=[\"fruit\"],\n",
    "    value_vars=[\"Aldi\", \"Walmart\", \"Costco\"],\n",
    "    var_name='store'\n",
    "))"
   ]
  },
  {
   "cell_type": "markdown",
   "id": "94a57fe4",
   "metadata": {
    "papermill": {
     "duration": 0.013384,
     "end_time": "2023-02-15T08:57:24.051473",
     "exception": false,
     "start_time": "2023-02-15T08:57:24.038089",
     "status": "completed"
    },
    "tags": []
   },
   "source": [
    "# 10: Rename aggregated column\n",
    "By default, aggregating a column returns the name of that column.\n",
    "If you want to assign a new name to the aggregation, use `name = (column, agg_method)`."
   ]
  },
  {
   "cell_type": "code",
   "execution_count": 16,
   "id": "2f44f47c",
   "metadata": {
    "execution": {
     "iopub.execute_input": "2023-02-15T08:57:24.080639Z",
     "iopub.status.busy": "2023-02-15T08:57:24.080208Z",
     "iopub.status.idle": "2023-02-15T08:57:24.092305Z",
     "shell.execute_reply": "2023-02-15T08:57:24.091007Z"
    },
    "papermill": {
     "duration": 0.029349,
     "end_time": "2023-02-15T08:57:24.094816",
     "exception": false,
     "start_time": "2023-02-15T08:57:24.065467",
     "status": "completed"
    },
    "tags": []
   },
   "outputs": [
    {
     "name": "stdout",
     "output_type": "stream",
     "text": [
      "       price\n",
      "size        \n",
      "L     19.000\n",
      "M     10.000\n",
      "S     36.995\n"
     ]
    }
   ],
   "source": [
    "import pandas as pd\n",
    "\n",
    "df = pd.DataFrame({\"size\": [\"S\", \"S\", \"M\", \"L\"],\n",
    "                   \"price\": [44, 29.99, 10, 19]})\n",
    "\n",
    "print(df.groupby('size').agg({'price': 'mean'}))"
   ]
  },
  {
   "cell_type": "code",
   "execution_count": 17,
   "id": "16b7268e",
   "metadata": {
    "execution": {
     "iopub.execute_input": "2023-02-15T08:57:24.123792Z",
     "iopub.status.busy": "2023-02-15T08:57:24.123326Z",
     "iopub.status.idle": "2023-02-15T08:57:24.143705Z",
     "shell.execute_reply": "2023-02-15T08:57:24.142419Z"
    },
    "papermill": {
     "duration": 0.037688,
     "end_time": "2023-02-15T08:57:24.146117",
     "exception": false,
     "start_time": "2023-02-15T08:57:24.108429",
     "status": "completed"
    },
    "tags": []
   },
   "outputs": [
    {
     "name": "stdout",
     "output_type": "stream",
     "text": [
      "      mean_price\n",
      "size            \n",
      "L         19.000\n",
      "M         10.000\n",
      "S         36.995\n"
     ]
    }
   ],
   "source": [
    "# Assign name to the aggregation\n",
    "print(df.groupby('size').agg(\n",
    "    mean_price=('price', 'mean')\n",
    "))"
   ]
  },
  {
   "cell_type": "markdown",
   "id": "b9902b60",
   "metadata": {
    "papermill": {
     "duration": 0.013287,
     "end_time": "2023-02-15T08:57:24.173055",
     "exception": false,
     "start_time": "2023-02-15T08:57:24.159768",
     "status": "completed"
    },
    "tags": []
   },
   "source": [
    "# 11: Normalized Value Counts\n",
    "If you want to get the count of a value in a column, use `value_counts`.\n",
    "However, if you want to get the percentage of a value in a column, add `normalize=True` to `value_counts`."
   ]
  },
  {
   "cell_type": "code",
   "execution_count": 18,
   "id": "77269ef0",
   "metadata": {
    "execution": {
     "iopub.execute_input": "2023-02-15T08:57:24.202795Z",
     "iopub.status.busy": "2023-02-15T08:57:24.202365Z",
     "iopub.status.idle": "2023-02-15T08:57:24.211802Z",
     "shell.execute_reply": "2023-02-15T08:57:24.210509Z"
    },
    "papermill": {
     "duration": 0.027482,
     "end_time": "2023-02-15T08:57:24.214597",
     "exception": false,
     "start_time": "2023-02-15T08:57:24.187115",
     "status": "completed"
    },
    "tags": []
   },
   "outputs": [
    {
     "name": "stdout",
     "output_type": "stream",
     "text": [
      "S     4\n",
      "M     2\n",
      "L     1\n",
      "XL    1\n",
      "dtype: int64\n"
     ]
    }
   ],
   "source": [
    "import pandas as pd\n",
    "\n",
    "size = pd.Series([\"S\", \"S\", \"M\", \"L\", \"S\", \"XL\", \"S\", \"M\",])\n",
    "\n",
    "# Get count of each value\n",
    "print(size.value_counts())"
   ]
  },
  {
   "cell_type": "code",
   "execution_count": 19,
   "id": "148d0a80",
   "metadata": {
    "execution": {
     "iopub.execute_input": "2023-02-15T08:57:24.245441Z",
     "iopub.status.busy": "2023-02-15T08:57:24.245032Z",
     "iopub.status.idle": "2023-02-15T08:57:24.251796Z",
     "shell.execute_reply": "2023-02-15T08:57:24.250546Z"
    },
    "papermill": {
     "duration": 0.025877,
     "end_time": "2023-02-15T08:57:24.254644",
     "exception": false,
     "start_time": "2023-02-15T08:57:24.228767",
     "status": "completed"
    },
    "tags": []
   },
   "outputs": [
    {
     "name": "stdout",
     "output_type": "stream",
     "text": [
      "S     0.500\n",
      "M     0.250\n",
      "L     0.125\n",
      "XL    0.125\n",
      "dtype: float64\n"
     ]
    }
   ],
   "source": [
    "# Get percentage of each value\n",
    "print(size.value_counts(normalize=True))"
   ]
  },
  {
   "cell_type": "markdown",
   "id": "51fe414c",
   "metadata": {
    "papermill": {
     "duration": 0.013194,
     "end_time": "2023-02-15T08:57:24.281529",
     "exception": false,
     "start_time": "2023-02-15T08:57:24.268335",
     "status": "completed"
    },
    "tags": []
   },
   "source": [
    "# 12: df.transform() instead of df.count()\n",
    "\n",
    "- To filter pandas DataFrame based on the occurrences of categories, you might attempt to use `df.groupby` and `df.count`. However, since the Series returned by the count method is shorter than the original DataFrame, you will get an error when filtering.\n",
    "\n",
    "- Instead of using count, use transform. This method will return the Series with the same length as the original DataFrame. Now you can filter without encountering any errors."
   ]
  },
  {
   "cell_type": "code",
   "execution_count": 20,
   "id": "b2b91931",
   "metadata": {
    "execution": {
     "iopub.execute_input": "2023-02-15T08:57:24.310759Z",
     "iopub.status.busy": "2023-02-15T08:57:24.310356Z",
     "iopub.status.idle": "2023-02-15T08:57:24.316561Z",
     "shell.execute_reply": "2023-02-15T08:57:24.315327Z"
    },
    "papermill": {
     "duration": 0.023669,
     "end_time": "2023-02-15T08:57:24.318892",
     "exception": false,
     "start_time": "2023-02-15T08:57:24.295223",
     "status": "completed"
    },
    "tags": []
   },
   "outputs": [],
   "source": [
    "import pandas as pd\n",
    "\n",
    "df = pd.DataFrame({\n",
    "    \"type\": [\"A\", \"A\", \"O\", \"B\", \"O\", \"A\"],\n",
    "    \"value\": [5, 3, 2, 1, 7, 3]\n",
    "})\n",
    "\n",
    "# Using count will throw an error because the\n",
    "# Series returned is shorter than the original\n",
    "# DataFrame\n",
    "\n",
    "# df.loc[df.groupby(\"type\")[\"type\"].count() > 1]"
   ]
  },
  {
   "cell_type": "code",
   "execution_count": 21,
   "id": "20efe753",
   "metadata": {
    "execution": {
     "iopub.execute_input": "2023-02-15T08:57:24.348283Z",
     "iopub.status.busy": "2023-02-15T08:57:24.347844Z",
     "iopub.status.idle": "2023-02-15T08:57:24.359242Z",
     "shell.execute_reply": "2023-02-15T08:57:24.357472Z"
    },
    "papermill": {
     "duration": 0.029105,
     "end_time": "2023-02-15T08:57:24.361796",
     "exception": false,
     "start_time": "2023-02-15T08:57:24.332691",
     "status": "completed"
    },
    "tags": []
   },
   "outputs": [
    {
     "name": "stdout",
     "output_type": "stream",
     "text": [
      "  type  value\n",
      "0    A      5\n",
      "1    A      3\n",
      "2    O      2\n",
      "4    O      7\n",
      "5    A      3\n"
     ]
    }
   ],
   "source": [
    "print(df.loc[df.groupby(\"type\")[\"type\"].transform(\"size\") > 1])"
   ]
  },
  {
   "cell_type": "markdown",
   "id": "15a4a8be",
   "metadata": {
    "papermill": {
     "duration": 0.014914,
     "end_time": "2023-02-15T08:57:24.391540",
     "exception": false,
     "start_time": "2023-02-15T08:57:24.376626",
     "status": "completed"
    },
    "tags": []
   },
   "source": [
    "# 13: Fill in Null Values\n",
    "\n",
    "- If you want to fill null values in one DataFrame with non-null values at the same locations from another DataFrame, use `pandas.DataFrame.combine_first`.\n",
    "\n",
    "- In the code below, the values at the first row of store1 are updated with the values at the first row of store2."
   ]
  },
  {
   "cell_type": "code",
   "execution_count": 22,
   "id": "d2ae6b01",
   "metadata": {
    "execution": {
     "iopub.execute_input": "2023-02-15T08:57:24.422586Z",
     "iopub.status.busy": "2023-02-15T08:57:24.422125Z",
     "iopub.status.idle": "2023-02-15T08:57:24.440833Z",
     "shell.execute_reply": "2023-02-15T08:57:24.439350Z"
    },
    "papermill": {
     "duration": 0.03776,
     "end_time": "2023-02-15T08:57:24.444084",
     "exception": false,
     "start_time": "2023-02-15T08:57:24.406324",
     "status": "completed"
    },
    "tags": []
   },
   "outputs": [
    {
     "name": "stdout",
     "output_type": "stream",
     "text": [
      "   orange  apple\n",
      "0    31.0    4.0\n",
      "1     5.0   71.0\n",
      "2     9.0   12.0\n"
     ]
    }
   ],
   "source": [
    "import pandas as pd\n",
    "\n",
    "store1 = pd.DataFrame({\n",
    "    \"orange\": [None, 5, 9],\n",
    "    \"apple\": [4, None, 12]\n",
    "})\n",
    "\n",
    "store2 = pd.DataFrame({\n",
    "    \"orange\": [31, 52, 91],\n",
    "    \"apple\": [11, 71, 21]\n",
    "})\n",
    "\n",
    "# Fill null values of the store1 with values at the same\n",
    "# locations from store2\n",
    "print(store1.combine_first(store2))"
   ]
  },
  {
   "cell_type": "markdown",
   "id": "30118cad",
   "metadata": {
    "papermill": {
     "duration": 0.013901,
     "end_time": "2023-02-15T08:57:24.472630",
     "exception": false,
     "start_time": "2023-02-15T08:57:24.458729",
     "status": "completed"
    },
    "tags": []
   },
   "source": [
    "# 14: Value Counts Missing Values\n",
    "By default, `pandas.value_counts()` ignore missing values. Pass `dropna=False` to make it count missing values."
   ]
  },
  {
   "cell_type": "code",
   "execution_count": null,
   "id": "a1e4707c",
   "metadata": {
    "papermill": {
     "duration": 0.013631,
     "end_time": "2023-02-15T08:57:24.500276",
     "exception": false,
     "start_time": "2023-02-15T08:57:24.486645",
     "status": "completed"
    },
    "tags": []
   },
   "outputs": [],
   "source": []
  },
  {
   "cell_type": "markdown",
   "id": "abc53ff9",
   "metadata": {
    "papermill": {
     "duration": 0.013553,
     "end_time": "2023-02-15T08:57:24.527636",
     "exception": false,
     "start_time": "2023-02-15T08:57:24.514083",
     "status": "completed"
    },
    "tags": []
   },
   "source": [
    "# 15: Filter Columns in DataFrame\n",
    "If you want to filter columns of a pandas DataFrame based on characters in their names, use `DataFrame.filter`. This can be handy if you create dummy variables and you want to select columns based on the prefix."
   ]
  },
  {
   "cell_type": "code",
   "execution_count": 23,
   "id": "16963b9d",
   "metadata": {
    "execution": {
     "iopub.execute_input": "2023-02-15T08:57:24.557926Z",
     "iopub.status.busy": "2023-02-15T08:57:24.557527Z",
     "iopub.status.idle": "2023-02-15T08:57:24.566330Z",
     "shell.execute_reply": "2023-02-15T08:57:24.565019Z"
    },
    "papermill": {
     "duration": 0.027192,
     "end_time": "2023-02-15T08:57:24.568948",
     "exception": false,
     "start_time": "2023-02-15T08:57:24.541756",
     "status": "completed"
    },
    "tags": []
   },
   "outputs": [
    {
     "name": "stdout",
     "output_type": "stream",
     "text": [
      "   Temp  Degree\n",
      "0   Hot      35\n",
      "1  Cold       3\n",
      "2  Warm      15\n",
      "3  Cold       2\n"
     ]
    }
   ],
   "source": [
    "import pandas as pd\n",
    "\n",
    "df = pd.DataFrame({'Temp': ['Hot', 'Cold', 'Warm', 'Cold'],\n",
    "                   'Degree': [35, 3, 15, 2]})\n",
    "print(df)"
   ]
  },
  {
   "cell_type": "code",
   "execution_count": 24,
   "id": "68e71067",
   "metadata": {
    "execution": {
     "iopub.execute_input": "2023-02-15T08:57:24.599867Z",
     "iopub.status.busy": "2023-02-15T08:57:24.598895Z",
     "iopub.status.idle": "2023-02-15T08:57:24.613535Z",
     "shell.execute_reply": "2023-02-15T08:57:24.612109Z"
    },
    "papermill": {
     "duration": 0.033134,
     "end_time": "2023-02-15T08:57:24.616096",
     "exception": false,
     "start_time": "2023-02-15T08:57:24.582962",
     "status": "completed"
    },
    "tags": []
   },
   "outputs": [
    {
     "name": "stdout",
     "output_type": "stream",
     "text": [
      "   Degree  Temp_Cold  Temp_Hot  Temp_Warm\n",
      "0      35          0         1          0\n",
      "1       3          1         0          0\n",
      "2      15          0         0          1\n",
      "3       2          1         0          0\n"
     ]
    }
   ],
   "source": [
    "df = pd.get_dummies(df, columns=['Temp'])\n",
    "print(df)"
   ]
  },
  {
   "cell_type": "code",
   "execution_count": 25,
   "id": "af7f73b7",
   "metadata": {
    "execution": {
     "iopub.execute_input": "2023-02-15T08:57:24.649018Z",
     "iopub.status.busy": "2023-02-15T08:57:24.647829Z",
     "iopub.status.idle": "2023-02-15T08:57:24.656692Z",
     "shell.execute_reply": "2023-02-15T08:57:24.655149Z"
    },
    "papermill": {
     "duration": 0.028742,
     "end_time": "2023-02-15T08:57:24.659560",
     "exception": false,
     "start_time": "2023-02-15T08:57:24.630818",
     "status": "completed"
    },
    "tags": []
   },
   "outputs": [
    {
     "name": "stdout",
     "output_type": "stream",
     "text": [
      "   Temp_Cold  Temp_Hot  Temp_Warm\n",
      "0          0         1          0\n",
      "1          1         0          0\n",
      "2          0         0          1\n",
      "3          1         0          0\n"
     ]
    }
   ],
   "source": [
    "print(df.filter(like='Temp', axis=1))"
   ]
  },
  {
   "cell_type": "code",
   "execution_count": null,
   "id": "b67a51d2",
   "metadata": {
    "papermill": {
     "duration": 0.015321,
     "end_time": "2023-02-15T08:57:24.690550",
     "exception": false,
     "start_time": "2023-02-15T08:57:24.675229",
     "status": "completed"
    },
    "tags": []
   },
   "outputs": [],
   "source": []
  },
  {
   "cell_type": "markdown",
   "id": "546e22e7",
   "metadata": {
    "papermill": {
     "duration": 0.015275,
     "end_time": "2023-02-15T08:57:24.720482",
     "exception": false,
     "start_time": "2023-02-15T08:57:24.705207",
     "status": "completed"
    },
    "tags": []
   },
   "source": [
    "# 16: Convert Data Types Automatically\n",
    "If you don't know the dtypes of columns in your DataFrame, you can use `convert_dtypes()` to quickly convert columns to the best possible types."
   ]
  },
  {
   "cell_type": "code",
   "execution_count": null,
   "id": "adc85747",
   "metadata": {
    "papermill": {
     "duration": 0.014211,
     "end_time": "2023-02-15T08:57:24.748976",
     "exception": false,
     "start_time": "2023-02-15T08:57:24.734765",
     "status": "completed"
    },
    "tags": []
   },
   "outputs": [],
   "source": []
  },
  {
   "cell_type": "markdown",
   "id": "6693eee4",
   "metadata": {
    "papermill": {
     "duration": 0.014634,
     "end_time": "2023-02-15T08:57:24.778285",
     "exception": false,
     "start_time": "2023-02-15T08:57:24.763651",
     "status": "completed"
    },
    "tags": []
   },
   "source": [
    "# 17: Assign new columns to a DataFrame\n",
    "Use `Dataframe.assign()` method to assign new columns to your DataFrame, `Dataframe.assign()` returns a new object (a copy) with the new columns added to the original ones. Existing columns that are re-assigned will be overwritten."
   ]
  },
  {
   "cell_type": "code",
   "execution_count": 26,
   "id": "45b28d89",
   "metadata": {
    "execution": {
     "iopub.execute_input": "2023-02-15T08:57:24.809722Z",
     "iopub.status.busy": "2023-02-15T08:57:24.809266Z",
     "iopub.status.idle": "2023-02-15T08:57:24.824555Z",
     "shell.execute_reply": "2023-02-15T08:57:24.823323Z"
    },
    "papermill": {
     "duration": 0.034451,
     "end_time": "2023-02-15T08:57:24.827688",
     "exception": false,
     "start_time": "2023-02-15T08:57:24.793237",
     "status": "completed"
    },
    "tags": []
   },
   "outputs": [
    {
     "name": "stdout",
     "output_type": "stream",
     "text": [
      "                                        text  text_len  word_count  weekend\n",
      "0        saturday: weekend (not working day)        35           5     True\n",
      "1          sunday: weekend (not working day)        33           5     True\n",
      "2      monday: doctor appointment at 2:45pm.        37           5    False\n",
      "3  tuesday: dentist appointment at 11:30 am.        41           6    False\n",
      "4       wednesday: basketball game at 7:00pm        36           5    False\n",
      "5           thursday: back home by 11:15 pm.        32           6    False\n",
      "6        friday: take the train at 08:10 am.        35           7    False\n"
     ]
    }
   ],
   "source": [
    "import pandas as pd\n",
    "\n",
    "\n",
    "time_sentences = [\n",
    "    \"Saturday: Weekend (Not working day)\",\n",
    "    \"Sunday: Weekend (Not working day)\",\n",
    "    \"Monday: Doctor appointment at 2:45pm.\",\n",
    "    \"Tuesday: Dentist appointment at 11:30 am.\",\n",
    "    \"Wednesday: basketball game At 7:00pm\",\n",
    "    \"Thursday: Back home by 11:15 pm.\",\n",
    "    \"Friday: Take the train at 08:10 am.\"\n",
    "]\n",
    "\n",
    "df = pd.DataFrame(time_sentences, columns=['text'])\n",
    "\n",
    "print((\n",
    "    df\n",
    "    .assign(text=df.text.str.lower(),\n",
    "            text_len=df.text.str.len(),\n",
    "            word_count=df.text.str.count(\" \") + 1,\n",
    "            weekend=df.text.str.contains(\"saturday|sunday\", case=False),\n",
    "           )\n",
    "))"
   ]
  },
  {
   "cell_type": "markdown",
   "id": "067886b0",
   "metadata": {
    "papermill": {
     "duration": 0.01553,
     "end_time": "2023-02-15T08:57:24.858327",
     "exception": false,
     "start_time": "2023-02-15T08:57:24.842797",
     "status": "completed"
    },
    "tags": []
   },
   "source": [
    "# 18: Read HTML Tables\n",
    "`.read_html()` can be useful for quickly incorporating tables from various websites without figuring out how to scrape the site's HTML."
   ]
  },
  {
   "cell_type": "code",
   "execution_count": 27,
   "id": "7b7dfbe0",
   "metadata": {
    "execution": {
     "iopub.execute_input": "2023-02-15T08:57:24.890754Z",
     "iopub.status.busy": "2023-02-15T08:57:24.889549Z",
     "iopub.status.idle": "2023-02-15T08:57:26.201195Z",
     "shell.execute_reply": "2023-02-15T08:57:26.199578Z"
    },
    "papermill": {
     "duration": 1.33026,
     "end_time": "2023-02-15T08:57:26.203881",
     "exception": false,
     "start_time": "2023-02-15T08:57:24.873621",
     "status": "completed"
    },
    "tags": []
   },
   "outputs": [
    {
     "name": "stdout",
     "output_type": "stream",
     "text": [
      "            Race and Ethnicity[79]  Alone  Alone.1  Total  Total.1\n",
      "0             White (non-Hispanic)  76.3%      NaN  80.2%      NaN\n",
      "1  African American (non-Hispanic)   6.9%      NaN   8.2%      NaN\n",
      "2            Hispanic or Latino[b]      —      NaN   6.1%      NaN\n",
      "3                            Asian   5.2%      NaN   6.2%      NaN\n",
      "4                  Native American   1.0%      NaN   2.3%      NaN\n"
     ]
    }
   ],
   "source": [
    "import pandas as pd\n",
    "\n",
    "# Without a marcher we will get a list of all tables in the page\n",
    "# To make a table selection, pass table title to the match parameter\n",
    "table = pd.read_html(\n",
    "    \"https://en.wikipedia.org/wiki/Minnesota\", \n",
    "    match=\"Ethnic composition\"\n",
    ")\n",
    "\n",
    "print(table[0].head())"
   ]
  },
  {
   "cell_type": "code",
   "execution_count": 28,
   "id": "0178759d",
   "metadata": {
    "execution": {
     "iopub.execute_input": "2023-02-15T08:57:26.234572Z",
     "iopub.status.busy": "2023-02-15T08:57:26.233977Z",
     "iopub.status.idle": "2023-02-15T08:57:27.202669Z",
     "shell.execute_reply": "2023-02-15T08:57:27.201243Z"
    },
    "papermill": {
     "duration": 0.988741,
     "end_time": "2023-02-15T08:57:27.207031",
     "exception": false,
     "start_time": "2023-02-15T08:57:26.218290",
     "status": "completed"
    },
    "tags": []
   },
   "outputs": [
    {
     "name": "stdout",
     "output_type": "stream",
     "text": [
      "      Location July (°F) July (°C) January (°F) January (°C)\n",
      "0  Minneapolis     83/64     28/18         23/7       −4/−13\n",
      "1   Saint Paul     83/63     28/17         23/6       −5/−14\n",
      "2    Rochester     82/63     28/17         23/3       −5/−16\n",
      "3       Duluth     76/55     24/13         19/1       −7/−17\n",
      "4    St. Cloud     81/58     27/14        18/−1       −7/−18\n"
     ]
    }
   ],
   "source": [
    "table = pd.read_html(\n",
    "    \"https://en.wikipedia.org/wiki/Minnesota\", \n",
    "    match=\"Average daily\"\n",
    ")\n",
    "\n",
    "print(table[0].head())"
   ]
  },
  {
   "cell_type": "markdown",
   "id": "2ced185a",
   "metadata": {
    "papermill": {
     "duration": 0.017037,
     "end_time": "2023-02-15T08:57:27.240092",
     "exception": false,
     "start_time": "2023-02-15T08:57:27.223055",
     "status": "completed"
    },
    "tags": []
   },
   "source": [
    "# 19: 'nlargest' and 'nsmallest '\n",
    "Use `.nlargest()` and `.nsmallest()` to sort columns in DataFrame based on a specific column instead of using `.sort_values()`\n",
    "\n",
    "Data Link: IMDB Rating"
   ]
  },
  {
   "cell_type": "code",
   "execution_count": null,
   "id": "41cebc8e",
   "metadata": {
    "papermill": {
     "duration": 0.014242,
     "end_time": "2023-02-15T08:57:27.271831",
     "exception": false,
     "start_time": "2023-02-15T08:57:27.257589",
     "status": "completed"
    },
    "tags": []
   },
   "outputs": [],
   "source": []
  },
  {
   "cell_type": "markdown",
   "id": "a01b3521",
   "metadata": {
    "papermill": {
     "duration": 0.01956,
     "end_time": "2023-02-15T08:57:27.310467",
     "exception": false,
     "start_time": "2023-02-15T08:57:27.290907",
     "status": "completed"
    },
    "tags": []
   },
   "source": [
    "# 20: Create a Rank Column\n",
    "\n",
    "Pandas DataFrame.rank() method returns a rank of every respective index of a series passed. The rank is returned based on position after sorting.\n",
    "\n",
    "In the following example, a new Rank column is created which ranks the Student by their Marks."
   ]
  },
  {
   "cell_type": "code",
   "execution_count": 29,
   "id": "a2463cba",
   "metadata": {
    "execution": {
     "iopub.execute_input": "2023-02-15T08:57:27.349834Z",
     "iopub.status.busy": "2023-02-15T08:57:27.347728Z",
     "iopub.status.idle": "2023-02-15T08:57:27.360284Z",
     "shell.execute_reply": "2023-02-15T08:57:27.358592Z"
    },
    "papermill": {
     "duration": 0.034069,
     "end_time": "2023-02-15T08:57:27.362794",
     "exception": false,
     "start_time": "2023-02-15T08:57:27.328725",
     "status": "completed"
    },
    "tags": []
   },
   "outputs": [
    {
     "name": "stdout",
     "output_type": "stream",
     "text": [
      "  Students  Marks\n",
      "0     John     80\n",
      "1    Smith     56\n",
      "2  Patrick     95\n",
      "3      Bob     75\n",
      "4     Jose     45\n"
     ]
    }
   ],
   "source": [
    "import pandas as pd\n",
    "\n",
    "df = pd.DataFrame(\n",
    "    {'Students': ['John', 'Smith', 'Patrick', 'Bob', 'Jose'],\n",
    "    'Marks': [80, 56, 95, 75, 45]}\n",
    ")\n",
    "\n",
    "print(df)"
   ]
  },
  {
   "cell_type": "code",
   "execution_count": 30,
   "id": "1ec59b79",
   "metadata": {
    "execution": {
     "iopub.execute_input": "2023-02-15T08:57:27.407066Z",
     "iopub.status.busy": "2023-02-15T08:57:27.406123Z",
     "iopub.status.idle": "2023-02-15T08:57:27.420702Z",
     "shell.execute_reply": "2023-02-15T08:57:27.419400Z"
    },
    "papermill": {
     "duration": 0.041302,
     "end_time": "2023-02-15T08:57:27.423311",
     "exception": false,
     "start_time": "2023-02-15T08:57:27.382009",
     "status": "completed"
    },
    "tags": []
   },
   "outputs": [
    {
     "name": "stdout",
     "output_type": "stream",
     "text": [
      "  Students  Marks  Rank\n",
      "0     John     80   2.0\n",
      "1    Smith     56   4.0\n",
      "2  Patrick     95   1.0\n",
      "3      Bob     75   3.0\n",
      "4     Jose     45   5.0\n"
     ]
    }
   ],
   "source": [
    "df[\"Rank\"] = df[\"Marks\"].rank(ascending=False)\n",
    "print(df)"
   ]
  },
  {
   "cell_type": "code",
   "execution_count": 31,
   "id": "ad6a13ff",
   "metadata": {
    "execution": {
     "iopub.execute_input": "2023-02-15T08:57:27.458728Z",
     "iopub.status.busy": "2023-02-15T08:57:27.457717Z",
     "iopub.status.idle": "2023-02-15T08:57:27.468277Z",
     "shell.execute_reply": "2023-02-15T08:57:27.466103Z"
    },
    "papermill": {
     "duration": 0.030476,
     "end_time": "2023-02-15T08:57:27.471093",
     "exception": false,
     "start_time": "2023-02-15T08:57:27.440617",
     "status": "completed"
    },
    "tags": []
   },
   "outputs": [
    {
     "name": "stdout",
     "output_type": "stream",
     "text": [
      "0    0.4\n",
      "1    0.8\n",
      "2    0.2\n",
      "3    0.6\n",
      "4    1.0\n",
      "Name: Marks, dtype: float64\n"
     ]
    }
   ],
   "source": [
    "print(df[\"Marks\"].rank(ascending=False, pct=True))"
   ]
  },
  {
   "cell_type": "markdown",
   "id": "9c3c66c4",
   "metadata": {
    "papermill": {
     "duration": 0.014583,
     "end_time": "2023-02-15T08:57:27.502096",
     "exception": false,
     "start_time": "2023-02-15T08:57:27.487513",
     "status": "completed"
    },
    "tags": []
   },
   "source": [
    "# 21: Color Values in DataFrame"
   ]
  },
  {
   "cell_type": "code",
   "execution_count": 32,
   "id": "e1da83ec",
   "metadata": {
    "execution": {
     "iopub.execute_input": "2023-02-15T08:57:27.533576Z",
     "iopub.status.busy": "2023-02-15T08:57:27.533126Z",
     "iopub.status.idle": "2023-02-15T08:57:27.555776Z",
     "shell.execute_reply": "2023-02-15T08:57:27.554851Z"
    },
    "papermill": {
     "duration": 0.042364,
     "end_time": "2023-02-15T08:57:27.559380",
     "exception": false,
     "start_time": "2023-02-15T08:57:27.517016",
     "status": "completed"
    },
    "tags": []
   },
   "outputs": [
    {
     "data": {
      "text/html": [
       "<div>\n",
       "<style scoped>\n",
       "    .dataframe tbody tr th:only-of-type {\n",
       "        vertical-align: middle;\n",
       "    }\n",
       "\n",
       "    .dataframe tbody tr th {\n",
       "        vertical-align: top;\n",
       "    }\n",
       "\n",
       "    .dataframe thead th {\n",
       "        text-align: right;\n",
       "    }\n",
       "</style>\n",
       "<table border=\"1\" class=\"dataframe\">\n",
       "  <thead>\n",
       "    <tr style=\"text-align: right;\">\n",
       "      <th></th>\n",
       "      <th>Physics</th>\n",
       "      <th>Mathematics</th>\n",
       "    </tr>\n",
       "    <tr>\n",
       "      <th>Students</th>\n",
       "      <th></th>\n",
       "      <th></th>\n",
       "    </tr>\n",
       "  </thead>\n",
       "  <tbody>\n",
       "    <tr>\n",
       "      <th>John</th>\n",
       "      <td>80</td>\n",
       "      <td>90</td>\n",
       "    </tr>\n",
       "    <tr>\n",
       "      <th>Smith</th>\n",
       "      <td>56</td>\n",
       "      <td>85</td>\n",
       "    </tr>\n",
       "    <tr>\n",
       "      <th>Patrick</th>\n",
       "      <td>95</td>\n",
       "      <td>55</td>\n",
       "    </tr>\n",
       "    <tr>\n",
       "      <th>Bob</th>\n",
       "      <td>75</td>\n",
       "      <td>65</td>\n",
       "    </tr>\n",
       "    <tr>\n",
       "      <th>Jose</th>\n",
       "      <td>45</td>\n",
       "      <td>75</td>\n",
       "    </tr>\n",
       "  </tbody>\n",
       "</table>\n",
       "</div>"
      ],
      "text/plain": [
       "          Physics  Mathematics\n",
       "Students                      \n",
       "John           80           90\n",
       "Smith          56           85\n",
       "Patrick        95           55\n",
       "Bob            75           65\n",
       "Jose           45           75"
      ]
     },
     "execution_count": 32,
     "metadata": {},
     "output_type": "execute_result"
    }
   ],
   "source": [
    "import pandas as pd\n",
    "\n",
    "df = pd.DataFrame({'Students': ['John', 'Smith', 'Patrick', 'Bob', 'Jose'],\n",
    "                   'Physics': [80, 56, 95, 75, 45], \n",
    "                   'Mathematics': [90, 85, 55, 65, 75]})\n",
    "df.set_index('Students', inplace=True)\n",
    "df"
   ]
  },
  {
   "cell_type": "code",
   "execution_count": 33,
   "id": "0f5e6128",
   "metadata": {
    "execution": {
     "iopub.execute_input": "2023-02-15T08:57:27.602206Z",
     "iopub.status.busy": "2023-02-15T08:57:27.600925Z",
     "iopub.status.idle": "2023-02-15T08:57:27.681812Z",
     "shell.execute_reply": "2023-02-15T08:57:27.680566Z"
    },
    "papermill": {
     "duration": 0.103187,
     "end_time": "2023-02-15T08:57:27.684403",
     "exception": false,
     "start_time": "2023-02-15T08:57:27.581216",
     "status": "completed"
    },
    "tags": []
   },
   "outputs": [
    {
     "data": {
      "text/html": [
       "<style type=\"text/css\">\n",
       "#T_40c9d_row0_col0, #T_40c9d_row0_col1, #T_40c9d_row1_col1, #T_40c9d_row2_col0, #T_40c9d_row3_col0, #T_40c9d_row4_col1 {\n",
       "  background-color: blue;\n",
       "}\n",
       "#T_40c9d_row1_col0, #T_40c9d_row2_col1, #T_40c9d_row3_col1, #T_40c9d_row4_col0 {\n",
       "  background-color: red;\n",
       "}\n",
       "</style>\n",
       "<table id=\"T_40c9d_\">\n",
       "  <thead>\n",
       "    <tr>\n",
       "      <th class=\"blank level0\" >&nbsp;</th>\n",
       "      <th class=\"col_heading level0 col0\" >Physics</th>\n",
       "      <th class=\"col_heading level0 col1\" >Mathematics</th>\n",
       "    </tr>\n",
       "    <tr>\n",
       "      <th class=\"index_name level0\" >Students</th>\n",
       "      <th class=\"blank col0\" >&nbsp;</th>\n",
       "      <th class=\"blank col1\" >&nbsp;</th>\n",
       "    </tr>\n",
       "  </thead>\n",
       "  <tbody>\n",
       "    <tr>\n",
       "      <th id=\"T_40c9d_level0_row0\" class=\"row_heading level0 row0\" >John</th>\n",
       "      <td id=\"T_40c9d_row0_col0\" class=\"data row0 col0\" >80</td>\n",
       "      <td id=\"T_40c9d_row0_col1\" class=\"data row0 col1\" >90</td>\n",
       "    </tr>\n",
       "    <tr>\n",
       "      <th id=\"T_40c9d_level0_row1\" class=\"row_heading level0 row1\" >Smith</th>\n",
       "      <td id=\"T_40c9d_row1_col0\" class=\"data row1 col0\" >56</td>\n",
       "      <td id=\"T_40c9d_row1_col1\" class=\"data row1 col1\" >85</td>\n",
       "    </tr>\n",
       "    <tr>\n",
       "      <th id=\"T_40c9d_level0_row2\" class=\"row_heading level0 row2\" >Patrick</th>\n",
       "      <td id=\"T_40c9d_row2_col0\" class=\"data row2 col0\" >95</td>\n",
       "      <td id=\"T_40c9d_row2_col1\" class=\"data row2 col1\" >55</td>\n",
       "    </tr>\n",
       "    <tr>\n",
       "      <th id=\"T_40c9d_level0_row3\" class=\"row_heading level0 row3\" >Bob</th>\n",
       "      <td id=\"T_40c9d_row3_col0\" class=\"data row3 col0\" >75</td>\n",
       "      <td id=\"T_40c9d_row3_col1\" class=\"data row3 col1\" >65</td>\n",
       "    </tr>\n",
       "    <tr>\n",
       "      <th id=\"T_40c9d_level0_row4\" class=\"row_heading level0 row4\" >Jose</th>\n",
       "      <td id=\"T_40c9d_row4_col0\" class=\"data row4 col0\" >45</td>\n",
       "      <td id=\"T_40c9d_row4_col1\" class=\"data row4 col1\" >75</td>\n",
       "    </tr>\n",
       "  </tbody>\n",
       "</table>\n"
      ],
      "text/plain": [
       "<pandas.io.formats.style.Styler at 0x7f427c96fa10>"
      ]
     },
     "execution_count": 33,
     "metadata": {},
     "output_type": "execute_result"
    }
   ],
   "source": [
    "def pass_condition(val):\n",
    "    color = 'blue' if val > 70 else 'red'\n",
    "    return f\"background-color: {color}\"\n",
    "\n",
    "df.style.applymap(pass_condition)"
   ]
  }
 ],
 "metadata": {
  "kernelspec": {
   "display_name": "Python 3",
   "language": "python",
   "name": "python3"
  },
  "language_info": {
   "codemirror_mode": {
    "name": "ipython",
    "version": 3
   },
   "file_extension": ".py",
   "mimetype": "text/x-python",
   "name": "python",
   "nbconvert_exporter": "python",
   "pygments_lexer": "ipython3",
   "version": "3.7.12"
  },
  "papermill": {
   "default_parameters": {},
   "duration": 14.434705,
   "end_time": "2023-02-15T08:57:28.422857",
   "environment_variables": {},
   "exception": null,
   "input_path": "__notebook__.ipynb",
   "output_path": "__notebook__.ipynb",
   "parameters": {},
   "start_time": "2023-02-15T08:57:13.988152",
   "version": "2.3.4"
  }
 },
 "nbformat": 4,
 "nbformat_minor": 5
}
