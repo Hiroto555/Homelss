{
 "cells": [
  {
   "cell_type": "markdown",
   "id": "22caffcf",
   "metadata": {
    "papermill": {
     "duration": 0.027388,
     "end_time": "2023-01-26T20:46:41.788913",
     "exception": false,
     "start_time": "2023-01-26T20:46:41.761525",
     "status": "completed"
    },
    "tags": []
   },
   "source": [
    "<img src=https://news.airbnb.com/wp-content/uploads/sites/4/2020/04/Airbnb_Lockup_Over_Gradient.png width=\"1000\"/>"
   ]
  },
  {
   "cell_type": "markdown",
   "id": "906a34f2",
   "metadata": {
    "papermill": {
     "duration": 0.025805,
     "end_time": "2023-01-26T20:46:41.840649",
     "exception": false,
     "start_time": "2023-01-26T20:46:41.814844",
     "status": "completed"
    },
    "tags": []
   },
   "source": [
    "# 1. Summary\n",
    "***"
   ]
  },
  {
   "cell_type": "markdown",
   "id": "fc42cb99",
   "metadata": {
    "papermill": {
     "duration": 0.025354,
     "end_time": "2023-01-26T20:46:41.892182",
     "exception": false,
     "start_time": "2023-01-26T20:46:41.866828",
     "status": "completed"
    },
    "tags": []
   },
   "source": [
    "## Exploration\n",
    "1. **Mature listings** with the **highest number of reviews** in the last 12 months are mostly located near **tourist areas**, are hosted by **commericial entities**, have **'Private room'** room type and have **low minimum nights** while **mature listings** with the **lowest number of reviews** in the last 12 months are mostly located near **residential areas**, are hosted by **individuals**, have **'Entire home/apt'** room type and have **high minimum nights**.\n",
    "2. **Hosts who have mature listings** with the **highest number of reviews** in the last 12 months are mostly **commericial entities** while **hosts who have mature listings** with the **lowest number of reviews** in the last 12 months are mostly **individuals**.\n",
    "3. On median, **listings with higher prices or minimum nights** have **lower number of reviews** in the last 12 months.\n",
    "4. On median, **'Entire home/apt'** room types have the **highest number of reviews** in the last 12 months while **'Shared room'** room types have the **lowest number of reviews** in the last 12 months.\n",
    "5. On median, **listings without indicated licenses** have **higher number of reviews** in the last 12 months.\n",
    "\n",
    "Notes:\n",
    "* Mature listings are listings with number of reviews in total >= 10.\n",
    "\n",
    "## Modeling\n",
    "\n",
    "Logistic Regression Final Model:\n",
    "\n",
    "    number_of_reviews_ltm_greater48 = - 1.587977*(room_type_Shared room) - 2.403703*(price) - 4.740241*(minimum_nights)\n",
    "                \n",
    "With 100% precision and 94% recall, this model can classify if a listing has its number of reviews in the last 12 months < 48 (i.e. < 1 review per week); since a listing's number of reviews in total highly correlates with its number of reviews in the last 12 months, this model should also hold for its number of reviews in the next 12 months.\n",
    "* **Positive** features (increases the likelihood of a listing's total number of reviews in the last 12 months >= 48): None.\n",
    "* **Negative** features (decreases the likelihood of a listing's total number of reviews in the last 12 months < 48): Room type = 'Shared room', Price (USD) > 0 and Minimum nights > 0.\n",
    "* **Baseline** features (neutral): Room type = 'Entire home/apt'.\n",
    "\n",
    "## Recommendations\n",
    "1. If hosts who are individuals with 'Entire home/apt' room type listings or who have 'Shared room' room type listings need help getting more reviews (which should ultimately translate to more bookings/sales), advise them to lower their prices and/or number of minimum nights or change their listings' room type to 'Private room'.\n",
    "2. If hosts who have listings with indicated licenses need help getting more reviews (which should ultimately translate to more bookings/sales), advise them to remove their licensing information unless it's a legal requirement."
   ]
  },
  {
   "cell_type": "markdown",
   "id": "9bce4b16",
   "metadata": {
    "papermill": {
     "duration": 0.025005,
     "end_time": "2023-01-26T20:46:41.942487",
     "exception": false,
     "start_time": "2023-01-26T20:46:41.917482",
     "status": "completed"
    },
    "tags": []
   },
   "source": [
    "# 2. Introduction\n",
    "***"
   ]
  },
  {
   "cell_type": "markdown",
   "id": "e16d64ce",
   "metadata": {
    "papermill": {
     "duration": 0.025427,
     "end_time": "2023-01-26T20:46:41.993250",
     "exception": false,
     "start_time": "2023-01-26T20:46:41.967823",
     "status": "completed"
    },
    "tags": []
   },
   "source": [
    "## Purpose \n",
    "Analyze and model the dataset to find any insights\n",
    "\n",
    "## Data \n",
    "**Airbnb** listings data for all available USA entries from **Inside Airbnb** as of November 12, 2022; includes host name, room type, price, number of reviews, latitude, longitude, state, etc."
   ]
  },
  {
   "cell_type": "markdown",
   "id": "625223c4",
   "metadata": {
    "papermill": {
     "duration": 0.02501,
     "end_time": "2023-01-26T20:46:42.043297",
     "exception": false,
     "start_time": "2023-01-26T20:46:42.018287",
     "status": "completed"
    },
    "tags": []
   },
   "source": [
    "# 3. Collection\n",
    "***"
   ]
  },
  {
   "cell_type": "markdown",
   "id": "48836cdc",
   "metadata": {
    "papermill": {
     "duration": 0.024868,
     "end_time": "2023-01-26T20:46:42.093700",
     "exception": false,
     "start_time": "2023-01-26T20:46:42.068832",
     "status": "completed"
    },
    "tags": []
   },
   "source": [
    "## Libraries"
   ]
  },
  {
   "cell_type": "code",
   "execution_count": 1,
   "id": "af9a40bf",
   "metadata": {
    "execution": {
     "iopub.execute_input": "2023-01-26T20:46:42.146256Z",
     "iopub.status.busy": "2023-01-26T20:46:42.145812Z",
     "iopub.status.idle": "2023-01-26T20:46:43.693908Z",
     "shell.execute_reply": "2023-01-26T20:46:43.692599Z"
    },
    "papermill": {
     "duration": 1.57811,
     "end_time": "2023-01-26T20:46:43.696918",
     "exception": false,
     "start_time": "2023-01-26T20:46:42.118808",
     "status": "completed"
    },
    "tags": []
   },
   "outputs": [],
   "source": [
    "# General purpose\n",
    "import numpy as np\n",
    "import pandas as pd\n",
    "import seaborn as sns\n",
    "import matplotlib.pyplot as plt\n",
    "\n",
    "# General modeling\n",
    "from scipy import stats\n",
    "from sklearn.metrics import classification_report\n",
    "from sklearn.preprocessing import StandardScaler\n",
    "from sklearn.model_selection import KFold\n",
    "from sklearn.model_selection import train_test_split\n",
    "from sklearn.model_selection import GridSearchCV\n",
    "\n",
    "# Specific modeling: Regression Algorithms\n",
    "from sklearn.linear_model import LinearRegression\n",
    "from sklearn.linear_model import Ridge\n",
    "from sklearn.linear_model import Lasso\n",
    "from sklearn.neighbors import KNeighborsRegressor\n",
    "from sklearn.ensemble import RandomForestRegressor\n",
    "\n",
    "# Specific Modeling: Classification Algorithms\n",
    "from sklearn.linear_model import LogisticRegression\n",
    "from sklearn.neighbors import KNeighborsClassifier\n",
    "from sklearn.svm import SVC\n",
    "from sklearn.ensemble import RandomForestClassifier"
   ]
  },
  {
   "cell_type": "markdown",
   "id": "a36e9044",
   "metadata": {
    "papermill": {
     "duration": 0.025075,
     "end_time": "2023-01-26T20:46:43.750160",
     "exception": false,
     "start_time": "2023-01-26T20:46:43.725085",
     "status": "completed"
    },
    "tags": []
   },
   "source": [
    "## Data"
   ]
  },
  {
   "cell_type": "code",
   "execution_count": 2,
   "id": "6f588317",
   "metadata": {
    "execution": {
     "iopub.execute_input": "2023-01-26T20:46:43.806392Z",
     "iopub.status.busy": "2023-01-26T20:46:43.805568Z",
     "iopub.status.idle": "2023-01-26T20:46:46.211215Z",
     "shell.execute_reply": "2023-01-26T20:46:46.209439Z"
    },
    "papermill": {
     "duration": 2.436439,
     "end_time": "2023-01-26T20:46:46.214514",
     "exception": false,
     "start_time": "2023-01-26T20:46:43.778075",
     "status": "completed"
    },
    "tags": []
   },
   "outputs": [
    {
     "name": "stderr",
     "output_type": "stream",
     "text": [
      "/opt/conda/lib/python3.7/site-packages/IPython/core/interactiveshell.py:3552: DtypeWarning: Columns (5) have mixed types.Specify dtype option on import or set low_memory=False.\n",
      "  exec(code_obj, self.user_global_ns, self.user_ns)\n"
     ]
    },
    {
     "data": {
      "text/html": [
       "<div>\n",
       "<style scoped>\n",
       "    .dataframe tbody tr th:only-of-type {\n",
       "        vertical-align: middle;\n",
       "    }\n",
       "\n",
       "    .dataframe tbody tr th {\n",
       "        vertical-align: top;\n",
       "    }\n",
       "\n",
       "    .dataframe thead th {\n",
       "        text-align: right;\n",
       "    }\n",
       "</style>\n",
       "<table border=\"1\" class=\"dataframe\">\n",
       "  <thead>\n",
       "    <tr style=\"text-align: right;\">\n",
       "      <th></th>\n",
       "      <th>Unnamed: 0</th>\n",
       "      <th>id</th>\n",
       "      <th>name</th>\n",
       "      <th>host_id</th>\n",
       "      <th>host_name</th>\n",
       "      <th>neighbourhood_group</th>\n",
       "      <th>neighbourhood</th>\n",
       "      <th>latitude</th>\n",
       "      <th>longitude</th>\n",
       "      <th>room_type</th>\n",
       "      <th>...</th>\n",
       "      <th>minimum_nights</th>\n",
       "      <th>number_of_reviews</th>\n",
       "      <th>last_review</th>\n",
       "      <th>reviews_per_month</th>\n",
       "      <th>calculated_host_listings_count</th>\n",
       "      <th>availability_365</th>\n",
       "      <th>number_of_reviews_ltm</th>\n",
       "      <th>license</th>\n",
       "      <th>state</th>\n",
       "      <th>city</th>\n",
       "    </tr>\n",
       "  </thead>\n",
       "  <tbody>\n",
       "    <tr>\n",
       "      <th>0</th>\n",
       "      <td>0</td>\n",
       "      <td>183319</td>\n",
       "      <td>Panoramic Ocean View Venice Beach</td>\n",
       "      <td>867995</td>\n",
       "      <td>Barbara X</td>\n",
       "      <td>City of Los Angeles</td>\n",
       "      <td>Venice</td>\n",
       "      <td>33.99211</td>\n",
       "      <td>-118.47600</td>\n",
       "      <td>Entire home/apt</td>\n",
       "      <td>...</td>\n",
       "      <td>30</td>\n",
       "      <td>3</td>\n",
       "      <td>2019-02-25</td>\n",
       "      <td>0.02</td>\n",
       "      <td>2</td>\n",
       "      <td>0</td>\n",
       "      <td>0</td>\n",
       "      <td>NaN</td>\n",
       "      <td>CA</td>\n",
       "      <td>Los Angeles</td>\n",
       "    </tr>\n",
       "    <tr>\n",
       "      <th>1</th>\n",
       "      <td>1</td>\n",
       "      <td>109</td>\n",
       "      <td>Amazing bright elegant condo park front *UPGRA...</td>\n",
       "      <td>521</td>\n",
       "      <td>Paolo</td>\n",
       "      <td>Other Cities</td>\n",
       "      <td>Culver City</td>\n",
       "      <td>33.98301</td>\n",
       "      <td>-118.38607</td>\n",
       "      <td>Entire home/apt</td>\n",
       "      <td>...</td>\n",
       "      <td>30</td>\n",
       "      <td>2</td>\n",
       "      <td>2016-05-15</td>\n",
       "      <td>0.01</td>\n",
       "      <td>1</td>\n",
       "      <td>139</td>\n",
       "      <td>0</td>\n",
       "      <td>NaN</td>\n",
       "      <td>CA</td>\n",
       "      <td>Los Angeles</td>\n",
       "    </tr>\n",
       "    <tr>\n",
       "      <th>2</th>\n",
       "      <td>2</td>\n",
       "      <td>51307</td>\n",
       "      <td>Spanish Bungalow Guest House LA CA. 30 plus ni...</td>\n",
       "      <td>235568</td>\n",
       "      <td>David</td>\n",
       "      <td>City of Los Angeles</td>\n",
       "      <td>Atwater Village</td>\n",
       "      <td>34.12206</td>\n",
       "      <td>-118.26783</td>\n",
       "      <td>Entire home/apt</td>\n",
       "      <td>...</td>\n",
       "      <td>30</td>\n",
       "      <td>138</td>\n",
       "      <td>2020-12-13</td>\n",
       "      <td>0.98</td>\n",
       "      <td>2</td>\n",
       "      <td>224</td>\n",
       "      <td>0</td>\n",
       "      <td>NaN</td>\n",
       "      <td>CA</td>\n",
       "      <td>Los Angeles</td>\n",
       "    </tr>\n",
       "    <tr>\n",
       "      <th>3</th>\n",
       "      <td>3</td>\n",
       "      <td>184314</td>\n",
       "      <td>Boho Chic Flat..Steps to Beach!</td>\n",
       "      <td>884031</td>\n",
       "      <td>Ashley</td>\n",
       "      <td>City of Los Angeles</td>\n",
       "      <td>Venice</td>\n",
       "      <td>33.97487</td>\n",
       "      <td>-118.46312</td>\n",
       "      <td>Entire home/apt</td>\n",
       "      <td>...</td>\n",
       "      <td>30</td>\n",
       "      <td>30</td>\n",
       "      <td>2017-12-24</td>\n",
       "      <td>0.22</td>\n",
       "      <td>1</td>\n",
       "      <td>0</td>\n",
       "      <td>0</td>\n",
       "      <td>NaN</td>\n",
       "      <td>CA</td>\n",
       "      <td>Los Angeles</td>\n",
       "    </tr>\n",
       "    <tr>\n",
       "      <th>4</th>\n",
       "      <td>4</td>\n",
       "      <td>51498</td>\n",
       "      <td>Guest House With Its Own Entrance/Exit and Hot...</td>\n",
       "      <td>236758</td>\n",
       "      <td>Bay</td>\n",
       "      <td>City of Los Angeles</td>\n",
       "      <td>Mar Vista</td>\n",
       "      <td>34.00389</td>\n",
       "      <td>-118.44126</td>\n",
       "      <td>Entire home/apt</td>\n",
       "      <td>...</td>\n",
       "      <td>3</td>\n",
       "      <td>378</td>\n",
       "      <td>2022-08-21</td>\n",
       "      <td>2.60</td>\n",
       "      <td>1</td>\n",
       "      <td>348</td>\n",
       "      <td>41</td>\n",
       "      <td>HSR19-001336</td>\n",
       "      <td>CA</td>\n",
       "      <td>Los Angeles</td>\n",
       "    </tr>\n",
       "  </tbody>\n",
       "</table>\n",
       "<p>5 rows × 21 columns</p>\n",
       "</div>"
      ],
      "text/plain": [
       "   Unnamed: 0      id                                               name  \\\n",
       "0           0  183319                  Panoramic Ocean View Venice Beach   \n",
       "1           1     109  Amazing bright elegant condo park front *UPGRA...   \n",
       "2           2   51307  Spanish Bungalow Guest House LA CA. 30 plus ni...   \n",
       "3           3  184314                    Boho Chic Flat..Steps to Beach!   \n",
       "4           4   51498  Guest House With Its Own Entrance/Exit and Hot...   \n",
       "\n",
       "   host_id  host_name  neighbourhood_group    neighbourhood  latitude  \\\n",
       "0   867995  Barbara X  City of Los Angeles           Venice  33.99211   \n",
       "1      521      Paolo         Other Cities      Culver City  33.98301   \n",
       "2   235568      David  City of Los Angeles  Atwater Village  34.12206   \n",
       "3   884031     Ashley  City of Los Angeles           Venice  33.97487   \n",
       "4   236758        Bay  City of Los Angeles        Mar Vista  34.00389   \n",
       "\n",
       "   longitude        room_type  ...  minimum_nights  number_of_reviews  \\\n",
       "0 -118.47600  Entire home/apt  ...              30                  3   \n",
       "1 -118.38607  Entire home/apt  ...              30                  2   \n",
       "2 -118.26783  Entire home/apt  ...              30                138   \n",
       "3 -118.46312  Entire home/apt  ...              30                 30   \n",
       "4 -118.44126  Entire home/apt  ...               3                378   \n",
       "\n",
       "   last_review reviews_per_month  calculated_host_listings_count  \\\n",
       "0   2019-02-25              0.02                               2   \n",
       "1   2016-05-15              0.01                               1   \n",
       "2   2020-12-13              0.98                               2   \n",
       "3   2017-12-24              0.22                               1   \n",
       "4   2022-08-21              2.60                               1   \n",
       "\n",
       "   availability_365  number_of_reviews_ltm       license state         city  \n",
       "0                 0                      0           NaN    CA  Los Angeles  \n",
       "1               139                      0           NaN    CA  Los Angeles  \n",
       "2               224                      0           NaN    CA  Los Angeles  \n",
       "3                 0                      0           NaN    CA  Los Angeles  \n",
       "4               348                     41  HSR19-001336    CA  Los Angeles  \n",
       "\n",
       "[5 rows x 21 columns]"
      ]
     },
     "execution_count": 2,
     "metadata": {},
     "output_type": "execute_result"
    }
   ],
   "source": [
    "# Read then view\n",
    "airbnb_usa = pd.read_csv('../input/airbnb-listings-usa/airbnb_listings_usa.csv')\n",
    "\n",
    "airbnb_usa.head(5)"
   ]
  },
  {
   "cell_type": "code",
   "execution_count": 3,
   "id": "bc25ae34",
   "metadata": {
    "execution": {
     "iopub.execute_input": "2023-01-26T20:46:46.267700Z",
     "iopub.status.busy": "2023-01-26T20:46:46.266905Z",
     "iopub.status.idle": "2023-01-26T20:46:46.445923Z",
     "shell.execute_reply": "2023-01-26T20:46:46.444769Z"
    },
    "papermill": {
     "duration": 0.208291,
     "end_time": "2023-01-26T20:46:46.448365",
     "exception": false,
     "start_time": "2023-01-26T20:46:46.240074",
     "status": "completed"
    },
    "tags": []
   },
   "outputs": [
    {
     "data": {
      "text/html": [
       "<div>\n",
       "<style scoped>\n",
       "    .dataframe tbody tr th:only-of-type {\n",
       "        vertical-align: middle;\n",
       "    }\n",
       "\n",
       "    .dataframe tbody tr th {\n",
       "        vertical-align: top;\n",
       "    }\n",
       "\n",
       "    .dataframe thead th {\n",
       "        text-align: right;\n",
       "    }\n",
       "</style>\n",
       "<table border=\"1\" class=\"dataframe\">\n",
       "  <thead>\n",
       "    <tr style=\"text-align: right;\">\n",
       "      <th></th>\n",
       "      <th>Unnamed: 0</th>\n",
       "      <th>id</th>\n",
       "      <th>host_id</th>\n",
       "      <th>latitude</th>\n",
       "      <th>longitude</th>\n",
       "      <th>price</th>\n",
       "      <th>minimum_nights</th>\n",
       "      <th>number_of_reviews</th>\n",
       "      <th>reviews_per_month</th>\n",
       "      <th>calculated_host_listings_count</th>\n",
       "      <th>availability_365</th>\n",
       "      <th>number_of_reviews_ltm</th>\n",
       "    </tr>\n",
       "  </thead>\n",
       "  <tbody>\n",
       "    <tr>\n",
       "      <th>count</th>\n",
       "      <td>325858.000000</td>\n",
       "      <td>3.258580e+05</td>\n",
       "      <td>3.258580e+05</td>\n",
       "      <td>325858.000000</td>\n",
       "      <td>325858.000000</td>\n",
       "      <td>325858.000000</td>\n",
       "      <td>325858.000000</td>\n",
       "      <td>325858.000000</td>\n",
       "      <td>263166.00000</td>\n",
       "      <td>325858.000000</td>\n",
       "      <td>325858.000000</td>\n",
       "      <td>325858.000000</td>\n",
       "    </tr>\n",
       "    <tr>\n",
       "      <th>mean</th>\n",
       "      <td>162928.500000</td>\n",
       "      <td>1.541106e+17</td>\n",
       "      <td>1.446528e+08</td>\n",
       "      <td>34.676058</td>\n",
       "      <td>-106.354815</td>\n",
       "      <td>284.915304</td>\n",
       "      <td>13.430175</td>\n",
       "      <td>39.457850</td>\n",
       "      <td>1.69220</td>\n",
       "      <td>27.108900</td>\n",
       "      <td>182.361099</td>\n",
       "      <td>11.889817</td>\n",
       "    </tr>\n",
       "    <tr>\n",
       "      <th>std</th>\n",
       "      <td>94067.246346</td>\n",
       "      <td>2.736013e+17</td>\n",
       "      <td>1.449951e+08</td>\n",
       "      <td>6.213029</td>\n",
       "      <td>24.176674</td>\n",
       "      <td>835.569711</td>\n",
       "      <td>28.783033</td>\n",
       "      <td>75.724832</td>\n",
       "      <td>2.01294</td>\n",
       "      <td>79.983052</td>\n",
       "      <td>134.095115</td>\n",
       "      <td>20.672830</td>\n",
       "    </tr>\n",
       "    <tr>\n",
       "      <th>min</th>\n",
       "      <td>0.000000</td>\n",
       "      <td>1.090000e+02</td>\n",
       "      <td>2.300000e+01</td>\n",
       "      <td>18.920250</td>\n",
       "      <td>-159.714620</td>\n",
       "      <td>0.000000</td>\n",
       "      <td>1.000000</td>\n",
       "      <td>0.000000</td>\n",
       "      <td>0.01000</td>\n",
       "      <td>1.000000</td>\n",
       "      <td>0.000000</td>\n",
       "      <td>0.000000</td>\n",
       "    </tr>\n",
       "    <tr>\n",
       "      <th>25%</th>\n",
       "      <td>81464.250000</td>\n",
       "      <td>2.394619e+07</td>\n",
       "      <td>2.311836e+07</td>\n",
       "      <td>32.775202</td>\n",
       "      <td>-118.410259</td>\n",
       "      <td>97.000000</td>\n",
       "      <td>2.000000</td>\n",
       "      <td>1.000000</td>\n",
       "      <td>0.33000</td>\n",
       "      <td>1.000000</td>\n",
       "      <td>55.000000</td>\n",
       "      <td>0.000000</td>\n",
       "    </tr>\n",
       "    <tr>\n",
       "      <th>50%</th>\n",
       "      <td>162928.500000</td>\n",
       "      <td>4.511097e+07</td>\n",
       "      <td>9.320864e+07</td>\n",
       "      <td>34.102360</td>\n",
       "      <td>-117.131590</td>\n",
       "      <td>159.000000</td>\n",
       "      <td>3.000000</td>\n",
       "      <td>9.000000</td>\n",
       "      <td>1.01000</td>\n",
       "      <td>2.000000</td>\n",
       "      <td>174.000000</td>\n",
       "      <td>3.000000</td>\n",
       "    </tr>\n",
       "    <tr>\n",
       "      <th>75%</th>\n",
       "      <td>244392.750000</td>\n",
       "      <td>5.420558e+07</td>\n",
       "      <td>2.388338e+08</td>\n",
       "      <td>39.948015</td>\n",
       "      <td>-82.549423</td>\n",
       "      <td>275.000000</td>\n",
       "      <td>30.000000</td>\n",
       "      <td>42.000000</td>\n",
       "      <td>2.49000</td>\n",
       "      <td>12.000000</td>\n",
       "      <td>322.000000</td>\n",
       "      <td>16.000000</td>\n",
       "    </tr>\n",
       "    <tr>\n",
       "      <th>max</th>\n",
       "      <td>325857.000000</td>\n",
       "      <td>7.251653e+17</td>\n",
       "      <td>4.810023e+08</td>\n",
       "      <td>47.748000</td>\n",
       "      <td>-70.913250</td>\n",
       "      <td>100000.000000</td>\n",
       "      <td>1250.000000</td>\n",
       "      <td>2600.000000</td>\n",
       "      <td>190.48000</td>\n",
       "      <td>660.000000</td>\n",
       "      <td>365.000000</td>\n",
       "      <td>1284.000000</td>\n",
       "    </tr>\n",
       "  </tbody>\n",
       "</table>\n",
       "</div>"
      ],
      "text/plain": [
       "          Unnamed: 0            id       host_id       latitude  \\\n",
       "count  325858.000000  3.258580e+05  3.258580e+05  325858.000000   \n",
       "mean   162928.500000  1.541106e+17  1.446528e+08      34.676058   \n",
       "std     94067.246346  2.736013e+17  1.449951e+08       6.213029   \n",
       "min         0.000000  1.090000e+02  2.300000e+01      18.920250   \n",
       "25%     81464.250000  2.394619e+07  2.311836e+07      32.775202   \n",
       "50%    162928.500000  4.511097e+07  9.320864e+07      34.102360   \n",
       "75%    244392.750000  5.420558e+07  2.388338e+08      39.948015   \n",
       "max    325857.000000  7.251653e+17  4.810023e+08      47.748000   \n",
       "\n",
       "           longitude          price  minimum_nights  number_of_reviews  \\\n",
       "count  325858.000000  325858.000000   325858.000000      325858.000000   \n",
       "mean     -106.354815     284.915304       13.430175          39.457850   \n",
       "std        24.176674     835.569711       28.783033          75.724832   \n",
       "min      -159.714620       0.000000        1.000000           0.000000   \n",
       "25%      -118.410259      97.000000        2.000000           1.000000   \n",
       "50%      -117.131590     159.000000        3.000000           9.000000   \n",
       "75%       -82.549423     275.000000       30.000000          42.000000   \n",
       "max       -70.913250  100000.000000     1250.000000        2600.000000   \n",
       "\n",
       "       reviews_per_month  calculated_host_listings_count  availability_365  \\\n",
       "count       263166.00000                   325858.000000     325858.000000   \n",
       "mean             1.69220                       27.108900        182.361099   \n",
       "std              2.01294                       79.983052        134.095115   \n",
       "min              0.01000                        1.000000          0.000000   \n",
       "25%              0.33000                        1.000000         55.000000   \n",
       "50%              1.01000                        2.000000        174.000000   \n",
       "75%              2.49000                       12.000000        322.000000   \n",
       "max            190.48000                      660.000000        365.000000   \n",
       "\n",
       "       number_of_reviews_ltm  \n",
       "count          325858.000000  \n",
       "mean               11.889817  \n",
       "std                20.672830  \n",
       "min                 0.000000  \n",
       "25%                 0.000000  \n",
       "50%                 3.000000  \n",
       "75%                16.000000  \n",
       "max              1284.000000  "
      ]
     },
     "execution_count": 3,
     "metadata": {},
     "output_type": "execute_result"
    }
   ],
   "source": [
    "# View its summary statistics for numerical fields\n",
    "airbnb_usa.describe()"
   ]
  },
  {
   "cell_type": "code",
   "execution_count": 4,
   "id": "3f2cd228",
   "metadata": {
    "execution": {
     "iopub.execute_input": "2023-01-26T20:46:46.500543Z",
     "iopub.status.busy": "2023-01-26T20:46:46.500161Z",
     "iopub.status.idle": "2023-01-26T20:46:47.319808Z",
     "shell.execute_reply": "2023-01-26T20:46:47.318587Z"
    },
    "papermill": {
     "duration": 0.848556,
     "end_time": "2023-01-26T20:46:47.322276",
     "exception": false,
     "start_time": "2023-01-26T20:46:46.473720",
     "status": "completed"
    },
    "tags": []
   },
   "outputs": [
    {
     "data": {
      "text/html": [
       "<div>\n",
       "<style scoped>\n",
       "    .dataframe tbody tr th:only-of-type {\n",
       "        vertical-align: middle;\n",
       "    }\n",
       "\n",
       "    .dataframe tbody tr th {\n",
       "        vertical-align: top;\n",
       "    }\n",
       "\n",
       "    .dataframe thead th {\n",
       "        text-align: right;\n",
       "    }\n",
       "</style>\n",
       "<table border=\"1\" class=\"dataframe\">\n",
       "  <thead>\n",
       "    <tr style=\"text-align: right;\">\n",
       "      <th></th>\n",
       "      <th>name</th>\n",
       "      <th>host_name</th>\n",
       "      <th>neighbourhood_group</th>\n",
       "      <th>neighbourhood</th>\n",
       "      <th>room_type</th>\n",
       "      <th>last_review</th>\n",
       "      <th>license</th>\n",
       "      <th>state</th>\n",
       "      <th>city</th>\n",
       "    </tr>\n",
       "  </thead>\n",
       "  <tbody>\n",
       "    <tr>\n",
       "      <th>count</th>\n",
       "      <td>325839</td>\n",
       "      <td>324714</td>\n",
       "      <td>155047</td>\n",
       "      <td>325146</td>\n",
       "      <td>325858</td>\n",
       "      <td>263166</td>\n",
       "      <td>86635</td>\n",
       "      <td>325858</td>\n",
       "      <td>325858</td>\n",
       "    </tr>\n",
       "    <tr>\n",
       "      <th>unique</th>\n",
       "      <td>264019</td>\n",
       "      <td>33120</td>\n",
       "      <td>34</td>\n",
       "      <td>1575</td>\n",
       "      <td>4</td>\n",
       "      <td>2965</td>\n",
       "      <td>48064</td>\n",
       "      <td>19</td>\n",
       "      <td>31</td>\n",
       "    </tr>\n",
       "    <tr>\n",
       "      <th>top</th>\n",
       "      <td>Boutique Hostel</td>\n",
       "      <td>Blueground</td>\n",
       "      <td>City of Los Angeles</td>\n",
       "      <td>Unincorporated Areas</td>\n",
       "      <td>Entire home/apt</td>\n",
       "      <td>2022-09-05</td>\n",
       "      <td>Exempt</td>\n",
       "      <td>CA</td>\n",
       "      <td>Los Angeles</td>\n",
       "    </tr>\n",
       "    <tr>\n",
       "      <th>freq</th>\n",
       "      <td>152</td>\n",
       "      <td>4876</td>\n",
       "      <td>39002</td>\n",
       "      <td>13400</td>\n",
       "      <td>243098</td>\n",
       "      <td>13190</td>\n",
       "      <td>6603</td>\n",
       "      <td>127329</td>\n",
       "      <td>91630</td>\n",
       "    </tr>\n",
       "  </tbody>\n",
       "</table>\n",
       "</div>"
      ],
      "text/plain": [
       "                   name   host_name  neighbourhood_group  \\\n",
       "count            325839      324714               155047   \n",
       "unique           264019       33120                   34   \n",
       "top     Boutique Hostel  Blueground  City of Los Angeles   \n",
       "freq                152        4876                39002   \n",
       "\n",
       "               neighbourhood        room_type last_review license   state  \\\n",
       "count                 325146           325858      263166   86635  325858   \n",
       "unique                  1575                4        2965   48064      19   \n",
       "top     Unincorporated Areas  Entire home/apt  2022-09-05  Exempt      CA   \n",
       "freq                   13400           243098       13190    6603  127329   \n",
       "\n",
       "               city  \n",
       "count        325858  \n",
       "unique           31  \n",
       "top     Los Angeles  \n",
       "freq          91630  "
      ]
     },
     "execution_count": 4,
     "metadata": {},
     "output_type": "execute_result"
    }
   ],
   "source": [
    "# View its summary statistics for string fields\n",
    "airbnb_usa.drop(airbnb_usa.describe(), axis='columns').describe()"
   ]
  },
  {
   "cell_type": "markdown",
   "id": "e2c1dbc5",
   "metadata": {
    "papermill": {
     "duration": 0.025471,
     "end_time": "2023-01-26T20:46:47.373563",
     "exception": false,
     "start_time": "2023-01-26T20:46:47.348092",
     "status": "completed"
    },
    "tags": []
   },
   "source": [
    "Notes:\n",
    "* **Unnamed: 0** is a generic row id (no inherent value)\n",
    "* **id** and **host_id** aren't sequential (could have some inherent value)\n",
    "* **price** has a minimum value of 0 (could be erroneous or an inactive listing) and a very high maximum value of 100,000 (could be erroneous or not for a single night's stay); all its values appear to be in USD\n",
    "* **minimum_nights** , **number_of_reviews**, **reviews_per_month**, **calculated_host_listings_count** and **number_of_reviews_ltm** have very high maximum values (potential outliers)\n",
    "* **name** can have repeated values (potential duplication)\n",
    "* **host_name** can be commericial entities (e.g. 'Blueground')\n",
    "* **neighbourhood_group** is about 50% **null** and has about 20% of its value as 'City of Los Angeles' (could be useless)\n",
    "* **room_type** is about 75% 'Entire home/apt' (could skew a model if not accounted for)\n",
    "* **last_review** is in YYYY-MM-DD format\n",
    "* **license** is about 75% **null**\n",
    "* **state** has about 50% of its value as 'CA' and **city** has about 25% of its value as 'Los Angeles' (could skew a model if not accounted for)\n",
    "\n",
    "Since **Unnamed: 0** is a generic row id, let's drop it."
   ]
  },
  {
   "cell_type": "code",
   "execution_count": 5,
   "id": "1e8ada3d",
   "metadata": {
    "execution": {
     "iopub.execute_input": "2023-01-26T20:46:47.428915Z",
     "iopub.status.busy": "2023-01-26T20:46:47.427652Z",
     "iopub.status.idle": "2023-01-26T20:46:47.468185Z",
     "shell.execute_reply": "2023-01-26T20:46:47.466962Z"
    },
    "papermill": {
     "duration": 0.070955,
     "end_time": "2023-01-26T20:46:47.470971",
     "exception": false,
     "start_time": "2023-01-26T20:46:47.400016",
     "status": "completed"
    },
    "tags": []
   },
   "outputs": [],
   "source": [
    "airbnb_usa.drop('Unnamed: 0', axis='columns', inplace=True)"
   ]
  },
  {
   "cell_type": "markdown",
   "id": "7c49a21d",
   "metadata": {
    "papermill": {
     "duration": 0.025598,
     "end_time": "2023-01-26T20:46:47.523042",
     "exception": false,
     "start_time": "2023-01-26T20:46:47.497444",
     "status": "completed"
    },
    "tags": []
   },
   "source": [
    "# 4. Preparation\n",
    "***"
   ]
  },
  {
   "cell_type": "markdown",
   "id": "0eb5170e",
   "metadata": {
    "papermill": {
     "duration": 0.027978,
     "end_time": "2023-01-26T20:46:47.577120",
     "exception": false,
     "start_time": "2023-01-26T20:46:47.549142",
     "status": "completed"
    },
    "tags": []
   },
   "source": [
    "## Duplication"
   ]
  },
  {
   "cell_type": "code",
   "execution_count": 6,
   "id": "e9fd40b3",
   "metadata": {
    "execution": {
     "iopub.execute_input": "2023-01-26T20:46:47.630888Z",
     "iopub.status.busy": "2023-01-26T20:46:47.630453Z",
     "iopub.status.idle": "2023-01-26T20:46:49.104666Z",
     "shell.execute_reply": "2023-01-26T20:46:49.102858Z"
    },
    "papermill": {
     "duration": 1.506367,
     "end_time": "2023-01-26T20:46:49.109153",
     "exception": false,
     "start_time": "2023-01-26T20:46:47.602786",
     "status": "completed"
    },
    "tags": []
   },
   "outputs": [
    {
     "name": "stdout",
     "output_type": "stream",
     "text": [
      "Duplication (%): 14.059805191218262 \n",
      "Duplication (%) without id: 14.076990590993622\n"
     ]
    }
   ],
   "source": [
    "print('Duplication (%):', 100*(len(airbnb_usa) - len(airbnb_usa.drop_duplicates()))/len(airbnb_usa),\n",
    "      '\\nDuplication (%) without id:', \n",
    "      100*(len(airbnb_usa.drop('id', axis='columns')) - \n",
    "           len(airbnb_usa.drop('id', axis='columns').drop_duplicates())) / \n",
    "              len(airbnb_usa.drop('id', axis='columns')))"
   ]
  },
  {
   "cell_type": "markdown",
   "id": "9f24b140",
   "metadata": {
    "papermill": {
     "duration": 0.025923,
     "end_time": "2023-01-26T20:46:49.162919",
     "exception": false,
     "start_time": "2023-01-26T20:46:49.136996",
     "status": "completed"
    },
    "tags": []
   },
   "source": [
    "Let's drop all duplication with and without **id**."
   ]
  },
  {
   "cell_type": "code",
   "execution_count": 7,
   "id": "b7508de6",
   "metadata": {
    "execution": {
     "iopub.execute_input": "2023-01-26T20:46:49.216075Z",
     "iopub.status.busy": "2023-01-26T20:46:49.215686Z",
     "iopub.status.idle": "2023-01-26T20:46:50.006534Z",
     "shell.execute_reply": "2023-01-26T20:46:50.005200Z"
    },
    "papermill": {
     "duration": 0.82075,
     "end_time": "2023-01-26T20:46:50.009413",
     "exception": false,
     "start_time": "2023-01-26T20:46:49.188663",
     "status": "completed"
    },
    "tags": []
   },
   "outputs": [],
   "source": [
    "airbnb_usa.drop_duplicates(inplace=True)\n",
    "airbnb_usa.drop_duplicates(subset='name', inplace=True)"
   ]
  },
  {
   "cell_type": "markdown",
   "id": "2cec61b1",
   "metadata": {
    "papermill": {
     "duration": 0.025827,
     "end_time": "2023-01-26T20:46:50.061205",
     "exception": false,
     "start_time": "2023-01-26T20:46:50.035378",
     "status": "completed"
    },
    "tags": []
   },
   "source": [
    "## Data types"
   ]
  },
  {
   "cell_type": "code",
   "execution_count": 8,
   "id": "9f7b6018",
   "metadata": {
    "execution": {
     "iopub.execute_input": "2023-01-26T20:46:50.115776Z",
     "iopub.status.busy": "2023-01-26T20:46:50.114791Z",
     "iopub.status.idle": "2023-01-26T20:46:50.235000Z",
     "shell.execute_reply": "2023-01-26T20:46:50.233768Z"
    },
    "papermill": {
     "duration": 0.149932,
     "end_time": "2023-01-26T20:46:50.237570",
     "exception": false,
     "start_time": "2023-01-26T20:46:50.087638",
     "status": "completed"
    },
    "tags": []
   },
   "outputs": [
    {
     "name": "stdout",
     "output_type": "stream",
     "text": [
      "<class 'pandas.core.frame.DataFrame'>\n",
      "Int64Index: 264020 entries, 0 to 325857\n",
      "Data columns (total 20 columns):\n",
      " #   Column                          Non-Null Count   Dtype  \n",
      "---  ------                          --------------   -----  \n",
      " 0   id                              264020 non-null  int64  \n",
      " 1   name                            264019 non-null  object \n",
      " 2   host_id                         264020 non-null  int64  \n",
      " 3   host_name                       263481 non-null  object \n",
      " 4   neighbourhood_group             111270 non-null  object \n",
      " 5   neighbourhood                   263322 non-null  object \n",
      " 6   latitude                        264020 non-null  float64\n",
      " 7   longitude                       264020 non-null  float64\n",
      " 8   room_type                       264020 non-null  object \n",
      " 9   price                           264020 non-null  int64  \n",
      " 10  minimum_nights                  264020 non-null  int64  \n",
      " 11  number_of_reviews               264020 non-null  int64  \n",
      " 12  last_review                     217819 non-null  object \n",
      " 13  reviews_per_month               217819 non-null  float64\n",
      " 14  calculated_host_listings_count  264020 non-null  int64  \n",
      " 15  availability_365                264020 non-null  int64  \n",
      " 16  number_of_reviews_ltm           264020 non-null  int64  \n",
      " 17  license                         70312 non-null   object \n",
      " 18  state                           264020 non-null  object \n",
      " 19  city                            264020 non-null  object \n",
      "dtypes: float64(3), int64(8), object(9)\n",
      "memory usage: 42.3+ MB\n"
     ]
    }
   ],
   "source": [
    "airbnb_usa.info()"
   ]
  },
  {
   "cell_type": "markdown",
   "id": "4c06e5f3",
   "metadata": {
    "papermill": {
     "duration": 0.025552,
     "end_time": "2023-01-26T20:46:50.289780",
     "exception": false,
     "start_time": "2023-01-26T20:46:50.264228",
     "status": "completed"
    },
    "tags": []
   },
   "source": [
    "Let's convert:\n",
    "* string: **name**, **host_name**, **license**\n",
    "* category: **neighbourhood_group**, **neighbourhood**, **room_type**, **state**, **city**\n",
    "* datetime: **last_review**"
   ]
  },
  {
   "cell_type": "code",
   "execution_count": 9,
   "id": "21b4a53c",
   "metadata": {
    "execution": {
     "iopub.execute_input": "2023-01-26T20:46:50.343638Z",
     "iopub.status.busy": "2023-01-26T20:46:50.343199Z",
     "iopub.status.idle": "2023-01-26T20:46:50.548463Z",
     "shell.execute_reply": "2023-01-26T20:46:50.547549Z"
    },
    "papermill": {
     "duration": 0.23502,
     "end_time": "2023-01-26T20:46:50.551104",
     "exception": false,
     "start_time": "2023-01-26T20:46:50.316084",
     "status": "completed"
    },
    "tags": []
   },
   "outputs": [],
   "source": [
    "airbnb_usa = airbnb_usa.astype({'name': 'string', 'host_name': 'string', 'license': 'string', \n",
    "                                'neighbourhood_group': 'category', 'neighbourhood': 'category', \n",
    "                                'room_type': 'category', 'state': 'category', 'city': 'category'})\n",
    "\n",
    "airbnb_usa['last_review'] = pd.to_datetime(airbnb_usa['last_review'])"
   ]
  },
  {
   "cell_type": "markdown",
   "id": "7aa490dc",
   "metadata": {
    "papermill": {
     "duration": 0.025534,
     "end_time": "2023-01-26T20:46:50.603253",
     "exception": false,
     "start_time": "2023-01-26T20:46:50.577719",
     "status": "completed"
    },
    "tags": []
   },
   "source": [
    "## Numerical fields ranges and formats"
   ]
  },
  {
   "cell_type": "code",
   "execution_count": 10,
   "id": "24340de3",
   "metadata": {
    "execution": {
     "iopub.execute_input": "2023-01-26T20:46:50.657378Z",
     "iopub.status.busy": "2023-01-26T20:46:50.656147Z",
     "iopub.status.idle": "2023-01-26T20:46:50.816719Z",
     "shell.execute_reply": "2023-01-26T20:46:50.815454Z"
    },
    "papermill": {
     "duration": 0.190163,
     "end_time": "2023-01-26T20:46:50.819245",
     "exception": false,
     "start_time": "2023-01-26T20:46:50.629082",
     "status": "completed"
    },
    "tags": []
   },
   "outputs": [
    {
     "data": {
      "text/html": [
       "<div>\n",
       "<style scoped>\n",
       "    .dataframe tbody tr th:only-of-type {\n",
       "        vertical-align: middle;\n",
       "    }\n",
       "\n",
       "    .dataframe tbody tr th {\n",
       "        vertical-align: top;\n",
       "    }\n",
       "\n",
       "    .dataframe thead th {\n",
       "        text-align: right;\n",
       "    }\n",
       "</style>\n",
       "<table border=\"1\" class=\"dataframe\">\n",
       "  <thead>\n",
       "    <tr style=\"text-align: right;\">\n",
       "      <th></th>\n",
       "      <th>id</th>\n",
       "      <th>host_id</th>\n",
       "      <th>latitude</th>\n",
       "      <th>longitude</th>\n",
       "      <th>price</th>\n",
       "      <th>minimum_nights</th>\n",
       "      <th>number_of_reviews</th>\n",
       "      <th>reviews_per_month</th>\n",
       "      <th>calculated_host_listings_count</th>\n",
       "      <th>availability_365</th>\n",
       "      <th>number_of_reviews_ltm</th>\n",
       "    </tr>\n",
       "  </thead>\n",
       "  <tbody>\n",
       "    <tr>\n",
       "      <th>count</th>\n",
       "      <td>2.640200e+05</td>\n",
       "      <td>2.640200e+05</td>\n",
       "      <td>264020.000000</td>\n",
       "      <td>264020.000000</td>\n",
       "      <td>264020.000000</td>\n",
       "      <td>264020.000000</td>\n",
       "      <td>264020.000000</td>\n",
       "      <td>217819.000000</td>\n",
       "      <td>264020.000000</td>\n",
       "      <td>264020.000000</td>\n",
       "      <td>264020.000000</td>\n",
       "    </tr>\n",
       "    <tr>\n",
       "      <th>mean</th>\n",
       "      <td>1.492197e+17</td>\n",
       "      <td>1.418405e+08</td>\n",
       "      <td>34.669666</td>\n",
       "      <td>-104.767481</td>\n",
       "      <td>282.903379</td>\n",
       "      <td>12.501814</td>\n",
       "      <td>41.047443</td>\n",
       "      <td>1.718892</td>\n",
       "      <td>23.560302</td>\n",
       "      <td>179.672120</td>\n",
       "      <td>12.480816</td>\n",
       "    </tr>\n",
       "    <tr>\n",
       "      <th>std</th>\n",
       "      <td>2.702577e+17</td>\n",
       "      <td>1.440900e+08</td>\n",
       "      <td>6.707990</td>\n",
       "      <td>25.491072</td>\n",
       "      <td>836.681107</td>\n",
       "      <td>28.361691</td>\n",
       "      <td>76.628480</td>\n",
       "      <td>2.011747</td>\n",
       "      <td>69.992886</td>\n",
       "      <td>132.877778</td>\n",
       "      <td>20.717269</td>\n",
       "    </tr>\n",
       "    <tr>\n",
       "      <th>min</th>\n",
       "      <td>1.090000e+02</td>\n",
       "      <td>2.300000e+01</td>\n",
       "      <td>18.920250</td>\n",
       "      <td>-159.714620</td>\n",
       "      <td>0.000000</td>\n",
       "      <td>1.000000</td>\n",
       "      <td>0.000000</td>\n",
       "      <td>0.010000</td>\n",
       "      <td>1.000000</td>\n",
       "      <td>0.000000</td>\n",
       "      <td>0.000000</td>\n",
       "    </tr>\n",
       "    <tr>\n",
       "      <th>25%</th>\n",
       "      <td>2.348756e+07</td>\n",
       "      <td>2.253885e+07</td>\n",
       "      <td>30.475710</td>\n",
       "      <td>-118.426347</td>\n",
       "      <td>97.000000</td>\n",
       "      <td>2.000000</td>\n",
       "      <td>1.000000</td>\n",
       "      <td>0.350000</td>\n",
       "      <td>1.000000</td>\n",
       "      <td>53.000000</td>\n",
       "      <td>0.000000</td>\n",
       "    </tr>\n",
       "    <tr>\n",
       "      <th>50%</th>\n",
       "      <td>4.433749e+07</td>\n",
       "      <td>8.778981e+07</td>\n",
       "      <td>34.206625</td>\n",
       "      <td>-104.981730</td>\n",
       "      <td>159.000000</td>\n",
       "      <td>3.000000</td>\n",
       "      <td>10.000000</td>\n",
       "      <td>1.060000</td>\n",
       "      <td>2.000000</td>\n",
       "      <td>171.000000</td>\n",
       "      <td>3.000000</td>\n",
       "    </tr>\n",
       "    <tr>\n",
       "      <th>75%</th>\n",
       "      <td>5.401595e+07</td>\n",
       "      <td>2.335019e+08</td>\n",
       "      <td>40.677782</td>\n",
       "      <td>-80.130278</td>\n",
       "      <td>275.000000</td>\n",
       "      <td>30.000000</td>\n",
       "      <td>45.000000</td>\n",
       "      <td>2.520000</td>\n",
       "      <td>10.000000</td>\n",
       "      <td>318.000000</td>\n",
       "      <td>17.000000</td>\n",
       "    </tr>\n",
       "    <tr>\n",
       "      <th>max</th>\n",
       "      <td>7.251653e+17</td>\n",
       "      <td>4.810023e+08</td>\n",
       "      <td>47.748000</td>\n",
       "      <td>-70.913250</td>\n",
       "      <td>100000.000000</td>\n",
       "      <td>1250.000000</td>\n",
       "      <td>1724.000000</td>\n",
       "      <td>190.480000</td>\n",
       "      <td>660.000000</td>\n",
       "      <td>365.000000</td>\n",
       "      <td>949.000000</td>\n",
       "    </tr>\n",
       "  </tbody>\n",
       "</table>\n",
       "</div>"
      ],
      "text/plain": [
       "                 id       host_id       latitude      longitude  \\\n",
       "count  2.640200e+05  2.640200e+05  264020.000000  264020.000000   \n",
       "mean   1.492197e+17  1.418405e+08      34.669666    -104.767481   \n",
       "std    2.702577e+17  1.440900e+08       6.707990      25.491072   \n",
       "min    1.090000e+02  2.300000e+01      18.920250    -159.714620   \n",
       "25%    2.348756e+07  2.253885e+07      30.475710    -118.426347   \n",
       "50%    4.433749e+07  8.778981e+07      34.206625    -104.981730   \n",
       "75%    5.401595e+07  2.335019e+08      40.677782     -80.130278   \n",
       "max    7.251653e+17  4.810023e+08      47.748000     -70.913250   \n",
       "\n",
       "               price  minimum_nights  number_of_reviews  reviews_per_month  \\\n",
       "count  264020.000000   264020.000000      264020.000000      217819.000000   \n",
       "mean      282.903379       12.501814          41.047443           1.718892   \n",
       "std       836.681107       28.361691          76.628480           2.011747   \n",
       "min         0.000000        1.000000           0.000000           0.010000   \n",
       "25%        97.000000        2.000000           1.000000           0.350000   \n",
       "50%       159.000000        3.000000          10.000000           1.060000   \n",
       "75%       275.000000       30.000000          45.000000           2.520000   \n",
       "max    100000.000000     1250.000000        1724.000000         190.480000   \n",
       "\n",
       "       calculated_host_listings_count  availability_365  number_of_reviews_ltm  \n",
       "count                   264020.000000     264020.000000          264020.000000  \n",
       "mean                        23.560302        179.672120              12.480816  \n",
       "std                         69.992886        132.877778              20.717269  \n",
       "min                          1.000000          0.000000               0.000000  \n",
       "25%                          1.000000         53.000000               0.000000  \n",
       "50%                          2.000000        171.000000               3.000000  \n",
       "75%                         10.000000        318.000000              17.000000  \n",
       "max                        660.000000        365.000000             949.000000  "
      ]
     },
     "execution_count": 10,
     "metadata": {},
     "output_type": "execute_result"
    }
   ],
   "source": [
    "airbnb_usa.describe()"
   ]
  },
  {
   "cell_type": "markdown",
   "id": "b89acfa6",
   "metadata": {
    "papermill": {
     "duration": 0.026861,
     "end_time": "2023-01-26T20:46:50.872599",
     "exception": false,
     "start_time": "2023-01-26T20:46:50.845738",
     "status": "completed"
    },
    "tags": []
   },
   "source": [
    "Since **id** and **host_id** are just identifiers and **latitude** and **longitude** are just coordinates, let's skip them.\n",
    "\n",
    "Let's check the minimum and maximum observations for **price**."
   ]
  },
  {
   "cell_type": "code",
   "execution_count": 11,
   "id": "5dfa0d37",
   "metadata": {
    "execution": {
     "iopub.execute_input": "2023-01-26T20:46:50.927650Z",
     "iopub.status.busy": "2023-01-26T20:46:50.927208Z",
     "iopub.status.idle": "2023-01-26T20:46:50.994112Z",
     "shell.execute_reply": "2023-01-26T20:46:50.992940Z"
    },
    "papermill": {
     "duration": 0.097571,
     "end_time": "2023-01-26T20:46:50.996669",
     "exception": false,
     "start_time": "2023-01-26T20:46:50.899098",
     "status": "completed"
    },
    "tags": []
   },
   "outputs": [
    {
     "data": {
      "text/html": [
       "<div>\n",
       "<style scoped>\n",
       "    .dataframe tbody tr th:only-of-type {\n",
       "        vertical-align: middle;\n",
       "    }\n",
       "\n",
       "    .dataframe tbody tr th {\n",
       "        vertical-align: top;\n",
       "    }\n",
       "\n",
       "    .dataframe thead th {\n",
       "        text-align: right;\n",
       "    }\n",
       "</style>\n",
       "<table border=\"1\" class=\"dataframe\">\n",
       "  <thead>\n",
       "    <tr style=\"text-align: right;\">\n",
       "      <th></th>\n",
       "      <th>id</th>\n",
       "      <th>name</th>\n",
       "      <th>host_id</th>\n",
       "      <th>host_name</th>\n",
       "      <th>neighbourhood_group</th>\n",
       "      <th>neighbourhood</th>\n",
       "      <th>latitude</th>\n",
       "      <th>longitude</th>\n",
       "      <th>room_type</th>\n",
       "      <th>price</th>\n",
       "      <th>minimum_nights</th>\n",
       "      <th>number_of_reviews</th>\n",
       "      <th>last_review</th>\n",
       "      <th>reviews_per_month</th>\n",
       "      <th>calculated_host_listings_count</th>\n",
       "      <th>availability_365</th>\n",
       "      <th>number_of_reviews_ltm</th>\n",
       "      <th>license</th>\n",
       "      <th>state</th>\n",
       "      <th>city</th>\n",
       "    </tr>\n",
       "  </thead>\n",
       "  <tbody>\n",
       "    <tr>\n",
       "      <th>16959</th>\n",
       "      <td>40561078</td>\n",
       "      <td>Gold-Diggers Hotel</td>\n",
       "      <td>209561894</td>\n",
       "      <td>Gold Diggers</td>\n",
       "      <td>City of Los Angeles</td>\n",
       "      <td>Hollywood</td>\n",
       "      <td>34.090542</td>\n",
       "      <td>-118.312508</td>\n",
       "      <td>Hotel room</td>\n",
       "      <td>0</td>\n",
       "      <td>1</td>\n",
       "      <td>92</td>\n",
       "      <td>2022-09-08</td>\n",
       "      <td>2.16</td>\n",
       "      <td>2</td>\n",
       "      <td>0</td>\n",
       "      <td>65</td>\n",
       "      <td>&lt;NA&gt;</td>\n",
       "      <td>CA</td>\n",
       "      <td>Los Angeles</td>\n",
       "    </tr>\n",
       "    <tr>\n",
       "      <th>16960</th>\n",
       "      <td>40561079</td>\n",
       "      <td>The LINE Hotel</td>\n",
       "      <td>272064927</td>\n",
       "      <td>The LINE Hotel</td>\n",
       "      <td>City of Los Angeles</td>\n",
       "      <td>Koreatown</td>\n",
       "      <td>34.062040</td>\n",
       "      <td>-118.300910</td>\n",
       "      <td>Hotel room</td>\n",
       "      <td>0</td>\n",
       "      <td>1</td>\n",
       "      <td>8</td>\n",
       "      <td>2020-02-16</td>\n",
       "      <td>0.22</td>\n",
       "      <td>1</td>\n",
       "      <td>0</td>\n",
       "      <td>0</td>\n",
       "      <td>&lt;NA&gt;</td>\n",
       "      <td>CA</td>\n",
       "      <td>Los Angeles</td>\n",
       "    </tr>\n",
       "    <tr>\n",
       "      <th>17579</th>\n",
       "      <td>41740614</td>\n",
       "      <td>Hotel Erwin</td>\n",
       "      <td>269304681</td>\n",
       "      <td>Hotel Erwin</td>\n",
       "      <td>City of Los Angeles</td>\n",
       "      <td>Venice</td>\n",
       "      <td>33.986950</td>\n",
       "      <td>-118.472480</td>\n",
       "      <td>Hotel room</td>\n",
       "      <td>0</td>\n",
       "      <td>30</td>\n",
       "      <td>145</td>\n",
       "      <td>2022-09-04</td>\n",
       "      <td>4.64</td>\n",
       "      <td>1</td>\n",
       "      <td>0</td>\n",
       "      <td>66</td>\n",
       "      <td>&lt;NA&gt;</td>\n",
       "      <td>CA</td>\n",
       "      <td>Los Angeles</td>\n",
       "    </tr>\n",
       "    <tr>\n",
       "      <th>17869</th>\n",
       "      <td>42228983</td>\n",
       "      <td>El Patio Inn</td>\n",
       "      <td>311453463</td>\n",
       "      <td>El Patio Inn</td>\n",
       "      <td>City of Los Angeles</td>\n",
       "      <td>Studio City</td>\n",
       "      <td>34.139410</td>\n",
       "      <td>-118.381100</td>\n",
       "      <td>Hotel room</td>\n",
       "      <td>0</td>\n",
       "      <td>1</td>\n",
       "      <td>0</td>\n",
       "      <td>NaT</td>\n",
       "      <td>NaN</td>\n",
       "      <td>1</td>\n",
       "      <td>0</td>\n",
       "      <td>0</td>\n",
       "      <td>&lt;NA&gt;</td>\n",
       "      <td>CA</td>\n",
       "      <td>Los Angeles</td>\n",
       "    </tr>\n",
       "    <tr>\n",
       "      <th>17872</th>\n",
       "      <td>42229033</td>\n",
       "      <td>Nite Inn at Universal City</td>\n",
       "      <td>311439116</td>\n",
       "      <td>Nite Inn @</td>\n",
       "      <td>City of Los Angeles</td>\n",
       "      <td>Studio City</td>\n",
       "      <td>34.137300</td>\n",
       "      <td>-118.364020</td>\n",
       "      <td>Hotel room</td>\n",
       "      <td>0</td>\n",
       "      <td>1</td>\n",
       "      <td>42</td>\n",
       "      <td>2022-07-04</td>\n",
       "      <td>1.66</td>\n",
       "      <td>1</td>\n",
       "      <td>0</td>\n",
       "      <td>17</td>\n",
       "      <td>&lt;NA&gt;</td>\n",
       "      <td>CA</td>\n",
       "      <td>Los Angeles</td>\n",
       "    </tr>\n",
       "  </tbody>\n",
       "</table>\n",
       "</div>"
      ],
      "text/plain": [
       "             id                        name    host_id       host_name  \\\n",
       "16959  40561078          Gold-Diggers Hotel  209561894    Gold Diggers   \n",
       "16960  40561079              The LINE Hotel  272064927  The LINE Hotel   \n",
       "17579  41740614                 Hotel Erwin  269304681     Hotel Erwin   \n",
       "17869  42228983                El Patio Inn  311453463    El Patio Inn   \n",
       "17872  42229033  Nite Inn at Universal City  311439116      Nite Inn @   \n",
       "\n",
       "       neighbourhood_group neighbourhood   latitude   longitude   room_type  \\\n",
       "16959  City of Los Angeles     Hollywood  34.090542 -118.312508  Hotel room   \n",
       "16960  City of Los Angeles     Koreatown  34.062040 -118.300910  Hotel room   \n",
       "17579  City of Los Angeles        Venice  33.986950 -118.472480  Hotel room   \n",
       "17869  City of Los Angeles   Studio City  34.139410 -118.381100  Hotel room   \n",
       "17872  City of Los Angeles   Studio City  34.137300 -118.364020  Hotel room   \n",
       "\n",
       "       price  minimum_nights  number_of_reviews last_review  \\\n",
       "16959      0               1                 92  2022-09-08   \n",
       "16960      0               1                  8  2020-02-16   \n",
       "17579      0              30                145  2022-09-04   \n",
       "17869      0               1                  0         NaT   \n",
       "17872      0               1                 42  2022-07-04   \n",
       "\n",
       "       reviews_per_month  calculated_host_listings_count  availability_365  \\\n",
       "16959               2.16                               2                 0   \n",
       "16960               0.22                               1                 0   \n",
       "17579               4.64                               1                 0   \n",
       "17869                NaN                               1                 0   \n",
       "17872               1.66                               1                 0   \n",
       "\n",
       "       number_of_reviews_ltm license state         city  \n",
       "16959                     65    <NA>    CA  Los Angeles  \n",
       "16960                      0    <NA>    CA  Los Angeles  \n",
       "17579                     66    <NA>    CA  Los Angeles  \n",
       "17869                      0    <NA>    CA  Los Angeles  \n",
       "17872                     17    <NA>    CA  Los Angeles  "
      ]
     },
     "execution_count": 11,
     "metadata": {},
     "output_type": "execute_result"
    }
   ],
   "source": [
    "airbnb_usa.nsmallest(5, 'price')"
   ]
  },
  {
   "cell_type": "code",
   "execution_count": 12,
   "id": "3b0695da",
   "metadata": {
    "execution": {
     "iopub.execute_input": "2023-01-26T20:46:51.053763Z",
     "iopub.status.busy": "2023-01-26T20:46:51.052585Z",
     "iopub.status.idle": "2023-01-26T20:46:51.060234Z",
     "shell.execute_reply": "2023-01-26T20:46:51.058726Z"
    },
    "papermill": {
     "duration": 0.039405,
     "end_time": "2023-01-26T20:46:51.062759",
     "exception": false,
     "start_time": "2023-01-26T20:46:51.023354",
     "status": "completed"
    },
    "tags": []
   },
   "outputs": [
    {
     "name": "stdout",
     "output_type": "stream",
     "text": [
      "Number of listings with price = 0: 93\n"
     ]
    }
   ],
   "source": [
    "print('Number of listings with price = 0:', np.sum(airbnb_usa['price']==0))"
   ]
  },
  {
   "cell_type": "code",
   "execution_count": 13,
   "id": "7e1e16bc",
   "metadata": {
    "execution": {
     "iopub.execute_input": "2023-01-26T20:46:51.119036Z",
     "iopub.status.busy": "2023-01-26T20:46:51.117844Z",
     "iopub.status.idle": "2023-01-26T20:46:51.128012Z",
     "shell.execute_reply": "2023-01-26T20:46:51.126914Z"
    },
    "papermill": {
     "duration": 0.040659,
     "end_time": "2023-01-26T20:46:51.130375",
     "exception": false,
     "start_time": "2023-01-26T20:46:51.089716",
     "status": "completed"
    },
    "tags": []
   },
   "outputs": [
    {
     "data": {
      "text/plain": [
       "Hotel room         92\n",
       "Private room        1\n",
       "Entire home/apt     0\n",
       "Shared room         0\n",
       "Name: room_type, dtype: int64"
      ]
     },
     "execution_count": 13,
     "metadata": {},
     "output_type": "execute_result"
    }
   ],
   "source": [
    "# Check if it's only for room_type = 'Hotel room'\n",
    "airbnb_usa.loc[airbnb_usa['price']==0, 'room_type'].value_counts()"
   ]
  },
  {
   "cell_type": "markdown",
   "id": "b524290e",
   "metadata": {
    "papermill": {
     "duration": 0.026707,
     "end_time": "2023-01-26T20:46:51.184010",
     "exception": false,
     "start_time": "2023-01-26T20:46:51.157303",
     "status": "completed"
    },
    "tags": []
   },
   "source": [
    "Some values are invalid: For example, 'Gold-Diggers Hotel' is currently listed as $159/night. Since there are over 90 listings and there is no precise and convenient way to find listings (tried using **id**; even with **name**, you still need to use other variables such as **neighbourhood** to narrow it down), let's leave them as is."
   ]
  },
  {
   "cell_type": "code",
   "execution_count": 14,
   "id": "5e84685c",
   "metadata": {
    "execution": {
     "iopub.execute_input": "2023-01-26T20:46:51.240002Z",
     "iopub.status.busy": "2023-01-26T20:46:51.238829Z",
     "iopub.status.idle": "2023-01-26T20:46:51.303969Z",
     "shell.execute_reply": "2023-01-26T20:46:51.302694Z"
    },
    "papermill": {
     "duration": 0.095675,
     "end_time": "2023-01-26T20:46:51.306412",
     "exception": false,
     "start_time": "2023-01-26T20:46:51.210737",
     "status": "completed"
    },
    "tags": []
   },
   "outputs": [
    {
     "data": {
      "text/html": [
       "<div>\n",
       "<style scoped>\n",
       "    .dataframe tbody tr th:only-of-type {\n",
       "        vertical-align: middle;\n",
       "    }\n",
       "\n",
       "    .dataframe tbody tr th {\n",
       "        vertical-align: top;\n",
       "    }\n",
       "\n",
       "    .dataframe thead th {\n",
       "        text-align: right;\n",
       "    }\n",
       "</style>\n",
       "<table border=\"1\" class=\"dataframe\">\n",
       "  <thead>\n",
       "    <tr style=\"text-align: right;\">\n",
       "      <th></th>\n",
       "      <th>id</th>\n",
       "      <th>name</th>\n",
       "      <th>host_id</th>\n",
       "      <th>host_name</th>\n",
       "      <th>neighbourhood_group</th>\n",
       "      <th>neighbourhood</th>\n",
       "      <th>latitude</th>\n",
       "      <th>longitude</th>\n",
       "      <th>room_type</th>\n",
       "      <th>price</th>\n",
       "      <th>minimum_nights</th>\n",
       "      <th>number_of_reviews</th>\n",
       "      <th>last_review</th>\n",
       "      <th>reviews_per_month</th>\n",
       "      <th>calculated_host_listings_count</th>\n",
       "      <th>availability_365</th>\n",
       "      <th>number_of_reviews_ltm</th>\n",
       "      <th>license</th>\n",
       "      <th>state</th>\n",
       "      <th>city</th>\n",
       "    </tr>\n",
       "  </thead>\n",
       "  <tbody>\n",
       "    <tr>\n",
       "      <th>101663</th>\n",
       "      <td>47475849</td>\n",
       "      <td>WELCOME to \"WORLD MAP SUITE\" in the heart of P...</td>\n",
       "      <td>380705136</td>\n",
       "      <td>Duda</td>\n",
       "      <td>NaN</td>\n",
       "      <td>Mission Bay</td>\n",
       "      <td>32.79190</td>\n",
       "      <td>-117.23807</td>\n",
       "      <td>Private room</td>\n",
       "      <td>100000</td>\n",
       "      <td>1</td>\n",
       "      <td>1</td>\n",
       "      <td>2021-01-09</td>\n",
       "      <td>0.05</td>\n",
       "      <td>1</td>\n",
       "      <td>0</td>\n",
       "      <td>0</td>\n",
       "      <td>&lt;NA&gt;</td>\n",
       "      <td>CA</td>\n",
       "      <td>San Diego</td>\n",
       "    </tr>\n",
       "    <tr>\n",
       "      <th>149492</th>\n",
       "      <td>53810192</td>\n",
       "      <td>Enjoy Peace &amp; tranquillity. A home away from home</td>\n",
       "      <td>430653443</td>\n",
       "      <td>Reginald</td>\n",
       "      <td>NaN</td>\n",
       "      <td>Pembroke Pines</td>\n",
       "      <td>26.02708</td>\n",
       "      <td>-80.24724</td>\n",
       "      <td>Entire home/apt</td>\n",
       "      <td>100000</td>\n",
       "      <td>3</td>\n",
       "      <td>14</td>\n",
       "      <td>2022-08-14</td>\n",
       "      <td>1.92</td>\n",
       "      <td>1</td>\n",
       "      <td>365</td>\n",
       "      <td>14</td>\n",
       "      <td>&lt;NA&gt;</td>\n",
       "      <td>FL</td>\n",
       "      <td>Broward</td>\n",
       "    </tr>\n",
       "    <tr>\n",
       "      <th>216537</th>\n",
       "      <td>53775685</td>\n",
       "      <td>Entire Cozy Unit(15 mins to Manhattan)</td>\n",
       "      <td>245395267</td>\n",
       "      <td>Joes</td>\n",
       "      <td>NaN</td>\n",
       "      <td>Ward E (councilmember James Solomon)</td>\n",
       "      <td>40.72330</td>\n",
       "      <td>-74.03946</td>\n",
       "      <td>Entire home/apt</td>\n",
       "      <td>99999</td>\n",
       "      <td>60</td>\n",
       "      <td>6</td>\n",
       "      <td>2022-06-20</td>\n",
       "      <td>0.66</td>\n",
       "      <td>1</td>\n",
       "      <td>70</td>\n",
       "      <td>6</td>\n",
       "      <td>&lt;NA&gt;</td>\n",
       "      <td>NJ</td>\n",
       "      <td>Jersey City</td>\n",
       "    </tr>\n",
       "    <tr>\n",
       "      <th>18844</th>\n",
       "      <td>44033589</td>\n",
       "      <td>Villa de la Vina</td>\n",
       "      <td>76993354</td>\n",
       "      <td>Nick</td>\n",
       "      <td>Unincorporated Areas</td>\n",
       "      <td>Unincorporated Santa Monica Mountains</td>\n",
       "      <td>34.11957</td>\n",
       "      <td>-118.79260</td>\n",
       "      <td>Entire home/apt</td>\n",
       "      <td>30000</td>\n",
       "      <td>5</td>\n",
       "      <td>14</td>\n",
       "      <td>2021-09-05</td>\n",
       "      <td>0.72</td>\n",
       "      <td>1</td>\n",
       "      <td>15</td>\n",
       "      <td>0</td>\n",
       "      <td>&lt;NA&gt;</td>\n",
       "      <td>CA</td>\n",
       "      <td>Los Angeles</td>\n",
       "    </tr>\n",
       "    <tr>\n",
       "      <th>176749</th>\n",
       "      <td>53150179</td>\n",
       "      <td>K B M Resorts- BAY-35 Presidential 5bd, 5ba be...</td>\n",
       "      <td>429407284</td>\n",
       "      <td>Kbm</td>\n",
       "      <td>Maui</td>\n",
       "      <td>Lahaina</td>\n",
       "      <td>20.88017</td>\n",
       "      <td>-156.68492</td>\n",
       "      <td>Entire home/apt</td>\n",
       "      <td>26774</td>\n",
       "      <td>1</td>\n",
       "      <td>0</td>\n",
       "      <td>NaT</td>\n",
       "      <td>NaN</td>\n",
       "      <td>166</td>\n",
       "      <td>198</td>\n",
       "      <td>0</td>\n",
       "      <td>450040490000, TA-041-615-7216-01</td>\n",
       "      <td>HI</td>\n",
       "      <td>Hawaii</td>\n",
       "    </tr>\n",
       "  </tbody>\n",
       "</table>\n",
       "</div>"
      ],
      "text/plain": [
       "              id                                               name  \\\n",
       "101663  47475849  WELCOME to \"WORLD MAP SUITE\" in the heart of P...   \n",
       "149492  53810192  Enjoy Peace & tranquillity. A home away from home   \n",
       "216537  53775685             Entire Cozy Unit(15 mins to Manhattan)   \n",
       "18844   44033589                                   Villa de la Vina   \n",
       "176749  53150179  K B M Resorts- BAY-35 Presidential 5bd, 5ba be...   \n",
       "\n",
       "          host_id host_name   neighbourhood_group  \\\n",
       "101663  380705136      Duda                   NaN   \n",
       "149492  430653443  Reginald                   NaN   \n",
       "216537  245395267      Joes                   NaN   \n",
       "18844    76993354      Nick  Unincorporated Areas   \n",
       "176749  429407284       Kbm                  Maui   \n",
       "\n",
       "                                neighbourhood  latitude  longitude  \\\n",
       "101663                            Mission Bay  32.79190 -117.23807   \n",
       "149492                         Pembroke Pines  26.02708  -80.24724   \n",
       "216537   Ward E (councilmember James Solomon)  40.72330  -74.03946   \n",
       "18844   Unincorporated Santa Monica Mountains  34.11957 -118.79260   \n",
       "176749                                Lahaina  20.88017 -156.68492   \n",
       "\n",
       "              room_type   price  minimum_nights  number_of_reviews  \\\n",
       "101663     Private room  100000               1                  1   \n",
       "149492  Entire home/apt  100000               3                 14   \n",
       "216537  Entire home/apt   99999              60                  6   \n",
       "18844   Entire home/apt   30000               5                 14   \n",
       "176749  Entire home/apt   26774               1                  0   \n",
       "\n",
       "       last_review  reviews_per_month  calculated_host_listings_count  \\\n",
       "101663  2021-01-09               0.05                               1   \n",
       "149492  2022-08-14               1.92                               1   \n",
       "216537  2022-06-20               0.66                               1   \n",
       "18844   2021-09-05               0.72                               1   \n",
       "176749         NaT                NaN                             166   \n",
       "\n",
       "        availability_365  number_of_reviews_ltm  \\\n",
       "101663                 0                      0   \n",
       "149492               365                     14   \n",
       "216537                70                      6   \n",
       "18844                 15                      0   \n",
       "176749               198                      0   \n",
       "\n",
       "                                 license state         city  \n",
       "101663                              <NA>    CA    San Diego  \n",
       "149492                              <NA>    FL      Broward  \n",
       "216537                              <NA>    NJ  Jersey City  \n",
       "18844                               <NA>    CA  Los Angeles  \n",
       "176749  450040490000, TA-041-615-7216-01    HI       Hawaii  "
      ]
     },
     "execution_count": 14,
     "metadata": {},
     "output_type": "execute_result"
    }
   ],
   "source": [
    "airbnb_usa.nlargest(5, 'price')"
   ]
  },
  {
   "cell_type": "markdown",
   "id": "94af9936",
   "metadata": {
    "papermill": {
     "duration": 0.026913,
     "end_time": "2023-01-26T20:46:51.360492",
     "exception": false,
     "start_time": "2023-01-26T20:46:51.333579",
     "status": "completed"
    },
    "tags": []
   },
   "source": [
    "Its maximum observations are valid, although the listings themselves may be gag-jokes or just for attention (e.g. 'WELCOME to \"WORLD MAP SUITE\" in the heart of P.B.!' listing which appears to be just a regular home).\n",
    "\n",
    "Let's check the maximum observations for **minimum_nights**."
   ]
  },
  {
   "cell_type": "code",
   "execution_count": 15,
   "id": "cd40f7e5",
   "metadata": {
    "execution": {
     "iopub.execute_input": "2023-01-26T20:46:51.417790Z",
     "iopub.status.busy": "2023-01-26T20:46:51.416458Z",
     "iopub.status.idle": "2023-01-26T20:46:51.482830Z",
     "shell.execute_reply": "2023-01-26T20:46:51.481659Z"
    },
    "papermill": {
     "duration": 0.097533,
     "end_time": "2023-01-26T20:46:51.485230",
     "exception": false,
     "start_time": "2023-01-26T20:46:51.387697",
     "status": "completed"
    },
    "tags": []
   },
   "outputs": [
    {
     "data": {
      "text/html": [
       "<div>\n",
       "<style scoped>\n",
       "    .dataframe tbody tr th:only-of-type {\n",
       "        vertical-align: middle;\n",
       "    }\n",
       "\n",
       "    .dataframe tbody tr th {\n",
       "        vertical-align: top;\n",
       "    }\n",
       "\n",
       "    .dataframe thead th {\n",
       "        text-align: right;\n",
       "    }\n",
       "</style>\n",
       "<table border=\"1\" class=\"dataframe\">\n",
       "  <thead>\n",
       "    <tr style=\"text-align: right;\">\n",
       "      <th></th>\n",
       "      <th>id</th>\n",
       "      <th>name</th>\n",
       "      <th>host_id</th>\n",
       "      <th>host_name</th>\n",
       "      <th>neighbourhood_group</th>\n",
       "      <th>neighbourhood</th>\n",
       "      <th>latitude</th>\n",
       "      <th>longitude</th>\n",
       "      <th>room_type</th>\n",
       "      <th>price</th>\n",
       "      <th>minimum_nights</th>\n",
       "      <th>number_of_reviews</th>\n",
       "      <th>last_review</th>\n",
       "      <th>reviews_per_month</th>\n",
       "      <th>calculated_host_listings_count</th>\n",
       "      <th>availability_365</th>\n",
       "      <th>number_of_reviews_ltm</th>\n",
       "      <th>license</th>\n",
       "      <th>state</th>\n",
       "      <th>city</th>\n",
       "    </tr>\n",
       "  </thead>\n",
       "  <tbody>\n",
       "    <tr>\n",
       "      <th>236594</th>\n",
       "      <td>4204302</td>\n",
       "      <td>Prime W. Village location 1 bdrm</td>\n",
       "      <td>17550546</td>\n",
       "      <td>Genevieve</td>\n",
       "      <td>Manhattan</td>\n",
       "      <td>Greenwich Village</td>\n",
       "      <td>40.73293</td>\n",
       "      <td>-73.99782</td>\n",
       "      <td>Entire home/apt</td>\n",
       "      <td>180</td>\n",
       "      <td>1250</td>\n",
       "      <td>2</td>\n",
       "      <td>2014-11-09</td>\n",
       "      <td>0.02</td>\n",
       "      <td>1</td>\n",
       "      <td>0</td>\n",
       "      <td>0</td>\n",
       "      <td>&lt;NA&gt;</td>\n",
       "      <td>NY</td>\n",
       "      <td>New York City</td>\n",
       "    </tr>\n",
       "    <tr>\n",
       "      <th>110764</th>\n",
       "      <td>15327674</td>\n",
       "      <td>Upscale 2 Bedroom/1.5 Bath with Private Entry</td>\n",
       "      <td>5138158</td>\n",
       "      <td>Barbara</td>\n",
       "      <td>NaN</td>\n",
       "      <td>Inner Richmond</td>\n",
       "      <td>37.77494</td>\n",
       "      <td>-122.47238</td>\n",
       "      <td>Entire home/apt</td>\n",
       "      <td>195</td>\n",
       "      <td>1125</td>\n",
       "      <td>65</td>\n",
       "      <td>2020-05-01</td>\n",
       "      <td>0.90</td>\n",
       "      <td>1</td>\n",
       "      <td>179</td>\n",
       "      <td>0</td>\n",
       "      <td>STR0001667</td>\n",
       "      <td>CA</td>\n",
       "      <td>San Francisco</td>\n",
       "    </tr>\n",
       "    <tr>\n",
       "      <th>133179</th>\n",
       "      <td>79867</td>\n",
       "      <td>DC, Near Metro II</td>\n",
       "      <td>7086</td>\n",
       "      <td>Edward</td>\n",
       "      <td>NaN</td>\n",
       "      <td>Ivy City, Arboretum, Trinidad, Carver Langston</td>\n",
       "      <td>38.90618</td>\n",
       "      <td>-76.98498</td>\n",
       "      <td>Private room</td>\n",
       "      <td>500</td>\n",
       "      <td>1125</td>\n",
       "      <td>10</td>\n",
       "      <td>2016-09-30</td>\n",
       "      <td>0.08</td>\n",
       "      <td>3</td>\n",
       "      <td>266</td>\n",
       "      <td>0</td>\n",
       "      <td>&lt;NA&gt;</td>\n",
       "      <td>DC</td>\n",
       "      <td>Washington D.C.</td>\n",
       "    </tr>\n",
       "    <tr>\n",
       "      <th>133183</th>\n",
       "      <td>4967</td>\n",
       "      <td>DC, Near Metro</td>\n",
       "      <td>7086</td>\n",
       "      <td>Edward</td>\n",
       "      <td>NaN</td>\n",
       "      <td>Ivy City, Arboretum, Trinidad, Carver Langston</td>\n",
       "      <td>38.91217</td>\n",
       "      <td>-76.99249</td>\n",
       "      <td>Private room</td>\n",
       "      <td>500</td>\n",
       "      <td>1125</td>\n",
       "      <td>31</td>\n",
       "      <td>2016-09-22</td>\n",
       "      <td>0.21</td>\n",
       "      <td>3</td>\n",
       "      <td>254</td>\n",
       "      <td>0</td>\n",
       "      <td>&lt;NA&gt;</td>\n",
       "      <td>DC</td>\n",
       "      <td>Washington D.C.</td>\n",
       "    </tr>\n",
       "    <tr>\n",
       "      <th>134518</th>\n",
       "      <td>18430302</td>\n",
       "      <td>Light filled apartment next to the Big Bear Cafe</td>\n",
       "      <td>15906842</td>\n",
       "      <td>Stuart</td>\n",
       "      <td>NaN</td>\n",
       "      <td>Edgewood, Bloomingdale, Truxton Circle, Eckington</td>\n",
       "      <td>38.91250</td>\n",
       "      <td>-77.01356</td>\n",
       "      <td>Entire home/apt</td>\n",
       "      <td>98</td>\n",
       "      <td>1125</td>\n",
       "      <td>91</td>\n",
       "      <td>2020-03-01</td>\n",
       "      <td>1.39</td>\n",
       "      <td>1</td>\n",
       "      <td>0</td>\n",
       "      <td>0</td>\n",
       "      <td>&lt;NA&gt;</td>\n",
       "      <td>DC</td>\n",
       "      <td>Washington D.C.</td>\n",
       "    </tr>\n",
       "  </tbody>\n",
       "</table>\n",
       "</div>"
      ],
      "text/plain": [
       "              id                                              name   host_id  \\\n",
       "236594   4204302                  Prime W. Village location 1 bdrm  17550546   \n",
       "110764  15327674     Upscale 2 Bedroom/1.5 Bath with Private Entry   5138158   \n",
       "133179     79867                                 DC, Near Metro II      7086   \n",
       "133183      4967                                    DC, Near Metro      7086   \n",
       "134518  18430302  Light filled apartment next to the Big Bear Cafe  15906842   \n",
       "\n",
       "        host_name neighbourhood_group  \\\n",
       "236594  Genevieve           Manhattan   \n",
       "110764    Barbara                 NaN   \n",
       "133179     Edward                 NaN   \n",
       "133183     Edward                 NaN   \n",
       "134518     Stuart                 NaN   \n",
       "\n",
       "                                            neighbourhood  latitude  \\\n",
       "236594                                  Greenwich Village  40.73293   \n",
       "110764                                     Inner Richmond  37.77494   \n",
       "133179     Ivy City, Arboretum, Trinidad, Carver Langston  38.90618   \n",
       "133183     Ivy City, Arboretum, Trinidad, Carver Langston  38.91217   \n",
       "134518  Edgewood, Bloomingdale, Truxton Circle, Eckington  38.91250   \n",
       "\n",
       "        longitude        room_type  price  minimum_nights  number_of_reviews  \\\n",
       "236594  -73.99782  Entire home/apt    180            1250                  2   \n",
       "110764 -122.47238  Entire home/apt    195            1125                 65   \n",
       "133179  -76.98498     Private room    500            1125                 10   \n",
       "133183  -76.99249     Private room    500            1125                 31   \n",
       "134518  -77.01356  Entire home/apt     98            1125                 91   \n",
       "\n",
       "       last_review  reviews_per_month  calculated_host_listings_count  \\\n",
       "236594  2014-11-09               0.02                               1   \n",
       "110764  2020-05-01               0.90                               1   \n",
       "133179  2016-09-30               0.08                               3   \n",
       "133183  2016-09-22               0.21                               3   \n",
       "134518  2020-03-01               1.39                               1   \n",
       "\n",
       "        availability_365  number_of_reviews_ltm     license state  \\\n",
       "236594                 0                      0        <NA>    NY   \n",
       "110764               179                      0  STR0001667    CA   \n",
       "133179               266                      0        <NA>    DC   \n",
       "133183               254                      0        <NA>    DC   \n",
       "134518                 0                      0        <NA>    DC   \n",
       "\n",
       "                   city  \n",
       "236594    New York City  \n",
       "110764    San Francisco  \n",
       "133179  Washington D.C.  \n",
       "133183  Washington D.C.  \n",
       "134518  Washington D.C.  "
      ]
     },
     "execution_count": 15,
     "metadata": {},
     "output_type": "execute_result"
    }
   ],
   "source": [
    "airbnb_usa.nlargest(5, 'minimum_nights')"
   ]
  },
  {
   "cell_type": "markdown",
   "id": "8a646b21",
   "metadata": {
    "papermill": {
     "duration": 0.027478,
     "end_time": "2023-01-26T20:46:51.540461",
     "exception": false,
     "start_time": "2023-01-26T20:46:51.512983",
     "status": "completed"
    },
    "tags": []
   },
   "source": [
    "Its maximum observations appear valid.\n",
    "\n",
    "Let's check the maximum observations for **number_of_reviews**."
   ]
  },
  {
   "cell_type": "code",
   "execution_count": 16,
   "id": "f4fd2dd5",
   "metadata": {
    "execution": {
     "iopub.execute_input": "2023-01-26T20:46:51.597574Z",
     "iopub.status.busy": "2023-01-26T20:46:51.596871Z",
     "iopub.status.idle": "2023-01-26T20:46:51.657649Z",
     "shell.execute_reply": "2023-01-26T20:46:51.656495Z"
    },
    "papermill": {
     "duration": 0.092556,
     "end_time": "2023-01-26T20:46:51.660358",
     "exception": false,
     "start_time": "2023-01-26T20:46:51.567802",
     "status": "completed"
    },
    "tags": []
   },
   "outputs": [
    {
     "data": {
      "text/html": [
       "<div>\n",
       "<style scoped>\n",
       "    .dataframe tbody tr th:only-of-type {\n",
       "        vertical-align: middle;\n",
       "    }\n",
       "\n",
       "    .dataframe tbody tr th {\n",
       "        vertical-align: top;\n",
       "    }\n",
       "\n",
       "    .dataframe thead th {\n",
       "        text-align: right;\n",
       "    }\n",
       "</style>\n",
       "<table border=\"1\" class=\"dataframe\">\n",
       "  <thead>\n",
       "    <tr style=\"text-align: right;\">\n",
       "      <th></th>\n",
       "      <th>id</th>\n",
       "      <th>name</th>\n",
       "      <th>host_id</th>\n",
       "      <th>host_name</th>\n",
       "      <th>neighbourhood_group</th>\n",
       "      <th>neighbourhood</th>\n",
       "      <th>latitude</th>\n",
       "      <th>longitude</th>\n",
       "      <th>room_type</th>\n",
       "      <th>price</th>\n",
       "      <th>minimum_nights</th>\n",
       "      <th>number_of_reviews</th>\n",
       "      <th>last_review</th>\n",
       "      <th>reviews_per_month</th>\n",
       "      <th>calculated_host_listings_count</th>\n",
       "      <th>availability_365</th>\n",
       "      <th>number_of_reviews_ltm</th>\n",
       "      <th>license</th>\n",
       "      <th>state</th>\n",
       "      <th>city</th>\n",
       "    </tr>\n",
       "  </thead>\n",
       "  <tbody>\n",
       "    <tr>\n",
       "      <th>125702</th>\n",
       "      <td>8357</td>\n",
       "      <td>The Mushroom Dome Retreat &amp; LAND of Paradise S...</td>\n",
       "      <td>24281</td>\n",
       "      <td>Kitty And Michael</td>\n",
       "      <td>NaN</td>\n",
       "      <td>Unincorporated Areas</td>\n",
       "      <td>37.00939</td>\n",
       "      <td>-121.88547</td>\n",
       "      <td>Entire home/apt</td>\n",
       "      <td>159</td>\n",
       "      <td>2</td>\n",
       "      <td>1724</td>\n",
       "      <td>2022-09-25</td>\n",
       "      <td>10.73</td>\n",
       "      <td>2</td>\n",
       "      <td>100</td>\n",
       "      <td>125</td>\n",
       "      <td>&lt;NA&gt;</td>\n",
       "      <td>CA</td>\n",
       "      <td>Santa Cruz County</td>\n",
       "    </tr>\n",
       "    <tr>\n",
       "      <th>17954</th>\n",
       "      <td>42409434</td>\n",
       "      <td>The Burlington Hotel</td>\n",
       "      <td>229716119</td>\n",
       "      <td>Simone</td>\n",
       "      <td>City of Los Angeles</td>\n",
       "      <td>Westlake</td>\n",
       "      <td>34.05981</td>\n",
       "      <td>-118.26963</td>\n",
       "      <td>Entire home/apt</td>\n",
       "      <td>113</td>\n",
       "      <td>1</td>\n",
       "      <td>1702</td>\n",
       "      <td>2022-09-06</td>\n",
       "      <td>56.17</td>\n",
       "      <td>5</td>\n",
       "      <td>124</td>\n",
       "      <td>833</td>\n",
       "      <td>&lt;NA&gt;</td>\n",
       "      <td>CA</td>\n",
       "      <td>Los Angeles</td>\n",
       "    </tr>\n",
       "    <tr>\n",
       "      <th>222414</th>\n",
       "      <td>35158303</td>\n",
       "      <td>SAHARA Las Vegas, Marra 1 King</td>\n",
       "      <td>263748930</td>\n",
       "      <td>SAHARA Las Vegas</td>\n",
       "      <td>NaN</td>\n",
       "      <td>Unincorporated Areas</td>\n",
       "      <td>36.14215</td>\n",
       "      <td>-115.15706</td>\n",
       "      <td>Private room</td>\n",
       "      <td>238</td>\n",
       "      <td>1</td>\n",
       "      <td>1542</td>\n",
       "      <td>2022-09-05</td>\n",
       "      <td>83.80</td>\n",
       "      <td>11</td>\n",
       "      <td>298</td>\n",
       "      <td>860</td>\n",
       "      <td>&lt;NA&gt;</td>\n",
       "      <td>NV</td>\n",
       "      <td>Clark County</td>\n",
       "    </tr>\n",
       "    <tr>\n",
       "      <th>215898</th>\n",
       "      <td>44799007</td>\n",
       "      <td>Sonder Battery Park | Studio Apartment</td>\n",
       "      <td>219517861</td>\n",
       "      <td>Sonder (NYC)</td>\n",
       "      <td>NaN</td>\n",
       "      <td>Ward F (councilmember Jermaine D. Robinson)</td>\n",
       "      <td>40.70617</td>\n",
       "      <td>-74.01486</td>\n",
       "      <td>Entire home/apt</td>\n",
       "      <td>521</td>\n",
       "      <td>2</td>\n",
       "      <td>1518</td>\n",
       "      <td>2022-09-03</td>\n",
       "      <td>62.13</td>\n",
       "      <td>31</td>\n",
       "      <td>250</td>\n",
       "      <td>910</td>\n",
       "      <td>&lt;NA&gt;</td>\n",
       "      <td>NJ</td>\n",
       "      <td>Jersey City</td>\n",
       "    </tr>\n",
       "    <tr>\n",
       "      <th>252618</th>\n",
       "      <td>37122502</td>\n",
       "      <td>Amazing Micro Unit W/ communal rooftop and kit...</td>\n",
       "      <td>266755066</td>\n",
       "      <td>The Ridge</td>\n",
       "      <td>Manhattan</td>\n",
       "      <td>East Village</td>\n",
       "      <td>40.72380</td>\n",
       "      <td>-73.99038</td>\n",
       "      <td>Private room</td>\n",
       "      <td>243</td>\n",
       "      <td>1</td>\n",
       "      <td>1384</td>\n",
       "      <td>2022-09-06</td>\n",
       "      <td>40.43</td>\n",
       "      <td>4</td>\n",
       "      <td>343</td>\n",
       "      <td>793</td>\n",
       "      <td>&lt;NA&gt;</td>\n",
       "      <td>NY</td>\n",
       "      <td>New York City</td>\n",
       "    </tr>\n",
       "  </tbody>\n",
       "</table>\n",
       "</div>"
      ],
      "text/plain": [
       "              id                                               name  \\\n",
       "125702      8357  The Mushroom Dome Retreat & LAND of Paradise S...   \n",
       "17954   42409434                               The Burlington Hotel   \n",
       "222414  35158303                     SAHARA Las Vegas, Marra 1 King   \n",
       "215898  44799007             Sonder Battery Park | Studio Apartment   \n",
       "252618  37122502  Amazing Micro Unit W/ communal rooftop and kit...   \n",
       "\n",
       "          host_id          host_name  neighbourhood_group  \\\n",
       "125702      24281  Kitty And Michael                  NaN   \n",
       "17954   229716119             Simone  City of Los Angeles   \n",
       "222414  263748930   SAHARA Las Vegas                  NaN   \n",
       "215898  219517861       Sonder (NYC)                  NaN   \n",
       "252618  266755066          The Ridge            Manhattan   \n",
       "\n",
       "                                      neighbourhood  latitude  longitude  \\\n",
       "125702                         Unincorporated Areas  37.00939 -121.88547   \n",
       "17954                                      Westlake  34.05981 -118.26963   \n",
       "222414                         Unincorporated Areas  36.14215 -115.15706   \n",
       "215898  Ward F (councilmember Jermaine D. Robinson)  40.70617  -74.01486   \n",
       "252618                                 East Village  40.72380  -73.99038   \n",
       "\n",
       "              room_type  price  minimum_nights  number_of_reviews last_review  \\\n",
       "125702  Entire home/apt    159               2               1724  2022-09-25   \n",
       "17954   Entire home/apt    113               1               1702  2022-09-06   \n",
       "222414     Private room    238               1               1542  2022-09-05   \n",
       "215898  Entire home/apt    521               2               1518  2022-09-03   \n",
       "252618     Private room    243               1               1384  2022-09-06   \n",
       "\n",
       "        reviews_per_month  calculated_host_listings_count  availability_365  \\\n",
       "125702              10.73                               2               100   \n",
       "17954               56.17                               5               124   \n",
       "222414              83.80                              11               298   \n",
       "215898              62.13                              31               250   \n",
       "252618              40.43                               4               343   \n",
       "\n",
       "        number_of_reviews_ltm license state               city  \n",
       "125702                    125    <NA>    CA  Santa Cruz County  \n",
       "17954                     833    <NA>    CA        Los Angeles  \n",
       "222414                    860    <NA>    NV       Clark County  \n",
       "215898                    910    <NA>    NJ        Jersey City  \n",
       "252618                    793    <NA>    NY      New York City  "
      ]
     },
     "execution_count": 16,
     "metadata": {},
     "output_type": "execute_result"
    }
   ],
   "source": [
    "airbnb_usa.nlargest(5, 'number_of_reviews')"
   ]
  },
  {
   "cell_type": "markdown",
   "id": "5cd558eb",
   "metadata": {
    "papermill": {
     "duration": 0.028117,
     "end_time": "2023-01-26T20:46:51.717247",
     "exception": false,
     "start_time": "2023-01-26T20:46:51.689130",
     "status": "completed"
    },
    "tags": []
   },
   "source": [
    "Its maximum observations are valid.\n",
    "\n",
    "Let's check the maximum observations for **reviews_per_month**."
   ]
  },
  {
   "cell_type": "code",
   "execution_count": 17,
   "id": "d09b9d0f",
   "metadata": {
    "execution": {
     "iopub.execute_input": "2023-01-26T20:46:51.776776Z",
     "iopub.status.busy": "2023-01-26T20:46:51.775960Z",
     "iopub.status.idle": "2023-01-26T20:46:51.839979Z",
     "shell.execute_reply": "2023-01-26T20:46:51.838648Z"
    },
    "papermill": {
     "duration": 0.096613,
     "end_time": "2023-01-26T20:46:51.842461",
     "exception": false,
     "start_time": "2023-01-26T20:46:51.745848",
     "status": "completed"
    },
    "tags": []
   },
   "outputs": [
    {
     "data": {
      "text/html": [
       "<div>\n",
       "<style scoped>\n",
       "    .dataframe tbody tr th:only-of-type {\n",
       "        vertical-align: middle;\n",
       "    }\n",
       "\n",
       "    .dataframe tbody tr th {\n",
       "        vertical-align: top;\n",
       "    }\n",
       "\n",
       "    .dataframe thead th {\n",
       "        text-align: right;\n",
       "    }\n",
       "</style>\n",
       "<table border=\"1\" class=\"dataframe\">\n",
       "  <thead>\n",
       "    <tr style=\"text-align: right;\">\n",
       "      <th></th>\n",
       "      <th>id</th>\n",
       "      <th>name</th>\n",
       "      <th>host_id</th>\n",
       "      <th>host_name</th>\n",
       "      <th>neighbourhood_group</th>\n",
       "      <th>neighbourhood</th>\n",
       "      <th>latitude</th>\n",
       "      <th>longitude</th>\n",
       "      <th>room_type</th>\n",
       "      <th>price</th>\n",
       "      <th>minimum_nights</th>\n",
       "      <th>number_of_reviews</th>\n",
       "      <th>last_review</th>\n",
       "      <th>reviews_per_month</th>\n",
       "      <th>calculated_host_listings_count</th>\n",
       "      <th>availability_365</th>\n",
       "      <th>number_of_reviews_ltm</th>\n",
       "      <th>license</th>\n",
       "      <th>state</th>\n",
       "      <th>city</th>\n",
       "    </tr>\n",
       "  </thead>\n",
       "  <tbody>\n",
       "    <tr>\n",
       "      <th>222429</th>\n",
       "      <td>35159128</td>\n",
       "      <td>SAHARA Las Vegas, Marra Style King</td>\n",
       "      <td>263748930</td>\n",
       "      <td>SAHARA Las Vegas</td>\n",
       "      <td>NaN</td>\n",
       "      <td>Unincorporated Areas</td>\n",
       "      <td>36.143470</td>\n",
       "      <td>-115.156250</td>\n",
       "      <td>Private room</td>\n",
       "      <td>247</td>\n",
       "      <td>1</td>\n",
       "      <td>927</td>\n",
       "      <td>2022-09-05</td>\n",
       "      <td>190.48</td>\n",
       "      <td>11</td>\n",
       "      <td>290</td>\n",
       "      <td>927</td>\n",
       "      <td>&lt;NA&gt;</td>\n",
       "      <td>NV</td>\n",
       "      <td>Clark County</td>\n",
       "    </tr>\n",
       "    <tr>\n",
       "      <th>216543</th>\n",
       "      <td>53843545</td>\n",
       "      <td>Skyline views in Lower Manhattan</td>\n",
       "      <td>435369966</td>\n",
       "      <td>Millennium Downtown</td>\n",
       "      <td>NaN</td>\n",
       "      <td>Ward E (councilmember James Solomon)</td>\n",
       "      <td>40.710026</td>\n",
       "      <td>-74.011360</td>\n",
       "      <td>Private room</td>\n",
       "      <td>760</td>\n",
       "      <td>1</td>\n",
       "      <td>887</td>\n",
       "      <td>2022-09-12</td>\n",
       "      <td>126.11</td>\n",
       "      <td>7</td>\n",
       "      <td>361</td>\n",
       "      <td>887</td>\n",
       "      <td>&lt;NA&gt;</td>\n",
       "      <td>NJ</td>\n",
       "      <td>Jersey City</td>\n",
       "    </tr>\n",
       "    <tr>\n",
       "      <th>138692</th>\n",
       "      <td>659366271388568374</td>\n",
       "      <td>Standard Queen Bed at Selina Union Market Wash...</td>\n",
       "      <td>459231442</td>\n",
       "      <td>Selina Union Market Washington DC</td>\n",
       "      <td>NaN</td>\n",
       "      <td>Downtown, Chinatown, Penn Quarters, Mount Vern...</td>\n",
       "      <td>38.905465</td>\n",
       "      <td>-77.015807</td>\n",
       "      <td>Entire home/apt</td>\n",
       "      <td>197</td>\n",
       "      <td>1</td>\n",
       "      <td>259</td>\n",
       "      <td>2022-09-13</td>\n",
       "      <td>105.00</td>\n",
       "      <td>3</td>\n",
       "      <td>138</td>\n",
       "      <td>259</td>\n",
       "      <td>Exempt</td>\n",
       "      <td>DC</td>\n",
       "      <td>Washington D.C.</td>\n",
       "    </tr>\n",
       "    <tr>\n",
       "      <th>291024</th>\n",
       "      <td>54227245</td>\n",
       "      <td>The Vinyl at Music Row - 1 Bedroom Apartment</td>\n",
       "      <td>438770271</td>\n",
       "      <td>Christy</td>\n",
       "      <td>NaN</td>\n",
       "      <td>District 19</td>\n",
       "      <td>36.146430</td>\n",
       "      <td>-86.792320</td>\n",
       "      <td>Entire home/apt</td>\n",
       "      <td>108</td>\n",
       "      <td>1</td>\n",
       "      <td>768</td>\n",
       "      <td>2022-09-14</td>\n",
       "      <td>93.66</td>\n",
       "      <td>3</td>\n",
       "      <td>354</td>\n",
       "      <td>768</td>\n",
       "      <td>&lt;NA&gt;</td>\n",
       "      <td>TN</td>\n",
       "      <td>Nashville</td>\n",
       "    </tr>\n",
       "    <tr>\n",
       "      <th>29766</th>\n",
       "      <td>578174478591578178</td>\n",
       "      <td>Sonder Lüm | King Room w/ Terrace</td>\n",
       "      <td>253105222</td>\n",
       "      <td>Sonder (Los Angeles)</td>\n",
       "      <td>Other Cities</td>\n",
       "      <td>Inglewood</td>\n",
       "      <td>33.944020</td>\n",
       "      <td>-118.340860</td>\n",
       "      <td>Private room</td>\n",
       "      <td>145</td>\n",
       "      <td>2</td>\n",
       "      <td>523</td>\n",
       "      <td>2022-08-26</td>\n",
       "      <td>86.21</td>\n",
       "      <td>35</td>\n",
       "      <td>364</td>\n",
       "      <td>523</td>\n",
       "      <td>&lt;NA&gt;</td>\n",
       "      <td>CA</td>\n",
       "      <td>Los Angeles</td>\n",
       "    </tr>\n",
       "  </tbody>\n",
       "</table>\n",
       "</div>"
      ],
      "text/plain": [
       "                        id                                               name  \\\n",
       "222429            35159128                 SAHARA Las Vegas, Marra Style King   \n",
       "216543            53843545                   Skyline views in Lower Manhattan   \n",
       "138692  659366271388568374  Standard Queen Bed at Selina Union Market Wash...   \n",
       "291024            54227245       The Vinyl at Music Row - 1 Bedroom Apartment   \n",
       "29766   578174478591578178                  Sonder Lüm | King Room w/ Terrace   \n",
       "\n",
       "          host_id                          host_name neighbourhood_group  \\\n",
       "222429  263748930                   SAHARA Las Vegas                 NaN   \n",
       "216543  435369966                Millennium Downtown                 NaN   \n",
       "138692  459231442  Selina Union Market Washington DC                 NaN   \n",
       "291024  438770271                            Christy                 NaN   \n",
       "29766   253105222               Sonder (Los Angeles)        Other Cities   \n",
       "\n",
       "                                            neighbourhood   latitude  \\\n",
       "222429                               Unincorporated Areas  36.143470   \n",
       "216543               Ward E (councilmember James Solomon)  40.710026   \n",
       "138692  Downtown, Chinatown, Penn Quarters, Mount Vern...  38.905465   \n",
       "291024                                        District 19  36.146430   \n",
       "29766                                           Inglewood  33.944020   \n",
       "\n",
       "         longitude        room_type  price  minimum_nights  number_of_reviews  \\\n",
       "222429 -115.156250     Private room    247               1                927   \n",
       "216543  -74.011360     Private room    760               1                887   \n",
       "138692  -77.015807  Entire home/apt    197               1                259   \n",
       "291024  -86.792320  Entire home/apt    108               1                768   \n",
       "29766  -118.340860     Private room    145               2                523   \n",
       "\n",
       "       last_review  reviews_per_month  calculated_host_listings_count  \\\n",
       "222429  2022-09-05             190.48                              11   \n",
       "216543  2022-09-12             126.11                               7   \n",
       "138692  2022-09-13             105.00                               3   \n",
       "291024  2022-09-14              93.66                               3   \n",
       "29766   2022-08-26              86.21                              35   \n",
       "\n",
       "        availability_365  number_of_reviews_ltm license state             city  \n",
       "222429               290                    927    <NA>    NV     Clark County  \n",
       "216543               361                    887    <NA>    NJ      Jersey City  \n",
       "138692               138                    259  Exempt    DC  Washington D.C.  \n",
       "291024               354                    768    <NA>    TN        Nashville  \n",
       "29766                364                    523    <NA>    CA      Los Angeles  "
      ]
     },
     "execution_count": 17,
     "metadata": {},
     "output_type": "execute_result"
    }
   ],
   "source": [
    "airbnb_usa.nlargest(5, 'reviews_per_month')"
   ]
  },
  {
   "cell_type": "markdown",
   "id": "05321eba",
   "metadata": {
    "papermill": {
     "duration": 0.041109,
     "end_time": "2023-01-26T20:46:51.912711",
     "exception": false,
     "start_time": "2023-01-26T20:46:51.871602",
     "status": "completed"
    },
    "tags": []
   },
   "source": [
    "Its maximum observations are valid.\n",
    "\n",
    "Let's check the maximum observations for **calculated_host_listings_count**."
   ]
  },
  {
   "cell_type": "code",
   "execution_count": 18,
   "id": "5e51cfed",
   "metadata": {
    "execution": {
     "iopub.execute_input": "2023-01-26T20:46:51.999352Z",
     "iopub.status.busy": "2023-01-26T20:46:51.998940Z",
     "iopub.status.idle": "2023-01-26T20:46:52.064539Z",
     "shell.execute_reply": "2023-01-26T20:46:52.063443Z"
    },
    "papermill": {
     "duration": 0.111088,
     "end_time": "2023-01-26T20:46:52.067119",
     "exception": false,
     "start_time": "2023-01-26T20:46:51.956031",
     "status": "completed"
    },
    "tags": []
   },
   "outputs": [
    {
     "data": {
      "text/html": [
       "<div>\n",
       "<style scoped>\n",
       "    .dataframe tbody tr th:only-of-type {\n",
       "        vertical-align: middle;\n",
       "    }\n",
       "\n",
       "    .dataframe tbody tr th {\n",
       "        vertical-align: top;\n",
       "    }\n",
       "\n",
       "    .dataframe thead th {\n",
       "        text-align: right;\n",
       "    }\n",
       "</style>\n",
       "<table border=\"1\" class=\"dataframe\">\n",
       "  <thead>\n",
       "    <tr style=\"text-align: right;\">\n",
       "      <th></th>\n",
       "      <th>id</th>\n",
       "      <th>name</th>\n",
       "      <th>host_id</th>\n",
       "      <th>host_name</th>\n",
       "      <th>neighbourhood_group</th>\n",
       "      <th>neighbourhood</th>\n",
       "      <th>latitude</th>\n",
       "      <th>longitude</th>\n",
       "      <th>room_type</th>\n",
       "      <th>price</th>\n",
       "      <th>minimum_nights</th>\n",
       "      <th>number_of_reviews</th>\n",
       "      <th>last_review</th>\n",
       "      <th>reviews_per_month</th>\n",
       "      <th>calculated_host_listings_count</th>\n",
       "      <th>availability_365</th>\n",
       "      <th>number_of_reviews_ltm</th>\n",
       "      <th>license</th>\n",
       "      <th>state</th>\n",
       "      <th>city</th>\n",
       "    </tr>\n",
       "  </thead>\n",
       "  <tbody>\n",
       "    <tr>\n",
       "      <th>171967</th>\n",
       "      <td>47812700</td>\n",
       "      <td>Near Beaches and Attractions! 2 Modern Units, ...</td>\n",
       "      <td>5615582</td>\n",
       "      <td>RoomPicks</td>\n",
       "      <td>Honolulu</td>\n",
       "      <td>Primary Urban Center</td>\n",
       "      <td>21.28237</td>\n",
       "      <td>-157.82870</td>\n",
       "      <td>Private room</td>\n",
       "      <td>434</td>\n",
       "      <td>1</td>\n",
       "      <td>1</td>\n",
       "      <td>2021-08-15</td>\n",
       "      <td>0.08</td>\n",
       "      <td>660</td>\n",
       "      <td>356</td>\n",
       "      <td>0</td>\n",
       "      <td>&lt;NA&gt;</td>\n",
       "      <td>HI</td>\n",
       "      <td>Hawaii</td>\n",
       "    </tr>\n",
       "    <tr>\n",
       "      <th>171972</th>\n",
       "      <td>47812703</td>\n",
       "      <td>Rare Gem! Walk to Kaimana Beach &amp; Kapiolani Park</td>\n",
       "      <td>5615582</td>\n",
       "      <td>RoomPicks</td>\n",
       "      <td>Honolulu</td>\n",
       "      <td>Primary Urban Center</td>\n",
       "      <td>21.28170</td>\n",
       "      <td>-157.82853</td>\n",
       "      <td>Private room</td>\n",
       "      <td>217</td>\n",
       "      <td>1</td>\n",
       "      <td>0</td>\n",
       "      <td>NaT</td>\n",
       "      <td>NaN</td>\n",
       "      <td>660</td>\n",
       "      <td>356</td>\n",
       "      <td>0</td>\n",
       "      <td>Exempt</td>\n",
       "      <td>HI</td>\n",
       "      <td>Hawaii</td>\n",
       "    </tr>\n",
       "    <tr>\n",
       "      <th>171975</th>\n",
       "      <td>47812705</td>\n",
       "      <td>Adventure Awaits! Pool, Near Saint Augustine b...</td>\n",
       "      <td>5615582</td>\n",
       "      <td>RoomPicks</td>\n",
       "      <td>Honolulu</td>\n",
       "      <td>Primary Urban Center</td>\n",
       "      <td>21.28207</td>\n",
       "      <td>-157.82865</td>\n",
       "      <td>Private room</td>\n",
       "      <td>214</td>\n",
       "      <td>1</td>\n",
       "      <td>16</td>\n",
       "      <td>2021-12-25</td>\n",
       "      <td>0.99</td>\n",
       "      <td>660</td>\n",
       "      <td>355</td>\n",
       "      <td>2</td>\n",
       "      <td>Exempt</td>\n",
       "      <td>HI</td>\n",
       "      <td>Hawaii</td>\n",
       "    </tr>\n",
       "    <tr>\n",
       "      <th>173736</th>\n",
       "      <td>49445200</td>\n",
       "      <td>Rare Find! Two Comfy Units, Close to Attractions</td>\n",
       "      <td>5615582</td>\n",
       "      <td>RoomPicks</td>\n",
       "      <td>Hawaii</td>\n",
       "      <td>Kau</td>\n",
       "      <td>19.42981</td>\n",
       "      <td>-155.25764</td>\n",
       "      <td>Private room</td>\n",
       "      <td>523</td>\n",
       "      <td>1</td>\n",
       "      <td>0</td>\n",
       "      <td>NaT</td>\n",
       "      <td>NaN</td>\n",
       "      <td>660</td>\n",
       "      <td>224</td>\n",
       "      <td>0</td>\n",
       "      <td>&lt;NA&gt;</td>\n",
       "      <td>HI</td>\n",
       "      <td>Hawaii</td>\n",
       "    </tr>\n",
       "    <tr>\n",
       "      <th>173925</th>\n",
       "      <td>49712609</td>\n",
       "      <td>Rare Find! 2 Onsite Pools, Restaurant and Bar</td>\n",
       "      <td>5615582</td>\n",
       "      <td>RoomPicks</td>\n",
       "      <td>Honolulu</td>\n",
       "      <td>Primary Urban Center</td>\n",
       "      <td>21.28578</td>\n",
       "      <td>-157.83983</td>\n",
       "      <td>Private room</td>\n",
       "      <td>263</td>\n",
       "      <td>1</td>\n",
       "      <td>0</td>\n",
       "      <td>NaT</td>\n",
       "      <td>NaN</td>\n",
       "      <td>660</td>\n",
       "      <td>338</td>\n",
       "      <td>0</td>\n",
       "      <td>Exempt</td>\n",
       "      <td>HI</td>\n",
       "      <td>Hawaii</td>\n",
       "    </tr>\n",
       "  </tbody>\n",
       "</table>\n",
       "</div>"
      ],
      "text/plain": [
       "              id                                               name  host_id  \\\n",
       "171967  47812700  Near Beaches and Attractions! 2 Modern Units, ...  5615582   \n",
       "171972  47812703   Rare Gem! Walk to Kaimana Beach & Kapiolani Park  5615582   \n",
       "171975  47812705  Adventure Awaits! Pool, Near Saint Augustine b...  5615582   \n",
       "173736  49445200   Rare Find! Two Comfy Units, Close to Attractions  5615582   \n",
       "173925  49712609      Rare Find! 2 Onsite Pools, Restaurant and Bar  5615582   \n",
       "\n",
       "        host_name neighbourhood_group         neighbourhood  latitude  \\\n",
       "171967  RoomPicks            Honolulu  Primary Urban Center  21.28237   \n",
       "171972  RoomPicks            Honolulu  Primary Urban Center  21.28170   \n",
       "171975  RoomPicks            Honolulu  Primary Urban Center  21.28207   \n",
       "173736  RoomPicks              Hawaii                   Kau  19.42981   \n",
       "173925  RoomPicks            Honolulu  Primary Urban Center  21.28578   \n",
       "\n",
       "        longitude     room_type  price  minimum_nights  number_of_reviews  \\\n",
       "171967 -157.82870  Private room    434               1                  1   \n",
       "171972 -157.82853  Private room    217               1                  0   \n",
       "171975 -157.82865  Private room    214               1                 16   \n",
       "173736 -155.25764  Private room    523               1                  0   \n",
       "173925 -157.83983  Private room    263               1                  0   \n",
       "\n",
       "       last_review  reviews_per_month  calculated_host_listings_count  \\\n",
       "171967  2021-08-15               0.08                             660   \n",
       "171972         NaT                NaN                             660   \n",
       "171975  2021-12-25               0.99                             660   \n",
       "173736         NaT                NaN                             660   \n",
       "173925         NaT                NaN                             660   \n",
       "\n",
       "        availability_365  number_of_reviews_ltm license state    city  \n",
       "171967               356                      0    <NA>    HI  Hawaii  \n",
       "171972               356                      0  Exempt    HI  Hawaii  \n",
       "171975               355                      2  Exempt    HI  Hawaii  \n",
       "173736               224                      0    <NA>    HI  Hawaii  \n",
       "173925               338                      0  Exempt    HI  Hawaii  "
      ]
     },
     "execution_count": 18,
     "metadata": {},
     "output_type": "execute_result"
    }
   ],
   "source": [
    "airbnb_usa.nlargest(5, 'calculated_host_listings_count')"
   ]
  },
  {
   "cell_type": "markdown",
   "id": "d71f427a",
   "metadata": {
    "papermill": {
     "duration": 0.028219,
     "end_time": "2023-01-26T20:46:52.124168",
     "exception": false,
     "start_time": "2023-01-26T20:46:52.095949",
     "status": "completed"
    },
    "tags": []
   },
   "source": [
    "Its maximum observations are valid.\n",
    "\n",
    "Let's check the minimum and maximum observations for **number_of_reviews_ltm**."
   ]
  },
  {
   "cell_type": "code",
   "execution_count": 19,
   "id": "c88cd7e4",
   "metadata": {
    "execution": {
     "iopub.execute_input": "2023-01-26T20:46:52.184593Z",
     "iopub.status.busy": "2023-01-26T20:46:52.183463Z",
     "iopub.status.idle": "2023-01-26T20:46:52.246591Z",
     "shell.execute_reply": "2023-01-26T20:46:52.245701Z"
    },
    "papermill": {
     "duration": 0.095857,
     "end_time": "2023-01-26T20:46:52.249102",
     "exception": false,
     "start_time": "2023-01-26T20:46:52.153245",
     "status": "completed"
    },
    "tags": []
   },
   "outputs": [
    {
     "data": {
      "text/html": [
       "<div>\n",
       "<style scoped>\n",
       "    .dataframe tbody tr th:only-of-type {\n",
       "        vertical-align: middle;\n",
       "    }\n",
       "\n",
       "    .dataframe tbody tr th {\n",
       "        vertical-align: top;\n",
       "    }\n",
       "\n",
       "    .dataframe thead th {\n",
       "        text-align: right;\n",
       "    }\n",
       "</style>\n",
       "<table border=\"1\" class=\"dataframe\">\n",
       "  <thead>\n",
       "    <tr style=\"text-align: right;\">\n",
       "      <th></th>\n",
       "      <th>id</th>\n",
       "      <th>name</th>\n",
       "      <th>host_id</th>\n",
       "      <th>host_name</th>\n",
       "      <th>neighbourhood_group</th>\n",
       "      <th>neighbourhood</th>\n",
       "      <th>latitude</th>\n",
       "      <th>longitude</th>\n",
       "      <th>room_type</th>\n",
       "      <th>price</th>\n",
       "      <th>minimum_nights</th>\n",
       "      <th>number_of_reviews</th>\n",
       "      <th>last_review</th>\n",
       "      <th>reviews_per_month</th>\n",
       "      <th>calculated_host_listings_count</th>\n",
       "      <th>availability_365</th>\n",
       "      <th>number_of_reviews_ltm</th>\n",
       "      <th>license</th>\n",
       "      <th>state</th>\n",
       "      <th>city</th>\n",
       "    </tr>\n",
       "  </thead>\n",
       "  <tbody>\n",
       "    <tr>\n",
       "      <th>259583</th>\n",
       "      <td>49381739</td>\n",
       "      <td>Come catch a Broadway Show &amp; stay in Times Square</td>\n",
       "      <td>397872858</td>\n",
       "      <td>M</td>\n",
       "      <td>Manhattan</td>\n",
       "      <td>Theater District</td>\n",
       "      <td>40.763600</td>\n",
       "      <td>-73.98473</td>\n",
       "      <td>Private room</td>\n",
       "      <td>457</td>\n",
       "      <td>1</td>\n",
       "      <td>1229</td>\n",
       "      <td>2022-08-23</td>\n",
       "      <td>78.61</td>\n",
       "      <td>12</td>\n",
       "      <td>319</td>\n",
       "      <td>949</td>\n",
       "      <td>&lt;NA&gt;</td>\n",
       "      <td>NY</td>\n",
       "      <td>New York City</td>\n",
       "    </tr>\n",
       "    <tr>\n",
       "      <th>222429</th>\n",
       "      <td>35159128</td>\n",
       "      <td>SAHARA Las Vegas, Marra Style King</td>\n",
       "      <td>263748930</td>\n",
       "      <td>SAHARA Las Vegas</td>\n",
       "      <td>NaN</td>\n",
       "      <td>Unincorporated Areas</td>\n",
       "      <td>36.143470</td>\n",
       "      <td>-115.15625</td>\n",
       "      <td>Private room</td>\n",
       "      <td>247</td>\n",
       "      <td>1</td>\n",
       "      <td>927</td>\n",
       "      <td>2022-09-05</td>\n",
       "      <td>190.48</td>\n",
       "      <td>11</td>\n",
       "      <td>290</td>\n",
       "      <td>927</td>\n",
       "      <td>&lt;NA&gt;</td>\n",
       "      <td>NV</td>\n",
       "      <td>Clark County</td>\n",
       "    </tr>\n",
       "    <tr>\n",
       "      <th>215898</th>\n",
       "      <td>44799007</td>\n",
       "      <td>Sonder Battery Park | Studio Apartment</td>\n",
       "      <td>219517861</td>\n",
       "      <td>Sonder (NYC)</td>\n",
       "      <td>NaN</td>\n",
       "      <td>Ward F (councilmember Jermaine D. Robinson)</td>\n",
       "      <td>40.706170</td>\n",
       "      <td>-74.01486</td>\n",
       "      <td>Entire home/apt</td>\n",
       "      <td>521</td>\n",
       "      <td>2</td>\n",
       "      <td>1518</td>\n",
       "      <td>2022-09-03</td>\n",
       "      <td>62.13</td>\n",
       "      <td>31</td>\n",
       "      <td>250</td>\n",
       "      <td>910</td>\n",
       "      <td>&lt;NA&gt;</td>\n",
       "      <td>NJ</td>\n",
       "      <td>Jersey City</td>\n",
       "    </tr>\n",
       "    <tr>\n",
       "      <th>216543</th>\n",
       "      <td>53843545</td>\n",
       "      <td>Skyline views in Lower Manhattan</td>\n",
       "      <td>435369966</td>\n",
       "      <td>Millennium Downtown</td>\n",
       "      <td>NaN</td>\n",
       "      <td>Ward E (councilmember James Solomon)</td>\n",
       "      <td>40.710026</td>\n",
       "      <td>-74.01136</td>\n",
       "      <td>Private room</td>\n",
       "      <td>760</td>\n",
       "      <td>1</td>\n",
       "      <td>887</td>\n",
       "      <td>2022-09-12</td>\n",
       "      <td>126.11</td>\n",
       "      <td>7</td>\n",
       "      <td>361</td>\n",
       "      <td>887</td>\n",
       "      <td>&lt;NA&gt;</td>\n",
       "      <td>NJ</td>\n",
       "      <td>Jersey City</td>\n",
       "    </tr>\n",
       "    <tr>\n",
       "      <th>222414</th>\n",
       "      <td>35158303</td>\n",
       "      <td>SAHARA Las Vegas, Marra 1 King</td>\n",
       "      <td>263748930</td>\n",
       "      <td>SAHARA Las Vegas</td>\n",
       "      <td>NaN</td>\n",
       "      <td>Unincorporated Areas</td>\n",
       "      <td>36.142150</td>\n",
       "      <td>-115.15706</td>\n",
       "      <td>Private room</td>\n",
       "      <td>238</td>\n",
       "      <td>1</td>\n",
       "      <td>1542</td>\n",
       "      <td>2022-09-05</td>\n",
       "      <td>83.80</td>\n",
       "      <td>11</td>\n",
       "      <td>298</td>\n",
       "      <td>860</td>\n",
       "      <td>&lt;NA&gt;</td>\n",
       "      <td>NV</td>\n",
       "      <td>Clark County</td>\n",
       "    </tr>\n",
       "  </tbody>\n",
       "</table>\n",
       "</div>"
      ],
      "text/plain": [
       "              id                                               name  \\\n",
       "259583  49381739  Come catch a Broadway Show & stay in Times Square   \n",
       "222429  35159128                 SAHARA Las Vegas, Marra Style King   \n",
       "215898  44799007             Sonder Battery Park | Studio Apartment   \n",
       "216543  53843545                   Skyline views in Lower Manhattan   \n",
       "222414  35158303                     SAHARA Las Vegas, Marra 1 King   \n",
       "\n",
       "          host_id            host_name neighbourhood_group  \\\n",
       "259583  397872858                    M           Manhattan   \n",
       "222429  263748930     SAHARA Las Vegas                 NaN   \n",
       "215898  219517861         Sonder (NYC)                 NaN   \n",
       "216543  435369966  Millennium Downtown                 NaN   \n",
       "222414  263748930     SAHARA Las Vegas                 NaN   \n",
       "\n",
       "                                      neighbourhood   latitude  longitude  \\\n",
       "259583                             Theater District  40.763600  -73.98473   \n",
       "222429                         Unincorporated Areas  36.143470 -115.15625   \n",
       "215898  Ward F (councilmember Jermaine D. Robinson)  40.706170  -74.01486   \n",
       "216543         Ward E (councilmember James Solomon)  40.710026  -74.01136   \n",
       "222414                         Unincorporated Areas  36.142150 -115.15706   \n",
       "\n",
       "              room_type  price  minimum_nights  number_of_reviews last_review  \\\n",
       "259583     Private room    457               1               1229  2022-08-23   \n",
       "222429     Private room    247               1                927  2022-09-05   \n",
       "215898  Entire home/apt    521               2               1518  2022-09-03   \n",
       "216543     Private room    760               1                887  2022-09-12   \n",
       "222414     Private room    238               1               1542  2022-09-05   \n",
       "\n",
       "        reviews_per_month  calculated_host_listings_count  availability_365  \\\n",
       "259583              78.61                              12               319   \n",
       "222429             190.48                              11               290   \n",
       "215898              62.13                              31               250   \n",
       "216543             126.11                               7               361   \n",
       "222414              83.80                              11               298   \n",
       "\n",
       "        number_of_reviews_ltm license state           city  \n",
       "259583                    949    <NA>    NY  New York City  \n",
       "222429                    927    <NA>    NV   Clark County  \n",
       "215898                    910    <NA>    NJ    Jersey City  \n",
       "216543                    887    <NA>    NJ    Jersey City  \n",
       "222414                    860    <NA>    NV   Clark County  "
      ]
     },
     "execution_count": 19,
     "metadata": {},
     "output_type": "execute_result"
    }
   ],
   "source": [
    "airbnb_usa.nlargest(5, 'number_of_reviews_ltm')"
   ]
  },
  {
   "cell_type": "markdown",
   "id": "8dcae3e4",
   "metadata": {
    "papermill": {
     "duration": 0.028873,
     "end_time": "2023-01-26T20:46:52.307019",
     "exception": false,
     "start_time": "2023-01-26T20:46:52.278146",
     "status": "completed"
    },
    "tags": []
   },
   "source": [
    "Its maximum observations are valid."
   ]
  },
  {
   "cell_type": "markdown",
   "id": "1fd12cb6",
   "metadata": {
    "papermill": {
     "duration": 0.029164,
     "end_time": "2023-01-26T20:46:52.366141",
     "exception": false,
     "start_time": "2023-01-26T20:46:52.336977",
     "status": "completed"
    },
    "tags": []
   },
   "source": [
    "## String fields ranges and formats"
   ]
  },
  {
   "cell_type": "code",
   "execution_count": 20,
   "id": "193802d8",
   "metadata": {
    "execution": {
     "iopub.execute_input": "2023-01-26T20:46:52.427533Z",
     "iopub.status.busy": "2023-01-26T20:46:52.426759Z",
     "iopub.status.idle": "2023-01-26T20:46:52.932364Z",
     "shell.execute_reply": "2023-01-26T20:46:52.931206Z"
    },
    "papermill": {
     "duration": 0.540274,
     "end_time": "2023-01-26T20:46:52.935976",
     "exception": false,
     "start_time": "2023-01-26T20:46:52.395702",
     "status": "completed"
    },
    "tags": []
   },
   "outputs": [
    {
     "name": "stderr",
     "output_type": "stream",
     "text": [
      "/opt/conda/lib/python3.7/site-packages/ipykernel_launcher.py:1: FutureWarning: Treating datetime data as categorical rather than numeric in `.describe` is deprecated and will be removed in a future version of pandas. Specify `datetime_is_numeric=True` to silence this warning and adopt the future behavior now.\n",
      "  \"\"\"Entry point for launching an IPython kernel.\n"
     ]
    },
    {
     "data": {
      "text/html": [
       "<div>\n",
       "<style scoped>\n",
       "    .dataframe tbody tr th:only-of-type {\n",
       "        vertical-align: middle;\n",
       "    }\n",
       "\n",
       "    .dataframe tbody tr th {\n",
       "        vertical-align: top;\n",
       "    }\n",
       "\n",
       "    .dataframe thead th {\n",
       "        text-align: right;\n",
       "    }\n",
       "</style>\n",
       "<table border=\"1\" class=\"dataframe\">\n",
       "  <thead>\n",
       "    <tr style=\"text-align: right;\">\n",
       "      <th></th>\n",
       "      <th>name</th>\n",
       "      <th>host_name</th>\n",
       "      <th>neighbourhood_group</th>\n",
       "      <th>neighbourhood</th>\n",
       "      <th>room_type</th>\n",
       "      <th>last_review</th>\n",
       "      <th>license</th>\n",
       "      <th>state</th>\n",
       "      <th>city</th>\n",
       "    </tr>\n",
       "  </thead>\n",
       "  <tbody>\n",
       "    <tr>\n",
       "      <th>count</th>\n",
       "      <td>264019</td>\n",
       "      <td>263481</td>\n",
       "      <td>111270</td>\n",
       "      <td>263322</td>\n",
       "      <td>264020</td>\n",
       "      <td>217819</td>\n",
       "      <td>70312</td>\n",
       "      <td>264020</td>\n",
       "      <td>264020</td>\n",
       "    </tr>\n",
       "    <tr>\n",
       "      <th>unique</th>\n",
       "      <td>264019</td>\n",
       "      <td>32895</td>\n",
       "      <td>34</td>\n",
       "      <td>1574</td>\n",
       "      <td>4</td>\n",
       "      <td>2963</td>\n",
       "      <td>47677</td>\n",
       "      <td>19</td>\n",
       "      <td>31</td>\n",
       "    </tr>\n",
       "    <tr>\n",
       "      <th>top</th>\n",
       "      <td>Panoramic Ocean View Venice Beach</td>\n",
       "      <td>Blueground</td>\n",
       "      <td>City of Los Angeles</td>\n",
       "      <td>Unincorporated Areas</td>\n",
       "      <td>Entire home/apt</td>\n",
       "      <td>2022-09-05 00:00:00</td>\n",
       "      <td>Exempt</td>\n",
       "      <td>CA</td>\n",
       "      <td>Los Angeles</td>\n",
       "    </tr>\n",
       "    <tr>\n",
       "      <th>freq</th>\n",
       "      <td>1</td>\n",
       "      <td>2428</td>\n",
       "      <td>18249</td>\n",
       "      <td>12041</td>\n",
       "      <td>199135</td>\n",
       "      <td>11234</td>\n",
       "      <td>5046</td>\n",
       "      <td>77235</td>\n",
       "      <td>43826</td>\n",
       "    </tr>\n",
       "    <tr>\n",
       "      <th>first</th>\n",
       "      <td>NaN</td>\n",
       "      <td>NaN</td>\n",
       "      <td>NaN</td>\n",
       "      <td>NaN</td>\n",
       "      <td>NaN</td>\n",
       "      <td>2010-10-04 00:00:00</td>\n",
       "      <td>NaN</td>\n",
       "      <td>NaN</td>\n",
       "      <td>NaN</td>\n",
       "    </tr>\n",
       "    <tr>\n",
       "      <th>last</th>\n",
       "      <td>NaN</td>\n",
       "      <td>NaN</td>\n",
       "      <td>NaN</td>\n",
       "      <td>NaN</td>\n",
       "      <td>NaN</td>\n",
       "      <td>2022-09-28 00:00:00</td>\n",
       "      <td>NaN</td>\n",
       "      <td>NaN</td>\n",
       "      <td>NaN</td>\n",
       "    </tr>\n",
       "  </tbody>\n",
       "</table>\n",
       "</div>"
      ],
      "text/plain": [
       "                                     name   host_name  neighbourhood_group  \\\n",
       "count                              264019      263481               111270   \n",
       "unique                             264019       32895                   34   \n",
       "top     Panoramic Ocean View Venice Beach  Blueground  City of Los Angeles   \n",
       "freq                                    1        2428                18249   \n",
       "first                                 NaN         NaN                  NaN   \n",
       "last                                  NaN         NaN                  NaN   \n",
       "\n",
       "               neighbourhood        room_type          last_review license  \\\n",
       "count                 263322           264020               217819   70312   \n",
       "unique                  1574                4                 2963   47677   \n",
       "top     Unincorporated Areas  Entire home/apt  2022-09-05 00:00:00  Exempt   \n",
       "freq                   12041           199135                11234    5046   \n",
       "first                    NaN              NaN  2010-10-04 00:00:00     NaN   \n",
       "last                     NaN              NaN  2022-09-28 00:00:00     NaN   \n",
       "\n",
       "         state         city  \n",
       "count   264020       264020  \n",
       "unique      19           31  \n",
       "top         CA  Los Angeles  \n",
       "freq     77235        43826  \n",
       "first      NaN          NaN  \n",
       "last       NaN          NaN  "
      ]
     },
     "execution_count": 20,
     "metadata": {},
     "output_type": "execute_result"
    }
   ],
   "source": [
    "airbnb_usa.drop(airbnb_usa.describe(), axis='columns').describe()"
   ]
  },
  {
   "cell_type": "markdown",
   "id": "edf88f12",
   "metadata": {
    "papermill": {
     "duration": 0.030051,
     "end_time": "2023-01-26T20:46:52.997291",
     "exception": false,
     "start_time": "2023-01-26T20:46:52.967240",
     "status": "completed"
    },
    "tags": []
   },
   "source": [
    "Let's check the most frequent observations for **host_name**."
   ]
  },
  {
   "cell_type": "code",
   "execution_count": 21,
   "id": "b112589b",
   "metadata": {
    "execution": {
     "iopub.execute_input": "2023-01-26T20:46:53.057901Z",
     "iopub.status.busy": "2023-01-26T20:46:53.057466Z",
     "iopub.status.idle": "2023-01-26T20:46:53.102918Z",
     "shell.execute_reply": "2023-01-26T20:46:53.101799Z"
    },
    "papermill": {
     "duration": 0.078846,
     "end_time": "2023-01-26T20:46:53.105693",
     "exception": false,
     "start_time": "2023-01-26T20:46:53.026847",
     "status": "completed"
    },
    "tags": []
   },
   "outputs": [
    {
     "data": {
      "text/html": [
       "<div>\n",
       "<style scoped>\n",
       "    .dataframe tbody tr th:only-of-type {\n",
       "        vertical-align: middle;\n",
       "    }\n",
       "\n",
       "    .dataframe tbody tr th {\n",
       "        vertical-align: top;\n",
       "    }\n",
       "\n",
       "    .dataframe thead th {\n",
       "        text-align: right;\n",
       "    }\n",
       "</style>\n",
       "<table border=\"1\" class=\"dataframe\">\n",
       "  <thead>\n",
       "    <tr style=\"text-align: right;\">\n",
       "      <th></th>\n",
       "      <th>id</th>\n",
       "      <th>name</th>\n",
       "      <th>host_id</th>\n",
       "      <th>host_name</th>\n",
       "      <th>neighbourhood_group</th>\n",
       "      <th>neighbourhood</th>\n",
       "      <th>latitude</th>\n",
       "      <th>longitude</th>\n",
       "      <th>room_type</th>\n",
       "      <th>price</th>\n",
       "      <th>minimum_nights</th>\n",
       "      <th>number_of_reviews</th>\n",
       "      <th>last_review</th>\n",
       "      <th>reviews_per_month</th>\n",
       "      <th>calculated_host_listings_count</th>\n",
       "      <th>availability_365</th>\n",
       "      <th>number_of_reviews_ltm</th>\n",
       "      <th>license</th>\n",
       "      <th>state</th>\n",
       "      <th>city</th>\n",
       "    </tr>\n",
       "  </thead>\n",
       "  <tbody>\n",
       "    <tr>\n",
       "      <th>12124</th>\n",
       "      <td>29499586</td>\n",
       "      <td>Downtown 1BR w/ Doorman, nr Disney Hall</td>\n",
       "      <td>107434423</td>\n",
       "      <td>Blueground</td>\n",
       "      <td>City of Los Angeles</td>\n",
       "      <td>Downtown</td>\n",
       "      <td>34.054053</td>\n",
       "      <td>-118.251148</td>\n",
       "      <td>Entire home/apt</td>\n",
       "      <td>195</td>\n",
       "      <td>31</td>\n",
       "      <td>0</td>\n",
       "      <td>NaT</td>\n",
       "      <td>NaN</td>\n",
       "      <td>638</td>\n",
       "      <td>251</td>\n",
       "      <td>0</td>\n",
       "      <td>&lt;NA&gt;</td>\n",
       "      <td>CA</td>\n",
       "      <td>Los Angeles</td>\n",
       "    </tr>\n",
       "    <tr>\n",
       "      <th>12266</th>\n",
       "      <td>29670430</td>\n",
       "      <td>Marina Del Rey 2BR w/ Gym, nr Venice Beach</td>\n",
       "      <td>107434423</td>\n",
       "      <td>Blueground</td>\n",
       "      <td>City of Los Angeles</td>\n",
       "      <td>Del Rey</td>\n",
       "      <td>33.987610</td>\n",
       "      <td>-118.440500</td>\n",
       "      <td>Entire home/apt</td>\n",
       "      <td>243</td>\n",
       "      <td>31</td>\n",
       "      <td>2</td>\n",
       "      <td>2020-08-05</td>\n",
       "      <td>0.05</td>\n",
       "      <td>638</td>\n",
       "      <td>312</td>\n",
       "      <td>0</td>\n",
       "      <td>&lt;NA&gt;</td>\n",
       "      <td>CA</td>\n",
       "      <td>Los Angeles</td>\n",
       "    </tr>\n",
       "    <tr>\n",
       "      <th>12268</th>\n",
       "      <td>29670960</td>\n",
       "      <td>2BR Loft Marina Del Rey, w/ Spa, nr Venice Beach</td>\n",
       "      <td>107434423</td>\n",
       "      <td>Blueground</td>\n",
       "      <td>City of Los Angeles</td>\n",
       "      <td>Venice</td>\n",
       "      <td>33.987367</td>\n",
       "      <td>-118.445900</td>\n",
       "      <td>Entire home/apt</td>\n",
       "      <td>226</td>\n",
       "      <td>31</td>\n",
       "      <td>4</td>\n",
       "      <td>2020-06-22</td>\n",
       "      <td>0.10</td>\n",
       "      <td>638</td>\n",
       "      <td>298</td>\n",
       "      <td>0</td>\n",
       "      <td>&lt;NA&gt;</td>\n",
       "      <td>CA</td>\n",
       "      <td>Los Angeles</td>\n",
       "    </tr>\n",
       "    <tr>\n",
       "      <th>12550</th>\n",
       "      <td>30413739</td>\n",
       "      <td>Hollywood 1BR w/ Pool &amp; Spa, nr coffee shops</td>\n",
       "      <td>107434423</td>\n",
       "      <td>Blueground</td>\n",
       "      <td>City of Los Angeles</td>\n",
       "      <td>Hollywood</td>\n",
       "      <td>34.099970</td>\n",
       "      <td>-118.314660</td>\n",
       "      <td>Entire home/apt</td>\n",
       "      <td>144</td>\n",
       "      <td>31</td>\n",
       "      <td>1</td>\n",
       "      <td>2022-08-11</td>\n",
       "      <td>1.00</td>\n",
       "      <td>638</td>\n",
       "      <td>320</td>\n",
       "      <td>1</td>\n",
       "      <td>&lt;NA&gt;</td>\n",
       "      <td>CA</td>\n",
       "      <td>Los Angeles</td>\n",
       "    </tr>\n",
       "    <tr>\n",
       "      <th>12552</th>\n",
       "      <td>30390978</td>\n",
       "      <td>1BR Downtown, w/ Pool+Spa, near Disney Hall</td>\n",
       "      <td>107434423</td>\n",
       "      <td>Blueground</td>\n",
       "      <td>City of Los Angeles</td>\n",
       "      <td>Downtown</td>\n",
       "      <td>34.054053</td>\n",
       "      <td>-118.251148</td>\n",
       "      <td>Entire home/apt</td>\n",
       "      <td>178</td>\n",
       "      <td>31</td>\n",
       "      <td>1</td>\n",
       "      <td>2020-06-02</td>\n",
       "      <td>0.04</td>\n",
       "      <td>638</td>\n",
       "      <td>333</td>\n",
       "      <td>0</td>\n",
       "      <td>&lt;NA&gt;</td>\n",
       "      <td>CA</td>\n",
       "      <td>Los Angeles</td>\n",
       "    </tr>\n",
       "  </tbody>\n",
       "</table>\n",
       "</div>"
      ],
      "text/plain": [
       "             id                                              name    host_id  \\\n",
       "12124  29499586           Downtown 1BR w/ Doorman, nr Disney Hall  107434423   \n",
       "12266  29670430        Marina Del Rey 2BR w/ Gym, nr Venice Beach  107434423   \n",
       "12268  29670960  2BR Loft Marina Del Rey, w/ Spa, nr Venice Beach  107434423   \n",
       "12550  30413739      Hollywood 1BR w/ Pool & Spa, nr coffee shops  107434423   \n",
       "12552  30390978       1BR Downtown, w/ Pool+Spa, near Disney Hall  107434423   \n",
       "\n",
       "        host_name  neighbourhood_group neighbourhood   latitude   longitude  \\\n",
       "12124  Blueground  City of Los Angeles      Downtown  34.054053 -118.251148   \n",
       "12266  Blueground  City of Los Angeles       Del Rey  33.987610 -118.440500   \n",
       "12268  Blueground  City of Los Angeles        Venice  33.987367 -118.445900   \n",
       "12550  Blueground  City of Los Angeles     Hollywood  34.099970 -118.314660   \n",
       "12552  Blueground  City of Los Angeles      Downtown  34.054053 -118.251148   \n",
       "\n",
       "             room_type  price  minimum_nights  number_of_reviews last_review  \\\n",
       "12124  Entire home/apt    195              31                  0         NaT   \n",
       "12266  Entire home/apt    243              31                  2  2020-08-05   \n",
       "12268  Entire home/apt    226              31                  4  2020-06-22   \n",
       "12550  Entire home/apt    144              31                  1  2022-08-11   \n",
       "12552  Entire home/apt    178              31                  1  2020-06-02   \n",
       "\n",
       "       reviews_per_month  calculated_host_listings_count  availability_365  \\\n",
       "12124                NaN                             638               251   \n",
       "12266               0.05                             638               312   \n",
       "12268               0.10                             638               298   \n",
       "12550               1.00                             638               320   \n",
       "12552               0.04                             638               333   \n",
       "\n",
       "       number_of_reviews_ltm license state         city  \n",
       "12124                      0    <NA>    CA  Los Angeles  \n",
       "12266                      0    <NA>    CA  Los Angeles  \n",
       "12268                      0    <NA>    CA  Los Angeles  \n",
       "12550                      1    <NA>    CA  Los Angeles  \n",
       "12552                      0    <NA>    CA  Los Angeles  "
      ]
     },
     "execution_count": 21,
     "metadata": {},
     "output_type": "execute_result"
    }
   ],
   "source": [
    "airbnb_usa[airbnb_usa['host_name']=='Blueground'].head(5)"
   ]
  },
  {
   "cell_type": "markdown",
   "id": "30a11f9f",
   "metadata": {
    "papermill": {
     "duration": 0.029411,
     "end_time": "2023-01-26T20:46:53.164814",
     "exception": false,
     "start_time": "2023-01-26T20:46:53.135403",
     "status": "completed"
    },
    "tags": []
   },
   "source": [
    "Its most frequent observations appear valid.\n",
    "\n",
    "Let's check the unique values for **neighbourhood_group**."
   ]
  },
  {
   "cell_type": "code",
   "execution_count": 22,
   "id": "f27c480a",
   "metadata": {
    "execution": {
     "iopub.execute_input": "2023-01-26T20:46:53.225983Z",
     "iopub.status.busy": "2023-01-26T20:46:53.225555Z",
     "iopub.status.idle": "2023-01-26T20:46:53.236246Z",
     "shell.execute_reply": "2023-01-26T20:46:53.235296Z"
    },
    "papermill": {
     "duration": 0.043903,
     "end_time": "2023-01-26T20:46:53.238407",
     "exception": false,
     "start_time": "2023-01-26T20:46:53.194504",
     "status": "completed"
    },
    "tags": []
   },
   "outputs": [
    {
     "data": {
      "text/plain": [
       "City of Los Angeles     18249\n",
       "Manhattan               15201\n",
       "Brooklyn                14489\n",
       "Other Cities            14381\n",
       "Maui                     8928\n",
       "Honolulu                 8307\n",
       "Hawaii                   6289\n",
       "Queens                   5785\n",
       "Kauai                    3981\n",
       "Unincorporated Areas     3479\n",
       "Newport                  1739\n",
       "Bronx                    1513\n",
       "Washington               1510\n",
       "Other neighborhoods      1124\n",
       "Providence               1073\n",
       "Downtown                  664\n",
       "Capitol Hill              477\n",
       "Central Area              459\n",
       "Staten Island             423\n",
       "Rainier Valley            411\n",
       "West Seattle              395\n",
       "Queen Anne                390\n",
       "Ballard                   306\n",
       "Beacon Hill               246\n",
       "Delridge                  235\n",
       "Cascade                   204\n",
       "University District       197\n",
       "Northgate                 191\n",
       "Bristol                   178\n",
       "Lake City                 135\n",
       "Kent                      131\n",
       "Magnolia                   92\n",
       "Seward Park                49\n",
       "Interbay                   39\n",
       "Name: neighbourhood_group, dtype: int64"
      ]
     },
     "execution_count": 22,
     "metadata": {},
     "output_type": "execute_result"
    }
   ],
   "source": [
    "airbnb_usa['neighbourhood_group'].value_counts()"
   ]
  },
  {
   "cell_type": "markdown",
   "id": "e383cf6e",
   "metadata": {
    "papermill": {
     "duration": 0.030024,
     "end_time": "2023-01-26T20:46:53.298341",
     "exception": false,
     "start_time": "2023-01-26T20:46:53.268317",
     "status": "completed"
    },
    "tags": []
   },
   "source": [
    "It's in order, although its values mainly cluster around major cities (e.g. 'City of Los Angeles', 'Manhattan'); it may not be an overall useful field.\n",
    "\n",
    "Let's check the most frequent observations for **neighbourhood**."
   ]
  },
  {
   "cell_type": "code",
   "execution_count": 23,
   "id": "ebe2e8c3",
   "metadata": {
    "execution": {
     "iopub.execute_input": "2023-01-26T20:46:53.360343Z",
     "iopub.status.busy": "2023-01-26T20:46:53.359286Z",
     "iopub.status.idle": "2023-01-26T20:46:53.388886Z",
     "shell.execute_reply": "2023-01-26T20:46:53.387934Z"
    },
    "papermill": {
     "duration": 0.062997,
     "end_time": "2023-01-26T20:46:53.391286",
     "exception": false,
     "start_time": "2023-01-26T20:46:53.328289",
     "status": "completed"
    },
    "tags": []
   },
   "outputs": [
    {
     "data": {
      "text/html": [
       "<div>\n",
       "<style scoped>\n",
       "    .dataframe tbody tr th:only-of-type {\n",
       "        vertical-align: middle;\n",
       "    }\n",
       "\n",
       "    .dataframe tbody tr th {\n",
       "        vertical-align: top;\n",
       "    }\n",
       "\n",
       "    .dataframe thead th {\n",
       "        text-align: right;\n",
       "    }\n",
       "</style>\n",
       "<table border=\"1\" class=\"dataframe\">\n",
       "  <thead>\n",
       "    <tr style=\"text-align: right;\">\n",
       "      <th></th>\n",
       "      <th>id</th>\n",
       "      <th>name</th>\n",
       "      <th>host_id</th>\n",
       "      <th>host_name</th>\n",
       "      <th>neighbourhood_group</th>\n",
       "      <th>neighbourhood</th>\n",
       "      <th>latitude</th>\n",
       "      <th>longitude</th>\n",
       "      <th>room_type</th>\n",
       "      <th>price</th>\n",
       "      <th>minimum_nights</th>\n",
       "      <th>number_of_reviews</th>\n",
       "      <th>last_review</th>\n",
       "      <th>reviews_per_month</th>\n",
       "      <th>calculated_host_listings_count</th>\n",
       "      <th>availability_365</th>\n",
       "      <th>number_of_reviews_ltm</th>\n",
       "      <th>license</th>\n",
       "      <th>state</th>\n",
       "      <th>city</th>\n",
       "    </tr>\n",
       "  </thead>\n",
       "  <tbody>\n",
       "    <tr>\n",
       "      <th>115908</th>\n",
       "      <td>4952</td>\n",
       "      <td>Butterfly Inn near Stanford with weekly cleaning</td>\n",
       "      <td>7054</td>\n",
       "      <td>Mei Lin</td>\n",
       "      <td>NaN</td>\n",
       "      <td>Unincorporated Areas</td>\n",
       "      <td>37.43932</td>\n",
       "      <td>-122.15741</td>\n",
       "      <td>Private room</td>\n",
       "      <td>70</td>\n",
       "      <td>31</td>\n",
       "      <td>76</td>\n",
       "      <td>2022-04-02</td>\n",
       "      <td>0.48</td>\n",
       "      <td>5</td>\n",
       "      <td>58</td>\n",
       "      <td>1</td>\n",
       "      <td>&lt;NA&gt;</td>\n",
       "      <td>CA</td>\n",
       "      <td>San Mateo County</td>\n",
       "    </tr>\n",
       "    <tr>\n",
       "      <th>115909</th>\n",
       "      <td>21373</td>\n",
       "      <td>Bonsai Garden near Stanford with weekly cleaning</td>\n",
       "      <td>7054</td>\n",
       "      <td>Mei Lin</td>\n",
       "      <td>NaN</td>\n",
       "      <td>Unincorporated Areas</td>\n",
       "      <td>37.43972</td>\n",
       "      <td>-122.15532</td>\n",
       "      <td>Private room</td>\n",
       "      <td>70</td>\n",
       "      <td>31</td>\n",
       "      <td>264</td>\n",
       "      <td>2022-05-15</td>\n",
       "      <td>1.76</td>\n",
       "      <td>5</td>\n",
       "      <td>283</td>\n",
       "      <td>1</td>\n",
       "      <td>&lt;NA&gt;</td>\n",
       "      <td>CA</td>\n",
       "      <td>San Mateo County</td>\n",
       "    </tr>\n",
       "    <tr>\n",
       "      <th>115912</th>\n",
       "      <td>40560</td>\n",
       "      <td>MOST COMFORTABLE BED EVER</td>\n",
       "      <td>174725</td>\n",
       "      <td>Megan</td>\n",
       "      <td>NaN</td>\n",
       "      <td>Unincorporated Areas</td>\n",
       "      <td>37.45379</td>\n",
       "      <td>-122.13867</td>\n",
       "      <td>Private room</td>\n",
       "      <td>115</td>\n",
       "      <td>2</td>\n",
       "      <td>140</td>\n",
       "      <td>2022-09-01</td>\n",
       "      <td>0.96</td>\n",
       "      <td>2</td>\n",
       "      <td>261</td>\n",
       "      <td>6</td>\n",
       "      <td>&lt;NA&gt;</td>\n",
       "      <td>CA</td>\n",
       "      <td>San Mateo County</td>\n",
       "    </tr>\n",
       "    <tr>\n",
       "      <th>115914</th>\n",
       "      <td>62799</td>\n",
       "      <td>Zen Bedroom in Palo Alto, includes weekly clea...</td>\n",
       "      <td>7054</td>\n",
       "      <td>Mei Lin</td>\n",
       "      <td>NaN</td>\n",
       "      <td>Unincorporated Areas</td>\n",
       "      <td>37.43934</td>\n",
       "      <td>-122.15723</td>\n",
       "      <td>Private room</td>\n",
       "      <td>83</td>\n",
       "      <td>31</td>\n",
       "      <td>149</td>\n",
       "      <td>2022-08-13</td>\n",
       "      <td>1.48</td>\n",
       "      <td>5</td>\n",
       "      <td>237</td>\n",
       "      <td>1</td>\n",
       "      <td>&lt;NA&gt;</td>\n",
       "      <td>CA</td>\n",
       "      <td>San Mateo County</td>\n",
       "    </tr>\n",
       "    <tr>\n",
       "      <th>115917</th>\n",
       "      <td>75284</td>\n",
       "      <td>Garden Oasis walk to Stanford with weekly clea...</td>\n",
       "      <td>7054</td>\n",
       "      <td>Mei Lin</td>\n",
       "      <td>NaN</td>\n",
       "      <td>Unincorporated Areas</td>\n",
       "      <td>37.43923</td>\n",
       "      <td>-122.15745</td>\n",
       "      <td>Private room</td>\n",
       "      <td>72</td>\n",
       "      <td>31</td>\n",
       "      <td>208</td>\n",
       "      <td>2022-07-21</td>\n",
       "      <td>1.50</td>\n",
       "      <td>5</td>\n",
       "      <td>277</td>\n",
       "      <td>2</td>\n",
       "      <td>&lt;NA&gt;</td>\n",
       "      <td>CA</td>\n",
       "      <td>San Mateo County</td>\n",
       "    </tr>\n",
       "  </tbody>\n",
       "</table>\n",
       "</div>"
      ],
      "text/plain": [
       "           id                                               name  host_id  \\\n",
       "115908   4952   Butterfly Inn near Stanford with weekly cleaning     7054   \n",
       "115909  21373   Bonsai Garden near Stanford with weekly cleaning     7054   \n",
       "115912  40560                          MOST COMFORTABLE BED EVER   174725   \n",
       "115914  62799  Zen Bedroom in Palo Alto, includes weekly clea...     7054   \n",
       "115917  75284  Garden Oasis walk to Stanford with weekly clea...     7054   \n",
       "\n",
       "       host_name neighbourhood_group         neighbourhood  latitude  \\\n",
       "115908   Mei Lin                 NaN  Unincorporated Areas  37.43932   \n",
       "115909   Mei Lin                 NaN  Unincorporated Areas  37.43972   \n",
       "115912     Megan                 NaN  Unincorporated Areas  37.45379   \n",
       "115914   Mei Lin                 NaN  Unincorporated Areas  37.43934   \n",
       "115917   Mei Lin                 NaN  Unincorporated Areas  37.43923   \n",
       "\n",
       "        longitude     room_type  price  minimum_nights  number_of_reviews  \\\n",
       "115908 -122.15741  Private room     70              31                 76   \n",
       "115909 -122.15532  Private room     70              31                264   \n",
       "115912 -122.13867  Private room    115               2                140   \n",
       "115914 -122.15723  Private room     83              31                149   \n",
       "115917 -122.15745  Private room     72              31                208   \n",
       "\n",
       "       last_review  reviews_per_month  calculated_host_listings_count  \\\n",
       "115908  2022-04-02               0.48                               5   \n",
       "115909  2022-05-15               1.76                               5   \n",
       "115912  2022-09-01               0.96                               2   \n",
       "115914  2022-08-13               1.48                               5   \n",
       "115917  2022-07-21               1.50                               5   \n",
       "\n",
       "        availability_365  number_of_reviews_ltm license state  \\\n",
       "115908                58                      1    <NA>    CA   \n",
       "115909               283                      1    <NA>    CA   \n",
       "115912               261                      6    <NA>    CA   \n",
       "115914               237                      1    <NA>    CA   \n",
       "115917               277                      2    <NA>    CA   \n",
       "\n",
       "                    city  \n",
       "115908  San Mateo County  \n",
       "115909  San Mateo County  \n",
       "115912  San Mateo County  \n",
       "115914  San Mateo County  \n",
       "115917  San Mateo County  "
      ]
     },
     "execution_count": 23,
     "metadata": {},
     "output_type": "execute_result"
    }
   ],
   "source": [
    "airbnb_usa[airbnb_usa['neighbourhood']=='Unincorporated Areas'].head(5)"
   ]
  },
  {
   "cell_type": "markdown",
   "id": "b0de9fc5",
   "metadata": {
    "papermill": {
     "duration": 0.029523,
     "end_time": "2023-01-26T20:46:53.451007",
     "exception": false,
     "start_time": "2023-01-26T20:46:53.421484",
     "status": "completed"
    },
    "tags": []
   },
   "source": [
    "Its most frequent observations appear valid.\n",
    "\n",
    "Let's check the unique values for **room_type**."
   ]
  },
  {
   "cell_type": "code",
   "execution_count": 24,
   "id": "c5140e23",
   "metadata": {
    "execution": {
     "iopub.execute_input": "2023-01-26T20:46:53.512638Z",
     "iopub.status.busy": "2023-01-26T20:46:53.511886Z",
     "iopub.status.idle": "2023-01-26T20:46:53.522701Z",
     "shell.execute_reply": "2023-01-26T20:46:53.521572Z"
    },
    "papermill": {
     "duration": 0.044136,
     "end_time": "2023-01-26T20:46:53.524943",
     "exception": false,
     "start_time": "2023-01-26T20:46:53.480807",
     "status": "completed"
    },
    "tags": []
   },
   "outputs": [
    {
     "data": {
      "text/plain": [
       "Entire home/apt    199135\n",
       "Private room        61228\n",
       "Shared room          2546\n",
       "Hotel room           1111\n",
       "Name: room_type, dtype: int64"
      ]
     },
     "execution_count": 24,
     "metadata": {},
     "output_type": "execute_result"
    }
   ],
   "source": [
    "airbnb_usa['room_type'].value_counts()"
   ]
  },
  {
   "cell_type": "markdown",
   "id": "a7ed1be3",
   "metadata": {
    "papermill": {
     "duration": 0.029533,
     "end_time": "2023-01-26T20:46:53.584328",
     "exception": false,
     "start_time": "2023-01-26T20:46:53.554795",
     "status": "completed"
    },
    "tags": []
   },
   "source": [
    "It's in order.\n",
    "\n",
    "Let's check the unique values for **license**."
   ]
  },
  {
   "cell_type": "code",
   "execution_count": 25,
   "id": "3e9731ba",
   "metadata": {
    "execution": {
     "iopub.execute_input": "2023-01-26T20:46:53.646683Z",
     "iopub.status.busy": "2023-01-26T20:46:53.645312Z",
     "iopub.status.idle": "2023-01-26T20:46:53.688175Z",
     "shell.execute_reply": "2023-01-26T20:46:53.686863Z"
    },
    "papermill": {
     "duration": 0.076557,
     "end_time": "2023-01-26T20:46:53.690705",
     "exception": false,
     "start_time": "2023-01-26T20:46:53.614148",
     "status": "completed"
    },
    "tags": []
   },
   "outputs": [
    {
     "data": {
      "text/plain": [
       "Exempt                                                                   5046\n",
       "City registration pending                                                2517\n",
       "Exempt: This listing is a licensed hotel, motel, or bed and breakfast    1151\n",
       "Exempt - This listing is a transient occupancy residential structure      650\n",
       "Exempt - This listing is a bed and breakfast                              420\n",
       "                                                                         ... \n",
       "STR-OPLI-19-002703                                                          1\n",
       "STR-OPLI-19-003054                                                          1\n",
       "STR-OPLI-22-001486                                                          1\n",
       "STR-OPLI-22-001022                                                          1\n",
       "STR-OPLI-19-001034                                                          1\n",
       "Name: license, Length: 47677, dtype: Int64"
      ]
     },
     "execution_count": 25,
     "metadata": {},
     "output_type": "execute_result"
    }
   ],
   "source": [
    "airbnb_usa['license'].value_counts()"
   ]
  },
  {
   "cell_type": "markdown",
   "id": "33e4f5e3",
   "metadata": {
    "papermill": {
     "duration": 0.029871,
     "end_time": "2023-01-26T20:46:53.751410",
     "exception": false,
     "start_time": "2023-01-26T20:46:53.721539",
     "status": "completed"
    },
    "tags": []
   },
   "source": [
    "Variants exist such as 'Exempt' and 'Exempt: This listing is a licensed hotel, motel, or bed and breakfast'; however due to its sheer size (unique values > 47,000), let's leave it as is.\n",
    "\n",
    "Let's check the unique values for **state**."
   ]
  },
  {
   "cell_type": "code",
   "execution_count": 26,
   "id": "aaf29c9a",
   "metadata": {
    "execution": {
     "iopub.execute_input": "2023-01-26T20:46:53.813773Z",
     "iopub.status.busy": "2023-01-26T20:46:53.813301Z",
     "iopub.status.idle": "2023-01-26T20:46:53.824449Z",
     "shell.execute_reply": "2023-01-26T20:46:53.823320Z"
    },
    "papermill": {
     "duration": 0.045493,
     "end_time": "2023-01-26T20:46:53.827088",
     "exception": false,
     "start_time": "2023-01-26T20:46:53.781595",
     "status": "completed"
    },
    "tags": []
   },
   "outputs": [
    {
     "data": {
      "text/plain": [
       "CA    77235\n",
       "NY    37411\n",
       "HI    27505\n",
       "TX    25754\n",
       "FL    16002\n",
       "NV    13654\n",
       "TN     7519\n",
       "IL     6931\n",
       "LA     6575\n",
       "DC     6211\n",
       "CO     5643\n",
       "WA     5614\n",
       "MA     5236\n",
       "OR     4807\n",
       "RI     4631\n",
       "MN     4095\n",
       "NJ     4062\n",
       "NC     2976\n",
       "OH     2159\n",
       "Name: state, dtype: int64"
      ]
     },
     "execution_count": 26,
     "metadata": {},
     "output_type": "execute_result"
    }
   ],
   "source": [
    "airbnb_usa['state'].value_counts()"
   ]
  },
  {
   "cell_type": "markdown",
   "id": "e2e97a11",
   "metadata": {
    "papermill": {
     "duration": 0.029973,
     "end_time": "2023-01-26T20:46:53.887797",
     "exception": false,
     "start_time": "2023-01-26T20:46:53.857824",
     "status": "completed"
    },
    "tags": []
   },
   "source": [
    "It's in order.\n",
    "\n",
    "Let's check the unique values for **city**."
   ]
  },
  {
   "cell_type": "code",
   "execution_count": 27,
   "id": "89f49988",
   "metadata": {
    "execution": {
     "iopub.execute_input": "2023-01-26T20:46:53.952899Z",
     "iopub.status.busy": "2023-01-26T20:46:53.951755Z",
     "iopub.status.idle": "2023-01-26T20:46:53.962984Z",
     "shell.execute_reply": "2023-01-26T20:46:53.962184Z"
    },
    "papermill": {
     "duration": 0.046194,
     "end_time": "2023-01-26T20:46:53.964978",
     "exception": false,
     "start_time": "2023-01-26T20:46:53.918784",
     "status": "completed"
    },
    "tags": []
   },
   "outputs": [
    {
     "data": {
      "text/plain": [
       "Los Angeles           43826\n",
       "New York City         37411\n",
       "Hawaii                27505\n",
       "Austin                17874\n",
       "Broward               16002\n",
       "San Diego             13955\n",
       "Clark County          13654\n",
       "Nashville              7519\n",
       "Chicago                6931\n",
       "New Orleans            6575\n",
       "San Francisco          6312\n",
       "Washington D.C.        6211\n",
       "Dallas                 6056\n",
       "Denver                 5643\n",
       "Seattle                5614\n",
       "Santa Clara County     5271\n",
       "Boston                 4800\n",
       "Rhode Island           4631\n",
       "Portland               4539\n",
       "Twin Cities MSA        4095\n",
       "Oakland                3066\n",
       "Asheville              2976\n",
       "San Mateo County       2935\n",
       "Jersey City            2462\n",
       "Columbus               2159\n",
       "Fort Worth             1824\n",
       "Newark                 1600\n",
       "Santa Cruz County      1533\n",
       "Cambridge               436\n",
       "Pacific Grove           337\n",
       "Salem                   268\n",
       "Name: city, dtype: int64"
      ]
     },
     "execution_count": 27,
     "metadata": {},
     "output_type": "execute_result"
    }
   ],
   "source": [
    "airbnb_usa['city'].value_counts()"
   ]
  },
  {
   "cell_type": "markdown",
   "id": "ca3582d5",
   "metadata": {
    "papermill": {
     "duration": 0.030401,
     "end_time": "2023-01-26T20:46:54.026262",
     "exception": false,
     "start_time": "2023-01-26T20:46:53.995861",
     "status": "completed"
    },
    "tags": []
   },
   "source": [
    "It's in order."
   ]
  },
  {
   "cell_type": "markdown",
   "id": "16401207",
   "metadata": {
    "papermill": {
     "duration": 0.030152,
     "end_time": "2023-01-26T20:46:54.086841",
     "exception": false,
     "start_time": "2023-01-26T20:46:54.056689",
     "status": "completed"
    },
    "tags": []
   },
   "source": [
    "## Datetime formats"
   ]
  },
  {
   "cell_type": "markdown",
   "id": "7f2cec28",
   "metadata": {
    "papermill": {
     "duration": 0.030902,
     "end_time": "2023-01-26T20:46:54.148454",
     "exception": false,
     "start_time": "2023-01-26T20:46:54.117552",
     "status": "completed"
    },
    "tags": []
   },
   "source": [
    "Let's check the minimum and maximum observations for **last_review**."
   ]
  },
  {
   "cell_type": "code",
   "execution_count": 28,
   "id": "e1b3ef91",
   "metadata": {
    "execution": {
     "iopub.execute_input": "2023-01-26T20:46:54.211737Z",
     "iopub.status.busy": "2023-01-26T20:46:54.210541Z",
     "iopub.status.idle": "2023-01-26T20:46:54.276142Z",
     "shell.execute_reply": "2023-01-26T20:46:54.275041Z"
    },
    "papermill": {
     "duration": 0.099599,
     "end_time": "2023-01-26T20:46:54.278373",
     "exception": false,
     "start_time": "2023-01-26T20:46:54.178774",
     "status": "completed"
    },
    "tags": []
   },
   "outputs": [
    {
     "data": {
      "text/html": [
       "<div>\n",
       "<style scoped>\n",
       "    .dataframe tbody tr th:only-of-type {\n",
       "        vertical-align: middle;\n",
       "    }\n",
       "\n",
       "    .dataframe tbody tr th {\n",
       "        vertical-align: top;\n",
       "    }\n",
       "\n",
       "    .dataframe thead th {\n",
       "        text-align: right;\n",
       "    }\n",
       "</style>\n",
       "<table border=\"1\" class=\"dataframe\">\n",
       "  <thead>\n",
       "    <tr style=\"text-align: right;\">\n",
       "      <th></th>\n",
       "      <th>id</th>\n",
       "      <th>name</th>\n",
       "      <th>host_id</th>\n",
       "      <th>host_name</th>\n",
       "      <th>neighbourhood_group</th>\n",
       "      <th>neighbourhood</th>\n",
       "      <th>latitude</th>\n",
       "      <th>longitude</th>\n",
       "      <th>room_type</th>\n",
       "      <th>price</th>\n",
       "      <th>minimum_nights</th>\n",
       "      <th>number_of_reviews</th>\n",
       "      <th>last_review</th>\n",
       "      <th>reviews_per_month</th>\n",
       "      <th>calculated_host_listings_count</th>\n",
       "      <th>availability_365</th>\n",
       "      <th>number_of_reviews_ltm</th>\n",
       "      <th>license</th>\n",
       "      <th>state</th>\n",
       "      <th>city</th>\n",
       "    </tr>\n",
       "  </thead>\n",
       "  <tbody>\n",
       "    <tr>\n",
       "      <th>109356</th>\n",
       "      <td>44680</td>\n",
       "      <td>Cute Noe/Mission Apartment</td>\n",
       "      <td>196626</td>\n",
       "      <td>Paul</td>\n",
       "      <td>NaN</td>\n",
       "      <td>Mission</td>\n",
       "      <td>37.75131</td>\n",
       "      <td>-122.42167</td>\n",
       "      <td>Entire home/apt</td>\n",
       "      <td>153</td>\n",
       "      <td>60</td>\n",
       "      <td>3</td>\n",
       "      <td>2010-10-04</td>\n",
       "      <td>0.02</td>\n",
       "      <td>1</td>\n",
       "      <td>173</td>\n",
       "      <td>0</td>\n",
       "      <td>&lt;NA&gt;</td>\n",
       "      <td>CA</td>\n",
       "      <td>San Francisco</td>\n",
       "    </tr>\n",
       "    <tr>\n",
       "      <th>90</th>\n",
       "      <td>90986</td>\n",
       "      <td>Vintage Charming Guest House</td>\n",
       "      <td>491953</td>\n",
       "      <td>Cheryl Francis</td>\n",
       "      <td>City of Los Angeles</td>\n",
       "      <td>Mid-City</td>\n",
       "      <td>34.03948</td>\n",
       "      <td>-118.34081</td>\n",
       "      <td>Entire home/apt</td>\n",
       "      <td>105</td>\n",
       "      <td>180</td>\n",
       "      <td>1</td>\n",
       "      <td>2011-05-21</td>\n",
       "      <td>0.01</td>\n",
       "      <td>1</td>\n",
       "      <td>365</td>\n",
       "      <td>0</td>\n",
       "      <td>&lt;NA&gt;</td>\n",
       "      <td>CA</td>\n",
       "      <td>Los Angeles</td>\n",
       "    </tr>\n",
       "    <tr>\n",
       "      <th>109385</th>\n",
       "      <td>59831</td>\n",
       "      <td>Lovely quiet private room in Home</td>\n",
       "      <td>287859</td>\n",
       "      <td>Lawrence</td>\n",
       "      <td>NaN</td>\n",
       "      <td>Outer Sunset</td>\n",
       "      <td>37.75674</td>\n",
       "      <td>-122.49178</td>\n",
       "      <td>Private room</td>\n",
       "      <td>100</td>\n",
       "      <td>60</td>\n",
       "      <td>1</td>\n",
       "      <td>2011-05-23</td>\n",
       "      <td>0.01</td>\n",
       "      <td>1</td>\n",
       "      <td>0</td>\n",
       "      <td>0</td>\n",
       "      <td>&lt;NA&gt;</td>\n",
       "      <td>CA</td>\n",
       "      <td>San Francisco</td>\n",
       "    </tr>\n",
       "    <tr>\n",
       "      <th>109412</th>\n",
       "      <td>71779</td>\n",
       "      <td>1BRアパート</td>\n",
       "      <td>368770</td>\n",
       "      <td>Fukuko</td>\n",
       "      <td>NaN</td>\n",
       "      <td>Inner Richmond</td>\n",
       "      <td>37.77487</td>\n",
       "      <td>-122.46543</td>\n",
       "      <td>Entire home/apt</td>\n",
       "      <td>100</td>\n",
       "      <td>30</td>\n",
       "      <td>2</td>\n",
       "      <td>2011-09-30</td>\n",
       "      <td>0.01</td>\n",
       "      <td>1</td>\n",
       "      <td>248</td>\n",
       "      <td>0</td>\n",
       "      <td>&lt;NA&gt;</td>\n",
       "      <td>CA</td>\n",
       "      <td>San Francisco</td>\n",
       "    </tr>\n",
       "    <tr>\n",
       "      <th>233847</th>\n",
       "      <td>27883</td>\n",
       "      <td>East Village Sanctuary</td>\n",
       "      <td>120223</td>\n",
       "      <td>Jen</td>\n",
       "      <td>Manhattan</td>\n",
       "      <td>East Village</td>\n",
       "      <td>40.72421</td>\n",
       "      <td>-73.98509</td>\n",
       "      <td>Entire home/apt</td>\n",
       "      <td>100</td>\n",
       "      <td>30</td>\n",
       "      <td>25</td>\n",
       "      <td>2011-12-10</td>\n",
       "      <td>0.17</td>\n",
       "      <td>1</td>\n",
       "      <td>0</td>\n",
       "      <td>0</td>\n",
       "      <td>&lt;NA&gt;</td>\n",
       "      <td>NY</td>\n",
       "      <td>New York City</td>\n",
       "    </tr>\n",
       "  </tbody>\n",
       "</table>\n",
       "</div>"
      ],
      "text/plain": [
       "           id                               name  host_id       host_name  \\\n",
       "109356  44680         Cute Noe/Mission Apartment   196626            Paul   \n",
       "90      90986       Vintage Charming Guest House   491953  Cheryl Francis   \n",
       "109385  59831  Lovely quiet private room in Home   287859        Lawrence   \n",
       "109412  71779                            1BRアパート   368770          Fukuko   \n",
       "233847  27883             East Village Sanctuary   120223             Jen   \n",
       "\n",
       "        neighbourhood_group   neighbourhood  latitude  longitude  \\\n",
       "109356                  NaN         Mission  37.75131 -122.42167   \n",
       "90      City of Los Angeles        Mid-City  34.03948 -118.34081   \n",
       "109385                  NaN    Outer Sunset  37.75674 -122.49178   \n",
       "109412                  NaN  Inner Richmond  37.77487 -122.46543   \n",
       "233847            Manhattan    East Village  40.72421  -73.98509   \n",
       "\n",
       "              room_type  price  minimum_nights  number_of_reviews last_review  \\\n",
       "109356  Entire home/apt    153              60                  3  2010-10-04   \n",
       "90      Entire home/apt    105             180                  1  2011-05-21   \n",
       "109385     Private room    100              60                  1  2011-05-23   \n",
       "109412  Entire home/apt    100              30                  2  2011-09-30   \n",
       "233847  Entire home/apt    100              30                 25  2011-12-10   \n",
       "\n",
       "        reviews_per_month  calculated_host_listings_count  availability_365  \\\n",
       "109356               0.02                               1               173   \n",
       "90                   0.01                               1               365   \n",
       "109385               0.01                               1                 0   \n",
       "109412               0.01                               1               248   \n",
       "233847               0.17                               1                 0   \n",
       "\n",
       "        number_of_reviews_ltm license state           city  \n",
       "109356                      0    <NA>    CA  San Francisco  \n",
       "90                          0    <NA>    CA    Los Angeles  \n",
       "109385                      0    <NA>    CA  San Francisco  \n",
       "109412                      0    <NA>    CA  San Francisco  \n",
       "233847                      0    <NA>    NY  New York City  "
      ]
     },
     "execution_count": 28,
     "metadata": {},
     "output_type": "execute_result"
    }
   ],
   "source": [
    "airbnb_usa.nsmallest(5, 'last_review')"
   ]
  },
  {
   "cell_type": "code",
   "execution_count": 29,
   "id": "4b57e1dc",
   "metadata": {
    "execution": {
     "iopub.execute_input": "2023-01-26T20:46:54.343177Z",
     "iopub.status.busy": "2023-01-26T20:46:54.342737Z",
     "iopub.status.idle": "2023-01-26T20:46:54.375414Z",
     "shell.execute_reply": "2023-01-26T20:46:54.373677Z"
    },
    "papermill": {
     "duration": 0.067923,
     "end_time": "2023-01-26T20:46:54.377879",
     "exception": false,
     "start_time": "2023-01-26T20:46:54.309956",
     "status": "completed"
    },
    "tags": []
   },
   "outputs": [
    {
     "name": "stdout",
     "output_type": "stream",
     "text": [
      "Number of listings with last review dates before 2020: 18564\n"
     ]
    }
   ],
   "source": [
    "print('Number of listings with last review dates before 2020:', \n",
    "      np.sum(airbnb_usa['last_review'].dt.year < 2020))"
   ]
  },
  {
   "cell_type": "markdown",
   "id": "e98a113a",
   "metadata": {
    "papermill": {
     "duration": 0.031809,
     "end_time": "2023-01-26T20:46:54.442052",
     "exception": false,
     "start_time": "2023-01-26T20:46:54.410243",
     "status": "completed"
    },
    "tags": []
   },
   "source": [
    "Some values are invalid: For example, 'Lovely quiet private room in Home' by 'Lawrence' currently has its last review date in November 2022. Since it's highly unlikely that active listings have last review dates prior 2020 (2 years ago) and due to their sheer size (number of listings > 18,000), let's leave them as is."
   ]
  },
  {
   "cell_type": "code",
   "execution_count": 30,
   "id": "3a5ac9fc",
   "metadata": {
    "execution": {
     "iopub.execute_input": "2023-01-26T20:46:54.507476Z",
     "iopub.status.busy": "2023-01-26T20:46:54.506809Z",
     "iopub.status.idle": "2023-01-26T20:46:54.570533Z",
     "shell.execute_reply": "2023-01-26T20:46:54.569407Z"
    },
    "papermill": {
     "duration": 0.099355,
     "end_time": "2023-01-26T20:46:54.573020",
     "exception": false,
     "start_time": "2023-01-26T20:46:54.473665",
     "status": "completed"
    },
    "tags": []
   },
   "outputs": [
    {
     "data": {
      "text/html": [
       "<div>\n",
       "<style scoped>\n",
       "    .dataframe tbody tr th:only-of-type {\n",
       "        vertical-align: middle;\n",
       "    }\n",
       "\n",
       "    .dataframe tbody tr th {\n",
       "        vertical-align: top;\n",
       "    }\n",
       "\n",
       "    .dataframe thead th {\n",
       "        text-align: right;\n",
       "    }\n",
       "</style>\n",
       "<table border=\"1\" class=\"dataframe\">\n",
       "  <thead>\n",
       "    <tr style=\"text-align: right;\">\n",
       "      <th></th>\n",
       "      <th>id</th>\n",
       "      <th>name</th>\n",
       "      <th>host_id</th>\n",
       "      <th>host_name</th>\n",
       "      <th>neighbourhood_group</th>\n",
       "      <th>neighbourhood</th>\n",
       "      <th>latitude</th>\n",
       "      <th>longitude</th>\n",
       "      <th>room_type</th>\n",
       "      <th>price</th>\n",
       "      <th>minimum_nights</th>\n",
       "      <th>number_of_reviews</th>\n",
       "      <th>last_review</th>\n",
       "      <th>reviews_per_month</th>\n",
       "      <th>calculated_host_listings_count</th>\n",
       "      <th>availability_365</th>\n",
       "      <th>number_of_reviews_ltm</th>\n",
       "      <th>license</th>\n",
       "      <th>state</th>\n",
       "      <th>city</th>\n",
       "    </tr>\n",
       "  </thead>\n",
       "  <tbody>\n",
       "    <tr>\n",
       "      <th>287008</th>\n",
       "      <td>24094071</td>\n",
       "      <td>Cozy East Nashville Home, 7 minutes to Downtown</td>\n",
       "      <td>22770966</td>\n",
       "      <td>Ryan</td>\n",
       "      <td>NaN</td>\n",
       "      <td>District 5</td>\n",
       "      <td>36.20696</td>\n",
       "      <td>-86.75541</td>\n",
       "      <td>Entire home/apt</td>\n",
       "      <td>160</td>\n",
       "      <td>1</td>\n",
       "      <td>328</td>\n",
       "      <td>2022-09-28</td>\n",
       "      <td>6.04</td>\n",
       "      <td>2</td>\n",
       "      <td>302</td>\n",
       "      <td>103</td>\n",
       "      <td>&lt;NA&gt;</td>\n",
       "      <td>TN</td>\n",
       "      <td>Nashville</td>\n",
       "    </tr>\n",
       "    <tr>\n",
       "      <th>94770</th>\n",
       "      <td>3836973</td>\n",
       "      <td>Lovely House in Pacific Grove (Long term rental)</td>\n",
       "      <td>19763195</td>\n",
       "      <td>Paul</td>\n",
       "      <td>NaN</td>\n",
       "      <td>Pacific Grove</td>\n",
       "      <td>36.60527</td>\n",
       "      <td>-121.92805</td>\n",
       "      <td>Entire home/apt</td>\n",
       "      <td>264</td>\n",
       "      <td>30</td>\n",
       "      <td>476</td>\n",
       "      <td>2022-09-27</td>\n",
       "      <td>4.82</td>\n",
       "      <td>1</td>\n",
       "      <td>365</td>\n",
       "      <td>5</td>\n",
       "      <td>&lt;NA&gt;</td>\n",
       "      <td>CA</td>\n",
       "      <td>Pacific Grove</td>\n",
       "    </tr>\n",
       "    <tr>\n",
       "      <th>94783</th>\n",
       "      <td>6437330</td>\n",
       "      <td>Cottage on 17 Mile Dr, Pebble Beach. Tesla Cha...</td>\n",
       "      <td>10870177</td>\n",
       "      <td>Victoria</td>\n",
       "      <td>NaN</td>\n",
       "      <td>Pacific Grove</td>\n",
       "      <td>36.58413</td>\n",
       "      <td>-121.93430</td>\n",
       "      <td>Entire home/apt</td>\n",
       "      <td>231</td>\n",
       "      <td>2</td>\n",
       "      <td>575</td>\n",
       "      <td>2022-09-27</td>\n",
       "      <td>6.43</td>\n",
       "      <td>1</td>\n",
       "      <td>118</td>\n",
       "      <td>52</td>\n",
       "      <td>&lt;NA&gt;</td>\n",
       "      <td>CA</td>\n",
       "      <td>Pacific Grove</td>\n",
       "    </tr>\n",
       "    <tr>\n",
       "      <th>94820</th>\n",
       "      <td>14388930</td>\n",
       "      <td>Guest Quarters Near Asilomar &amp; Pebble Beach #0335</td>\n",
       "      <td>14882503</td>\n",
       "      <td>Richard</td>\n",
       "      <td>NaN</td>\n",
       "      <td>Pacific Grove</td>\n",
       "      <td>36.62395</td>\n",
       "      <td>-121.93423</td>\n",
       "      <td>Entire home/apt</td>\n",
       "      <td>195</td>\n",
       "      <td>5</td>\n",
       "      <td>77</td>\n",
       "      <td>2022-09-27</td>\n",
       "      <td>1.13</td>\n",
       "      <td>1</td>\n",
       "      <td>92</td>\n",
       "      <td>16</td>\n",
       "      <td>&lt;NA&gt;</td>\n",
       "      <td>CA</td>\n",
       "      <td>Pacific Grove</td>\n",
       "    </tr>\n",
       "    <tr>\n",
       "      <th>94916</th>\n",
       "      <td>34365620</td>\n",
       "      <td>Miller Suite: Mid Century Modern in the Forest</td>\n",
       "      <td>1186274</td>\n",
       "      <td>Staci</td>\n",
       "      <td>NaN</td>\n",
       "      <td>Pacific Grove</td>\n",
       "      <td>36.60526</td>\n",
       "      <td>-121.93523</td>\n",
       "      <td>Entire home/apt</td>\n",
       "      <td>225</td>\n",
       "      <td>2</td>\n",
       "      <td>324</td>\n",
       "      <td>2022-09-27</td>\n",
       "      <td>8.07</td>\n",
       "      <td>1</td>\n",
       "      <td>298</td>\n",
       "      <td>121</td>\n",
       "      <td>&lt;NA&gt;</td>\n",
       "      <td>CA</td>\n",
       "      <td>Pacific Grove</td>\n",
       "    </tr>\n",
       "  </tbody>\n",
       "</table>\n",
       "</div>"
      ],
      "text/plain": [
       "              id                                               name   host_id  \\\n",
       "287008  24094071    Cozy East Nashville Home, 7 minutes to Downtown  22770966   \n",
       "94770    3836973   Lovely House in Pacific Grove (Long term rental)  19763195   \n",
       "94783    6437330  Cottage on 17 Mile Dr, Pebble Beach. Tesla Cha...  10870177   \n",
       "94820   14388930  Guest Quarters Near Asilomar & Pebble Beach #0335  14882503   \n",
       "94916   34365620     Miller Suite: Mid Century Modern in the Forest   1186274   \n",
       "\n",
       "       host_name neighbourhood_group  neighbourhood  latitude  longitude  \\\n",
       "287008      Ryan                 NaN     District 5  36.20696  -86.75541   \n",
       "94770       Paul                 NaN  Pacific Grove  36.60527 -121.92805   \n",
       "94783   Victoria                 NaN  Pacific Grove  36.58413 -121.93430   \n",
       "94820    Richard                 NaN  Pacific Grove  36.62395 -121.93423   \n",
       "94916      Staci                 NaN  Pacific Grove  36.60526 -121.93523   \n",
       "\n",
       "              room_type  price  minimum_nights  number_of_reviews last_review  \\\n",
       "287008  Entire home/apt    160               1                328  2022-09-28   \n",
       "94770   Entire home/apt    264              30                476  2022-09-27   \n",
       "94783   Entire home/apt    231               2                575  2022-09-27   \n",
       "94820   Entire home/apt    195               5                 77  2022-09-27   \n",
       "94916   Entire home/apt    225               2                324  2022-09-27   \n",
       "\n",
       "        reviews_per_month  calculated_host_listings_count  availability_365  \\\n",
       "287008               6.04                               2               302   \n",
       "94770                4.82                               1               365   \n",
       "94783                6.43                               1               118   \n",
       "94820                1.13                               1                92   \n",
       "94916                8.07                               1               298   \n",
       "\n",
       "        number_of_reviews_ltm license state           city  \n",
       "287008                    103    <NA>    TN      Nashville  \n",
       "94770                       5    <NA>    CA  Pacific Grove  \n",
       "94783                      52    <NA>    CA  Pacific Grove  \n",
       "94820                      16    <NA>    CA  Pacific Grove  \n",
       "94916                     121    <NA>    CA  Pacific Grove  "
      ]
     },
     "execution_count": 30,
     "metadata": {},
     "output_type": "execute_result"
    }
   ],
   "source": [
    "airbnb_usa.nlargest(5, 'last_review')"
   ]
  },
  {
   "cell_type": "markdown",
   "id": "f76ded77",
   "metadata": {
    "papermill": {
     "duration": 0.031235,
     "end_time": "2023-01-26T20:46:54.635944",
     "exception": false,
     "start_time": "2023-01-26T20:46:54.604709",
     "status": "completed"
    },
    "tags": []
   },
   "source": [
    "Some values appear invalid: For example, 'Cozy East Nashville Home, 7 minutes to Downtown' by 'Ryan' currently has its last review date in November 2022 and not September 2022. Although it's possible to manually update them, it's not clear when to start and end so let's leave them as is. (It's also possible that the newer last reviews were added after the last update of this dataset.)"
   ]
  },
  {
   "cell_type": "markdown",
   "id": "7221fb5f",
   "metadata": {
    "papermill": {
     "duration": 0.0318,
     "end_time": "2023-01-26T20:46:54.700713",
     "exception": false,
     "start_time": "2023-01-26T20:46:54.668913",
     "status": "completed"
    },
    "tags": []
   },
   "source": [
    "## Crossfield validations"
   ]
  },
  {
   "cell_type": "markdown",
   "id": "f9bdcb79",
   "metadata": {
    "papermill": {
     "duration": 0.031226,
     "end_time": "2023-01-26T20:46:54.764289",
     "exception": false,
     "start_time": "2023-01-26T20:46:54.733063",
     "status": "completed"
    },
    "tags": []
   },
   "source": [
    "Let's check **calculated_host_listings_count**."
   ]
  },
  {
   "cell_type": "code",
   "execution_count": 31,
   "id": "c4ab39ba",
   "metadata": {
    "execution": {
     "iopub.execute_input": "2023-01-26T20:46:54.830235Z",
     "iopub.status.busy": "2023-01-26T20:46:54.829550Z",
     "iopub.status.idle": "2023-01-26T20:47:05.161207Z",
     "shell.execute_reply": "2023-01-26T20:47:05.160031Z"
    },
    "papermill": {
     "duration": 10.367331,
     "end_time": "2023-01-26T20:47:05.163680",
     "exception": false,
     "start_time": "2023-01-26T20:46:54.796349",
     "status": "completed"
    },
    "tags": []
   },
   "outputs": [
    {
     "data": {
      "text/plain": [
       "-1.0     10111\n",
       "-2.0      3214\n",
       "-3.0      1984\n",
       "-4.0      1075\n",
       "-5.0       747\n",
       "         ...  \n",
       "-52.0        4\n",
       "-58.0        3\n",
       "-46.0        3\n",
       "-50.0        2\n",
       "-55.0        1\n",
       "Name: diff, Length: 74, dtype: int64"
      ]
     },
     "execution_count": 31,
     "metadata": {},
     "output_type": "execute_result"
    }
   ],
   "source": [
    "# Create a temporary DataFrame to store values\n",
    "temp_df = airbnb_usa.groupby(['host_id', 'city']).count()['id'].reset_index() \\\n",
    "                    .rename({'id': 'manual_host_listings_count'}, axis='columns') \\\n",
    "                    .merge(airbnb_usa[['host_id', 'city', 'calculated_host_listings_count']], \n",
    "                           on=['host_id', 'city'], how='left')\n",
    "temp_df['diff'] = temp_df['manual_host_listings_count'] - temp_df['calculated_host_listings_count']\n",
    "temp_df = temp_df[abs(temp_df['diff'])>0]\n",
    "\n",
    "# View\n",
    "temp_df['diff'].value_counts()"
   ]
  },
  {
   "cell_type": "markdown",
   "id": "6624ecad",
   "metadata": {
    "papermill": {
     "duration": 0.0315,
     "end_time": "2023-01-26T20:47:05.227296",
     "exception": false,
     "start_time": "2023-01-26T20:47:05.195796",
     "status": "completed"
    },
    "tags": []
   },
   "source": [
    "Since the majority of values are off by 1, let's leave it as is."
   ]
  },
  {
   "cell_type": "markdown",
   "id": "0d2ae3bd",
   "metadata": {
    "papermill": {
     "duration": 0.031643,
     "end_time": "2023-01-26T20:47:05.291139",
     "exception": false,
     "start_time": "2023-01-26T20:47:05.259496",
     "status": "completed"
    },
    "tags": []
   },
   "source": [
    "## Missing values"
   ]
  },
  {
   "cell_type": "code",
   "execution_count": 32,
   "id": "ba280155",
   "metadata": {
    "execution": {
     "iopub.execute_input": "2023-01-26T20:47:05.357042Z",
     "iopub.status.busy": "2023-01-26T20:47:05.356625Z",
     "iopub.status.idle": "2023-01-26T20:47:05.404904Z",
     "shell.execute_reply": "2023-01-26T20:47:05.404059Z"
    },
    "papermill": {
     "duration": 0.085216,
     "end_time": "2023-01-26T20:47:05.408315",
     "exception": false,
     "start_time": "2023-01-26T20:47:05.323099",
     "status": "completed"
    },
    "tags": []
   },
   "outputs": [
    {
     "name": "stdout",
     "output_type": "stream",
     "text": [
      "Missing values (%) per field:\n",
      " id                                 0.000000\n",
      "name                               0.000379\n",
      "host_id                            0.000000\n",
      "host_name                          0.204151\n",
      "neighbourhood_group               57.855465\n",
      "neighbourhood                      0.264374\n",
      "latitude                           0.000000\n",
      "longitude                          0.000000\n",
      "room_type                          0.000000\n",
      "price                              0.000000\n",
      "minimum_nights                     0.000000\n",
      "number_of_reviews                  0.000000\n",
      "last_review                       17.499053\n",
      "reviews_per_month                 17.499053\n",
      "calculated_host_listings_count     0.000000\n",
      "availability_365                   0.000000\n",
      "number_of_reviews_ltm              0.000000\n",
      "license                           73.368684\n",
      "state                              0.000000\n",
      "city                               0.000000\n",
      "dtype: float64\n"
     ]
    }
   ],
   "source": [
    "print('Missing values (%) per field:\\n', 100*airbnb_usa.isnull().mean())"
   ]
  },
  {
   "cell_type": "markdown",
   "id": "827d63e9",
   "metadata": {
    "papermill": {
     "duration": 0.032384,
     "end_time": "2023-01-26T20:47:05.474584",
     "exception": false,
     "start_time": "2023-01-26T20:47:05.442200",
     "status": "completed"
    },
    "tags": []
   },
   "source": [
    "Since some fields aren't manually fillable because of the lack of a searchable identifier (**name** can be changed; can't search with **id**), because of the lack of the field's informational source (e.g. where to find information on **license**), etc., let's leave them as is."
   ]
  },
  {
   "cell_type": "code",
   "execution_count": 33,
   "id": "6b62ea5d",
   "metadata": {
    "execution": {
     "iopub.execute_input": "2023-01-26T20:47:05.540453Z",
     "iopub.status.busy": "2023-01-26T20:47:05.539552Z",
     "iopub.status.idle": "2023-01-26T20:47:08.934893Z",
     "shell.execute_reply": "2023-01-26T20:47:08.933630Z"
    },
    "papermill": {
     "duration": 3.431342,
     "end_time": "2023-01-26T20:47:08.937707",
     "exception": false,
     "start_time": "2023-01-26T20:47:05.506365",
     "status": "completed"
    },
    "tags": []
   },
   "outputs": [],
   "source": [
    "# Export as CSV for Tableau\n",
    "airbnb_usa.to_csv('airbnb_usa_clean.csv')"
   ]
  },
  {
   "cell_type": "markdown",
   "id": "9f0627c0",
   "metadata": {
    "papermill": {
     "duration": 0.031627,
     "end_time": "2023-01-26T20:47:09.001580",
     "exception": false,
     "start_time": "2023-01-26T20:47:08.969953",
     "status": "completed"
    },
    "tags": []
   },
   "source": [
    "# 5. Exploration\n",
    "***"
   ]
  },
  {
   "cell_type": "markdown",
   "id": "0dedee96",
   "metadata": {
    "papermill": {
     "duration": 0.031397,
     "end_time": "2023-01-26T20:47:09.064734",
     "exception": false,
     "start_time": "2023-01-26T20:47:09.033337",
     "status": "completed"
    },
    "tags": []
   },
   "source": [
    "## Q1: Which listings have the highest/lowest number of reviews in the last 12 months?"
   ]
  },
  {
   "cell_type": "markdown",
   "id": "92fc44d9",
   "metadata": {
    "papermill": {
     "duration": 0.031439,
     "end_time": "2023-01-26T20:47:09.127940",
     "exception": false,
     "start_time": "2023-01-26T20:47:09.096501",
     "status": "completed"
    },
    "tags": []
   },
   "source": [
    "To get a clearer picture, let's **only consider mature listings** which will be defined as having **number_of_reviews in total >= 10**."
   ]
  },
  {
   "cell_type": "code",
   "execution_count": 34,
   "id": "fe807216",
   "metadata": {
    "execution": {
     "iopub.execute_input": "2023-01-26T20:47:09.260335Z",
     "iopub.status.busy": "2023-01-26T20:47:09.259932Z",
     "iopub.status.idle": "2023-01-26T20:47:09.342367Z",
     "shell.execute_reply": "2023-01-26T20:47:09.340962Z"
    },
    "papermill": {
     "duration": 0.11751,
     "end_time": "2023-01-26T20:47:09.344636",
     "exception": false,
     "start_time": "2023-01-26T20:47:09.227126",
     "status": "completed"
    },
    "tags": []
   },
   "outputs": [
    {
     "data": {
      "text/html": [
       "<div>\n",
       "<style scoped>\n",
       "    .dataframe tbody tr th:only-of-type {\n",
       "        vertical-align: middle;\n",
       "    }\n",
       "\n",
       "    .dataframe tbody tr th {\n",
       "        vertical-align: top;\n",
       "    }\n",
       "\n",
       "    .dataframe thead th {\n",
       "        text-align: right;\n",
       "    }\n",
       "</style>\n",
       "<table border=\"1\" class=\"dataframe\">\n",
       "  <thead>\n",
       "    <tr style=\"text-align: right;\">\n",
       "      <th></th>\n",
       "      <th>id</th>\n",
       "      <th>name</th>\n",
       "      <th>host_id</th>\n",
       "      <th>host_name</th>\n",
       "      <th>neighbourhood_group</th>\n",
       "      <th>neighbourhood</th>\n",
       "      <th>latitude</th>\n",
       "      <th>longitude</th>\n",
       "      <th>room_type</th>\n",
       "      <th>price</th>\n",
       "      <th>minimum_nights</th>\n",
       "      <th>number_of_reviews</th>\n",
       "      <th>last_review</th>\n",
       "      <th>reviews_per_month</th>\n",
       "      <th>calculated_host_listings_count</th>\n",
       "      <th>availability_365</th>\n",
       "      <th>number_of_reviews_ltm</th>\n",
       "      <th>license</th>\n",
       "      <th>state</th>\n",
       "      <th>city</th>\n",
       "    </tr>\n",
       "  </thead>\n",
       "  <tbody>\n",
       "    <tr>\n",
       "      <th>259583</th>\n",
       "      <td>49381739</td>\n",
       "      <td>Come catch a Broadway Show &amp; stay in Times Square</td>\n",
       "      <td>397872858</td>\n",
       "      <td>M</td>\n",
       "      <td>Manhattan</td>\n",
       "      <td>Theater District</td>\n",
       "      <td>40.763600</td>\n",
       "      <td>-73.98473</td>\n",
       "      <td>Private room</td>\n",
       "      <td>457</td>\n",
       "      <td>1</td>\n",
       "      <td>1229</td>\n",
       "      <td>2022-08-23</td>\n",
       "      <td>78.61</td>\n",
       "      <td>12</td>\n",
       "      <td>319</td>\n",
       "      <td>949</td>\n",
       "      <td>&lt;NA&gt;</td>\n",
       "      <td>NY</td>\n",
       "      <td>New York City</td>\n",
       "    </tr>\n",
       "    <tr>\n",
       "      <th>222429</th>\n",
       "      <td>35159128</td>\n",
       "      <td>SAHARA Las Vegas, Marra Style King</td>\n",
       "      <td>263748930</td>\n",
       "      <td>SAHARA Las Vegas</td>\n",
       "      <td>NaN</td>\n",
       "      <td>Unincorporated Areas</td>\n",
       "      <td>36.143470</td>\n",
       "      <td>-115.15625</td>\n",
       "      <td>Private room</td>\n",
       "      <td>247</td>\n",
       "      <td>1</td>\n",
       "      <td>927</td>\n",
       "      <td>2022-09-05</td>\n",
       "      <td>190.48</td>\n",
       "      <td>11</td>\n",
       "      <td>290</td>\n",
       "      <td>927</td>\n",
       "      <td>&lt;NA&gt;</td>\n",
       "      <td>NV</td>\n",
       "      <td>Clark County</td>\n",
       "    </tr>\n",
       "    <tr>\n",
       "      <th>215898</th>\n",
       "      <td>44799007</td>\n",
       "      <td>Sonder Battery Park | Studio Apartment</td>\n",
       "      <td>219517861</td>\n",
       "      <td>Sonder (NYC)</td>\n",
       "      <td>NaN</td>\n",
       "      <td>Ward F (councilmember Jermaine D. Robinson)</td>\n",
       "      <td>40.706170</td>\n",
       "      <td>-74.01486</td>\n",
       "      <td>Entire home/apt</td>\n",
       "      <td>521</td>\n",
       "      <td>2</td>\n",
       "      <td>1518</td>\n",
       "      <td>2022-09-03</td>\n",
       "      <td>62.13</td>\n",
       "      <td>31</td>\n",
       "      <td>250</td>\n",
       "      <td>910</td>\n",
       "      <td>&lt;NA&gt;</td>\n",
       "      <td>NJ</td>\n",
       "      <td>Jersey City</td>\n",
       "    </tr>\n",
       "    <tr>\n",
       "      <th>216543</th>\n",
       "      <td>53843545</td>\n",
       "      <td>Skyline views in Lower Manhattan</td>\n",
       "      <td>435369966</td>\n",
       "      <td>Millennium Downtown</td>\n",
       "      <td>NaN</td>\n",
       "      <td>Ward E (councilmember James Solomon)</td>\n",
       "      <td>40.710026</td>\n",
       "      <td>-74.01136</td>\n",
       "      <td>Private room</td>\n",
       "      <td>760</td>\n",
       "      <td>1</td>\n",
       "      <td>887</td>\n",
       "      <td>2022-09-12</td>\n",
       "      <td>126.11</td>\n",
       "      <td>7</td>\n",
       "      <td>361</td>\n",
       "      <td>887</td>\n",
       "      <td>&lt;NA&gt;</td>\n",
       "      <td>NJ</td>\n",
       "      <td>Jersey City</td>\n",
       "    </tr>\n",
       "    <tr>\n",
       "      <th>222414</th>\n",
       "      <td>35158303</td>\n",
       "      <td>SAHARA Las Vegas, Marra 1 King</td>\n",
       "      <td>263748930</td>\n",
       "      <td>SAHARA Las Vegas</td>\n",
       "      <td>NaN</td>\n",
       "      <td>Unincorporated Areas</td>\n",
       "      <td>36.142150</td>\n",
       "      <td>-115.15706</td>\n",
       "      <td>Private room</td>\n",
       "      <td>238</td>\n",
       "      <td>1</td>\n",
       "      <td>1542</td>\n",
       "      <td>2022-09-05</td>\n",
       "      <td>83.80</td>\n",
       "      <td>11</td>\n",
       "      <td>298</td>\n",
       "      <td>860</td>\n",
       "      <td>&lt;NA&gt;</td>\n",
       "      <td>NV</td>\n",
       "      <td>Clark County</td>\n",
       "    </tr>\n",
       "  </tbody>\n",
       "</table>\n",
       "</div>"
      ],
      "text/plain": [
       "              id                                               name  \\\n",
       "259583  49381739  Come catch a Broadway Show & stay in Times Square   \n",
       "222429  35159128                 SAHARA Las Vegas, Marra Style King   \n",
       "215898  44799007             Sonder Battery Park | Studio Apartment   \n",
       "216543  53843545                   Skyline views in Lower Manhattan   \n",
       "222414  35158303                     SAHARA Las Vegas, Marra 1 King   \n",
       "\n",
       "          host_id            host_name neighbourhood_group  \\\n",
       "259583  397872858                    M           Manhattan   \n",
       "222429  263748930     SAHARA Las Vegas                 NaN   \n",
       "215898  219517861         Sonder (NYC)                 NaN   \n",
       "216543  435369966  Millennium Downtown                 NaN   \n",
       "222414  263748930     SAHARA Las Vegas                 NaN   \n",
       "\n",
       "                                      neighbourhood   latitude  longitude  \\\n",
       "259583                             Theater District  40.763600  -73.98473   \n",
       "222429                         Unincorporated Areas  36.143470 -115.15625   \n",
       "215898  Ward F (councilmember Jermaine D. Robinson)  40.706170  -74.01486   \n",
       "216543         Ward E (councilmember James Solomon)  40.710026  -74.01136   \n",
       "222414                         Unincorporated Areas  36.142150 -115.15706   \n",
       "\n",
       "              room_type  price  minimum_nights  number_of_reviews last_review  \\\n",
       "259583     Private room    457               1               1229  2022-08-23   \n",
       "222429     Private room    247               1                927  2022-09-05   \n",
       "215898  Entire home/apt    521               2               1518  2022-09-03   \n",
       "216543     Private room    760               1                887  2022-09-12   \n",
       "222414     Private room    238               1               1542  2022-09-05   \n",
       "\n",
       "        reviews_per_month  calculated_host_listings_count  availability_365  \\\n",
       "259583              78.61                              12               319   \n",
       "222429             190.48                              11               290   \n",
       "215898              62.13                              31               250   \n",
       "216543             126.11                               7               361   \n",
       "222414              83.80                              11               298   \n",
       "\n",
       "        number_of_reviews_ltm license state           city  \n",
       "259583                    949    <NA>    NY  New York City  \n",
       "222429                    927    <NA>    NV   Clark County  \n",
       "215898                    910    <NA>    NJ    Jersey City  \n",
       "216543                    887    <NA>    NJ    Jersey City  \n",
       "222414                    860    <NA>    NV   Clark County  "
      ]
     },
     "execution_count": 34,
     "metadata": {},
     "output_type": "execute_result"
    }
   ],
   "source": [
    "airbnb_usa[airbnb_usa['number_of_reviews']>=10].nlargest(5, 'number_of_reviews_ltm')"
   ]
  },
  {
   "cell_type": "code",
   "execution_count": 35,
   "id": "fbf24585",
   "metadata": {
    "execution": {
     "iopub.execute_input": "2023-01-26T20:47:09.413421Z",
     "iopub.status.busy": "2023-01-26T20:47:09.413013Z",
     "iopub.status.idle": "2023-01-26T20:47:09.493731Z",
     "shell.execute_reply": "2023-01-26T20:47:09.492626Z"
    },
    "papermill": {
     "duration": 0.117283,
     "end_time": "2023-01-26T20:47:09.496053",
     "exception": false,
     "start_time": "2023-01-26T20:47:09.378770",
     "status": "completed"
    },
    "tags": []
   },
   "outputs": [
    {
     "data": {
      "text/html": [
       "<div>\n",
       "<style scoped>\n",
       "    .dataframe tbody tr th:only-of-type {\n",
       "        vertical-align: middle;\n",
       "    }\n",
       "\n",
       "    .dataframe tbody tr th {\n",
       "        vertical-align: top;\n",
       "    }\n",
       "\n",
       "    .dataframe thead th {\n",
       "        text-align: right;\n",
       "    }\n",
       "</style>\n",
       "<table border=\"1\" class=\"dataframe\">\n",
       "  <thead>\n",
       "    <tr style=\"text-align: right;\">\n",
       "      <th></th>\n",
       "      <th>id</th>\n",
       "      <th>name</th>\n",
       "      <th>host_id</th>\n",
       "      <th>host_name</th>\n",
       "      <th>neighbourhood_group</th>\n",
       "      <th>neighbourhood</th>\n",
       "      <th>latitude</th>\n",
       "      <th>longitude</th>\n",
       "      <th>room_type</th>\n",
       "      <th>price</th>\n",
       "      <th>minimum_nights</th>\n",
       "      <th>number_of_reviews</th>\n",
       "      <th>last_review</th>\n",
       "      <th>reviews_per_month</th>\n",
       "      <th>calculated_host_listings_count</th>\n",
       "      <th>availability_365</th>\n",
       "      <th>number_of_reviews_ltm</th>\n",
       "      <th>license</th>\n",
       "      <th>state</th>\n",
       "      <th>city</th>\n",
       "    </tr>\n",
       "  </thead>\n",
       "  <tbody>\n",
       "    <tr>\n",
       "      <th>2</th>\n",
       "      <td>51307</td>\n",
       "      <td>Spanish Bungalow Guest House LA CA. 30 plus ni...</td>\n",
       "      <td>235568</td>\n",
       "      <td>David</td>\n",
       "      <td>City of Los Angeles</td>\n",
       "      <td>Atwater Village</td>\n",
       "      <td>34.12206</td>\n",
       "      <td>-118.26783</td>\n",
       "      <td>Entire home/apt</td>\n",
       "      <td>75</td>\n",
       "      <td>30</td>\n",
       "      <td>138</td>\n",
       "      <td>2020-12-13</td>\n",
       "      <td>0.98</td>\n",
       "      <td>2</td>\n",
       "      <td>224</td>\n",
       "      <td>0</td>\n",
       "      <td>&lt;NA&gt;</td>\n",
       "      <td>CA</td>\n",
       "      <td>Los Angeles</td>\n",
       "    </tr>\n",
       "    <tr>\n",
       "      <th>3</th>\n",
       "      <td>184314</td>\n",
       "      <td>Boho Chic Flat..Steps to Beach!</td>\n",
       "      <td>884031</td>\n",
       "      <td>Ashley</td>\n",
       "      <td>City of Los Angeles</td>\n",
       "      <td>Venice</td>\n",
       "      <td>33.97487</td>\n",
       "      <td>-118.46312</td>\n",
       "      <td>Entire home/apt</td>\n",
       "      <td>125</td>\n",
       "      <td>30</td>\n",
       "      <td>30</td>\n",
       "      <td>2017-12-24</td>\n",
       "      <td>0.22</td>\n",
       "      <td>1</td>\n",
       "      <td>0</td>\n",
       "      <td>0</td>\n",
       "      <td>&lt;NA&gt;</td>\n",
       "      <td>CA</td>\n",
       "      <td>Los Angeles</td>\n",
       "    </tr>\n",
       "    <tr>\n",
       "      <th>13</th>\n",
       "      <td>52997</td>\n",
       "      <td>Historical Queen Anne Victorian</td>\n",
       "      <td>244186</td>\n",
       "      <td>Albert</td>\n",
       "      <td>Other Cities</td>\n",
       "      <td>Pasadena</td>\n",
       "      <td>34.15227</td>\n",
       "      <td>-118.10359</td>\n",
       "      <td>Private room</td>\n",
       "      <td>85</td>\n",
       "      <td>60</td>\n",
       "      <td>34</td>\n",
       "      <td>2017-01-17</td>\n",
       "      <td>0.24</td>\n",
       "      <td>3</td>\n",
       "      <td>364</td>\n",
       "      <td>0</td>\n",
       "      <td>&lt;NA&gt;</td>\n",
       "      <td>CA</td>\n",
       "      <td>Los Angeles</td>\n",
       "    </tr>\n",
       "    <tr>\n",
       "      <th>14</th>\n",
       "      <td>3021</td>\n",
       "      <td>Furnished Bedroom /Hollywood Hills -HSR19-004287</td>\n",
       "      <td>3415</td>\n",
       "      <td>Nataraj</td>\n",
       "      <td>City of Los Angeles</td>\n",
       "      <td>Hollywood Hills West</td>\n",
       "      <td>34.11160</td>\n",
       "      <td>-118.38223</td>\n",
       "      <td>Entire home/apt</td>\n",
       "      <td>87</td>\n",
       "      <td>31</td>\n",
       "      <td>23</td>\n",
       "      <td>2018-10-31</td>\n",
       "      <td>0.21</td>\n",
       "      <td>4</td>\n",
       "      <td>215</td>\n",
       "      <td>0</td>\n",
       "      <td>&lt;NA&gt;</td>\n",
       "      <td>CA</td>\n",
       "      <td>Los Angeles</td>\n",
       "    </tr>\n",
       "    <tr>\n",
       "      <th>18</th>\n",
       "      <td>53945</td>\n",
       "      <td>Cheerful Beverly Hills Apartment</td>\n",
       "      <td>239905</td>\n",
       "      <td>Michael</td>\n",
       "      <td>City of Los Angeles</td>\n",
       "      <td>Carthay</td>\n",
       "      <td>34.06171</td>\n",
       "      <td>-118.37258</td>\n",
       "      <td>Entire home/apt</td>\n",
       "      <td>135</td>\n",
       "      <td>31</td>\n",
       "      <td>142</td>\n",
       "      <td>2019-04-15</td>\n",
       "      <td>1.00</td>\n",
       "      <td>1</td>\n",
       "      <td>365</td>\n",
       "      <td>0</td>\n",
       "      <td>&lt;NA&gt;</td>\n",
       "      <td>CA</td>\n",
       "      <td>Los Angeles</td>\n",
       "    </tr>\n",
       "  </tbody>\n",
       "</table>\n",
       "</div>"
      ],
      "text/plain": [
       "        id                                               name  host_id  \\\n",
       "2    51307  Spanish Bungalow Guest House LA CA. 30 plus ni...   235568   \n",
       "3   184314                    Boho Chic Flat..Steps to Beach!   884031   \n",
       "13   52997                    Historical Queen Anne Victorian   244186   \n",
       "14    3021   Furnished Bedroom /Hollywood Hills -HSR19-004287     3415   \n",
       "18   53945                   Cheerful Beverly Hills Apartment   239905   \n",
       "\n",
       "   host_name  neighbourhood_group         neighbourhood  latitude  longitude  \\\n",
       "2      David  City of Los Angeles       Atwater Village  34.12206 -118.26783   \n",
       "3     Ashley  City of Los Angeles                Venice  33.97487 -118.46312   \n",
       "13    Albert         Other Cities              Pasadena  34.15227 -118.10359   \n",
       "14   Nataraj  City of Los Angeles  Hollywood Hills West  34.11160 -118.38223   \n",
       "18   Michael  City of Los Angeles               Carthay  34.06171 -118.37258   \n",
       "\n",
       "          room_type  price  minimum_nights  number_of_reviews last_review  \\\n",
       "2   Entire home/apt     75              30                138  2020-12-13   \n",
       "3   Entire home/apt    125              30                 30  2017-12-24   \n",
       "13     Private room     85              60                 34  2017-01-17   \n",
       "14  Entire home/apt     87              31                 23  2018-10-31   \n",
       "18  Entire home/apt    135              31                142  2019-04-15   \n",
       "\n",
       "    reviews_per_month  calculated_host_listings_count  availability_365  \\\n",
       "2                0.98                               2               224   \n",
       "3                0.22                               1                 0   \n",
       "13               0.24                               3               364   \n",
       "14               0.21                               4               215   \n",
       "18               1.00                               1               365   \n",
       "\n",
       "    number_of_reviews_ltm license state         city  \n",
       "2                       0    <NA>    CA  Los Angeles  \n",
       "3                       0    <NA>    CA  Los Angeles  \n",
       "13                      0    <NA>    CA  Los Angeles  \n",
       "14                      0    <NA>    CA  Los Angeles  \n",
       "18                      0    <NA>    CA  Los Angeles  "
      ]
     },
     "execution_count": 35,
     "metadata": {},
     "output_type": "execute_result"
    }
   ],
   "source": [
    "airbnb_usa[airbnb_usa['number_of_reviews']>=10].nsmallest(5, 'number_of_reviews_ltm')"
   ]
  },
  {
   "cell_type": "markdown",
   "id": "0cca8869",
   "metadata": {
    "papermill": {
     "duration": 0.031976,
     "end_time": "2023-01-26T20:47:09.561075",
     "exception": false,
     "start_time": "2023-01-26T20:47:09.529099",
     "status": "completed"
    },
    "tags": []
   },
   "source": [
    "It appears that **mature listings** with the **highest number of reviews** in the last 12 months are mostly **located near tourist areas** (e.g. Broadway Show), are **hosted by commericial entities** (e.g. SAHARA Las Vegas), have **'Private room' room types** and have **low minimum nights** while **mature listings** with the **lowest number of reviews** in the last 12 months are mostly **located near residential areas** (e.g. Beverly Hills Apartment), are **hosted by individuals** (e.g. David), have **'Entire home/apt' room types** and have **high minimum nights**."
   ]
  },
  {
   "cell_type": "markdown",
   "id": "e94b38b8",
   "metadata": {
    "papermill": {
     "duration": 0.03214,
     "end_time": "2023-01-26T20:47:09.625977",
     "exception": false,
     "start_time": "2023-01-26T20:47:09.593837",
     "status": "completed"
    },
    "tags": []
   },
   "source": [
    "## Q2: Which hosts on average have listings with the highest/lowest number of reviews in the last 12 months?"
   ]
  },
  {
   "cell_type": "markdown",
   "id": "a5980754",
   "metadata": {
    "papermill": {
     "duration": 0.033485,
     "end_time": "2023-01-26T20:47:09.692260",
     "exception": false,
     "start_time": "2023-01-26T20:47:09.658775",
     "status": "completed"
    },
    "tags": []
   },
   "source": [
    "Similarly, to get a clearer picture, let's **only consider mature listings** which will be defined as having **number_of_reviews in total >= 10**."
   ]
  },
  {
   "cell_type": "code",
   "execution_count": 36,
   "id": "36178b85",
   "metadata": {
    "execution": {
     "iopub.execute_input": "2023-01-26T20:47:09.759068Z",
     "iopub.status.busy": "2023-01-26T20:47:09.758658Z",
     "iopub.status.idle": "2023-01-26T20:47:09.937657Z",
     "shell.execute_reply": "2023-01-26T20:47:09.936577Z"
    },
    "papermill": {
     "duration": 0.215435,
     "end_time": "2023-01-26T20:47:09.939798",
     "exception": false,
     "start_time": "2023-01-26T20:47:09.724363",
     "status": "completed"
    },
    "tags": []
   },
   "outputs": [
    {
     "data": {
      "text/html": [
       "<div>\n",
       "<style scoped>\n",
       "    .dataframe tbody tr th:only-of-type {\n",
       "        vertical-align: middle;\n",
       "    }\n",
       "\n",
       "    .dataframe tbody tr th {\n",
       "        vertical-align: top;\n",
       "    }\n",
       "\n",
       "    .dataframe thead th {\n",
       "        text-align: right;\n",
       "    }\n",
       "</style>\n",
       "<table border=\"1\" class=\"dataframe\">\n",
       "  <thead>\n",
       "    <tr style=\"text-align: right;\">\n",
       "      <th></th>\n",
       "      <th></th>\n",
       "      <th>id</th>\n",
       "      <th>latitude</th>\n",
       "      <th>longitude</th>\n",
       "      <th>price</th>\n",
       "      <th>minimum_nights</th>\n",
       "      <th>number_of_reviews</th>\n",
       "      <th>reviews_per_month</th>\n",
       "      <th>calculated_host_listings_count</th>\n",
       "      <th>availability_365</th>\n",
       "      <th>number_of_reviews_ltm</th>\n",
       "    </tr>\n",
       "    <tr>\n",
       "      <th>host_id</th>\n",
       "      <th>host_name</th>\n",
       "      <th></th>\n",
       "      <th></th>\n",
       "      <th></th>\n",
       "      <th></th>\n",
       "      <th></th>\n",
       "      <th></th>\n",
       "      <th></th>\n",
       "      <th></th>\n",
       "      <th></th>\n",
       "      <th></th>\n",
       "    </tr>\n",
       "  </thead>\n",
       "  <tbody>\n",
       "    <tr>\n",
       "      <th>229716119</th>\n",
       "      <th>Simone</th>\n",
       "      <td>4.240943e+07</td>\n",
       "      <td>34.059810</td>\n",
       "      <td>-118.269630</td>\n",
       "      <td>113.00</td>\n",
       "      <td>1.0</td>\n",
       "      <td>1702.00</td>\n",
       "      <td>56.1700</td>\n",
       "      <td>5.0</td>\n",
       "      <td>124.00</td>\n",
       "      <td>833.00</td>\n",
       "    </tr>\n",
       "    <tr>\n",
       "      <th>263082239</th>\n",
       "      <th>At Mine</th>\n",
       "      <td>1.505101e+17</td>\n",
       "      <td>26.107775</td>\n",
       "      <td>-80.107925</td>\n",
       "      <td>67.25</td>\n",
       "      <td>1.0</td>\n",
       "      <td>469.75</td>\n",
       "      <td>56.3875</td>\n",
       "      <td>4.0</td>\n",
       "      <td>244.50</td>\n",
       "      <td>469.75</td>\n",
       "    </tr>\n",
       "    <tr>\n",
       "      <th>438770271</th>\n",
       "      <th>Christy</th>\n",
       "      <td>5.423342e+07</td>\n",
       "      <td>36.145350</td>\n",
       "      <td>-86.793040</td>\n",
       "      <td>109.00</td>\n",
       "      <td>1.0</td>\n",
       "      <td>460.00</td>\n",
       "      <td>56.7850</td>\n",
       "      <td>3.0</td>\n",
       "      <td>352.00</td>\n",
       "      <td>460.00</td>\n",
       "    </tr>\n",
       "    <tr>\n",
       "      <th>174393062</th>\n",
       "      <th>Hotel Pepper Tree</th>\n",
       "      <td>2.518627e+07</td>\n",
       "      <td>33.832910</td>\n",
       "      <td>-117.967050</td>\n",
       "      <td>196.50</td>\n",
       "      <td>1.0</td>\n",
       "      <td>726.50</td>\n",
       "      <td>13.9600</td>\n",
       "      <td>2.0</td>\n",
       "      <td>362.00</td>\n",
       "      <td>402.00</td>\n",
       "    </tr>\n",
       "    <tr>\n",
       "      <th>266755066</th>\n",
       "      <th>The Ridge</th>\n",
       "      <td>3.712242e+07</td>\n",
       "      <td>40.723213</td>\n",
       "      <td>-73.989510</td>\n",
       "      <td>263.00</td>\n",
       "      <td>1.0</td>\n",
       "      <td>642.50</td>\n",
       "      <td>19.7100</td>\n",
       "      <td>4.0</td>\n",
       "      <td>323.25</td>\n",
       "      <td>332.25</td>\n",
       "    </tr>\n",
       "  </tbody>\n",
       "</table>\n",
       "</div>"
      ],
      "text/plain": [
       "                                       id   latitude   longitude   price  \\\n",
       "host_id   host_name                                                        \n",
       "229716119 Simone             4.240943e+07  34.059810 -118.269630  113.00   \n",
       "263082239 At Mine            1.505101e+17  26.107775  -80.107925   67.25   \n",
       "438770271 Christy            5.423342e+07  36.145350  -86.793040  109.00   \n",
       "174393062 Hotel Pepper Tree  2.518627e+07  33.832910 -117.967050  196.50   \n",
       "266755066 The Ridge          3.712242e+07  40.723213  -73.989510  263.00   \n",
       "\n",
       "                             minimum_nights  number_of_reviews  \\\n",
       "host_id   host_name                                              \n",
       "229716119 Simone                        1.0            1702.00   \n",
       "263082239 At Mine                       1.0             469.75   \n",
       "438770271 Christy                       1.0             460.00   \n",
       "174393062 Hotel Pepper Tree             1.0             726.50   \n",
       "266755066 The Ridge                     1.0             642.50   \n",
       "\n",
       "                             reviews_per_month  \\\n",
       "host_id   host_name                              \n",
       "229716119 Simone                       56.1700   \n",
       "263082239 At Mine                      56.3875   \n",
       "438770271 Christy                      56.7850   \n",
       "174393062 Hotel Pepper Tree            13.9600   \n",
       "266755066 The Ridge                    19.7100   \n",
       "\n",
       "                             calculated_host_listings_count  availability_365  \\\n",
       "host_id   host_name                                                             \n",
       "229716119 Simone                                        5.0            124.00   \n",
       "263082239 At Mine                                       4.0            244.50   \n",
       "438770271 Christy                                       3.0            352.00   \n",
       "174393062 Hotel Pepper Tree                             2.0            362.00   \n",
       "266755066 The Ridge                                     4.0            323.25   \n",
       "\n",
       "                             number_of_reviews_ltm  \n",
       "host_id   host_name                                 \n",
       "229716119 Simone                            833.00  \n",
       "263082239 At Mine                           469.75  \n",
       "438770271 Christy                           460.00  \n",
       "174393062 Hotel Pepper Tree                 402.00  \n",
       "266755066 The Ridge                         332.25  "
      ]
     },
     "execution_count": 36,
     "metadata": {},
     "output_type": "execute_result"
    }
   ],
   "source": [
    "airbnb_usa[airbnb_usa['number_of_reviews']>=10].groupby(['host_id', 'host_name']).mean() \\\n",
    "                                               .nlargest(5, 'number_of_reviews_ltm')"
   ]
  },
  {
   "cell_type": "code",
   "execution_count": 37,
   "id": "2b72150a",
   "metadata": {
    "execution": {
     "iopub.execute_input": "2023-01-26T20:47:10.007399Z",
     "iopub.status.busy": "2023-01-26T20:47:10.006978Z",
     "iopub.status.idle": "2023-01-26T20:47:10.185319Z",
     "shell.execute_reply": "2023-01-26T20:47:10.184206Z"
    },
    "papermill": {
     "duration": 0.215088,
     "end_time": "2023-01-26T20:47:10.187748",
     "exception": false,
     "start_time": "2023-01-26T20:47:09.972660",
     "status": "completed"
    },
    "tags": []
   },
   "outputs": [
    {
     "data": {
      "text/html": [
       "<div>\n",
       "<style scoped>\n",
       "    .dataframe tbody tr th:only-of-type {\n",
       "        vertical-align: middle;\n",
       "    }\n",
       "\n",
       "    .dataframe tbody tr th {\n",
       "        vertical-align: top;\n",
       "    }\n",
       "\n",
       "    .dataframe thead th {\n",
       "        text-align: right;\n",
       "    }\n",
       "</style>\n",
       "<table border=\"1\" class=\"dataframe\">\n",
       "  <thead>\n",
       "    <tr style=\"text-align: right;\">\n",
       "      <th></th>\n",
       "      <th></th>\n",
       "      <th>id</th>\n",
       "      <th>latitude</th>\n",
       "      <th>longitude</th>\n",
       "      <th>price</th>\n",
       "      <th>minimum_nights</th>\n",
       "      <th>number_of_reviews</th>\n",
       "      <th>reviews_per_month</th>\n",
       "      <th>calculated_host_listings_count</th>\n",
       "      <th>availability_365</th>\n",
       "      <th>number_of_reviews_ltm</th>\n",
       "    </tr>\n",
       "    <tr>\n",
       "      <th>host_id</th>\n",
       "      <th>host_name</th>\n",
       "      <th></th>\n",
       "      <th></th>\n",
       "      <th></th>\n",
       "      <th></th>\n",
       "      <th></th>\n",
       "      <th></th>\n",
       "      <th></th>\n",
       "      <th></th>\n",
       "      <th></th>\n",
       "      <th></th>\n",
       "    </tr>\n",
       "  </thead>\n",
       "  <tbody>\n",
       "    <tr>\n",
       "      <th>783</th>\n",
       "      <th>Jason</th>\n",
       "      <td>364.0</td>\n",
       "      <td>39.76672</td>\n",
       "      <td>-104.97906</td>\n",
       "      <td>179.0</td>\n",
       "      <td>185.0</td>\n",
       "      <td>87.0</td>\n",
       "      <td>0.530</td>\n",
       "      <td>1.0</td>\n",
       "      <td>358.0</td>\n",
       "      <td>0.0</td>\n",
       "    </tr>\n",
       "    <tr>\n",
       "      <th>990</th>\n",
       "      <th>Alexandra</th>\n",
       "      <td>21745.0</td>\n",
       "      <td>39.74490</td>\n",
       "      <td>-104.97711</td>\n",
       "      <td>40.0</td>\n",
       "      <td>30.0</td>\n",
       "      <td>234.0</td>\n",
       "      <td>1.540</td>\n",
       "      <td>1.0</td>\n",
       "      <td>303.0</td>\n",
       "      <td>0.0</td>\n",
       "    </tr>\n",
       "    <tr>\n",
       "      <th>6041</th>\n",
       "      <th>Miranda</th>\n",
       "      <td>3040654.0</td>\n",
       "      <td>40.77758</td>\n",
       "      <td>-73.90950</td>\n",
       "      <td>48.0</td>\n",
       "      <td>30.0</td>\n",
       "      <td>14.0</td>\n",
       "      <td>0.160</td>\n",
       "      <td>1.0</td>\n",
       "      <td>0.0</td>\n",
       "      <td>0.0</td>\n",
       "    </tr>\n",
       "    <tr>\n",
       "      <th>6527</th>\n",
       "      <th>Ami</th>\n",
       "      <td>5589.0</td>\n",
       "      <td>38.91887</td>\n",
       "      <td>-77.04008</td>\n",
       "      <td>70.0</td>\n",
       "      <td>31.0</td>\n",
       "      <td>95.0</td>\n",
       "      <td>0.600</td>\n",
       "      <td>1.0</td>\n",
       "      <td>106.0</td>\n",
       "      <td>0.0</td>\n",
       "    </tr>\n",
       "    <tr>\n",
       "      <th>6829</th>\n",
       "      <th>Barrett</th>\n",
       "      <td>12394996.0</td>\n",
       "      <td>34.04345</td>\n",
       "      <td>-118.33076</td>\n",
       "      <td>168.0</td>\n",
       "      <td>30.0</td>\n",
       "      <td>70.5</td>\n",
       "      <td>1.025</td>\n",
       "      <td>2.0</td>\n",
       "      <td>365.0</td>\n",
       "      <td>0.0</td>\n",
       "    </tr>\n",
       "  </tbody>\n",
       "</table>\n",
       "</div>"
      ],
      "text/plain": [
       "                           id  latitude  longitude  price  minimum_nights  \\\n",
       "host_id host_name                                                           \n",
       "783     Jason           364.0  39.76672 -104.97906  179.0           185.0   \n",
       "990     Alexandra     21745.0  39.74490 -104.97711   40.0            30.0   \n",
       "6041    Miranda     3040654.0  40.77758  -73.90950   48.0            30.0   \n",
       "6527    Ami            5589.0  38.91887  -77.04008   70.0            31.0   \n",
       "6829    Barrett    12394996.0  34.04345 -118.33076  168.0            30.0   \n",
       "\n",
       "                   number_of_reviews  reviews_per_month  \\\n",
       "host_id host_name                                         \n",
       "783     Jason                   87.0              0.530   \n",
       "990     Alexandra              234.0              1.540   \n",
       "6041    Miranda                 14.0              0.160   \n",
       "6527    Ami                     95.0              0.600   \n",
       "6829    Barrett                 70.5              1.025   \n",
       "\n",
       "                   calculated_host_listings_count  availability_365  \\\n",
       "host_id host_name                                                     \n",
       "783     Jason                                 1.0             358.0   \n",
       "990     Alexandra                             1.0             303.0   \n",
       "6041    Miranda                               1.0               0.0   \n",
       "6527    Ami                                   1.0             106.0   \n",
       "6829    Barrett                               2.0             365.0   \n",
       "\n",
       "                   number_of_reviews_ltm  \n",
       "host_id host_name                         \n",
       "783     Jason                        0.0  \n",
       "990     Alexandra                    0.0  \n",
       "6041    Miranda                      0.0  \n",
       "6527    Ami                          0.0  \n",
       "6829    Barrett                      0.0  "
      ]
     },
     "execution_count": 37,
     "metadata": {},
     "output_type": "execute_result"
    }
   ],
   "source": [
    "airbnb_usa[airbnb_usa['number_of_reviews']>=10].groupby(['host_id', 'host_name']).mean() \\\n",
    "                                               .nsmallest(5, 'number_of_reviews_ltm')"
   ]
  },
  {
   "cell_type": "markdown",
   "id": "d8b8bf31",
   "metadata": {
    "papermill": {
     "duration": 0.032783,
     "end_time": "2023-01-26T20:47:10.254469",
     "exception": false,
     "start_time": "2023-01-26T20:47:10.221686",
     "status": "completed"
    },
    "tags": []
   },
   "source": [
    "It appears that on average **hosts who have mature listings** with the **highest number of reviews** in the last 12 months are mostly **commericial entities** (e.g. Hotel Pepper Tree) while **hosts who have mature listings** with the **lowest number of reviews** in the last 12 months are mostly **individuals** (e.g. Jason).\n",
    "\n",
    "The major differences in number of minimum nights between the two host types reinforce the finding in the **Q1** section above."
   ]
  },
  {
   "cell_type": "markdown",
   "id": "192bb947",
   "metadata": {
    "papermill": {
     "duration": 0.033044,
     "end_time": "2023-01-26T20:47:10.321008",
     "exception": false,
     "start_time": "2023-01-26T20:47:10.287964",
     "status": "completed"
    },
    "tags": []
   },
   "source": [
    "## Q3: Does a listing's price or minimum nights correlate with its number of reviews in the last 12 months?"
   ]
  },
  {
   "cell_type": "code",
   "execution_count": 38,
   "id": "058297ab",
   "metadata": {
    "execution": {
     "iopub.execute_input": "2023-01-26T20:47:10.389488Z",
     "iopub.status.busy": "2023-01-26T20:47:10.389100Z",
     "iopub.status.idle": "2023-01-26T20:47:11.760794Z",
     "shell.execute_reply": "2023-01-26T20:47:11.759537Z"
    },
    "papermill": {
     "duration": 1.408845,
     "end_time": "2023-01-26T20:47:11.763266",
     "exception": false,
     "start_time": "2023-01-26T20:47:10.354421",
     "status": "completed"
    },
    "tags": []
   },
   "outputs": [
    {
     "data": {
      "image/png": "[encoded data removed]",
      "text/plain": [
       "<Figure size 864x360 with 2 Axes>"
      ]
     },
     "metadata": {
      "needs_background": "light"
     },
     "output_type": "display_data"
    }
   ],
   "source": [
    "# Scatter Plots\n",
    "fig, axes = plt.subplots(1, 2, sharey=True, figsize=(12, 5))\n",
    "\n",
    "sns.scatterplot(ax=axes.reshape(-1)[0], data=airbnb_usa, color='green',\n",
    "                x='price', y='number_of_reviews_ltm')\n",
    "axes.reshape(-1)[0].set(xlabel='Price (USD)',\n",
    "                        ylabel='Total Number of Reviews in the Last 12 Months')\n",
    "\n",
    "sns.scatterplot(ax=axes.reshape(-1)[1], data=airbnb_usa, color='red',\n",
    "                x='minimum_nights', y='number_of_reviews_ltm')\n",
    "axes.reshape(-1)[1].set(xlabel='Minimum Nights')\n",
    "\n",
    "plt.tight_layout()\n",
    "\n",
    "plt.show()"
   ]
  },
  {
   "cell_type": "code",
   "execution_count": 39,
   "id": "7b72ee17",
   "metadata": {
    "execution": {
     "iopub.execute_input": "2023-01-26T20:47:11.834307Z",
     "iopub.status.busy": "2023-01-26T20:47:11.833220Z",
     "iopub.status.idle": "2023-01-26T20:47:11.941811Z",
     "shell.execute_reply": "2023-01-26T20:47:11.940666Z"
    },
    "papermill": {
     "duration": 0.14689,
     "end_time": "2023-01-26T20:47:11.944634",
     "exception": false,
     "start_time": "2023-01-26T20:47:11.797744",
     "status": "completed"
    },
    "tags": []
   },
   "outputs": [
    {
     "name": "stdout",
     "output_type": "stream",
     "text": [
      "For price wth alternative=less:\n",
      "- SpearmanrResult(correlation=-0.0040336140224811, pvalue=0.019105434404726063) \n",
      "\n",
      "For minimum_nights wth alternative=less:\n",
      "- SpearmanrResult(correlation=-0.41275832098874043, pvalue=0.0)\n"
     ]
    }
   ],
   "source": [
    "print('For price wth alternative=less:\\n-', \n",
    "      stats.spearmanr(a=airbnb_usa['price'], \n",
    "                      b=airbnb_usa['number_of_reviews_ltm'], alternative='less'), \n",
    "      '\\n\\nFor minimum_nights wth alternative=less:\\n-', \n",
    "      stats.spearmanr(a=airbnb_usa['minimum_nights'], \n",
    "                      b=airbnb_usa['number_of_reviews_ltm'], alternative='less'))"
   ]
  },
  {
   "cell_type": "markdown",
   "id": "dcbd1e03",
   "metadata": {
    "papermill": {
     "duration": 0.033751,
     "end_time": "2023-01-26T20:47:12.012692",
     "exception": false,
     "start_time": "2023-01-26T20:47:11.978941",
     "status": "completed"
    },
    "tags": []
   },
   "source": [
    "Based on the Spearman Rank tests, on median, **listings with higher prices or minimum nights** have **lower number of reviews** in the last 12 months."
   ]
  },
  {
   "cell_type": "markdown",
   "id": "f42f93d3",
   "metadata": {
    "papermill": {
     "duration": 0.033601,
     "end_time": "2023-01-26T20:47:12.080198",
     "exception": false,
     "start_time": "2023-01-26T20:47:12.046597",
     "status": "completed"
    },
    "tags": []
   },
   "source": [
    "## Q4: Which listing room types on median have the highest/lowest number of reviews in the last 12 months?"
   ]
  },
  {
   "cell_type": "code",
   "execution_count": 40,
   "id": "ed83c802",
   "metadata": {
    "execution": {
     "iopub.execute_input": "2023-01-26T20:47:12.149960Z",
     "iopub.status.busy": "2023-01-26T20:47:12.149177Z",
     "iopub.status.idle": "2023-01-26T20:47:12.427442Z",
     "shell.execute_reply": "2023-01-26T20:47:12.426362Z"
    },
    "papermill": {
     "duration": 0.315687,
     "end_time": "2023-01-26T20:47:12.429722",
     "exception": false,
     "start_time": "2023-01-26T20:47:12.114035",
     "status": "completed"
    },
    "tags": []
   },
   "outputs": [
    {
     "data": {
      "image/png": "[encoded data removed]",
      "text/plain": [
       "<Figure size 864x360 with 1 Axes>"
      ]
     },
     "metadata": {
      "needs_background": "light"
     },
     "output_type": "display_data"
    }
   ],
   "source": [
    "# Bar Plot\n",
    "sns.barplot(data=airbnb_usa.groupby('room_type').median().reset_index(), x='number_of_reviews_ltm', y='room_type')\n",
    "                       \n",
    "plt.xlabel('Median Number of Reviews in the Last 12 Months')\n",
    "plt.ylabel('Room Type') \n",
    "plt.gcf().set_size_inches(12, 5)\n",
    "    \n",
    "plt.show()"
   ]
  },
  {
   "cell_type": "code",
   "execution_count": 41,
   "id": "607bf199",
   "metadata": {
    "execution": {
     "iopub.execute_input": "2023-01-26T20:47:12.501139Z",
     "iopub.status.busy": "2023-01-26T20:47:12.500432Z",
     "iopub.status.idle": "2023-01-26T20:47:12.549661Z",
     "shell.execute_reply": "2023-01-26T20:47:12.548558Z"
    },
    "papermill": {
     "duration": 0.088245,
     "end_time": "2023-01-26T20:47:12.551936",
     "exception": false,
     "start_time": "2023-01-26T20:47:12.463691",
     "status": "completed"
    },
    "tags": []
   },
   "outputs": [
    {
     "data": {
      "text/plain": [
       "KruskalResult(statistic=6851.843892860335, pvalue=0.0)"
      ]
     },
     "execution_count": 41,
     "metadata": {},
     "output_type": "execute_result"
    }
   ],
   "source": [
    "stats.kruskal(airbnb_usa.loc[airbnb_usa['room_type']=='Entire home/apt', 'number_of_reviews_ltm'], \n",
    "              airbnb_usa.loc[airbnb_usa['room_type']=='Hotel room', 'number_of_reviews_ltm'], \n",
    "              airbnb_usa.loc[airbnb_usa['room_type']=='Private room', 'number_of_reviews_ltm'], \n",
    "              airbnb_usa.loc[airbnb_usa['room_type']=='Shared room', 'number_of_reviews_ltm'])"
   ]
  },
  {
   "cell_type": "markdown",
   "id": "c1eb0f8e",
   "metadata": {
    "papermill": {
     "duration": 0.035104,
     "end_time": "2023-01-26T20:47:12.621786",
     "exception": false,
     "start_time": "2023-01-26T20:47:12.586682",
     "status": "completed"
    },
    "tags": []
   },
   "source": [
    "Based on the bar chart and Kruskal-Wallis test, on median, **'Entire home/apt' room types** have the **highest number of reviews** in the last 12 months while **'Shared room' room types** have the **lowest number of reviews** in the last 12 months."
   ]
  },
  {
   "cell_type": "markdown",
   "id": "58b1fb8a",
   "metadata": {
    "papermill": {
     "duration": 0.034601,
     "end_time": "2023-01-26T20:47:12.691347",
     "exception": false,
     "start_time": "2023-01-26T20:47:12.656746",
     "status": "completed"
    },
    "tags": []
   },
   "source": [
    "## Q5: Do listings with indicated licenses on median differ from listings without indicated licenses in their numbers of reviews in the last 12 months?"
   ]
  },
  {
   "cell_type": "code",
   "execution_count": 42,
   "id": "b3e56a55",
   "metadata": {
    "execution": {
     "iopub.execute_input": "2023-01-26T20:47:12.761637Z",
     "iopub.status.busy": "2023-01-26T20:47:12.761186Z",
     "iopub.status.idle": "2023-01-26T20:47:13.021850Z",
     "shell.execute_reply": "2023-01-26T20:47:13.020862Z"
    },
    "papermill": {
     "duration": 0.298672,
     "end_time": "2023-01-26T20:47:13.024391",
     "exception": false,
     "start_time": "2023-01-26T20:47:12.725719",
     "status": "completed"
    },
    "tags": []
   },
   "outputs": [
    {
     "data": {
      "image/png": "[encoded data removed]",
      "text/plain": [
       "<Figure size 864x360 with 1 Axes>"
      ]
     },
     "metadata": {
      "needs_background": "light"
     },
     "output_type": "display_data"
    }
   ],
   "source": [
    "# Create a temporary DataFrame to store values\n",
    "temp_df = airbnb_usa[['license', 'number_of_reviews_ltm']].copy()\n",
    "temp_df['license_indicated'] = temp_df['license'].isnull().replace({True: 'Yes', False: 'No'})\n",
    "\n",
    "# Bar Plot\n",
    "sns.barplot(data=temp_df.groupby('license_indicated').median().reset_index(), \n",
    "            x='license_indicated', y='number_of_reviews_ltm')\n",
    "\n",
    "plt.xlabel('License Indicated?')\n",
    "plt.ylabel('Median Number of Reviews in the Last 12 Months')\n",
    "plt.gcf().set_size_inches(12, 5)\n",
    "\n",
    "plt.show()"
   ]
  },
  {
   "cell_type": "code",
   "execution_count": 43,
   "id": "94ae0fe8",
   "metadata": {
    "execution": {
     "iopub.execute_input": "2023-01-26T20:47:13.095178Z",
     "iopub.status.busy": "2023-01-26T20:47:13.094794Z",
     "iopub.status.idle": "2023-01-26T20:47:13.296393Z",
     "shell.execute_reply": "2023-01-26T20:47:13.295334Z"
    },
    "papermill": {
     "duration": 0.239843,
     "end_time": "2023-01-26T20:47:13.298796",
     "exception": false,
     "start_time": "2023-01-26T20:47:13.058953",
     "status": "completed"
    },
    "tags": []
   },
   "outputs": [
    {
     "data": {
      "text/plain": [
       "MannwhitneyuResult(statistic=8366024761.5, pvalue=0.0)"
      ]
     },
     "execution_count": 43,
     "metadata": {},
     "output_type": "execute_result"
    }
   ],
   "source": [
    "stats.mannwhitneyu(x=temp_df.loc[temp_df['license_indicated']=='No', 'number_of_reviews_ltm'], \n",
    "                   y=temp_df.loc[temp_df['license_indicated']=='Yes', 'number_of_reviews_ltm'], \n",
    "                   alternative='greater')"
   ]
  },
  {
   "cell_type": "markdown",
   "id": "98de023d",
   "metadata": {
    "papermill": {
     "duration": 0.034679,
     "end_time": "2023-01-26T20:47:13.368036",
     "exception": false,
     "start_time": "2023-01-26T20:47:13.333357",
     "status": "completed"
    },
    "tags": []
   },
   "source": [
    "Based on the Mann-Whitney U test, on median, **listings without indicated licenses** have **higher number of reviews** in the last 12 months than listings with indicated licenses."
   ]
  },
  {
   "cell_type": "markdown",
   "id": "636a7598",
   "metadata": {
    "papermill": {
     "duration": 0.034314,
     "end_time": "2023-01-26T20:47:13.436893",
     "exception": false,
     "start_time": "2023-01-26T20:47:13.402579",
     "status": "completed"
    },
    "tags": []
   },
   "source": [
    "# 6. Modeling\n",
    "***"
   ]
  },
  {
   "cell_type": "markdown",
   "id": "be03be88",
   "metadata": {
    "papermill": {
     "duration": 0.034105,
     "end_time": "2023-01-26T20:47:13.505471",
     "exception": false,
     "start_time": "2023-01-26T20:47:13.471366",
     "status": "completed"
    },
    "tags": []
   },
   "source": [
    "Let's predict a listing's number of reviews in the last 12 months: **number_of_reviews_ltm**."
   ]
  },
  {
   "cell_type": "code",
   "execution_count": 44,
   "id": "5b29c2ed",
   "metadata": {
    "execution": {
     "iopub.execute_input": "2023-01-26T20:47:13.577282Z",
     "iopub.status.busy": "2023-01-26T20:47:13.576301Z",
     "iopub.status.idle": "2023-01-26T20:47:14.444856Z",
     "shell.execute_reply": "2023-01-26T20:47:14.443532Z"
    },
    "papermill": {
     "duration": 0.907807,
     "end_time": "2023-01-26T20:47:14.447954",
     "exception": false,
     "start_time": "2023-01-26T20:47:13.540147",
     "status": "completed"
    },
    "tags": []
   },
   "outputs": [
    {
     "data": {
      "image/png": "[encoded data removed]",
      "text/plain": [
       "<Figure size 864x360 with 1 Axes>"
      ]
     },
     "metadata": {
      "needs_background": "light"
     },
     "output_type": "display_data"
    }
   ],
   "source": [
    "# Scatter Plot\n",
    "sns.scatterplot(data=airbnb_usa.groupby('id').median(), x='number_of_reviews', y='number_of_reviews_ltm')\n",
    "\n",
    "plt.xlabel('Total Number of Reviews')\n",
    "plt.ylabel('Number of Reviews in Last 12 Months') \n",
    "plt.title('For Each Listing')\n",
    "plt.gcf().set_size_inches(12, 5)\n",
    "\n",
    "plt.show()"
   ]
  },
  {
   "cell_type": "code",
   "execution_count": 45,
   "id": "618b13cf",
   "metadata": {
    "execution": {
     "iopub.execute_input": "2023-01-26T20:47:14.521738Z",
     "iopub.status.busy": "2023-01-26T20:47:14.520945Z",
     "iopub.status.idle": "2023-01-26T20:47:14.869717Z",
     "shell.execute_reply": "2023-01-26T20:47:14.868329Z"
    },
    "papermill": {
     "duration": 0.388288,
     "end_time": "2023-01-26T20:47:14.872327",
     "exception": false,
     "start_time": "2023-01-26T20:47:14.484039",
     "status": "completed"
    },
    "tags": []
   },
   "outputs": [
    {
     "data": {
      "text/plain": [
       "SpearmanrResult(correlation=0.7870762850446217, pvalue=0.0)"
      ]
     },
     "execution_count": 45,
     "metadata": {},
     "output_type": "execute_result"
    }
   ],
   "source": [
    "stats.spearmanr(a=airbnb_usa.groupby('id').median()['number_of_reviews'], \n",
    "                b=airbnb_usa.groupby('id').median()['number_of_reviews_ltm'], alternative='greater')"
   ]
  },
  {
   "cell_type": "markdown",
   "id": "55ccc067",
   "metadata": {
    "papermill": {
     "duration": 0.03616,
     "end_time": "2023-01-26T20:47:14.944759",
     "exception": false,
     "start_time": "2023-01-26T20:47:14.908599",
     "status": "completed"
    },
    "tags": []
   },
   "source": [
    "Based on the Spearman Rank test, on median, listings with higher number of reviews in total have higher number of reviews in the last 12 months; therefore, on median, listings with higher number of reviews in the last 12 months should also have higher number of reviews in the next 12 months (advance the time window)."
   ]
  },
  {
   "cell_type": "markdown",
   "id": "7f168435",
   "metadata": {
    "papermill": {
     "duration": 0.035678,
     "end_time": "2023-01-26T20:47:15.017177",
     "exception": false,
     "start_time": "2023-01-26T20:47:14.981499",
     "status": "completed"
    },
    "tags": []
   },
   "source": [
    "## Missing Values"
   ]
  },
  {
   "cell_type": "code",
   "execution_count": 46,
   "id": "27a745a0",
   "metadata": {
    "execution": {
     "iopub.execute_input": "2023-01-26T20:47:15.091087Z",
     "iopub.status.busy": "2023-01-26T20:47:15.090692Z",
     "iopub.status.idle": "2023-01-26T20:47:15.140019Z",
     "shell.execute_reply": "2023-01-26T20:47:15.138579Z"
    },
    "papermill": {
     "duration": 0.089621,
     "end_time": "2023-01-26T20:47:15.142811",
     "exception": false,
     "start_time": "2023-01-26T20:47:15.053190",
     "status": "completed"
    },
    "tags": []
   },
   "outputs": [
    {
     "name": "stdout",
     "output_type": "stream",
     "text": [
      "Missing values (%) per field:\n",
      " id                                 0.000000\n",
      "name                               0.000379\n",
      "host_id                            0.000000\n",
      "host_name                          0.204151\n",
      "neighbourhood_group               57.855465\n",
      "neighbourhood                      0.264374\n",
      "latitude                           0.000000\n",
      "longitude                          0.000000\n",
      "room_type                          0.000000\n",
      "price                              0.000000\n",
      "minimum_nights                     0.000000\n",
      "number_of_reviews                  0.000000\n",
      "last_review                       17.499053\n",
      "reviews_per_month                 17.499053\n",
      "calculated_host_listings_count     0.000000\n",
      "availability_365                   0.000000\n",
      "number_of_reviews_ltm              0.000000\n",
      "license                           73.368684\n",
      "state                              0.000000\n",
      "city                               0.000000\n",
      "dtype: float64\n"
     ]
    }
   ],
   "source": [
    "print('Missing values (%) per field:\\n', 100*airbnb_usa.isnull().mean())"
   ]
  },
  {
   "cell_type": "markdown",
   "id": "96d8720a",
   "metadata": {
    "papermill": {
     "duration": 0.034978,
     "end_time": "2023-01-26T20:47:15.213322",
     "exception": false,
     "start_time": "2023-01-26T20:47:15.178344",
     "status": "completed"
    },
    "tags": []
   },
   "source": [
    "Let's:\n",
    "* Drop **neighbourhood_group** since we have **city**\n",
    "* Create **license_indicated** whether its 1 if a listing indicates a license or 0 if a listing doesn't indicate a license; although **license** is mostly **null**, it does correlate with **number_of_reviews_ltm** (please refer to the **Q5** section in the **Exploration** chapter above)\n",
    "* Drop **last_review** and **reviews_per_month** which should allow our model to generalize to new listings\n",
    "\n",
    "Finally, let's drop all **null** observations since they'll account for less than 0.3% of the total."
   ]
  },
  {
   "cell_type": "code",
   "execution_count": 47,
   "id": "a8072bf6",
   "metadata": {
    "execution": {
     "iopub.execute_input": "2023-01-26T20:47:15.288938Z",
     "iopub.status.busy": "2023-01-26T20:47:15.288143Z",
     "iopub.status.idle": "2023-01-26T20:47:15.421631Z",
     "shell.execute_reply": "2023-01-26T20:47:15.420775Z"
    },
    "papermill": {
     "duration": 0.175554,
     "end_time": "2023-01-26T20:47:15.424238",
     "exception": false,
     "start_time": "2023-01-26T20:47:15.248684",
     "status": "completed"
    },
    "tags": []
   },
   "outputs": [],
   "source": [
    "# Create a copy to avoid having to rerun the whole notebook\n",
    "data = airbnb_usa.copy()\n",
    "\n",
    "# Redefine features\n",
    "data['license_indicated'] = data['license'].isnull().astype('int64')\n",
    "\n",
    "# Drop \n",
    "data.drop(['neighbourhood_group', 'license', 'last_review', 'reviews_per_month'], \n",
    "          axis='columns', inplace=True)\n",
    "data.dropna(inplace=True)"
   ]
  },
  {
   "cell_type": "markdown",
   "id": "259799f6",
   "metadata": {
    "papermill": {
     "duration": 0.035719,
     "end_time": "2023-01-26T20:47:15.495532",
     "exception": false,
     "start_time": "2023-01-26T20:47:15.459813",
     "status": "completed"
    },
    "tags": []
   },
   "source": [
    "## Feature Extraction"
   ]
  },
  {
   "cell_type": "code",
   "execution_count": 48,
   "id": "de0f4346",
   "metadata": {
    "execution": {
     "iopub.execute_input": "2023-01-26T20:47:15.568698Z",
     "iopub.status.busy": "2023-01-26T20:47:15.568254Z",
     "iopub.status.idle": "2023-01-26T20:47:15.590189Z",
     "shell.execute_reply": "2023-01-26T20:47:15.588852Z"
    },
    "papermill": {
     "duration": 0.061636,
     "end_time": "2023-01-26T20:47:15.592666",
     "exception": false,
     "start_time": "2023-01-26T20:47:15.531030",
     "status": "completed"
    },
    "tags": []
   },
   "outputs": [
    {
     "data": {
      "text/html": [
       "<div>\n",
       "<style scoped>\n",
       "    .dataframe tbody tr th:only-of-type {\n",
       "        vertical-align: middle;\n",
       "    }\n",
       "\n",
       "    .dataframe tbody tr th {\n",
       "        vertical-align: top;\n",
       "    }\n",
       "\n",
       "    .dataframe thead th {\n",
       "        text-align: right;\n",
       "    }\n",
       "</style>\n",
       "<table border=\"1\" class=\"dataframe\">\n",
       "  <thead>\n",
       "    <tr style=\"text-align: right;\">\n",
       "      <th></th>\n",
       "      <th>id</th>\n",
       "      <th>name</th>\n",
       "      <th>host_id</th>\n",
       "      <th>host_name</th>\n",
       "      <th>neighbourhood</th>\n",
       "      <th>latitude</th>\n",
       "      <th>longitude</th>\n",
       "      <th>room_type</th>\n",
       "      <th>price</th>\n",
       "      <th>minimum_nights</th>\n",
       "      <th>number_of_reviews</th>\n",
       "      <th>calculated_host_listings_count</th>\n",
       "      <th>availability_365</th>\n",
       "      <th>number_of_reviews_ltm</th>\n",
       "      <th>state</th>\n",
       "      <th>city</th>\n",
       "      <th>license_indicated</th>\n",
       "    </tr>\n",
       "  </thead>\n",
       "  <tbody>\n",
       "    <tr>\n",
       "      <th>0</th>\n",
       "      <td>183319</td>\n",
       "      <td>Panoramic Ocean View Venice Beach</td>\n",
       "      <td>867995</td>\n",
       "      <td>Barbara X</td>\n",
       "      <td>Venice</td>\n",
       "      <td>33.99211</td>\n",
       "      <td>-118.47600</td>\n",
       "      <td>Entire home/apt</td>\n",
       "      <td>152</td>\n",
       "      <td>30</td>\n",
       "      <td>3</td>\n",
       "      <td>2</td>\n",
       "      <td>0</td>\n",
       "      <td>0</td>\n",
       "      <td>CA</td>\n",
       "      <td>Los Angeles</td>\n",
       "      <td>1</td>\n",
       "    </tr>\n",
       "    <tr>\n",
       "      <th>1</th>\n",
       "      <td>109</td>\n",
       "      <td>Amazing bright elegant condo park front *UPGRA...</td>\n",
       "      <td>521</td>\n",
       "      <td>Paolo</td>\n",
       "      <td>Culver City</td>\n",
       "      <td>33.98301</td>\n",
       "      <td>-118.38607</td>\n",
       "      <td>Entire home/apt</td>\n",
       "      <td>115</td>\n",
       "      <td>30</td>\n",
       "      <td>2</td>\n",
       "      <td>1</td>\n",
       "      <td>139</td>\n",
       "      <td>0</td>\n",
       "      <td>CA</td>\n",
       "      <td>Los Angeles</td>\n",
       "      <td>1</td>\n",
       "    </tr>\n",
       "    <tr>\n",
       "      <th>2</th>\n",
       "      <td>51307</td>\n",
       "      <td>Spanish Bungalow Guest House LA CA. 30 plus ni...</td>\n",
       "      <td>235568</td>\n",
       "      <td>David</td>\n",
       "      <td>Atwater Village</td>\n",
       "      <td>34.12206</td>\n",
       "      <td>-118.26783</td>\n",
       "      <td>Entire home/apt</td>\n",
       "      <td>75</td>\n",
       "      <td>30</td>\n",
       "      <td>138</td>\n",
       "      <td>2</td>\n",
       "      <td>224</td>\n",
       "      <td>0</td>\n",
       "      <td>CA</td>\n",
       "      <td>Los Angeles</td>\n",
       "      <td>1</td>\n",
       "    </tr>\n",
       "    <tr>\n",
       "      <th>3</th>\n",
       "      <td>184314</td>\n",
       "      <td>Boho Chic Flat..Steps to Beach!</td>\n",
       "      <td>884031</td>\n",
       "      <td>Ashley</td>\n",
       "      <td>Venice</td>\n",
       "      <td>33.97487</td>\n",
       "      <td>-118.46312</td>\n",
       "      <td>Entire home/apt</td>\n",
       "      <td>125</td>\n",
       "      <td>30</td>\n",
       "      <td>30</td>\n",
       "      <td>1</td>\n",
       "      <td>0</td>\n",
       "      <td>0</td>\n",
       "      <td>CA</td>\n",
       "      <td>Los Angeles</td>\n",
       "      <td>1</td>\n",
       "    </tr>\n",
       "    <tr>\n",
       "      <th>4</th>\n",
       "      <td>51498</td>\n",
       "      <td>Guest House With Its Own Entrance/Exit and Hot...</td>\n",
       "      <td>236758</td>\n",
       "      <td>Bay</td>\n",
       "      <td>Mar Vista</td>\n",
       "      <td>34.00389</td>\n",
       "      <td>-118.44126</td>\n",
       "      <td>Entire home/apt</td>\n",
       "      <td>189</td>\n",
       "      <td>3</td>\n",
       "      <td>378</td>\n",
       "      <td>1</td>\n",
       "      <td>348</td>\n",
       "      <td>41</td>\n",
       "      <td>CA</td>\n",
       "      <td>Los Angeles</td>\n",
       "      <td>0</td>\n",
       "    </tr>\n",
       "  </tbody>\n",
       "</table>\n",
       "</div>"
      ],
      "text/plain": [
       "       id                                               name  host_id  \\\n",
       "0  183319                  Panoramic Ocean View Venice Beach   867995   \n",
       "1     109  Amazing bright elegant condo park front *UPGRA...      521   \n",
       "2   51307  Spanish Bungalow Guest House LA CA. 30 plus ni...   235568   \n",
       "3  184314                    Boho Chic Flat..Steps to Beach!   884031   \n",
       "4   51498  Guest House With Its Own Entrance/Exit and Hot...   236758   \n",
       "\n",
       "   host_name    neighbourhood  latitude  longitude        room_type  price  \\\n",
       "0  Barbara X           Venice  33.99211 -118.47600  Entire home/apt    152   \n",
       "1      Paolo      Culver City  33.98301 -118.38607  Entire home/apt    115   \n",
       "2      David  Atwater Village  34.12206 -118.26783  Entire home/apt     75   \n",
       "3     Ashley           Venice  33.97487 -118.46312  Entire home/apt    125   \n",
       "4        Bay        Mar Vista  34.00389 -118.44126  Entire home/apt    189   \n",
       "\n",
       "   minimum_nights  number_of_reviews  calculated_host_listings_count  \\\n",
       "0              30                  3                               2   \n",
       "1              30                  2                               1   \n",
       "2              30                138                               2   \n",
       "3              30                 30                               1   \n",
       "4               3                378                               1   \n",
       "\n",
       "   availability_365  number_of_reviews_ltm state         city  \\\n",
       "0                 0                      0    CA  Los Angeles   \n",
       "1               139                      0    CA  Los Angeles   \n",
       "2               224                      0    CA  Los Angeles   \n",
       "3                 0                      0    CA  Los Angeles   \n",
       "4               348                     41    CA  Los Angeles   \n",
       "\n",
       "   license_indicated  \n",
       "0                  1  \n",
       "1                  1  \n",
       "2                  1  \n",
       "3                  1  \n",
       "4                  0  "
      ]
     },
     "execution_count": 48,
     "metadata": {},
     "output_type": "execute_result"
    }
   ],
   "source": [
    "data.head(5)"
   ]
  },
  {
   "cell_type": "markdown",
   "id": "c709765f",
   "metadata": {
    "papermill": {
     "duration": 0.036646,
     "end_time": "2023-01-26T20:47:15.666185",
     "exception": false,
     "start_time": "2023-01-26T20:47:15.629539",
     "status": "completed"
    },
    "tags": []
   },
   "source": [
    "Let's drop:\n",
    "* **id** and **host_id** since they're just generic identifiers\n",
    "* **host_name** since we have **name** which contains more information on the listing\n",
    "* **latitude** and **longitude** since they're just coordinates\n",
    "* **number_of_reviews** which should allow us to generalize to new listings\n",
    "* **neighbourhood**, **state** and **city** which should allow us to generalize to new USA neighbourhood, states and cities\n",
    "* **calculated_host_listings_count** which should allow us to generalize to new hosts\n",
    "\n",
    "Let's keep **name** in case we need to use text classification instead."
   ]
  },
  {
   "cell_type": "code",
   "execution_count": 49,
   "id": "3fd78199",
   "metadata": {
    "execution": {
     "iopub.execute_input": "2023-01-26T20:47:15.742457Z",
     "iopub.status.busy": "2023-01-26T20:47:15.741586Z",
     "iopub.status.idle": "2023-01-26T20:47:15.750539Z",
     "shell.execute_reply": "2023-01-26T20:47:15.749697Z"
    },
    "papermill": {
     "duration": 0.049121,
     "end_time": "2023-01-26T20:47:15.752959",
     "exception": false,
     "start_time": "2023-01-26T20:47:15.703838",
     "status": "completed"
    },
    "tags": []
   },
   "outputs": [],
   "source": [
    "data.drop(['id', 'host_id', 'host_name', 'neighbourhood', 'latitude', 'longitude', 'number_of_reviews', \n",
    "           'state', 'city', 'calculated_host_listings_count'], axis='columns', inplace=True)"
   ]
  },
  {
   "cell_type": "markdown",
   "id": "85787044",
   "metadata": {
    "papermill": {
     "duration": 0.035478,
     "end_time": "2023-01-26T20:47:15.824391",
     "exception": false,
     "start_time": "2023-01-26T20:47:15.788913",
     "status": "completed"
    },
    "tags": []
   },
   "source": [
    "Let's create (and drop the input fields to avoid multicollinearity):\n",
    "* Dummy variables for **room_type** with 'Entire home/apt' as the default case"
   ]
  },
  {
   "cell_type": "code",
   "execution_count": 50,
   "id": "d9ce99cc",
   "metadata": {
    "execution": {
     "iopub.execute_input": "2023-01-26T20:47:15.897910Z",
     "iopub.status.busy": "2023-01-26T20:47:15.897104Z",
     "iopub.status.idle": "2023-01-26T20:47:15.928695Z",
     "shell.execute_reply": "2023-01-26T20:47:15.927808Z"
    },
    "papermill": {
     "duration": 0.071298,
     "end_time": "2023-01-26T20:47:15.931224",
     "exception": false,
     "start_time": "2023-01-26T20:47:15.859926",
     "status": "completed"
    },
    "tags": []
   },
   "outputs": [],
   "source": [
    "data = pd.get_dummies(data, columns=['room_type'])\n",
    "data.drop('room_type_Entire home/apt', axis='columns', inplace=True)"
   ]
  },
  {
   "cell_type": "markdown",
   "id": "9a0b001b",
   "metadata": {
    "papermill": {
     "duration": 0.035427,
     "end_time": "2023-01-26T20:47:16.002362",
     "exception": false,
     "start_time": "2023-01-26T20:47:15.966935",
     "status": "completed"
    },
    "tags": []
   },
   "source": [
    "To get a clearer picture, let's drop all observations with **price = 0**."
   ]
  },
  {
   "cell_type": "code",
   "execution_count": 51,
   "id": "8889d92a",
   "metadata": {
    "execution": {
     "iopub.execute_input": "2023-01-26T20:47:16.075636Z",
     "iopub.status.busy": "2023-01-26T20:47:16.074839Z",
     "iopub.status.idle": "2023-01-26T20:47:16.106352Z",
     "shell.execute_reply": "2023-01-26T20:47:16.105356Z"
    },
    "papermill": {
     "duration": 0.070945,
     "end_time": "2023-01-26T20:47:16.108891",
     "exception": false,
     "start_time": "2023-01-26T20:47:16.037946",
     "status": "completed"
    },
    "tags": []
   },
   "outputs": [],
   "source": [
    "data = data[data['price']>0]"
   ]
  },
  {
   "cell_type": "markdown",
   "id": "4b00d914",
   "metadata": {
    "papermill": {
     "duration": 0.037121,
     "end_time": "2023-01-26T20:47:16.183119",
     "exception": false,
     "start_time": "2023-01-26T20:47:16.145998",
     "status": "completed"
    },
    "tags": []
   },
   "source": [
    "## Multicollinearity"
   ]
  },
  {
   "cell_type": "code",
   "execution_count": 52,
   "id": "4489acb1",
   "metadata": {
    "execution": {
     "iopub.execute_input": "2023-01-26T20:47:16.257862Z",
     "iopub.status.busy": "2023-01-26T20:47:16.257413Z",
     "iopub.status.idle": "2023-01-26T20:47:16.800773Z",
     "shell.execute_reply": "2023-01-26T20:47:16.799331Z"
    },
    "papermill": {
     "duration": 0.583017,
     "end_time": "2023-01-26T20:47:16.803191",
     "exception": false,
     "start_time": "2023-01-26T20:47:16.220174",
     "status": "completed"
    },
    "tags": []
   },
   "outputs": [
    {
     "data": {
      "text/plain": [
       "[]"
      ]
     },
     "execution_count": 52,
     "metadata": {},
     "output_type": "execute_result"
    },
    {
     "data": {
      "image/png": "[encoded data removed]",
      "text/plain": [
       "<Figure size 432x288 with 2 Axes>"
      ]
     },
     "metadata": {
      "needs_background": "light"
     },
     "output_type": "display_data"
    }
   ],
   "source": [
    "# Heatmap Plot of the Correlation Matrix with abs(coefficient) >= 0.50\n",
    "_ = sns.heatmap(data.corr().round(2)[abs(data.corr().round(2)) >= 0.50] \\\n",
    "                    .dropna(how='all').dropna(axis='columns', how='all'), \n",
    "                center=0, cmap='coolwarm', annot=True, xticklabels=True, yticklabels=True)\n",
    "\n",
    "plt.title('Abs(Correlations) >= 0.50')\n",
    "\n",
    "plt.plot()"
   ]
  },
  {
   "cell_type": "markdown",
   "id": "22f9f4ad",
   "metadata": {
    "papermill": {
     "duration": 0.036219,
     "end_time": "2023-01-26T20:47:16.876404",
     "exception": false,
     "start_time": "2023-01-26T20:47:16.840185",
     "status": "completed"
    },
    "tags": []
   },
   "source": [
    "There are no strong correlations (i.e. abs(correlation)>=0.50)."
   ]
  },
  {
   "cell_type": "markdown",
   "id": "f1740703",
   "metadata": {
    "papermill": {
     "duration": 0.036668,
     "end_time": "2023-01-26T20:47:16.949823",
     "exception": false,
     "start_time": "2023-01-26T20:47:16.913155",
     "status": "completed"
    },
    "tags": []
   },
   "source": [
    "## Scaling"
   ]
  },
  {
   "cell_type": "markdown",
   "id": "5254857a",
   "metadata": {
    "papermill": {
     "duration": 0.041193,
     "end_time": "2023-01-26T20:47:17.027724",
     "exception": false,
     "start_time": "2023-01-26T20:47:16.986531",
     "status": "completed"
    },
    "tags": []
   },
   "source": [
    "Let's split the dataset into a train and test set then normalize **price** and **minimum_nights**."
   ]
  },
  {
   "cell_type": "code",
   "execution_count": 53,
   "id": "e34fb222",
   "metadata": {
    "execution": {
     "iopub.execute_input": "2023-01-26T20:47:17.103382Z",
     "iopub.status.busy": "2023-01-26T20:47:17.102932Z",
     "iopub.status.idle": "2023-01-26T20:47:17.207584Z",
     "shell.execute_reply": "2023-01-26T20:47:17.206569Z"
    },
    "papermill": {
     "duration": 0.145213,
     "end_time": "2023-01-26T20:47:17.210049",
     "exception": false,
     "start_time": "2023-01-26T20:47:17.064836",
     "status": "completed"
    },
    "tags": []
   },
   "outputs": [
    {
     "data": {
      "text/html": [
       "<div>\n",
       "<style scoped>\n",
       "    .dataframe tbody tr th:only-of-type {\n",
       "        vertical-align: middle;\n",
       "    }\n",
       "\n",
       "    .dataframe tbody tr th {\n",
       "        vertical-align: top;\n",
       "    }\n",
       "\n",
       "    .dataframe thead th {\n",
       "        text-align: right;\n",
       "    }\n",
       "</style>\n",
       "<table border=\"1\" class=\"dataframe\">\n",
       "  <thead>\n",
       "    <tr style=\"text-align: right;\">\n",
       "      <th></th>\n",
       "      <th>name</th>\n",
       "      <th>price</th>\n",
       "      <th>minimum_nights</th>\n",
       "      <th>availability_365</th>\n",
       "      <th>license_indicated</th>\n",
       "      <th>room_type_Hotel room</th>\n",
       "      <th>room_type_Private room</th>\n",
       "      <th>room_type_Shared room</th>\n",
       "    </tr>\n",
       "  </thead>\n",
       "  <tbody>\n",
       "    <tr>\n",
       "      <th>203597</th>\n",
       "      <td>Its a deal! Joyful Small room-3MinDrive Starbucks</td>\n",
       "      <td>-0.275703</td>\n",
       "      <td>-0.261976</td>\n",
       "      <td>350</td>\n",
       "      <td>1</td>\n",
       "      <td>0</td>\n",
       "      <td>1</td>\n",
       "      <td>0</td>\n",
       "    </tr>\n",
       "    <tr>\n",
       "      <th>294340</th>\n",
       "      <td>Chic downtown 6th St. Condo</td>\n",
       "      <td>-0.162753</td>\n",
       "      <td>-0.366808</td>\n",
       "      <td>101</td>\n",
       "      <td>1</td>\n",
       "      <td>0</td>\n",
       "      <td>0</td>\n",
       "      <td>0</td>\n",
       "    </tr>\n",
       "    <tr>\n",
       "      <th>321907</th>\n",
       "      <td>1 Bedroom Seattle Condo near Capital</td>\n",
       "      <td>-0.218026</td>\n",
       "      <td>0.611620</td>\n",
       "      <td>274</td>\n",
       "      <td>1</td>\n",
       "      <td>0</td>\n",
       "      <td>0</td>\n",
       "      <td>0</td>\n",
       "    </tr>\n",
       "    <tr>\n",
       "      <th>118223</th>\n",
       "      <td>NEW Modern Home With Amazing Views of the Ocean!</td>\n",
       "      <td>0.332305</td>\n",
       "      <td>-0.261976</td>\n",
       "      <td>177</td>\n",
       "      <td>1</td>\n",
       "      <td>0</td>\n",
       "      <td>0</td>\n",
       "      <td>0</td>\n",
       "    </tr>\n",
       "    <tr>\n",
       "      <th>267998</th>\n",
       "      <td>Sleek Modern Metropolitan Retreat</td>\n",
       "      <td>-0.160349</td>\n",
       "      <td>0.611620</td>\n",
       "      <td>287</td>\n",
       "      <td>1</td>\n",
       "      <td>0</td>\n",
       "      <td>0</td>\n",
       "      <td>0</td>\n",
       "    </tr>\n",
       "  </tbody>\n",
       "</table>\n",
       "</div>"
      ],
      "text/plain": [
       "                                                     name     price  \\\n",
       "203597  Its a deal! Joyful Small room-3MinDrive Starbucks -0.275703   \n",
       "294340                        Chic downtown 6th St. Condo -0.162753   \n",
       "321907               1 Bedroom Seattle Condo near Capital -0.218026   \n",
       "118223   NEW Modern Home With Amazing Views of the Ocean!  0.332305   \n",
       "267998                  Sleek Modern Metropolitan Retreat -0.160349   \n",
       "\n",
       "        minimum_nights  availability_365  license_indicated  \\\n",
       "203597       -0.261976               350                  1   \n",
       "294340       -0.366808               101                  1   \n",
       "321907        0.611620               274                  1   \n",
       "118223       -0.261976               177                  1   \n",
       "267998        0.611620               287                  1   \n",
       "\n",
       "        room_type_Hotel room  room_type_Private room  room_type_Shared room  \n",
       "203597                     0                       1                      0  \n",
       "294340                     0                       0                      0  \n",
       "321907                     0                       0                      0  \n",
       "118223                     0                       0                      0  \n",
       "267998                     0                       0                      0  "
      ]
     },
     "execution_count": 53,
     "metadata": {},
     "output_type": "execute_result"
    }
   ],
   "source": [
    "# Split\n",
    "X_train, X_test, y_train, y_test = train_test_split(data.drop('number_of_reviews_ltm', axis='columns'), \n",
    "                                                    data['number_of_reviews_ltm'], \n",
    "                                                    test_size = 0.30, random_state=111)\n",
    "\n",
    "# Normalize\n",
    "scaler_std = StandardScaler()\n",
    "temp_list = ['price', 'minimum_nights'] # Subset to normalize only certain features\n",
    "scaler_std.fit(X_train[temp_list].values)\n",
    "\n",
    "X_train_scaled = X_train\n",
    "X_test_scaled = X_test\n",
    "X_train_scaled[temp_list] = scaler_std.transform(X_train[temp_list].values)\n",
    "X_test_scaled[temp_list] = scaler_std.transform(X_test[temp_list].values)\n",
    "\n",
    "# View X_train_scaled\n",
    "X_train_scaled.head(5)"
   ]
  },
  {
   "cell_type": "markdown",
   "id": "ca8942c1",
   "metadata": {
    "papermill": {
     "duration": 0.036785,
     "end_time": "2023-01-26T20:47:17.283964",
     "exception": false,
     "start_time": "2023-01-26T20:47:17.247179",
     "status": "completed"
    },
    "tags": []
   },
   "source": [
    "## Model Search"
   ]
  },
  {
   "cell_type": "markdown",
   "id": "bd976f01",
   "metadata": {
    "papermill": {
     "duration": 0.036829,
     "end_time": "2023-01-26T20:47:17.358016",
     "exception": false,
     "start_time": "2023-01-26T20:47:17.321187",
     "status": "completed"
    },
    "tags": []
   },
   "source": [
    "Let's try to find a suitable base model using regression algorithms."
   ]
  },
  {
   "cell_type": "code",
   "execution_count": 54,
   "id": "e6fb8363",
   "metadata": {
    "execution": {
     "iopub.execute_input": "2023-01-26T20:47:17.437899Z",
     "iopub.status.busy": "2023-01-26T20:47:17.437024Z",
     "iopub.status.idle": "2023-01-26T20:50:29.746178Z",
     "shell.execute_reply": "2023-01-26T20:50:29.744837Z"
    },
    "papermill": {
     "duration": 192.390291,
     "end_time": "2023-01-26T20:50:29.787622",
     "exception": false,
     "start_time": "2023-01-26T20:47:17.397331",
     "status": "completed"
    },
    "tags": []
   },
   "outputs": [
    {
     "name": "stdout",
     "output_type": "stream",
     "text": [
      "Testing Regression Base Models:\n",
      "\n",
      "Model 1 of 5 : Linear Regression\n",
      "- Folds: 5 / 5\r\n",
      "Model 2 of 5 : Ridge Regression\n",
      "- Folds: 5 / 5\r\n",
      "Model 3 of 5 : Lasso Regression\n",
      "- Folds: 5 / 5\r\n",
      "Model 4 of 5 : K Neighbors Regressor\n",
      "- Folds: 5 / 5\r\n",
      "Model 5 of 5 : Random Forest Regressor\n",
      "- Folds: 5 / 5\r\n",
      "\n",
      "Completed.\n"
     ]
    }
   ],
   "source": [
    "# Setup\n",
    "reg_base_models = {'Linear Regression': LinearRegression(), \n",
    "                   'Ridge Regression': Ridge(), 'Lasso Regression': Lasso(), \n",
    "                   'K Neighbors Regressor': KNeighborsRegressor(),\n",
    "                   'Random Forest Regressor': RandomForestRegressor()}\n",
    "kf = KFold(n_splits=5, random_state=111, shuffle=True)\n",
    "R2 = {'Linear Regression': [], 'Ridge Regression': [], 'Lasso Regression': [], \n",
    "      'K Neighbors Regressor': [], 'Random Forest Regressor': []}\n",
    "\n",
    "# Test Regression Base Models\n",
    "print('Testing Regression Base Models:\\n')\n",
    "for i, val in enumerate(reg_base_models.items()):\n",
    "    name, model = val\n",
    "    \n",
    "    print('Model', i+1, 'of', len(reg_base_models), ':', name)\n",
    "    for j, index in enumerate(kf.split(X_train_scaled.drop('name', axis='columns'))):\n",
    "        # Status\n",
    "        print('- Folds:', j+1, '/', kf.get_n_splits(), end='\\r')\n",
    "        \n",
    "        # Split data\n",
    "        X_train_sub, X_hold = (X_train_scaled.drop('name', axis='columns').iloc[index[0]], \n",
    "                                    X_train_scaled.drop('name', axis='columns').iloc[index[1]])\n",
    "        y_train_sub, y_hold = y_train.iloc[index[0]], y_train.iloc[index[1]]\n",
    "        \n",
    "        # Fit and evaluate\n",
    "        model.fit(X_train_sub, y_train_sub)\n",
    "        R2[name] = [*R2[name], model.score(X_hold, y_hold)]\n",
    "    print()\n",
    "    \n",
    "print('\\nCompleted.')"
   ]
  },
  {
   "cell_type": "code",
   "execution_count": 55,
   "id": "44aff62e",
   "metadata": {
    "execution": {
     "iopub.execute_input": "2023-01-26T20:50:29.866552Z",
     "iopub.status.busy": "2023-01-26T20:50:29.866170Z",
     "iopub.status.idle": "2023-01-26T20:50:29.897531Z",
     "shell.execute_reply": "2023-01-26T20:50:29.896483Z"
    },
    "papermill": {
     "duration": 0.073303,
     "end_time": "2023-01-26T20:50:29.899933",
     "exception": false,
     "start_time": "2023-01-26T20:50:29.826630",
     "status": "completed"
    },
    "tags": []
   },
   "outputs": [
    {
     "data": {
      "text/html": [
       "<div>\n",
       "<style scoped>\n",
       "    .dataframe tbody tr th:only-of-type {\n",
       "        vertical-align: middle;\n",
       "    }\n",
       "\n",
       "    .dataframe tbody tr th {\n",
       "        vertical-align: top;\n",
       "    }\n",
       "\n",
       "    .dataframe thead th {\n",
       "        text-align: right;\n",
       "    }\n",
       "</style>\n",
       "<table border=\"1\" class=\"dataframe\">\n",
       "  <thead>\n",
       "    <tr style=\"text-align: right;\">\n",
       "      <th></th>\n",
       "      <th>R2_95CI_Lower</th>\n",
       "      <th>R2_95CI_Upper</th>\n",
       "    </tr>\n",
       "  </thead>\n",
       "  <tbody>\n",
       "    <tr>\n",
       "      <th>K Neighbors Regressor</th>\n",
       "      <td>0.095471</td>\n",
       "      <td>0.126693</td>\n",
       "    </tr>\n",
       "    <tr>\n",
       "      <th>Random Forest Regressor</th>\n",
       "      <td>0.095415</td>\n",
       "      <td>0.125039</td>\n",
       "    </tr>\n",
       "    <tr>\n",
       "      <th>Ridge Regression</th>\n",
       "      <td>0.048350</td>\n",
       "      <td>0.069944</td>\n",
       "    </tr>\n",
       "    <tr>\n",
       "      <th>Linear Regression</th>\n",
       "      <td>0.048349</td>\n",
       "      <td>0.069945</td>\n",
       "    </tr>\n",
       "    <tr>\n",
       "      <th>Lasso Regression</th>\n",
       "      <td>0.030769</td>\n",
       "      <td>0.042865</td>\n",
       "    </tr>\n",
       "  </tbody>\n",
       "</table>\n",
       "</div>"
      ],
      "text/plain": [
       "                         R2_95CI_Lower  R2_95CI_Upper\n",
       "K Neighbors Regressor         0.095471       0.126693\n",
       "Random Forest Regressor       0.095415       0.125039\n",
       "Ridge Regression              0.048350       0.069944\n",
       "Linear Regression             0.048349       0.069945\n",
       "Lasso Regression              0.030769       0.042865"
      ]
     },
     "execution_count": 55,
     "metadata": {},
     "output_type": "execute_result"
    }
   ],
   "source": [
    "# Results\n",
    "temp_df = pd.DataFrame(data=R2.values(), index=R2.keys()) \\\n",
    "            .apply(['mean', 'std'], axis='columns') \\\n",
    "            .apply([lambda row: row['mean'] - 2*row['std'],\n",
    "                    lambda row: row['mean'] + 2*row['std']], axis='columns')\n",
    "temp_df.columns = ['R2_95CI_Lower','R2_95CI_Upper']\n",
    "temp_df.sort_values(['R2_95CI_Lower', 'R2_95CI_Upper'], ascending=False)"
   ]
  },
  {
   "cell_type": "markdown",
   "id": "97571ccd",
   "metadata": {
    "papermill": {
     "duration": 0.038672,
     "end_time": "2023-01-26T20:50:29.978117",
     "exception": false,
     "start_time": "2023-01-26T20:50:29.939445",
     "status": "completed"
    },
    "tags": []
   },
   "source": [
    "Since the highest R2 values are below 0.50 (equivalent to 50% accuracy), let's try classification algorithms instead. \n",
    "\n",
    "Let's redefine **number_of_reviews_ltm** as a binary variable, **number_of_reviews_ltm_greater48**, where its 1 when **number_of_reviews_ltm_greater48** >= 48 (i.e. >= 1 review per week) and its 0 when **number_of_reviews_ltm_greater48** < 48, resplit using stratified sampling then renormalize **price** and **minimum_nights**."
   ]
  },
  {
   "cell_type": "code",
   "execution_count": 56,
   "id": "2b4dc0c7",
   "metadata": {
    "execution": {
     "iopub.execute_input": "2023-01-26T20:50:30.058196Z",
     "iopub.status.busy": "2023-01-26T20:50:30.057346Z",
     "iopub.status.idle": "2023-01-26T20:50:30.349739Z",
     "shell.execute_reply": "2023-01-26T20:50:30.348545Z"
    },
    "papermill": {
     "duration": 0.335446,
     "end_time": "2023-01-26T20:50:30.352203",
     "exception": false,
     "start_time": "2023-01-26T20:50:30.016757",
     "status": "completed"
    },
    "tags": []
   },
   "outputs": [
    {
     "data": {
      "text/plain": [
       "0    172261\n",
       "1     11621\n",
       "Name: number_of_reviews_ltm_greater48, dtype: int64"
      ]
     },
     "execution_count": 56,
     "metadata": {},
     "output_type": "execute_result"
    }
   ],
   "source": [
    "# Create number_of_reviews_ltm_greater48\n",
    "data['number_of_reviews_ltm_greater48'] = [1 if n >= 48 else 0 for n in data['number_of_reviews_ltm']]\n",
    "\n",
    "# Resplit\n",
    "X_train, X_test, y_train, y_test = train_test_split(data.drop(['number_of_reviews_ltm_greater48', 'number_of_reviews_ltm'], \n",
    "                                                              axis='columns'), \n",
    "                                                    data['number_of_reviews_ltm_greater48'], \n",
    "                                                    test_size = 0.30, random_state=111, \n",
    "                                                    stratify=data['number_of_reviews_ltm_greater48'])\n",
    "\n",
    "# Renormalize\n",
    "scaler_std = StandardScaler()\n",
    "temp_list = ['price', 'minimum_nights'] # Subset to normalize only certain features\n",
    "scaler_std.fit(X_train[temp_list].values)\n",
    "\n",
    "X_train_scaled = X_train\n",
    "X_test_scaled = X_test\n",
    "X_train_scaled[temp_list] = scaler_std.transform(X_train[temp_list].values)\n",
    "X_test_scaled[temp_list] = scaler_std.transform(X_test[temp_list].values)\n",
    "\n",
    "# View y_train\n",
    "y_train.value_counts()"
   ]
  },
  {
   "cell_type": "markdown",
   "id": "d288e40f",
   "metadata": {
    "papermill": {
     "duration": 0.038373,
     "end_time": "2023-01-26T20:50:30.429079",
     "exception": false,
     "start_time": "2023-01-26T20:50:30.390706",
     "status": "completed"
    },
    "tags": []
   },
   "source": [
    "Let's now try to find a suitable base model using classification algorithms."
   ]
  },
  {
   "cell_type": "code",
   "execution_count": 57,
   "id": "36747b16",
   "metadata": {
    "execution": {
     "iopub.execute_input": "2023-01-26T20:50:30.508685Z",
     "iopub.status.busy": "2023-01-26T20:50:30.507467Z",
     "iopub.status.idle": "2023-01-26T20:57:34.223738Z",
     "shell.execute_reply": "2023-01-26T20:57:34.222149Z"
    },
    "papermill": {
     "duration": 423.75857,
     "end_time": "2023-01-26T20:57:34.226318",
     "exception": false,
     "start_time": "2023-01-26T20:50:30.467748",
     "status": "completed"
    },
    "tags": []
   },
   "outputs": [
    {
     "name": "stdout",
     "output_type": "stream",
     "text": [
      "For Logistic Regression : \n",
      "               precision    recall  f1-score   support\n",
      "\n",
      "           0       1.00      0.94      0.97     78807\n",
      "           1       0.00      0.00      0.00         0\n",
      "\n",
      "    accuracy                           0.94     78807\n",
      "   macro avg       0.50      0.47      0.48     78807\n",
      "weighted avg       1.00      0.94      0.97     78807\n",
      "\n",
      "For KNN : \n",
      "               precision    recall  f1-score   support\n",
      "\n",
      "           0       0.99      0.94      0.96     77393\n",
      "           1       0.07      0.24      0.11      1414\n",
      "\n",
      "    accuracy                           0.93     78807\n",
      "   macro avg       0.53      0.59      0.54     78807\n",
      "weighted avg       0.97      0.93      0.95     78807\n",
      "\n",
      "For SVM : \n",
      "               precision    recall  f1-score   support\n",
      "\n",
      "           0       1.00      0.94      0.97     78807\n",
      "           1       0.00      0.00      0.00         0\n",
      "\n",
      "    accuracy                           0.94     78807\n",
      "   macro avg       0.50      0.47      0.48     78807\n",
      "weighted avg       1.00      0.94      0.97     78807\n",
      "\n",
      "For Random Forest : \n",
      "               precision    recall  f1-score   support\n",
      "\n",
      "           0       0.98      0.94      0.96     76479\n",
      "           1       0.11      0.25      0.16      2328\n",
      "\n",
      "    accuracy                           0.92     78807\n",
      "   macro avg       0.55      0.59      0.56     78807\n",
      "weighted avg       0.95      0.92      0.94     78807\n",
      "\n"
     ]
    }
   ],
   "source": [
    "# Suppress all warnings\n",
    "import warnings\n",
    "warnings.filterwarnings('ignore')\n",
    "\n",
    "# Test Classification Base Models\n",
    "class_base_models = {'Logistic Regression': LogisticRegression(), \n",
    "                     'KNN': KNeighborsClassifier(), 'SVM': SVC(), \n",
    "                     'Random Forest': RandomForestClassifier()}\n",
    "\n",
    "for name, base in class_base_models.items():\n",
    "    base.fit(X_train_scaled.drop('name', axis='columns'), y_train)\n",
    "    print('For', name, ': \\n', \n",
    "          classification_report(base.predict(X_test_scaled.drop('name', axis='columns')), y_test))"
   ]
  },
  {
   "cell_type": "markdown",
   "id": "cd73bbeb",
   "metadata": {
    "papermill": {
     "duration": 0.039909,
     "end_time": "2023-01-26T20:57:34.305571",
     "exception": false,
     "start_time": "2023-01-26T20:57:34.265662",
     "status": "completed"
    },
    "tags": []
   },
   "source": [
    "Based on the precision score (not referring to the accuracy score since the labels differ in amount) and interpretability of the model, let's use Logistic Regression as the base model."
   ]
  },
  {
   "cell_type": "markdown",
   "id": "6f12d55f",
   "metadata": {
    "papermill": {
     "duration": 0.038397,
     "end_time": "2023-01-26T20:57:34.382710",
     "exception": false,
     "start_time": "2023-01-26T20:57:34.344313",
     "status": "completed"
    },
    "tags": []
   },
   "source": [
    "## Model Tuning"
   ]
  },
  {
   "cell_type": "markdown",
   "id": "bfebdb99",
   "metadata": {
    "papermill": {
     "duration": 0.038748,
     "end_time": "2023-01-26T20:57:34.459955",
     "exception": false,
     "start_time": "2023-01-26T20:57:34.421207",
     "status": "completed"
    },
    "tags": []
   },
   "source": [
    "Let's try to tune its hyperparameters."
   ]
  },
  {
   "cell_type": "code",
   "execution_count": 58,
   "id": "e2f2cdd7",
   "metadata": {
    "execution": {
     "iopub.execute_input": "2023-01-26T20:57:34.539182Z",
     "iopub.status.busy": "2023-01-26T20:57:34.538767Z",
     "iopub.status.idle": "2023-01-26T21:06:20.433228Z",
     "shell.execute_reply": "2023-01-26T21:06:20.432231Z"
    },
    "papermill": {
     "duration": 525.937183,
     "end_time": "2023-01-26T21:06:20.436224",
     "exception": false,
     "start_time": "2023-01-26T20:57:34.499041",
     "status": "completed"
    },
    "tags": []
   },
   "outputs": [
    {
     "name": "stdout",
     "output_type": "stream",
     "text": [
      "Fitting 5 folds for each of 25 candidates, totalling 125 fits\n",
      "[CV 1/5] END ...........C=100, solver=newton-cg;, score=0.937 total time=   6.1s\n",
      "[CV 2/5] END ...........C=100, solver=newton-cg;, score=0.937 total time=   7.3s\n",
      "[CV 3/5] END ...........C=100, solver=newton-cg;, score=0.937 total time=   7.2s\n",
      "[CV 4/5] END ...........C=100, solver=newton-cg;, score=0.937 total time=   7.3s\n",
      "[CV 5/5] END ...........C=100, solver=newton-cg;, score=0.937 total time=   7.9s\n",
      "[CV 1/5] END ...............C=100, solver=lbfgs;, score=0.937 total time=   1.8s\n",
      "[CV 2/5] END ...............C=100, solver=lbfgs;, score=0.937 total time=   2.3s\n",
      "[CV 3/5] END ...............C=100, solver=lbfgs;, score=0.937 total time=   2.2s\n",
      "[CV 4/5] END ...............C=100, solver=lbfgs;, score=0.937 total time=   2.1s\n",
      "[CV 5/5] END ...............C=100, solver=lbfgs;, score=0.937 total time=   2.0s\n",
      "[CV 1/5] END ...........C=100, solver=liblinear;, score=0.937 total time=   0.6s\n",
      "[CV 2/5] END ...........C=100, solver=liblinear;, score=0.937 total time=   0.6s\n",
      "[CV 3/5] END ...........C=100, solver=liblinear;, score=0.937 total time=   0.6s\n",
      "[CV 4/5] END ...........C=100, solver=liblinear;, score=0.937 total time=   0.7s\n",
      "[CV 5/5] END ...........C=100, solver=liblinear;, score=0.937 total time=   0.6s\n",
      "[CV 1/5] END .................C=100, solver=sag;, score=0.937 total time=   5.0s\n",
      "[CV 2/5] END .................C=100, solver=sag;, score=0.937 total time=   4.9s\n",
      "[CV 3/5] END .................C=100, solver=sag;, score=0.937 total time=   5.0s\n",
      "[CV 4/5] END .................C=100, solver=sag;, score=0.937 total time=   5.1s\n",
      "[CV 5/5] END .................C=100, solver=sag;, score=0.937 total time=   5.3s\n",
      "[CV 1/5] END ................C=100, solver=saga;, score=0.937 total time=   5.3s\n",
      "[CV 2/5] END ................C=100, solver=saga;, score=0.937 total time=   5.4s\n",
      "[CV 3/5] END ................C=100, solver=saga;, score=0.937 total time=   5.2s\n",
      "[CV 4/5] END ................C=100, solver=saga;, score=0.937 total time=   5.2s\n",
      "[CV 5/5] END ................C=100, solver=saga;, score=0.937 total time=   5.3s\n",
      "[CV 1/5] END ............C=10, solver=newton-cg;, score=0.937 total time=   7.3s\n",
      "[CV 2/5] END ............C=10, solver=newton-cg;, score=0.937 total time=   7.2s\n",
      "[CV 3/5] END ............C=10, solver=newton-cg;, score=0.937 total time=   7.2s\n",
      "[CV 4/5] END ............C=10, solver=newton-cg;, score=0.937 total time=   7.6s\n",
      "[CV 5/5] END ............C=10, solver=newton-cg;, score=0.937 total time=   8.7s\n",
      "[CV 1/5] END ................C=10, solver=lbfgs;, score=0.937 total time=   2.2s\n",
      "[CV 2/5] END ................C=10, solver=lbfgs;, score=0.937 total time=   1.7s\n",
      "[CV 3/5] END ................C=10, solver=lbfgs;, score=0.937 total time=   2.1s\n",
      "[CV 4/5] END ................C=10, solver=lbfgs;, score=0.937 total time=   1.8s\n",
      "[CV 5/5] END ................C=10, solver=lbfgs;, score=0.937 total time=   2.0s\n",
      "[CV 1/5] END ............C=10, solver=liblinear;, score=0.937 total time=   0.6s\n",
      "[CV 2/5] END ............C=10, solver=liblinear;, score=0.937 total time=   0.6s\n",
      "[CV 3/5] END ............C=10, solver=liblinear;, score=0.937 total time=   0.6s\n",
      "[CV 4/5] END ............C=10, solver=liblinear;, score=0.937 total time=   0.6s\n",
      "[CV 5/5] END ............C=10, solver=liblinear;, score=0.937 total time=   0.6s\n",
      "[CV 1/5] END ..................C=10, solver=sag;, score=0.937 total time=   5.2s\n",
      "[CV 2/5] END ..................C=10, solver=sag;, score=0.937 total time=   5.2s\n",
      "[CV 3/5] END ..................C=10, solver=sag;, score=0.937 total time=   5.5s\n",
      "[CV 4/5] END ..................C=10, solver=sag;, score=0.937 total time=   5.4s\n",
      "[CV 5/5] END ..................C=10, solver=sag;, score=0.937 total time=   5.3s\n",
      "[CV 1/5] END .................C=10, solver=saga;, score=0.937 total time=   5.6s\n",
      "[CV 2/5] END .................C=10, solver=saga;, score=0.937 total time=   5.8s\n",
      "[CV 3/5] END .................C=10, solver=saga;, score=0.937 total time=   5.9s\n",
      "[CV 4/5] END .................C=10, solver=saga;, score=0.937 total time=   5.8s\n",
      "[CV 5/5] END .................C=10, solver=saga;, score=0.937 total time=   5.8s\n",
      "[CV 1/5] END ...........C=1.0, solver=newton-cg;, score=0.937 total time=   6.7s\n",
      "[CV 2/5] END ...........C=1.0, solver=newton-cg;, score=0.937 total time=   7.8s\n",
      "[CV 3/5] END ...........C=1.0, solver=newton-cg;, score=0.937 total time=   6.7s\n",
      "[CV 4/5] END ...........C=1.0, solver=newton-cg;, score=0.937 total time=   7.8s\n",
      "[CV 5/5] END ...........C=1.0, solver=newton-cg;, score=0.937 total time=   7.5s\n",
      "[CV 1/5] END ...............C=1.0, solver=lbfgs;, score=0.937 total time=   2.1s\n",
      "[CV 2/5] END ...............C=1.0, solver=lbfgs;, score=0.937 total time=   2.0s\n",
      "[CV 3/5] END ...............C=1.0, solver=lbfgs;, score=0.937 total time=   1.9s\n",
      "[CV 4/5] END ...............C=1.0, solver=lbfgs;, score=0.937 total time=   2.2s\n",
      "[CV 5/5] END ...............C=1.0, solver=lbfgs;, score=0.937 total time=   2.3s\n",
      "[CV 1/5] END ...........C=1.0, solver=liblinear;, score=0.937 total time=   0.7s\n",
      "[CV 2/5] END ...........C=1.0, solver=liblinear;, score=0.937 total time=   0.7s\n",
      "[CV 3/5] END ...........C=1.0, solver=liblinear;, score=0.937 total time=   0.7s\n",
      "[CV 4/5] END ...........C=1.0, solver=liblinear;, score=0.937 total time=   0.6s\n",
      "[CV 5/5] END ...........C=1.0, solver=liblinear;, score=0.937 total time=   0.6s\n",
      "[CV 1/5] END .................C=1.0, solver=sag;, score=0.937 total time=   5.6s\n",
      "[CV 2/5] END .................C=1.0, solver=sag;, score=0.937 total time=   5.6s\n",
      "[CV 3/5] END .................C=1.0, solver=sag;, score=0.937 total time=   5.6s\n",
      "[CV 4/5] END .................C=1.0, solver=sag;, score=0.937 total time=   5.5s\n",
      "[CV 5/5] END .................C=1.0, solver=sag;, score=0.937 total time=   5.7s\n",
      "[CV 1/5] END ................C=1.0, solver=saga;, score=0.937 total time=   5.9s\n",
      "[CV 2/5] END ................C=1.0, solver=saga;, score=0.937 total time=   5.9s\n",
      "[CV 3/5] END ................C=1.0, solver=saga;, score=0.937 total time=   5.7s\n",
      "[CV 4/5] END ................C=1.0, solver=saga;, score=0.937 total time=   5.7s\n",
      "[CV 5/5] END ................C=1.0, solver=saga;, score=0.937 total time=   5.9s\n",
      "[CV 1/5] END ...........C=0.1, solver=newton-cg;, score=0.937 total time=   6.7s\n",
      "[CV 2/5] END ...........C=0.1, solver=newton-cg;, score=0.937 total time=   6.5s\n",
      "[CV 3/5] END ...........C=0.1, solver=newton-cg;, score=0.937 total time=   7.1s\n",
      "[CV 4/5] END ...........C=0.1, solver=newton-cg;, score=0.937 total time=   6.3s\n",
      "[CV 5/5] END ...........C=0.1, solver=newton-cg;, score=0.937 total time=   6.9s\n",
      "[CV 1/5] END ...............C=0.1, solver=lbfgs;, score=0.937 total time=   1.9s\n",
      "[CV 2/5] END ...............C=0.1, solver=lbfgs;, score=0.937 total time=   2.7s\n",
      "[CV 3/5] END ...............C=0.1, solver=lbfgs;, score=0.937 total time=   2.3s\n",
      "[CV 4/5] END ...............C=0.1, solver=lbfgs;, score=0.937 total time=   2.0s\n",
      "[CV 5/5] END ...............C=0.1, solver=lbfgs;, score=0.937 total time=   2.1s\n",
      "[CV 1/5] END ...........C=0.1, solver=liblinear;, score=0.937 total time=   0.6s\n",
      "[CV 2/5] END ...........C=0.1, solver=liblinear;, score=0.937 total time=   0.6s\n",
      "[CV 3/5] END ...........C=0.1, solver=liblinear;, score=0.937 total time=   0.6s\n",
      "[CV 4/5] END ...........C=0.1, solver=liblinear;, score=0.937 total time=   0.6s\n",
      "[CV 5/5] END ...........C=0.1, solver=liblinear;, score=0.937 total time=   0.6s\n",
      "[CV 1/5] END .................C=0.1, solver=sag;, score=0.937 total time=   5.3s\n",
      "[CV 2/5] END .................C=0.1, solver=sag;, score=0.937 total time=   5.4s\n",
      "[CV 3/5] END .................C=0.1, solver=sag;, score=0.937 total time=   5.4s\n",
      "[CV 4/5] END .................C=0.1, solver=sag;, score=0.937 total time=   5.4s\n",
      "[CV 5/5] END .................C=0.1, solver=sag;, score=0.937 total time=   5.2s\n",
      "[CV 1/5] END ................C=0.1, solver=saga;, score=0.937 total time=   5.6s\n",
      "[CV 2/5] END ................C=0.1, solver=saga;, score=0.937 total time=   5.5s\n",
      "[CV 3/5] END ................C=0.1, solver=saga;, score=0.937 total time=   5.7s\n",
      "[CV 4/5] END ................C=0.1, solver=saga;, score=0.937 total time=   5.5s\n",
      "[CV 5/5] END ................C=0.1, solver=saga;, score=0.937 total time=   5.6s\n",
      "[CV 1/5] END ..........C=0.01, solver=newton-cg;, score=0.937 total time=   5.1s\n",
      "[CV 2/5] END ..........C=0.01, solver=newton-cg;, score=0.937 total time=   4.8s\n",
      "[CV 3/5] END ..........C=0.01, solver=newton-cg;, score=0.937 total time=   4.9s\n",
      "[CV 4/5] END ..........C=0.01, solver=newton-cg;, score=0.937 total time=   5.2s\n",
      "[CV 5/5] END ..........C=0.01, solver=newton-cg;, score=0.937 total time=   5.1s\n",
      "[CV 1/5] END ..............C=0.01, solver=lbfgs;, score=0.937 total time=   2.1s\n",
      "[CV 2/5] END ..............C=0.01, solver=lbfgs;, score=0.937 total time=   2.1s\n",
      "[CV 3/5] END ..............C=0.01, solver=lbfgs;, score=0.937 total time=   1.7s\n",
      "[CV 4/5] END ..............C=0.01, solver=lbfgs;, score=0.937 total time=   2.1s\n",
      "[CV 5/5] END ..............C=0.01, solver=lbfgs;, score=0.937 total time=   2.2s\n",
      "[CV 1/5] END ..........C=0.01, solver=liblinear;, score=0.937 total time=   0.5s\n",
      "[CV 2/5] END ..........C=0.01, solver=liblinear;, score=0.937 total time=   0.5s\n",
      "[CV 3/5] END ..........C=0.01, solver=liblinear;, score=0.937 total time=   0.5s\n",
      "[CV 4/5] END ..........C=0.01, solver=liblinear;, score=0.937 total time=   0.6s\n",
      "[CV 5/5] END ..........C=0.01, solver=liblinear;, score=0.937 total time=   0.5s\n",
      "[CV 1/5] END ................C=0.01, solver=sag;, score=0.937 total time=   5.2s\n",
      "[CV 2/5] END ................C=0.01, solver=sag;, score=0.937 total time=   5.4s\n",
      "[CV 3/5] END ................C=0.01, solver=sag;, score=0.937 total time=   5.3s\n",
      "[CV 4/5] END ................C=0.01, solver=sag;, score=0.937 total time=   5.2s\n",
      "[CV 5/5] END ................C=0.01, solver=sag;, score=0.937 total time=   5.4s\n",
      "[CV 1/5] END ...............C=0.01, solver=saga;, score=0.937 total time=   5.5s\n",
      "[CV 2/5] END ...............C=0.01, solver=saga;, score=0.937 total time=   5.6s\n",
      "[CV 3/5] END ...............C=0.01, solver=saga;, score=0.937 total time=   5.8s\n",
      "[CV 4/5] END ...............C=0.01, solver=saga;, score=0.937 total time=   5.6s\n",
      "[CV 5/5] END ...............C=0.01, solver=saga;, score=0.937 total time=   5.5s\n",
      "\n",
      "Best Model: LogisticRegression(C=100, solver='newton-cg') \n",
      "               precision    recall  f1-score   support\n",
      "\n",
      "           0       1.00      0.94      0.97     78807\n",
      "           1       0.00      0.00      0.00         0\n",
      "\n",
      "    accuracy                           0.94     78807\n",
      "   macro avg       0.50      0.47      0.48     78807\n",
      "weighted avg       1.00      0.94      0.97     78807\n",
      "\n"
     ]
    }
   ],
   "source": [
    "# Search\n",
    "model_tuned = GridSearchCV(estimator=LogisticRegression(), cv=5, verbose=2.5,\n",
    "                           param_grid={'solver': ['newton-cg', 'lbfgs', 'liblinear', 'sag', 'saga'],\n",
    "                                       'C': [100, 10, 1.0, 0.1, 0.01]})\n",
    "model_tuned.fit(X_train_scaled.drop('name', axis='columns'), y_train)\n",
    "\n",
    "# Best Model\n",
    "model_best = model_tuned.best_estimator_\n",
    "model_best.fit(X_train_scaled.drop('name', axis='columns'), y_train)\n",
    "print('\\nBest Model:', model_best,'\\n',\n",
    "      classification_report(model_best.predict(X_test_scaled.drop('name', axis='columns')), y_test))"
   ]
  },
  {
   "cell_type": "code",
   "execution_count": 59,
   "id": "c4b9c662",
   "metadata": {
    "execution": {
     "iopub.execute_input": "2023-01-26T21:06:20.533683Z",
     "iopub.status.busy": "2023-01-26T21:06:20.532482Z",
     "iopub.status.idle": "2023-01-26T21:06:20.546381Z",
     "shell.execute_reply": "2023-01-26T21:06:20.545503Z"
    },
    "papermill": {
     "duration": 0.064523,
     "end_time": "2023-01-26T21:06:20.548514",
     "exception": false,
     "start_time": "2023-01-26T21:06:20.483991",
     "status": "completed"
    },
    "tags": []
   },
   "outputs": [
    {
     "data": {
      "text/html": [
       "<div>\n",
       "<style scoped>\n",
       "    .dataframe tbody tr th:only-of-type {\n",
       "        vertical-align: middle;\n",
       "    }\n",
       "\n",
       "    .dataframe tbody tr th {\n",
       "        vertical-align: top;\n",
       "    }\n",
       "\n",
       "    .dataframe thead th {\n",
       "        text-align: right;\n",
       "    }\n",
       "</style>\n",
       "<table border=\"1\" class=\"dataframe\">\n",
       "  <thead>\n",
       "    <tr style=\"text-align: right;\">\n",
       "      <th></th>\n",
       "      <th>logreg_features</th>\n",
       "      <th>logreg_coeff</th>\n",
       "    </tr>\n",
       "  </thead>\n",
       "  <tbody>\n",
       "    <tr>\n",
       "      <th>2</th>\n",
       "      <td>availability_365</td>\n",
       "      <td>-0.000120</td>\n",
       "    </tr>\n",
       "    <tr>\n",
       "      <th>4</th>\n",
       "      <td>room_type_Hotel room</td>\n",
       "      <td>-0.425174</td>\n",
       "    </tr>\n",
       "    <tr>\n",
       "      <th>3</th>\n",
       "      <td>license_indicated</td>\n",
       "      <td>-0.455395</td>\n",
       "    </tr>\n",
       "    <tr>\n",
       "      <th>5</th>\n",
       "      <td>room_type_Private room</td>\n",
       "      <td>-0.847207</td>\n",
       "    </tr>\n",
       "    <tr>\n",
       "      <th>6</th>\n",
       "      <td>room_type_Shared room</td>\n",
       "      <td>-1.857265</td>\n",
       "    </tr>\n",
       "    <tr>\n",
       "      <th>0</th>\n",
       "      <td>price</td>\n",
       "      <td>-3.339520</td>\n",
       "    </tr>\n",
       "    <tr>\n",
       "      <th>1</th>\n",
       "      <td>minimum_nights</td>\n",
       "      <td>-4.834101</td>\n",
       "    </tr>\n",
       "  </tbody>\n",
       "</table>\n",
       "</div>"
      ],
      "text/plain": [
       "          logreg_features  logreg_coeff\n",
       "2        availability_365     -0.000120\n",
       "4    room_type_Hotel room     -0.425174\n",
       "3       license_indicated     -0.455395\n",
       "5  room_type_Private room     -0.847207\n",
       "6   room_type_Shared room     -1.857265\n",
       "0                   price     -3.339520\n",
       "1          minimum_nights     -4.834101"
      ]
     },
     "execution_count": 59,
     "metadata": {},
     "output_type": "execute_result"
    }
   ],
   "source": [
    "# Create a temporary DataFrame to store values\n",
    "temp_df = pd.DataFrame({'logreg_features': model_best.feature_names_in_, \n",
    "                        'logreg_coeff': model_best.coef_[0]}) \\\n",
    "            .sort_values('logreg_coeff', ascending=False)\n",
    "\n",
    "# Views its features and coefficients\n",
    "temp_df"
   ]
  },
  {
   "cell_type": "markdown",
   "id": "1cac0883",
   "metadata": {
    "papermill": {
     "duration": 0.046705,
     "end_time": "2023-01-26T21:06:20.642460",
     "exception": false,
     "start_time": "2023-01-26T21:06:20.595755",
     "status": "completed"
    },
    "tags": []
   },
   "source": [
    "Although the tuned model has the same precison score as the base model, let's keep it."
   ]
  },
  {
   "cell_type": "markdown",
   "id": "f6de4cd8",
   "metadata": {
    "papermill": {
     "duration": 0.047635,
     "end_time": "2023-01-26T21:06:20.737807",
     "exception": false,
     "start_time": "2023-01-26T21:06:20.690172",
     "status": "completed"
    },
    "tags": []
   },
   "source": [
    "## Model Reduction"
   ]
  },
  {
   "cell_type": "markdown",
   "id": "23a9e84f",
   "metadata": {
    "papermill": {
     "duration": 0.047871,
     "end_time": "2023-01-26T21:06:20.833846",
     "exception": false,
     "start_time": "2023-01-26T21:06:20.785975",
     "status": "completed"
    },
    "tags": []
   },
   "source": [
    "Let's try to reduce it by keeping only its features with abs(coefficients) >= 1."
   ]
  },
  {
   "cell_type": "code",
   "execution_count": 60,
   "id": "bdbb55b5",
   "metadata": {
    "execution": {
     "iopub.execute_input": "2023-01-26T21:06:20.930763Z",
     "iopub.status.busy": "2023-01-26T21:06:20.930327Z",
     "iopub.status.idle": "2023-01-26T21:06:22.055843Z",
     "shell.execute_reply": "2023-01-26T21:06:22.054691Z"
    },
    "papermill": {
     "duration": 1.177796,
     "end_time": "2023-01-26T21:06:22.058680",
     "exception": false,
     "start_time": "2023-01-26T21:06:20.880884",
     "status": "completed"
    },
    "tags": []
   },
   "outputs": [
    {
     "name": "stdout",
     "output_type": "stream",
     "text": [
      "\n",
      "Best Model Reduced: LogisticRegression(C=100, solver='newton-cg') \n",
      "               precision    recall  f1-score   support\n",
      "\n",
      "           0       1.00      0.94      0.97     78807\n",
      "           1       0.00      0.00      0.00         0\n",
      "\n",
      "    accuracy                           0.94     78807\n",
      "   macro avg       0.50      0.47      0.48     78807\n",
      "weighted avg       1.00      0.94      0.97     78807\n",
      "\n"
     ]
    }
   ],
   "source": [
    "# Create a temporary List to store values\n",
    "temp_list = list(model_best.feature_names_in_ [abs(model_best.coef_[0]) >= 1])\n",
    "\n",
    "# Best Model Reduced\n",
    "model_best_reduced = LogisticRegression(C=100, solver='newton-cg')\n",
    "model_best_reduced.fit(X_train_scaled[temp_list], y_train)\n",
    "print('\\nBest Model Reduced:', model_best_reduced,'\\n',\n",
    "      classification_report(model_best_reduced.predict(X_test_scaled[temp_list]), y_test))"
   ]
  },
  {
   "cell_type": "code",
   "execution_count": 61,
   "id": "016b5db1",
   "metadata": {
    "execution": {
     "iopub.execute_input": "2023-01-26T21:06:22.156186Z",
     "iopub.status.busy": "2023-01-26T21:06:22.155552Z",
     "iopub.status.idle": "2023-01-26T21:06:22.167804Z",
     "shell.execute_reply": "2023-01-26T21:06:22.166552Z"
    },
    "papermill": {
     "duration": 0.063454,
     "end_time": "2023-01-26T21:06:22.170037",
     "exception": false,
     "start_time": "2023-01-26T21:06:22.106583",
     "status": "completed"
    },
    "tags": []
   },
   "outputs": [
    {
     "data": {
      "text/html": [
       "<div>\n",
       "<style scoped>\n",
       "    .dataframe tbody tr th:only-of-type {\n",
       "        vertical-align: middle;\n",
       "    }\n",
       "\n",
       "    .dataframe tbody tr th {\n",
       "        vertical-align: top;\n",
       "    }\n",
       "\n",
       "    .dataframe thead th {\n",
       "        text-align: right;\n",
       "    }\n",
       "</style>\n",
       "<table border=\"1\" class=\"dataframe\">\n",
       "  <thead>\n",
       "    <tr style=\"text-align: right;\">\n",
       "      <th></th>\n",
       "      <th>logreg_features</th>\n",
       "      <th>logreg_coeff</th>\n",
       "    </tr>\n",
       "  </thead>\n",
       "  <tbody>\n",
       "    <tr>\n",
       "      <th>2</th>\n",
       "      <td>room_type_Shared room</td>\n",
       "      <td>-1.587977</td>\n",
       "    </tr>\n",
       "    <tr>\n",
       "      <th>0</th>\n",
       "      <td>price</td>\n",
       "      <td>-2.403703</td>\n",
       "    </tr>\n",
       "    <tr>\n",
       "      <th>1</th>\n",
       "      <td>minimum_nights</td>\n",
       "      <td>-4.740241</td>\n",
       "    </tr>\n",
       "  </tbody>\n",
       "</table>\n",
       "</div>"
      ],
      "text/plain": [
       "         logreg_features  logreg_coeff\n",
       "2  room_type_Shared room     -1.587977\n",
       "0                  price     -2.403703\n",
       "1         minimum_nights     -4.740241"
      ]
     },
     "execution_count": 61,
     "metadata": {},
     "output_type": "execute_result"
    }
   ],
   "source": [
    "# Create a temporary DataFrame to store values\n",
    "temp_df = pd.DataFrame({'logreg_features': model_best_reduced.feature_names_in_, \n",
    "                        'logreg_coeff': model_best_reduced.coef_[0]}) \\\n",
    "            .sort_values('logreg_coeff', ascending=False)\n",
    "\n",
    "# Views its features and coefficients\n",
    "temp_df"
   ]
  },
  {
   "cell_type": "markdown",
   "id": "043eeb39",
   "metadata": {
    "papermill": {
     "duration": 0.046943,
     "end_time": "2023-01-26T21:06:22.264064",
     "exception": false,
     "start_time": "2023-01-26T21:06:22.217121",
     "status": "completed"
    },
    "tags": []
   },
   "source": [
    "Logistic Regression Final Model:\n",
    "\n",
    "    number_of_reviews_ltm_greater48 = - 1.587977*(room_type_Shared room) - 2.403703*(price) - 4.740241*(minimum_nights)\n",
    "                \n",
    "With 100% precision and 94% recall, this model can classify if a listing has its number of reviews in the last 12 months < 48 (i.e. < 1 review per week); since a listing's number of reviews in total highly correlates with its number of reviews in the last 12 months, this model should also hold for its number of reviews in the next 12 months.\n",
    "* **Positive** features (increases the likelihood of a listing having its number of reviews in the last 12 months >= 48): None\n",
    "* **Negative** features (decreases the likelihood of a listing having its number of reviews in the last 12 months < 48): Room type = 'Shared room', Price (USD) > 0 and Minimum nights > 0.\n",
    "* **Baseline** features (neutral): Room type = 'Entire home/apt'."
   ]
  },
  {
   "cell_type": "markdown",
   "id": "6a2919e0",
   "metadata": {
    "papermill": {
     "duration": 0.04764,
     "end_time": "2023-01-26T21:06:22.358317",
     "exception": false,
     "start_time": "2023-01-26T21:06:22.310677",
     "status": "completed"
    },
    "tags": []
   },
   "source": [
    "# 7. Appendix\n",
    "***"
   ]
  },
  {
   "cell_type": "markdown",
   "id": "0af70a44",
   "metadata": {
    "jp-MarkdownHeadingCollapsed": true,
    "papermill": {
     "duration": 0.046759,
     "end_time": "2023-01-26T21:06:22.452893",
     "exception": false,
     "start_time": "2023-01-26T21:06:22.406134",
     "status": "completed"
    },
    "tags": []
   },
   "source": [
    "## Metadata\n",
    "\n",
    "Data source: Collected by me from **Inside Airbnb**: http://insideairbnb.com/get-the-data/\n",
    "\n",
    "| Field                           | Description                                                               |\n",
    "|---------------------------------|---------------------------------------------------------------------------|\n",
    "| id                              | Airbnb's unique identifier for the listing                                |\n",
    "| name                            | Name of the listing                                                       |\n",
    "| host_id                         | Airbnb's unique identifier for the host/user                              |\n",
    "| host_name                       | Name of the host. Usually just the first name(s)                          |\n",
    "| neighbourhood_group             | The neighbourhood group as geocoded using the latitude and longitude against neighborhoods as defined by open or public digital shapefiles                                                                                  |\n",
    "| neighbourhood                   | Location of the listing                                                   |\n",
    "| latitude                        | Latitude of the listing (uses World Geodetic System (WGS84) projection)   |                                   \n",
    "| longitude                       | Longitude of the listing (uses World Geodetic System (WGS84) projection)  |\n",
    "| room_type                       | Room type of the listing: 'Entire home/apt', 'Private room',  'Shared room', 'Hotel'                                                                                        |\n",
    "| price                           | Daily price of the listing in the local currency                          |\n",
    "| minimum_nights                  | Minimum number of night stay of the listing (calendar rules may differ)   |\n",
    "| number_of_reviews               | The total number of reviews of the listing                                |\n",
    "| last_review                     | The date of the last (newest) review of the listing                       |\n",
    "| reviews_per_month               | The total number of reviews per month of the listing                              |\n",
    "| calculated_host_listings_count  | The total number of listings the host has in the city/region area         |\n",
    "| availability_365                | The availability of the listing 365 days in advance (determined by the calendar); please note that a listing may not be available because it has either been booked by a guest or blocked by the host.                     |\n",
    "| number_of_reviews_ltm           | The total number of reviews the listing has in the last 12 months         |\n",
    "| license                         | The license/permit/registration number                                    |\n",
    "| state                           | State of the listing abbreviated (added in)                                           |\n",
    "| city                            | City/County of the listing (added in)                                            |"
   ]
  },
  {
   "cell_type": "markdown",
   "id": "04ce0d58",
   "metadata": {
    "papermill": {
     "duration": 0.046377,
     "end_time": "2023-01-26T21:06:22.546079",
     "exception": false,
     "start_time": "2023-01-26T21:06:22.499702",
     "status": "completed"
    },
    "tags": []
   },
   "source": [
    "## Miscellaneous\n",
    "1. Header image: Google searched 'Airbnb Logo Large'\n",
    "2. 'Gold-Diggers Hotel' listing: https://www.airbnb.com/hotels/40561078?c=.pi0.pk9495470343_94675444457&gclid=Cj0KCQiAyMKbBhD1ARIsANs7rEGUI4la1aA7lZUzzNR_oSP4bpnos3MiwzRltELwkrvVJrhnup34paIaAjKREALw_wcB&source_impression_id=p3_1668373975_KbOWBLfGJZBDMGpd\n",
    "3. 'WELCOME to \"WORLD MAP SUITE\" in the heart of P.B.!' listing: https://www.airbnb.com/rooms/47475849?source_impression_id=p3_1668375667_NGZ5ERIQH1ETMFcw"
   ]
  }
 ],
 "metadata": {
  "kernelspec": {
   "display_name": "Python 3",
   "language": "python",
   "name": "python3"
  },
  "language_info": {
   "codemirror_mode": {
    "name": "ipython",
    "version": 3
   },
   "file_extension": ".py",
   "mimetype": "text/x-python",
   "name": "python",
   "nbconvert_exporter": "python",
   "pygments_lexer": "ipython3",
   "version": "3.7.12"
  },
  "papermill": {
   "default_parameters": {},
   "duration": 1191.659402,
   "end_time": "2023-01-26T21:06:23.516895",
   "environment_variables": {},
   "exception": null,
   "input_path": "__notebook__.ipynb",
   "output_path": "__notebook__.ipynb",
   "parameters": {},
   "start_time": "2023-01-26T20:46:31.857493",
   "version": "2.3.4"
  }
 },
 "nbformat": 4,
 "nbformat_minor": 5
}
