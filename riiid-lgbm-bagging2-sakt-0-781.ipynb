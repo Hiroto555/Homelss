{
 "cells": [
  {
   "cell_type": "markdown",
   "metadata": {
    "papermill": {
     "duration": 0.052832,
     "end_time": "2023-02-21T08:32:45.875782",
     "exception": false,
     "start_time": "2023-02-21T08:32:45.822950",
     "status": "completed"
    },
    "tags": []
   },
   "source": [
    "## Combining of  SAKT with Riiid LGBM bagging2 then remove some features"
   ]
  },
  {
   "cell_type": "markdown",
   "metadata": {
    "papermill": {
     "duration": 0.0519,
     "end_time": "2023-02-21T08:32:45.979833",
     "exception": false,
     "start_time": "2023-02-21T08:32:45.927933",
     "status": "completed"
    },
    "tags": []
   },
   "source": [
    "Source Kernels\n",
    "* SAKT + Riiid LGBM bagging2 LB 0.780 [https://www.kaggle.com/leadbest/sakt-riiid-lgbm-bagging2](http://)\n",
    "* SAKT with Randomization & State Updates LB0.771 https://www.kaggle.com/leadbest/sakt-with-randomization-state-updates\n",
    "* Riiid! LGBM bagging2 LB0.772 https://www.kaggle.com/zephyrwang666/riiid-lgbm-bagging2"
   ]
  },
  {
   "cell_type": "code",
   "execution_count": 1,
   "metadata": {
    "_cell_guid": "b1076dfc-b9ad-4769-8c92-a6c4dae69d19",
    "_uuid": "8f2839f25d086af736a60e9eeb907d3b93b6e0e5",
    "execution": {
     "iopub.execute_input": "2023-02-21T08:32:46.092333Z",
     "iopub.status.busy": "2023-02-21T08:32:46.091590Z",
     "iopub.status.idle": "2023-02-21T08:33:16.388608Z",
     "shell.execute_reply": "2023-02-21T08:33:16.387941Z"
    },
    "papermill": {
     "duration": 30.350799,
     "end_time": "2023-02-21T08:33:16.388746",
     "exception": false,
     "start_time": "2023-02-21T08:32:46.037947",
     "status": "completed"
    },
    "tags": []
   },
   "outputs": [],
   "source": [
    "!pip install ../input/python-datatable/datatable-0.11.0-cp37-cp37m-manylinux2010_x86_64.whl > /dev/null 2>&1"
   ]
  },
  {
   "cell_type": "code",
   "execution_count": 2,
   "metadata": {
    "_cell_guid": "79c7e3d0-c299-4dcb-8224-4455121ee9b0",
    "_uuid": "d629ff2d2480ee46fbb7e2d37f6b5fab8052498a",
    "execution": {
     "iopub.execute_input": "2023-02-21T08:33:16.491952Z",
     "iopub.status.busy": "2023-02-21T08:33:16.491275Z",
     "iopub.status.idle": "2023-02-21T08:33:17.604298Z",
     "shell.execute_reply": "2023-02-21T08:33:17.604904Z"
    },
    "papermill": {
     "duration": 1.167111,
     "end_time": "2023-02-21T08:33:17.605066",
     "exception": false,
     "start_time": "2023-02-21T08:33:16.437955",
     "status": "completed"
    },
    "tags": []
   },
   "outputs": [
    {
     "data": {
      "text/html": [
       "<style type='text/css'>\n",
       ".datatable table.frame { margin-bottom: 0; }\n",
       ".datatable table.frame thead { border-bottom: none; }\n",
       ".datatable table.frame tr.coltypes td {  color: #FFFFFF;  line-height: 6px;  padding: 0 0.5em;}\n",
       ".datatable .bool    { background: #DDDD99; }\n",
       ".datatable .object  { background: #565656; }\n",
       ".datatable .int     { background: #5D9E5D; }\n",
       ".datatable .float   { background: #4040CC; }\n",
       ".datatable .str     { background: #CC4040; }\n",
       ".datatable .row_index {  background: var(--jp-border-color3);  border-right: 1px solid var(--jp-border-color0);  color: var(--jp-ui-font-color3);  font-size: 9px;}\n",
       ".datatable .frame tr.coltypes .row_index {  background: var(--jp-border-color0);}\n",
       ".datatable th:nth-child(2) { padding-left: 12px; }\n",
       ".datatable .hellipsis {  color: var(--jp-cell-editor-border-color);}\n",
       ".datatable .vellipsis {  background: var(--jp-layout-color0);  color: var(--jp-cell-editor-border-color);}\n",
       ".datatable .na {  color: var(--jp-cell-editor-border-color);  font-size: 80%;}\n",
       ".datatable .footer { font-size: 9px; }\n",
       ".datatable .frame_dimensions {  background: var(--jp-border-color3);  border-top: 1px solid var(--jp-border-color0);  color: var(--jp-ui-font-color3);  display: inline-block;  opacity: 0.6;  padding: 1px 10px 1px 5px;}\n",
       "</style>\n"
      ],
      "text/plain": [
       "<IPython.core.display.HTML object>"
      ]
     },
     "metadata": {},
     "output_type": "display_data"
    }
   ],
   "source": [
    "import numpy as np\n",
    "import pandas as pd\n",
    "import psutil\n",
    "\n",
    "from collections import defaultdict\n",
    "import datatable as dt\n",
    "import lightgbm as lgb\n",
    "from matplotlib import pyplot as plt\n",
    "import riiideducation\n",
    "import random\n",
    "from sklearn.metrics import roc_auc_score\n",
    "import gc\n",
    "\n",
    "_ = np.seterr(divide='ignore', invalid='ignore')"
   ]
  },
  {
   "cell_type": "markdown",
   "metadata": {
    "papermill": {
     "duration": 0.049492,
     "end_time": "2023-02-21T08:33:17.706805",
     "exception": false,
     "start_time": "2023-02-21T08:33:17.657313",
     "status": "completed"
    },
    "tags": []
   },
   "source": [
    "# Preprocess"
   ]
  },
  {
   "cell_type": "code",
   "execution_count": 3,
   "metadata": {
    "execution": {
     "iopub.execute_input": "2023-02-21T08:33:17.815284Z",
     "iopub.status.busy": "2023-02-21T08:33:17.814244Z",
     "iopub.status.idle": "2023-02-21T08:33:17.817967Z",
     "shell.execute_reply": "2023-02-21T08:33:17.817431Z"
    },
    "papermill": {
     "duration": 0.059385,
     "end_time": "2023-02-21T08:33:17.818097",
     "exception": false,
     "start_time": "2023-02-21T08:33:17.758712",
     "status": "completed"
    },
    "tags": []
   },
   "outputs": [],
   "source": [
    "data_types_dict = {\n",
    "    'timestamp': 'int64',\n",
    "    'user_id': 'int32', \n",
    "    'content_id': 'int16', \n",
    "    'content_type_id':'int8', \n",
    "    'task_container_id': 'int16',\n",
    "    #'user_answer': 'int8',\n",
    "    'answered_correctly': 'int8', \n",
    "    'prior_question_elapsed_time': 'float32', \n",
    "    'prior_question_had_explanation': 'bool'\n",
    "}\n",
    "target = 'answered_correctly'"
   ]
  },
  {
   "cell_type": "code",
   "execution_count": 4,
   "metadata": {
    "execution": {
     "iopub.execute_input": "2023-02-21T08:33:17.928741Z",
     "iopub.status.busy": "2023-02-21T08:33:17.927638Z",
     "iopub.status.idle": "2023-02-21T08:34:30.300623Z",
     "shell.execute_reply": "2023-02-21T08:34:30.299799Z"
    },
    "papermill": {
     "duration": 72.42834,
     "end_time": "2023-02-21T08:34:30.300766",
     "exception": false,
     "start_time": "2023-02-21T08:33:17.872426",
     "status": "completed"
    },
    "tags": []
   },
   "outputs": [],
   "source": [
    "train_df = dt.fread('../input/riiid-test-answer-prediction/train.csv', columns=set(data_types_dict.keys())).to_pandas()"
   ]
  },
  {
   "cell_type": "code",
   "execution_count": 5,
   "metadata": {
    "execution": {
     "iopub.execute_input": "2023-02-21T08:34:30.409064Z",
     "iopub.status.busy": "2023-02-21T08:34:30.408368Z",
     "iopub.status.idle": "2023-02-21T08:34:30.412708Z",
     "shell.execute_reply": "2023-02-21T08:34:30.412191Z"
    },
    "papermill": {
     "duration": 0.058935,
     "end_time": "2023-02-21T08:34:30.412832",
     "exception": false,
     "start_time": "2023-02-21T08:34:30.353897",
     "status": "completed"
    },
    "tags": []
   },
   "outputs": [
    {
     "name": "stdout",
     "output_type": "stream",
     "text": [
      "15.5\n"
     ]
    }
   ],
   "source": [
    "print(psutil.virtual_memory().percent)"
   ]
  },
  {
   "cell_type": "code",
   "execution_count": 6,
   "metadata": {
    "execution": {
     "iopub.execute_input": "2023-02-21T08:34:30.521573Z",
     "iopub.status.busy": "2023-02-21T08:34:30.520847Z",
     "iopub.status.idle": "2023-02-21T08:34:30.529414Z",
     "shell.execute_reply": "2023-02-21T08:34:30.530052Z"
    },
    "papermill": {
     "duration": 0.068321,
     "end_time": "2023-02-21T08:34:30.530227",
     "exception": false,
     "start_time": "2023-02-21T08:34:30.461906",
     "status": "completed"
    },
    "tags": []
   },
   "outputs": [],
   "source": [
    "#reading in lecture df\n",
    "lectures_df = pd.read_csv('/kaggle/input/riiid-test-answer-prediction/lectures.csv')"
   ]
  },
  {
   "cell_type": "code",
   "execution_count": 7,
   "metadata": {
    "execution": {
     "iopub.execute_input": "2023-02-21T08:34:30.634102Z",
     "iopub.status.busy": "2023-02-21T08:34:30.633456Z",
     "iopub.status.idle": "2023-02-21T08:34:30.656243Z",
     "shell.execute_reply": "2023-02-21T08:34:30.655610Z"
    },
    "papermill": {
     "duration": 0.075316,
     "end_time": "2023-02-21T08:34:30.656387",
     "exception": false,
     "start_time": "2023-02-21T08:34:30.581071",
     "status": "completed"
    },
    "tags": []
   },
   "outputs": [],
   "source": [
    "lectures_df['type_of'] = lectures_df['type_of'].replace('solving question', 'solving_question')\n",
    "\n",
    "lectures_df = pd.get_dummies(lectures_df, columns=['part', 'type_of'])\n",
    "\n",
    "part_lectures_columns = [column for column in lectures_df.columns if column.startswith('part')]\n",
    "\n",
    "types_of_lectures_columns = [column for column in lectures_df.columns if column.startswith('type_of_')]"
   ]
  },
  {
   "cell_type": "code",
   "execution_count": 8,
   "metadata": {
    "execution": {
     "iopub.execute_input": "2023-02-21T08:34:30.761172Z",
     "iopub.status.busy": "2023-02-21T08:34:30.760431Z",
     "iopub.status.idle": "2023-02-21T08:34:32.924431Z",
     "shell.execute_reply": "2023-02-21T08:34:32.923250Z"
    },
    "papermill": {
     "duration": 2.216828,
     "end_time": "2023-02-21T08:34:32.924710",
     "exception": false,
     "start_time": "2023-02-21T08:34:30.707882",
     "status": "completed"
    },
    "tags": []
   },
   "outputs": [],
   "source": [
    "train_lectures = train_df[train_df.content_type_id == True].merge(lectures_df, left_on='content_id', right_on='lecture_id', how='left')"
   ]
  },
  {
   "cell_type": "code",
   "execution_count": 9,
   "metadata": {
    "execution": {
     "iopub.execute_input": "2023-02-21T08:34:33.062520Z",
     "iopub.status.busy": "2023-02-21T08:34:33.061783Z",
     "iopub.status.idle": "2023-02-21T08:34:33.622814Z",
     "shell.execute_reply": "2023-02-21T08:34:33.622224Z"
    },
    "papermill": {
     "duration": 0.63089,
     "end_time": "2023-02-21T08:34:33.622947",
     "exception": false,
     "start_time": "2023-02-21T08:34:32.992057",
     "status": "completed"
    },
    "tags": []
   },
   "outputs": [],
   "source": [
    "user_lecture_stats_part = train_lectures.groupby('user_id',as_index = False)[part_lectures_columns + types_of_lectures_columns].sum()"
   ]
  },
  {
   "cell_type": "code",
   "execution_count": 10,
   "metadata": {
    "execution": {
     "iopub.execute_input": "2023-02-21T08:34:33.735917Z",
     "iopub.status.busy": "2023-02-21T08:34:33.734854Z",
     "iopub.status.idle": "2023-02-21T08:34:33.747872Z",
     "shell.execute_reply": "2023-02-21T08:34:33.748644Z"
    },
    "papermill": {
     "duration": 0.066635,
     "end_time": "2023-02-21T08:34:33.748847",
     "exception": false,
     "start_time": "2023-02-21T08:34:33.682212",
     "status": "completed"
    },
    "tags": []
   },
   "outputs": [],
   "source": [
    "lecturedata_types_dict = {   \n",
    "    'user_id': 'int32', \n",
    "    'part_1': 'int8',\n",
    "    'part_2': 'int8',\n",
    "    'part_3': 'int8',\n",
    "    'part_4': 'int8',\n",
    "    'part_5': 'int8',\n",
    "    'part_6': 'int8',\n",
    "    'part_7': 'int8',\n",
    "    'type_of_concept': 'int8',\n",
    "    'type_of_intention': 'int8',\n",
    "    'type_of_solving_question': 'int8',\n",
    "    'type_of_starter': 'int8'\n",
    "}\n",
    "user_lecture_stats_part = user_lecture_stats_part.astype(lecturedata_types_dict)"
   ]
  },
  {
   "cell_type": "code",
   "execution_count": 11,
   "metadata": {
    "execution": {
     "iopub.execute_input": "2023-02-21T08:34:33.855602Z",
     "iopub.status.busy": "2023-02-21T08:34:33.854548Z",
     "iopub.status.idle": "2023-02-21T08:34:33.868310Z",
     "shell.execute_reply": "2023-02-21T08:34:33.867599Z"
    },
    "papermill": {
     "duration": 0.06589,
     "end_time": "2023-02-21T08:34:33.868453",
     "exception": false,
     "start_time": "2023-02-21T08:34:33.802563",
     "status": "completed"
    },
    "tags": []
   },
   "outputs": [],
   "source": [
    "for column in user_lecture_stats_part.columns:\n",
    "    #bool_column = column + '_boolean'\n",
    "    if(column !='user_id'):\n",
    "        user_lecture_stats_part[column] = (user_lecture_stats_part[column] > 0).astype('int8')"
   ]
  },
  {
   "cell_type": "code",
   "execution_count": 12,
   "metadata": {
    "execution": {
     "iopub.execute_input": "2023-02-21T08:34:33.972537Z",
     "iopub.status.busy": "2023-02-21T08:34:33.971424Z",
     "iopub.status.idle": "2023-02-21T08:34:34.004910Z",
     "shell.execute_reply": "2023-02-21T08:34:34.005461Z"
    },
    "papermill": {
     "duration": 0.086863,
     "end_time": "2023-02-21T08:34:34.005646",
     "exception": false,
     "start_time": "2023-02-21T08:34:33.918783",
     "status": "completed"
    },
    "tags": []
   },
   "outputs": [
    {
     "data": {
      "text/html": [
       "<div>\n",
       "<style scoped>\n",
       "    .dataframe tbody tr th:only-of-type {\n",
       "        vertical-align: middle;\n",
       "    }\n",
       "\n",
       "    .dataframe tbody tr th {\n",
       "        vertical-align: top;\n",
       "    }\n",
       "\n",
       "    .dataframe thead th {\n",
       "        text-align: right;\n",
       "    }\n",
       "</style>\n",
       "<table border=\"1\" class=\"dataframe\">\n",
       "  <thead>\n",
       "    <tr style=\"text-align: right;\">\n",
       "      <th></th>\n",
       "      <th>timestamp</th>\n",
       "      <th>user_id</th>\n",
       "      <th>content_id</th>\n",
       "      <th>content_type_id</th>\n",
       "      <th>task_container_id</th>\n",
       "      <th>answered_correctly</th>\n",
       "      <th>prior_question_elapsed_time</th>\n",
       "      <th>prior_question_had_explanation</th>\n",
       "      <th>lecture_id</th>\n",
       "      <th>tag</th>\n",
       "      <th>...</th>\n",
       "      <th>part_2</th>\n",
       "      <th>part_3</th>\n",
       "      <th>part_4</th>\n",
       "      <th>part_5</th>\n",
       "      <th>part_6</th>\n",
       "      <th>part_7</th>\n",
       "      <th>type_of_concept</th>\n",
       "      <th>type_of_intention</th>\n",
       "      <th>type_of_solving_question</th>\n",
       "      <th>type_of_starter</th>\n",
       "    </tr>\n",
       "  </thead>\n",
       "  <tbody>\n",
       "    <tr>\n",
       "      <th>1</th>\n",
       "      <td>10183847</td>\n",
       "      <td>5382</td>\n",
       "      <td>16736</td>\n",
       "      <td>True</td>\n",
       "      <td>21</td>\n",
       "      <td>-1</td>\n",
       "      <td>NaN</td>\n",
       "      <td>False</td>\n",
       "      <td>16736</td>\n",
       "      <td>40</td>\n",
       "      <td>...</td>\n",
       "      <td>0</td>\n",
       "      <td>0</td>\n",
       "      <td>0</td>\n",
       "      <td>0</td>\n",
       "      <td>0</td>\n",
       "      <td>0</td>\n",
       "      <td>1</td>\n",
       "      <td>0</td>\n",
       "      <td>0</td>\n",
       "      <td>0</td>\n",
       "    </tr>\n",
       "    <tr>\n",
       "      <th>2</th>\n",
       "      <td>1424348597</td>\n",
       "      <td>5382</td>\n",
       "      <td>30207</td>\n",
       "      <td>True</td>\n",
       "      <td>104</td>\n",
       "      <td>-1</td>\n",
       "      <td>NaN</td>\n",
       "      <td>False</td>\n",
       "      <td>30207</td>\n",
       "      <td>43</td>\n",
       "      <td>...</td>\n",
       "      <td>0</td>\n",
       "      <td>0</td>\n",
       "      <td>0</td>\n",
       "      <td>1</td>\n",
       "      <td>0</td>\n",
       "      <td>0</td>\n",
       "      <td>1</td>\n",
       "      <td>0</td>\n",
       "      <td>0</td>\n",
       "      <td>0</td>\n",
       "    </tr>\n",
       "    <tr>\n",
       "      <th>3</th>\n",
       "      <td>1425557777</td>\n",
       "      <td>5382</td>\n",
       "      <td>18545</td>\n",
       "      <td>True</td>\n",
       "      <td>121</td>\n",
       "      <td>-1</td>\n",
       "      <td>NaN</td>\n",
       "      <td>False</td>\n",
       "      <td>18545</td>\n",
       "      <td>58</td>\n",
       "      <td>...</td>\n",
       "      <td>0</td>\n",
       "      <td>0</td>\n",
       "      <td>0</td>\n",
       "      <td>1</td>\n",
       "      <td>0</td>\n",
       "      <td>0</td>\n",
       "      <td>1</td>\n",
       "      <td>0</td>\n",
       "      <td>0</td>\n",
       "      <td>0</td>\n",
       "    </tr>\n",
       "  </tbody>\n",
       "</table>\n",
       "<p>3 rows × 21 columns</p>\n",
       "</div>"
      ],
      "text/plain": [
       "    timestamp  user_id  content_id  content_type_id  task_container_id  \\\n",
       "1    10183847     5382       16736             True                 21   \n",
       "2  1424348597     5382       30207             True                104   \n",
       "3  1425557777     5382       18545             True                121   \n",
       "\n",
       "   answered_correctly  prior_question_elapsed_time  \\\n",
       "1                  -1                          NaN   \n",
       "2                  -1                          NaN   \n",
       "3                  -1                          NaN   \n",
       "\n",
       "  prior_question_had_explanation  lecture_id  tag  ...  part_2  part_3  \\\n",
       "1                          False       16736   40  ...       0       0   \n",
       "2                          False       30207   43  ...       0       0   \n",
       "3                          False       18545   58  ...       0       0   \n",
       "\n",
       "   part_4  part_5  part_6  part_7  type_of_concept  type_of_intention  \\\n",
       "1       0       0       0       0                1                  0   \n",
       "2       0       1       0       0                1                  0   \n",
       "3       0       1       0       0                1                  0   \n",
       "\n",
       "   type_of_solving_question  type_of_starter  \n",
       "1                         0                0  \n",
       "2                         0                0  \n",
       "3                         0                0  \n",
       "\n",
       "[3 rows x 21 columns]"
      ]
     },
     "execution_count": 12,
     "metadata": {},
     "output_type": "execute_result"
    }
   ],
   "source": [
    "train_lectures[train_lectures.user_id==5382]"
   ]
  },
  {
   "cell_type": "code",
   "execution_count": 13,
   "metadata": {
    "execution": {
     "iopub.execute_input": "2023-02-21T08:34:34.115481Z",
     "iopub.status.busy": "2023-02-21T08:34:34.114269Z",
     "iopub.status.idle": "2023-02-21T08:34:34.127634Z",
     "shell.execute_reply": "2023-02-21T08:34:34.128150Z"
    },
    "papermill": {
     "duration": 0.071036,
     "end_time": "2023-02-21T08:34:34.128328",
     "exception": false,
     "start_time": "2023-02-21T08:34:34.057292",
     "status": "completed"
    },
    "tags": []
   },
   "outputs": [
    {
     "data": {
      "text/html": [
       "<div>\n",
       "<style scoped>\n",
       "    .dataframe tbody tr th:only-of-type {\n",
       "        vertical-align: middle;\n",
       "    }\n",
       "\n",
       "    .dataframe tbody tr th {\n",
       "        vertical-align: top;\n",
       "    }\n",
       "\n",
       "    .dataframe thead th {\n",
       "        text-align: right;\n",
       "    }\n",
       "</style>\n",
       "<table border=\"1\" class=\"dataframe\">\n",
       "  <thead>\n",
       "    <tr style=\"text-align: right;\">\n",
       "      <th></th>\n",
       "      <th>user_id</th>\n",
       "      <th>part_1</th>\n",
       "      <th>part_2</th>\n",
       "      <th>part_3</th>\n",
       "      <th>part_4</th>\n",
       "      <th>part_5</th>\n",
       "      <th>part_6</th>\n",
       "      <th>part_7</th>\n",
       "      <th>type_of_concept</th>\n",
       "      <th>type_of_intention</th>\n",
       "      <th>type_of_solving_question</th>\n",
       "      <th>type_of_starter</th>\n",
       "    </tr>\n",
       "  </thead>\n",
       "  <tbody>\n",
       "    <tr>\n",
       "      <th>1</th>\n",
       "      <td>5382</td>\n",
       "      <td>1</td>\n",
       "      <td>0</td>\n",
       "      <td>0</td>\n",
       "      <td>0</td>\n",
       "      <td>1</td>\n",
       "      <td>0</td>\n",
       "      <td>0</td>\n",
       "      <td>1</td>\n",
       "      <td>0</td>\n",
       "      <td>0</td>\n",
       "      <td>0</td>\n",
       "    </tr>\n",
       "  </tbody>\n",
       "</table>\n",
       "</div>"
      ],
      "text/plain": [
       "   user_id  part_1  part_2  part_3  part_4  part_5  part_6  part_7  \\\n",
       "1     5382       1       0       0       0       1       0       0   \n",
       "\n",
       "   type_of_concept  type_of_intention  type_of_solving_question  \\\n",
       "1                1                  0                         0   \n",
       "\n",
       "   type_of_starter  \n",
       "1                0  "
      ]
     },
     "execution_count": 13,
     "metadata": {},
     "output_type": "execute_result"
    }
   ],
   "source": [
    "user_lecture_stats_part[user_lecture_stats_part.user_id==5382]"
   ]
  },
  {
   "cell_type": "code",
   "execution_count": 14,
   "metadata": {
    "execution": {
     "iopub.execute_input": "2023-02-21T08:34:34.236687Z",
     "iopub.status.busy": "2023-02-21T08:34:34.235885Z",
     "iopub.status.idle": "2023-02-21T08:34:34.248806Z",
     "shell.execute_reply": "2023-02-21T08:34:34.249341Z"
    },
    "papermill": {
     "duration": 0.069534,
     "end_time": "2023-02-21T08:34:34.249539",
     "exception": false,
     "start_time": "2023-02-21T08:34:34.180005",
     "status": "completed"
    },
    "tags": []
   },
   "outputs": [
    {
     "data": {
      "text/html": [
       "<div>\n",
       "<style scoped>\n",
       "    .dataframe tbody tr th:only-of-type {\n",
       "        vertical-align: middle;\n",
       "    }\n",
       "\n",
       "    .dataframe tbody tr th {\n",
       "        vertical-align: top;\n",
       "    }\n",
       "\n",
       "    .dataframe thead th {\n",
       "        text-align: right;\n",
       "    }\n",
       "</style>\n",
       "<table border=\"1\" class=\"dataframe\">\n",
       "  <thead>\n",
       "    <tr style=\"text-align: right;\">\n",
       "      <th></th>\n",
       "      <th>user_id</th>\n",
       "      <th>part_1</th>\n",
       "      <th>part_2</th>\n",
       "      <th>part_3</th>\n",
       "      <th>part_4</th>\n",
       "      <th>part_5</th>\n",
       "      <th>part_6</th>\n",
       "      <th>part_7</th>\n",
       "      <th>type_of_concept</th>\n",
       "      <th>type_of_intention</th>\n",
       "      <th>type_of_solving_question</th>\n",
       "      <th>type_of_starter</th>\n",
       "    </tr>\n",
       "  </thead>\n",
       "  <tbody>\n",
       "    <tr>\n",
       "      <th>149601</th>\n",
       "      <td>2147419988</td>\n",
       "      <td>1</td>\n",
       "      <td>0</td>\n",
       "      <td>1</td>\n",
       "      <td>0</td>\n",
       "      <td>1</td>\n",
       "      <td>1</td>\n",
       "      <td>0</td>\n",
       "      <td>1</td>\n",
       "      <td>0</td>\n",
       "      <td>1</td>\n",
       "      <td>0</td>\n",
       "    </tr>\n",
       "    <tr>\n",
       "      <th>149602</th>\n",
       "      <td>2147469944</td>\n",
       "      <td>1</td>\n",
       "      <td>0</td>\n",
       "      <td>0</td>\n",
       "      <td>1</td>\n",
       "      <td>1</td>\n",
       "      <td>0</td>\n",
       "      <td>0</td>\n",
       "      <td>1</td>\n",
       "      <td>0</td>\n",
       "      <td>0</td>\n",
       "      <td>0</td>\n",
       "    </tr>\n",
       "    <tr>\n",
       "      <th>149603</th>\n",
       "      <td>2147470770</td>\n",
       "      <td>0</td>\n",
       "      <td>0</td>\n",
       "      <td>0</td>\n",
       "      <td>0</td>\n",
       "      <td>1</td>\n",
       "      <td>0</td>\n",
       "      <td>0</td>\n",
       "      <td>1</td>\n",
       "      <td>0</td>\n",
       "      <td>0</td>\n",
       "      <td>0</td>\n",
       "    </tr>\n",
       "    <tr>\n",
       "      <th>149604</th>\n",
       "      <td>2147470777</td>\n",
       "      <td>0</td>\n",
       "      <td>0</td>\n",
       "      <td>0</td>\n",
       "      <td>1</td>\n",
       "      <td>1</td>\n",
       "      <td>0</td>\n",
       "      <td>0</td>\n",
       "      <td>1</td>\n",
       "      <td>0</td>\n",
       "      <td>0</td>\n",
       "      <td>0</td>\n",
       "    </tr>\n",
       "    <tr>\n",
       "      <th>149605</th>\n",
       "      <td>2147482216</td>\n",
       "      <td>0</td>\n",
       "      <td>1</td>\n",
       "      <td>0</td>\n",
       "      <td>0</td>\n",
       "      <td>0</td>\n",
       "      <td>0</td>\n",
       "      <td>0</td>\n",
       "      <td>1</td>\n",
       "      <td>1</td>\n",
       "      <td>0</td>\n",
       "      <td>0</td>\n",
       "    </tr>\n",
       "  </tbody>\n",
       "</table>\n",
       "</div>"
      ],
      "text/plain": [
       "           user_id  part_1  part_2  part_3  part_4  part_5  part_6  part_7  \\\n",
       "149601  2147419988       1       0       1       0       1       1       0   \n",
       "149602  2147469944       1       0       0       1       1       0       0   \n",
       "149603  2147470770       0       0       0       0       1       0       0   \n",
       "149604  2147470777       0       0       0       1       1       0       0   \n",
       "149605  2147482216       0       1       0       0       0       0       0   \n",
       "\n",
       "        type_of_concept  type_of_intention  type_of_solving_question  \\\n",
       "149601                1                  0                         1   \n",
       "149602                1                  0                         0   \n",
       "149603                1                  0                         0   \n",
       "149604                1                  0                         0   \n",
       "149605                1                  1                         0   \n",
       "\n",
       "        type_of_starter  \n",
       "149601                0  \n",
       "149602                0  \n",
       "149603                0  \n",
       "149604                0  \n",
       "149605                0  "
      ]
     },
     "execution_count": 14,
     "metadata": {},
     "output_type": "execute_result"
    }
   ],
   "source": [
    "user_lecture_stats_part.tail()"
   ]
  },
  {
   "cell_type": "code",
   "execution_count": 15,
   "metadata": {
    "execution": {
     "iopub.execute_input": "2023-02-21T08:34:34.375450Z",
     "iopub.status.busy": "2023-02-21T08:34:34.374624Z",
     "iopub.status.idle": "2023-02-21T08:34:34.381710Z",
     "shell.execute_reply": "2023-02-21T08:34:34.382270Z"
    },
    "papermill": {
     "duration": 0.072234,
     "end_time": "2023-02-21T08:34:34.382467",
     "exception": false,
     "start_time": "2023-02-21T08:34:34.310233",
     "status": "completed"
    },
    "tags": []
   },
   "outputs": [
    {
     "data": {
      "text/plain": [
       "user_id                     int32\n",
       "part_1                       int8\n",
       "part_2                       int8\n",
       "part_3                       int8\n",
       "part_4                       int8\n",
       "part_5                       int8\n",
       "part_6                       int8\n",
       "part_7                       int8\n",
       "type_of_concept              int8\n",
       "type_of_intention            int8\n",
       "type_of_solving_question     int8\n",
       "type_of_starter              int8\n",
       "dtype: object"
      ]
     },
     "execution_count": 15,
     "metadata": {},
     "output_type": "execute_result"
    }
   ],
   "source": [
    "user_lecture_stats_part.dtypes"
   ]
  },
  {
   "cell_type": "code",
   "execution_count": 16,
   "metadata": {
    "execution": {
     "iopub.execute_input": "2023-02-21T08:34:34.514096Z",
     "iopub.status.busy": "2023-02-21T08:34:34.513318Z",
     "iopub.status.idle": "2023-02-21T08:34:34.524745Z",
     "shell.execute_reply": "2023-02-21T08:34:34.525456Z"
    },
    "papermill": {
     "duration": 0.079996,
     "end_time": "2023-02-21T08:34:34.525669",
     "exception": false,
     "start_time": "2023-02-21T08:34:34.445673",
     "status": "completed"
    },
    "tags": []
   },
   "outputs": [],
   "source": [
    "#clearing memory\n",
    "del(train_lectures)"
   ]
  },
  {
   "cell_type": "code",
   "execution_count": 17,
   "metadata": {
    "execution": {
     "iopub.execute_input": "2023-02-21T08:34:34.655807Z",
     "iopub.status.busy": "2023-02-21T08:34:34.654847Z",
     "iopub.status.idle": "2023-02-21T08:34:34.660375Z",
     "shell.execute_reply": "2023-02-21T08:34:34.661344Z"
    },
    "papermill": {
     "duration": 0.071269,
     "end_time": "2023-02-21T08:34:34.661604",
     "exception": false,
     "start_time": "2023-02-21T08:34:34.590335",
     "status": "completed"
    },
    "tags": []
   },
   "outputs": [
    {
     "name": "stdout",
     "output_type": "stream",
     "text": [
      "28.7\n"
     ]
    }
   ],
   "source": [
    "print(psutil.virtual_memory().percent)"
   ]
  },
  {
   "cell_type": "code",
   "execution_count": 18,
   "metadata": {
    "execution": {
     "iopub.execute_input": "2023-02-21T08:34:34.798135Z",
     "iopub.status.busy": "2023-02-21T08:34:34.797416Z",
     "iopub.status.idle": "2023-02-21T08:35:03.592112Z",
     "shell.execute_reply": "2023-02-21T08:35:03.590884Z"
    },
    "papermill": {
     "duration": 28.868539,
     "end_time": "2023-02-21T08:35:03.592422",
     "exception": false,
     "start_time": "2023-02-21T08:34:34.723883",
     "status": "completed"
    },
    "tags": []
   },
   "outputs": [],
   "source": [
    "cum = train_df.groupby('user_id')['content_type_id'].agg(['cumsum', 'cumcount'])\n",
    "train_df['user_lecture_cumsum'] = cum['cumsum'] \n",
    "train_df['user_lecture_lv'] = cum['cumsum'] / cum['cumcount']\n",
    "\n",
    "\n",
    "train_df.user_lecture_lv=train_df.user_lecture_lv.astype('float16')\n",
    "train_df.user_lecture_cumsum=train_df.user_lecture_cumsum.astype('int8')\n",
    "user_lecture_agg = train_df.groupby('user_id')['content_type_id'].agg(['sum', 'count'])"
   ]
  },
  {
   "cell_type": "code",
   "execution_count": 19,
   "metadata": {
    "execution": {
     "iopub.execute_input": "2023-02-21T08:35:03.709399Z",
     "iopub.status.busy": "2023-02-21T08:35:03.708601Z",
     "iopub.status.idle": "2023-02-21T08:35:26.129893Z",
     "shell.execute_reply": "2023-02-21T08:35:26.129031Z"
    },
    "papermill": {
     "duration": 22.481993,
     "end_time": "2023-02-21T08:35:26.130057",
     "exception": false,
     "start_time": "2023-02-21T08:35:03.648064",
     "status": "completed"
    },
    "tags": []
   },
   "outputs": [],
   "source": [
    "train_df['prior_question_had_explanation'].fillna(False, inplace=True)\n",
    "train_df = train_df.astype(data_types_dict)\n",
    "train_df = train_df[train_df[target] != -1].reset_index(drop=True)\n",
    "prior_question_elapsed_time_mean=train_df['prior_question_elapsed_time'].mean()\n",
    "train_df['prior_question_elapsed_time'].fillna(prior_question_elapsed_time_mean, inplace=True)"
   ]
  },
  {
   "cell_type": "code",
   "execution_count": 20,
   "metadata": {
    "execution": {
     "iopub.execute_input": "2023-02-21T08:35:27.611669Z",
     "iopub.status.busy": "2023-02-21T08:35:27.610855Z",
     "iopub.status.idle": "2023-02-21T08:35:30.608943Z",
     "shell.execute_reply": "2023-02-21T08:35:30.608203Z"
    },
    "papermill": {
     "duration": 4.425581,
     "end_time": "2023-02-21T08:35:30.609074",
     "exception": false,
     "start_time": "2023-02-21T08:35:26.183493",
     "status": "completed"
    },
    "tags": []
   },
   "outputs": [],
   "source": [
    "max_timestamp_u = train_df[['user_id','timestamp']].groupby(['user_id']).agg(['max']).reset_index()\n",
    "#max_timestamp_u = train_df[['user_id','timestamp']].groupby(['user_id']).agg(['max'])\n",
    "max_timestamp_u.columns = ['user_id', 'max_time_stamp']"
   ]
  },
  {
   "cell_type": "code",
   "execution_count": 21,
   "metadata": {
    "execution": {
     "iopub.execute_input": "2023-02-21T08:35:30.722991Z",
     "iopub.status.busy": "2023-02-21T08:35:30.722107Z",
     "iopub.status.idle": "2023-02-21T08:35:38.396066Z",
     "shell.execute_reply": "2023-02-21T08:35:38.394796Z"
    },
    "papermill": {
     "duration": 7.733174,
     "end_time": "2023-02-21T08:35:38.396293",
     "exception": false,
     "start_time": "2023-02-21T08:35:30.663119",
     "status": "completed"
    },
    "tags": []
   },
   "outputs": [],
   "source": [
    "\n",
    "train_df['lagtime'] = train_df.groupby('user_id')['timestamp'].shift()\n",
    "train_df['lagtime']=train_df['timestamp']-train_df['lagtime']\n",
    "train_df['lagtime'].fillna(0, inplace=True)\n",
    "train_df.lagtime=train_df.lagtime.astype('int32')\n",
    "#train_df.drop(columns=['timestamp'], inplace=True)"
   ]
  },
  {
   "cell_type": "code",
   "execution_count": 22,
   "metadata": {
    "execution": {
     "iopub.execute_input": "2023-02-21T08:35:38.519012Z",
     "iopub.status.busy": "2023-02-21T08:35:38.518238Z",
     "iopub.status.idle": "2023-02-21T08:35:43.908743Z",
     "shell.execute_reply": "2023-02-21T08:35:43.909266Z"
    },
    "papermill": {
     "duration": 5.454842,
     "end_time": "2023-02-21T08:35:43.909493",
     "exception": false,
     "start_time": "2023-02-21T08:35:38.454651",
     "status": "completed"
    },
    "tags": []
   },
   "outputs": [],
   "source": [
    "lagtime_agg = train_df.groupby('user_id')['lagtime'].agg(['mean'])\n",
    "train_df['lagtime_mean'] = train_df['user_id'].map(lagtime_agg['mean'])\n",
    "train_df.lagtime_mean=train_df.lagtime_mean.astype('int32')"
   ]
  },
  {
   "cell_type": "code",
   "execution_count": 23,
   "metadata": {
    "execution": {
     "iopub.execute_input": "2023-02-21T08:35:44.038065Z",
     "iopub.status.busy": "2023-02-21T08:35:44.037312Z",
     "iopub.status.idle": "2023-02-21T08:35:53.309690Z",
     "shell.execute_reply": "2023-02-21T08:35:53.308973Z"
    },
    "papermill": {
     "duration": 9.336911,
     "end_time": "2023-02-21T08:35:53.309844",
     "exception": false,
     "start_time": "2023-02-21T08:35:43.972933",
     "status": "completed"
    },
    "tags": []
   },
   "outputs": [],
   "source": [
    "user_prior_question_elapsed_time = train_df[['user_id','prior_question_elapsed_time']].groupby(['user_id']).tail(1)\n",
    "#max_timestamp_u = train_df[['user_id','timestamp']].groupby(['user_id']).agg(['max'])\n",
    "user_prior_question_elapsed_time.columns = ['user_id', 'prior_question_elapsed_time']"
   ]
  },
  {
   "cell_type": "code",
   "execution_count": 24,
   "metadata": {
    "execution": {
     "iopub.execute_input": "2023-02-21T08:35:53.433252Z",
     "iopub.status.busy": "2023-02-21T08:35:53.432521Z",
     "iopub.status.idle": "2023-02-21T08:35:59.379180Z",
     "shell.execute_reply": "2023-02-21T08:35:59.379873Z"
    },
    "papermill": {
     "duration": 6.012915,
     "end_time": "2023-02-21T08:35:59.380093",
     "exception": false,
     "start_time": "2023-02-21T08:35:53.367178",
     "status": "completed"
    },
    "tags": []
   },
   "outputs": [],
   "source": [
    "\n",
    "train_df['delta_prior_question_elapsed_time'] = train_df.groupby('user_id')['prior_question_elapsed_time'].shift()\n",
    "train_df['delta_prior_question_elapsed_time']=train_df['prior_question_elapsed_time']-train_df['delta_prior_question_elapsed_time']\n",
    "train_df['delta_prior_question_elapsed_time'].fillna(0, inplace=True)\n"
   ]
  },
  {
   "cell_type": "code",
   "execution_count": 25,
   "metadata": {
    "execution": {
     "iopub.execute_input": "2023-02-21T08:35:59.503362Z",
     "iopub.status.busy": "2023-02-21T08:35:59.502645Z",
     "iopub.status.idle": "2023-02-21T08:35:59.891656Z",
     "shell.execute_reply": "2023-02-21T08:35:59.891021Z"
    },
    "papermill": {
     "duration": 0.453236,
     "end_time": "2023-02-21T08:35:59.891793",
     "exception": false,
     "start_time": "2023-02-21T08:35:59.438557",
     "status": "completed"
    },
    "tags": []
   },
   "outputs": [],
   "source": [
    "train_df.delta_prior_question_elapsed_time=train_df.delta_prior_question_elapsed_time.astype('int32')"
   ]
  },
  {
   "cell_type": "code",
   "execution_count": 26,
   "metadata": {
    "execution": {
     "iopub.execute_input": "2023-02-21T08:36:00.021631Z",
     "iopub.status.busy": "2023-02-21T08:36:00.019939Z",
     "iopub.status.idle": "2023-02-21T08:36:00.875567Z",
     "shell.execute_reply": "2023-02-21T08:36:00.874851Z"
    },
    "papermill": {
     "duration": 0.927555,
     "end_time": "2023-02-21T08:36:00.875727",
     "exception": false,
     "start_time": "2023-02-21T08:35:59.948172",
     "status": "completed"
    },
    "tags": []
   },
   "outputs": [],
   "source": [
    "train_df['timestamp']=train_df['timestamp']/(1000*3600)\n",
    "train_df.timestamp=train_df.timestamp.astype('int16')\n",
    "#"
   ]
  },
  {
   "cell_type": "code",
   "execution_count": 27,
   "metadata": {
    "execution": {
     "iopub.execute_input": "2023-02-21T08:36:01.001070Z",
     "iopub.status.busy": "2023-02-21T08:36:00.999346Z",
     "iopub.status.idle": "2023-02-21T08:36:27.004023Z",
     "shell.execute_reply": "2023-02-21T08:36:27.003387Z"
    },
    "papermill": {
     "duration": 26.071047,
     "end_time": "2023-02-21T08:36:27.004159",
     "exception": false,
     "start_time": "2023-02-21T08:36:00.933112",
     "status": "completed"
    },
    "tags": []
   },
   "outputs": [],
   "source": [
    "\n",
    "train_df['lag'] = train_df.groupby('user_id')[target].shift()\n",
    "\n",
    "cum = train_df.groupby('user_id')['lag'].agg(['cumsum', 'cumcount'])\n",
    "train_df['user_correctness'] = cum['cumsum'] / cum['cumcount']\n",
    "train_df['user_correct_cumsum'] = cum['cumsum']\n",
    "train_df['user_correct_cumcount'] = cum['cumcount']\n",
    "train_df.drop(columns=['lag'], inplace=True)\n",
    "\n",
    "# train_df['user_correctness'].fillna(1, inplace=True)\n",
    "train_df['user_correct_cumsum'].fillna(0, inplace=True)\n",
    "#train_df['user_correct_cumcount'].fillna(0, inplace=True)\n",
    "train_df.user_correctness=train_df.user_correctness.astype('float16')\n",
    "train_df.user_correct_cumcount=train_df.user_correct_cumcount.astype('int16')\n",
    "train_df.user_correct_cumsum=train_df.user_correct_cumsum.astype('int16')"
   ]
  },
  {
   "cell_type": "code",
   "execution_count": 28,
   "metadata": {
    "execution": {
     "iopub.execute_input": "2023-02-21T08:36:27.126282Z",
     "iopub.status.busy": "2023-02-21T08:36:27.125445Z",
     "iopub.status.idle": "2023-02-21T08:36:32.882812Z",
     "shell.execute_reply": "2023-02-21T08:36:32.883435Z"
    },
    "papermill": {
     "duration": 5.8203,
     "end_time": "2023-02-21T08:36:32.883610",
     "exception": false,
     "start_time": "2023-02-21T08:36:27.063310",
     "status": "completed"
    },
    "tags": []
   },
   "outputs": [],
   "source": [
    "train_df.prior_question_had_explanation=train_df.prior_question_had_explanation.astype('int8')\n",
    "\n",
    "train_df['lag'] = train_df.groupby('user_id')['prior_question_had_explanation'].shift()"
   ]
  },
  {
   "cell_type": "code",
   "execution_count": 29,
   "metadata": {
    "execution": {
     "iopub.execute_input": "2023-02-21T08:36:32.991097Z",
     "iopub.status.busy": "2023-02-21T08:36:32.990088Z",
     "iopub.status.idle": "2023-02-21T08:36:50.946983Z",
     "shell.execute_reply": "2023-02-21T08:36:50.947492Z"
    },
    "papermill": {
     "duration": 18.01173,
     "end_time": "2023-02-21T08:36:50.947673",
     "exception": false,
     "start_time": "2023-02-21T08:36:32.935943",
     "status": "completed"
    },
    "tags": []
   },
   "outputs": [],
   "source": [
    "\n",
    "cum = train_df.groupby('user_id')['lag'].agg(['cumsum', 'cumcount'])\n",
    "train_df['explanation_mean'] = cum['cumsum'] / cum['cumcount']\n",
    "train_df['explanation_cumsum'] = cum['cumsum'] \n",
    "train_df.drop(columns=['lag'], inplace=True)\n",
    "\n",
    "train_df['explanation_mean'].fillna(0, inplace=True)\n",
    "train_df['explanation_cumsum'].fillna(0, inplace=True)\n",
    "train_df.explanation_mean=train_df.explanation_mean.astype('float16')\n",
    "train_df.explanation_cumsum=train_df.explanation_cumsum.astype('int16')"
   ]
  },
  {
   "cell_type": "code",
   "execution_count": 30,
   "metadata": {
    "execution": {
     "iopub.execute_input": "2023-02-21T08:36:51.057658Z",
     "iopub.status.busy": "2023-02-21T08:36:51.056385Z",
     "iopub.status.idle": "2023-02-21T08:36:51.231550Z",
     "shell.execute_reply": "2023-02-21T08:36:51.230882Z"
    },
    "papermill": {
     "duration": 0.232981,
     "end_time": "2023-02-21T08:36:51.231686",
     "exception": false,
     "start_time": "2023-02-21T08:36:50.998705",
     "status": "completed"
    },
    "tags": []
   },
   "outputs": [
    {
     "data": {
      "text/plain": [
       "73"
      ]
     },
     "execution_count": 30,
     "metadata": {},
     "output_type": "execute_result"
    }
   ],
   "source": [
    "del cum\n",
    "gc.collect()"
   ]
  },
  {
   "cell_type": "code",
   "execution_count": 31,
   "metadata": {
    "execution": {
     "iopub.execute_input": "2023-02-21T08:36:51.435323Z",
     "iopub.status.busy": "2023-02-21T08:36:51.434294Z",
     "iopub.status.idle": "2023-02-21T08:37:51.367768Z",
     "shell.execute_reply": "2023-02-21T08:37:51.366223Z"
    },
    "papermill": {
     "duration": 59.991469,
     "end_time": "2023-02-21T08:37:51.367914",
     "exception": false,
     "start_time": "2023-02-21T08:36:51.376445",
     "status": "completed"
    },
    "tags": []
   },
   "outputs": [],
   "source": [
    "\n",
    "train_df[\"attempt_no\"] = 1\n",
    "train_df.attempt_no=train_df.attempt_no.astype('int8')\n",
    "train_df[\"attempt_no\"] = train_df[[\"user_id\",\"content_id\",'attempt_no']].groupby([\"user_id\",\"content_id\"])[\"attempt_no\"].cumsum()"
   ]
  },
  {
   "cell_type": "code",
   "execution_count": 32,
   "metadata": {
    "execution": {
     "iopub.execute_input": "2023-02-21T08:37:51.476159Z",
     "iopub.status.busy": "2023-02-21T08:37:51.475142Z",
     "iopub.status.idle": "2023-02-21T08:37:51.494287Z",
     "shell.execute_reply": "2023-02-21T08:37:51.494873Z"
    },
    "papermill": {
     "duration": 0.074984,
     "end_time": "2023-02-21T08:37:51.495033",
     "exception": false,
     "start_time": "2023-02-21T08:37:51.420049",
     "status": "completed"
    },
    "tags": []
   },
   "outputs": [
    {
     "data": {
      "text/html": [
       "<div>\n",
       "<style scoped>\n",
       "    .dataframe tbody tr th:only-of-type {\n",
       "        vertical-align: middle;\n",
       "    }\n",
       "\n",
       "    .dataframe tbody tr th {\n",
       "        vertical-align: top;\n",
       "    }\n",
       "\n",
       "    .dataframe thead th {\n",
       "        text-align: right;\n",
       "    }\n",
       "</style>\n",
       "<table border=\"1\" class=\"dataframe\">\n",
       "  <thead>\n",
       "    <tr style=\"text-align: right;\">\n",
       "      <th></th>\n",
       "      <th>timestamp</th>\n",
       "      <th>user_id</th>\n",
       "      <th>content_id</th>\n",
       "      <th>content_type_id</th>\n",
       "      <th>task_container_id</th>\n",
       "      <th>answered_correctly</th>\n",
       "      <th>prior_question_elapsed_time</th>\n",
       "      <th>prior_question_had_explanation</th>\n",
       "      <th>user_lecture_cumsum</th>\n",
       "      <th>user_lecture_lv</th>\n",
       "      <th>lagtime</th>\n",
       "      <th>lagtime_mean</th>\n",
       "      <th>delta_prior_question_elapsed_time</th>\n",
       "      <th>user_correctness</th>\n",
       "      <th>user_correct_cumsum</th>\n",
       "      <th>user_correct_cumcount</th>\n",
       "      <th>explanation_mean</th>\n",
       "      <th>explanation_cumsum</th>\n",
       "      <th>attempt_no</th>\n",
       "    </tr>\n",
       "  </thead>\n",
       "  <tbody>\n",
       "    <tr>\n",
       "      <th>0</th>\n",
       "      <td>0</td>\n",
       "      <td>115</td>\n",
       "      <td>5692</td>\n",
       "      <td>0</td>\n",
       "      <td>1</td>\n",
       "      <td>1</td>\n",
       "      <td>13005.081055</td>\n",
       "      <td>0</td>\n",
       "      <td>0</td>\n",
       "      <td>NaN</td>\n",
       "      <td>0</td>\n",
       "      <td>14523696</td>\n",
       "      <td>0</td>\n",
       "      <td>NaN</td>\n",
       "      <td>0</td>\n",
       "      <td>0</td>\n",
       "      <td>0.0</td>\n",
       "      <td>0</td>\n",
       "      <td>1</td>\n",
       "    </tr>\n",
       "    <tr>\n",
       "      <th>1</th>\n",
       "      <td>0</td>\n",
       "      <td>115</td>\n",
       "      <td>5716</td>\n",
       "      <td>0</td>\n",
       "      <td>2</td>\n",
       "      <td>1</td>\n",
       "      <td>37000.000000</td>\n",
       "      <td>0</td>\n",
       "      <td>0</td>\n",
       "      <td>0.0</td>\n",
       "      <td>56943</td>\n",
       "      <td>14523696</td>\n",
       "      <td>23994</td>\n",
       "      <td>1.0</td>\n",
       "      <td>1</td>\n",
       "      <td>1</td>\n",
       "      <td>0.0</td>\n",
       "      <td>0</td>\n",
       "      <td>1</td>\n",
       "    </tr>\n",
       "    <tr>\n",
       "      <th>2</th>\n",
       "      <td>0</td>\n",
       "      <td>115</td>\n",
       "      <td>128</td>\n",
       "      <td>0</td>\n",
       "      <td>0</td>\n",
       "      <td>1</td>\n",
       "      <td>55000.000000</td>\n",
       "      <td>0</td>\n",
       "      <td>0</td>\n",
       "      <td>0.0</td>\n",
       "      <td>61420</td>\n",
       "      <td>14523696</td>\n",
       "      <td>18000</td>\n",
       "      <td>1.0</td>\n",
       "      <td>2</td>\n",
       "      <td>2</td>\n",
       "      <td>0.0</td>\n",
       "      <td>0</td>\n",
       "      <td>1</td>\n",
       "    </tr>\n",
       "    <tr>\n",
       "      <th>3</th>\n",
       "      <td>0</td>\n",
       "      <td>115</td>\n",
       "      <td>7860</td>\n",
       "      <td>0</td>\n",
       "      <td>3</td>\n",
       "      <td>1</td>\n",
       "      <td>19000.000000</td>\n",
       "      <td>0</td>\n",
       "      <td>0</td>\n",
       "      <td>0.0</td>\n",
       "      <td>12804</td>\n",
       "      <td>14523696</td>\n",
       "      <td>-36000</td>\n",
       "      <td>1.0</td>\n",
       "      <td>3</td>\n",
       "      <td>3</td>\n",
       "      <td>0.0</td>\n",
       "      <td>0</td>\n",
       "      <td>1</td>\n",
       "    </tr>\n",
       "    <tr>\n",
       "      <th>4</th>\n",
       "      <td>0</td>\n",
       "      <td>115</td>\n",
       "      <td>7922</td>\n",
       "      <td>0</td>\n",
       "      <td>4</td>\n",
       "      <td>1</td>\n",
       "      <td>11000.000000</td>\n",
       "      <td>0</td>\n",
       "      <td>0</td>\n",
       "      <td>0.0</td>\n",
       "      <td>6798</td>\n",
       "      <td>14523696</td>\n",
       "      <td>-8000</td>\n",
       "      <td>1.0</td>\n",
       "      <td>4</td>\n",
       "      <td>4</td>\n",
       "      <td>0.0</td>\n",
       "      <td>0</td>\n",
       "      <td>1</td>\n",
       "    </tr>\n",
       "  </tbody>\n",
       "</table>\n",
       "</div>"
      ],
      "text/plain": [
       "   timestamp  user_id  content_id  content_type_id  task_container_id  \\\n",
       "0          0      115        5692                0                  1   \n",
       "1          0      115        5716                0                  2   \n",
       "2          0      115         128                0                  0   \n",
       "3          0      115        7860                0                  3   \n",
       "4          0      115        7922                0                  4   \n",
       "\n",
       "   answered_correctly  prior_question_elapsed_time  \\\n",
       "0                   1                 13005.081055   \n",
       "1                   1                 37000.000000   \n",
       "2                   1                 55000.000000   \n",
       "3                   1                 19000.000000   \n",
       "4                   1                 11000.000000   \n",
       "\n",
       "   prior_question_had_explanation  user_lecture_cumsum  user_lecture_lv  \\\n",
       "0                               0                    0              NaN   \n",
       "1                               0                    0              0.0   \n",
       "2                               0                    0              0.0   \n",
       "3                               0                    0              0.0   \n",
       "4                               0                    0              0.0   \n",
       "\n",
       "   lagtime  lagtime_mean  delta_prior_question_elapsed_time  user_correctness  \\\n",
       "0        0      14523696                                  0               NaN   \n",
       "1    56943      14523696                              23994               1.0   \n",
       "2    61420      14523696                              18000               1.0   \n",
       "3    12804      14523696                             -36000               1.0   \n",
       "4     6798      14523696                              -8000               1.0   \n",
       "\n",
       "   user_correct_cumsum  user_correct_cumcount  explanation_mean  \\\n",
       "0                    0                      0               0.0   \n",
       "1                    1                      1               0.0   \n",
       "2                    2                      2               0.0   \n",
       "3                    3                      3               0.0   \n",
       "4                    4                      4               0.0   \n",
       "\n",
       "   explanation_cumsum  attempt_no  \n",
       "0                   0           1  \n",
       "1                   0           1  \n",
       "2                   0           1  \n",
       "3                   0           1  \n",
       "4                   0           1  "
      ]
     },
     "execution_count": 32,
     "metadata": {},
     "output_type": "execute_result"
    }
   ],
   "source": [
    "train_df.head()"
   ]
  },
  {
   "cell_type": "code",
   "execution_count": 33,
   "metadata": {
    "execution": {
     "iopub.execute_input": "2023-02-21T08:37:51.603270Z",
     "iopub.status.busy": "2023-02-21T08:37:51.602296Z",
     "iopub.status.idle": "2023-02-21T08:37:51.610063Z",
     "shell.execute_reply": "2023-02-21T08:37:51.610639Z"
    },
    "papermill": {
     "duration": 0.063922,
     "end_time": "2023-02-21T08:37:51.610791",
     "exception": false,
     "start_time": "2023-02-21T08:37:51.546869",
     "status": "completed"
    },
    "tags": []
   },
   "outputs": [
    {
     "data": {
      "text/plain": [
       "timestamp                              int16\n",
       "user_id                                int32\n",
       "content_id                             int16\n",
       "content_type_id                         int8\n",
       "task_container_id                      int16\n",
       "answered_correctly                      int8\n",
       "prior_question_elapsed_time          float32\n",
       "prior_question_had_explanation          int8\n",
       "user_lecture_cumsum                     int8\n",
       "user_lecture_lv                      float16\n",
       "lagtime                                int32\n",
       "lagtime_mean                           int32\n",
       "delta_prior_question_elapsed_time      int32\n",
       "user_correctness                     float16\n",
       "user_correct_cumsum                    int16\n",
       "user_correct_cumcount                  int16\n",
       "explanation_mean                     float16\n",
       "explanation_cumsum                     int16\n",
       "attempt_no                              int8\n",
       "dtype: object"
      ]
     },
     "execution_count": 33,
     "metadata": {},
     "output_type": "execute_result"
    }
   ],
   "source": [
    "train_df.dtypes"
   ]
  },
  {
   "cell_type": "code",
   "execution_count": 34,
   "metadata": {
    "execution": {
     "iopub.execute_input": "2023-02-21T08:37:51.720026Z",
     "iopub.status.busy": "2023-02-21T08:37:51.719003Z",
     "iopub.status.idle": "2023-02-21T08:37:56.016915Z",
     "shell.execute_reply": "2023-02-21T08:37:56.016189Z"
    },
    "papermill": {
     "duration": 4.353609,
     "end_time": "2023-02-21T08:37:56.017047",
     "exception": false,
     "start_time": "2023-02-21T08:37:51.663438",
     "status": "completed"
    },
    "tags": []
   },
   "outputs": [],
   "source": [
    "explanation_agg = train_df.groupby('user_id')['prior_question_had_explanation'].agg(['sum', 'count'])\n",
    "explanation_agg=explanation_agg.astype('int16')\n",
    "#train_df.drop(columns=['prior_question_had_explanation'], inplace=True)"
   ]
  },
  {
   "cell_type": "code",
   "execution_count": 35,
   "metadata": {
    "execution": {
     "iopub.execute_input": "2023-02-21T08:37:56.131562Z",
     "iopub.status.busy": "2023-02-21T08:37:56.130535Z",
     "iopub.status.idle": "2023-02-21T08:38:14.634322Z",
     "shell.execute_reply": "2023-02-21T08:38:14.633663Z"
    },
    "papermill": {
     "duration": 18.56232,
     "end_time": "2023-02-21T08:38:14.634490",
     "exception": false,
     "start_time": "2023-02-21T08:37:56.072170",
     "status": "completed"
    },
    "tags": []
   },
   "outputs": [],
   "source": [
    "user_agg = train_df.groupby('user_id')[target].agg(['sum', 'count'])\n",
    "content_agg = train_df.groupby('content_id')[target].agg(['sum', 'count','var'])\n",
    "task_container_agg = train_df.groupby('task_container_id')[target].agg(['sum', 'count','var'])\n",
    "\n",
    "#prior_question_elapsed_time_agg = train_df.groupby('user_id')['prior_question_elapsed_time'].agg(['sum', 'count'])"
   ]
  },
  {
   "cell_type": "code",
   "execution_count": 36,
   "metadata": {
    "execution": {
     "iopub.execute_input": "2023-02-21T08:38:14.746773Z",
     "iopub.status.busy": "2023-02-21T08:38:14.745708Z",
     "iopub.status.idle": "2023-02-21T08:38:14.750522Z",
     "shell.execute_reply": "2023-02-21T08:38:14.750994Z"
    },
    "papermill": {
     "duration": 0.063697,
     "end_time": "2023-02-21T08:38:14.751152",
     "exception": false,
     "start_time": "2023-02-21T08:38:14.687455",
     "status": "completed"
    },
    "tags": []
   },
   "outputs": [],
   "source": [
    "user_agg=user_agg.astype('int16')\n",
    "content_agg=content_agg.astype('float32')\n",
    "task_container_agg=task_container_agg.astype('float32')"
   ]
  },
  {
   "cell_type": "code",
   "execution_count": 37,
   "metadata": {
    "execution": {
     "iopub.execute_input": "2023-02-21T08:38:14.861091Z",
     "iopub.status.busy": "2023-02-21T08:38:14.860066Z",
     "iopub.status.idle": "2023-02-21T08:39:23.199480Z",
     "shell.execute_reply": "2023-02-21T08:39:23.200081Z"
    },
    "papermill": {
     "duration": 68.395893,
     "end_time": "2023-02-21T08:39:23.200362",
     "exception": false,
     "start_time": "2023-02-21T08:38:14.804469",
     "status": "completed"
    },
    "tags": []
   },
   "outputs": [],
   "source": [
    "attempt_no_agg=train_df.groupby([\"user_id\",\"content_id\"])[\"attempt_no\"].agg(['sum'])\n",
    "attempt_no_agg=attempt_no_agg.astype('int8')\n",
    "#attempt_series = train_df[['user_id', 'content_id','attempt_no']].groupby(['user_id','content_id'])['attempt_no'].max()"
   ]
  },
  {
   "cell_type": "code",
   "execution_count": 38,
   "metadata": {
    "execution": {
     "iopub.execute_input": "2023-02-21T08:39:23.313431Z",
     "iopub.status.busy": "2023-02-21T08:39:23.312232Z",
     "iopub.status.idle": "2023-02-21T08:39:32.553868Z",
     "shell.execute_reply": "2023-02-21T08:39:32.553222Z"
    },
    "papermill": {
     "duration": 9.298177,
     "end_time": "2023-02-21T08:39:32.554017",
     "exception": false,
     "start_time": "2023-02-21T08:39:23.255840",
     "status": "completed"
    },
    "tags": []
   },
   "outputs": [],
   "source": [
    "train_df['content_count'] = train_df['content_id'].map(content_agg['count']).astype('int32')\n",
    "train_df['content_sum'] = train_df['content_id'].map(content_agg['sum']).astype('int32')\n",
    "train_df['content_correctness'] = train_df['content_id'].map(content_agg['sum'] / content_agg['count'])\n",
    "train_df.content_correctness=train_df.content_correctness.astype('float16')\n",
    "train_df['task_container_sum'] = train_df['task_container_id'].map(task_container_agg['sum']).astype('int32')\n",
    "train_df['task_container_std'] = train_df['task_container_id'].map(task_container_agg['var']).astype('float16')\n",
    "train_df['task_container_correctness'] = train_df['task_container_id'].map(task_container_agg['sum'] / task_container_agg['count'])\n",
    "train_df.task_container_correctness=train_df.task_container_correctness.astype('float16')"
   ]
  },
  {
   "cell_type": "code",
   "execution_count": 39,
   "metadata": {
    "execution": {
     "iopub.execute_input": "2023-02-21T08:39:32.673541Z",
     "iopub.status.busy": "2023-02-21T08:39:32.672759Z",
     "iopub.status.idle": "2023-02-21T08:39:32.746150Z",
     "shell.execute_reply": "2023-02-21T08:39:32.745608Z"
    },
    "papermill": {
     "duration": 0.138875,
     "end_time": "2023-02-21T08:39:32.746286",
     "exception": false,
     "start_time": "2023-02-21T08:39:32.607411",
     "status": "completed"
    },
    "tags": []
   },
   "outputs": [],
   "source": [
    "questions_df = pd.read_csv(\n",
    "    '../input/riiid-test-answer-prediction/questions.csv', \n",
    "    usecols=[0, 1,3,4],\n",
    "    dtype={'question_id': 'int16','bundle_id': 'int16', 'part': 'int8','tags': 'str'}\n",
    ")\n",
    "questions_df['part_bundle_id']=questions_df['part']*100000+questions_df['bundle_id']\n",
    "questions_df.part_bundle_id=questions_df.part_bundle_id.astype('int32')\n",
    "tag = questions_df[\"tags\"].str.split(\" \", n = 10, expand = True)\n",
    "tag.columns = ['tags1','tags2','tags3','tags4','tags5','tags6']\n",
    "#\n",
    "\n",
    "tag.fillna(0, inplace=True)\n",
    "tag = tag.astype('int16')\n",
    "questions_df =  pd.concat([questions_df,tag],axis=1).drop(['tags'],axis=1)"
   ]
  },
  {
   "cell_type": "code",
   "execution_count": 40,
   "metadata": {
    "execution": {
     "iopub.execute_input": "2023-02-21T08:39:32.860525Z",
     "iopub.status.busy": "2023-02-21T08:39:32.859808Z",
     "iopub.status.idle": "2023-02-21T08:39:32.861958Z",
     "shell.execute_reply": "2023-02-21T08:39:32.862508Z"
    },
    "papermill": {
     "duration": 0.062945,
     "end_time": "2023-02-21T08:39:32.862663",
     "exception": false,
     "start_time": "2023-02-21T08:39:32.799718",
     "status": "completed"
    },
    "tags": []
   },
   "outputs": [],
   "source": [
    "questions_df.rename(columns={'question_id':'content_id'}, inplace=True)"
   ]
  },
  {
   "cell_type": "code",
   "execution_count": 41,
   "metadata": {
    "execution": {
     "iopub.execute_input": "2023-02-21T08:39:32.971474Z",
     "iopub.status.busy": "2023-02-21T08:39:32.970837Z",
     "iopub.status.idle": "2023-02-21T08:39:32.980632Z",
     "shell.execute_reply": "2023-02-21T08:39:32.981152Z"
    },
    "papermill": {
     "duration": 0.065879,
     "end_time": "2023-02-21T08:39:32.981305",
     "exception": false,
     "start_time": "2023-02-21T08:39:32.915426",
     "status": "completed"
    },
    "tags": []
   },
   "outputs": [],
   "source": [
    "questions_df['content_correctness'] = questions_df['content_id'].map(content_agg['sum'] / content_agg['count'])\n",
    "questions_df.content_correctness=questions_df.content_correctness.astype('float16')\n",
    "questions_df['content_correctness_std'] = questions_df['content_id'].map(content_agg['var'])\n",
    "questions_df.content_correctness_std=questions_df.content_correctness_std.astype('float16')"
   ]
  },
  {
   "cell_type": "code",
   "execution_count": 42,
   "metadata": {
    "execution": {
     "iopub.execute_input": "2023-02-21T08:39:33.095790Z",
     "iopub.status.busy": "2023-02-21T08:39:33.095125Z",
     "iopub.status.idle": "2023-02-21T08:39:33.105240Z",
     "shell.execute_reply": "2023-02-21T08:39:33.104674Z"
    },
    "papermill": {
     "duration": 0.071276,
     "end_time": "2023-02-21T08:39:33.105378",
     "exception": false,
     "start_time": "2023-02-21T08:39:33.034102",
     "status": "completed"
    },
    "tags": []
   },
   "outputs": [],
   "source": [
    "part_agg = questions_df.groupby('part')['content_correctness'].agg(['mean', 'var'])\n",
    "questions_df['part_correctness_mean'] = questions_df['part'].map(part_agg['mean'])\n",
    "questions_df['part_correctness_std'] = questions_df['part'].map(part_agg['var'])\n",
    "questions_df.part_correctness_mean=questions_df.part_correctness_mean.astype('float16')\n",
    "questions_df.part_correctness_std=questions_df.part_correctness_std.astype('float16')"
   ]
  },
  {
   "cell_type": "code",
   "execution_count": 43,
   "metadata": {
    "execution": {
     "iopub.execute_input": "2023-02-21T08:39:33.218063Z",
     "iopub.status.busy": "2023-02-21T08:39:33.217424Z",
     "iopub.status.idle": "2023-02-21T08:39:33.227333Z",
     "shell.execute_reply": "2023-02-21T08:39:33.227805Z"
    },
    "papermill": {
     "duration": 0.06991,
     "end_time": "2023-02-21T08:39:33.227959",
     "exception": false,
     "start_time": "2023-02-21T08:39:33.158049",
     "status": "completed"
    },
    "tags": []
   },
   "outputs": [],
   "source": [
    "bundle_agg = questions_df.groupby('bundle_id')['content_correctness'].agg(['mean'])\n",
    "questions_df['bundle_correctness'] = questions_df['bundle_id'].map(bundle_agg['mean'])\n",
    "questions_df.bundle_correctness=questions_df.bundle_correctness.astype('float16')"
   ]
  },
  {
   "cell_type": "code",
   "execution_count": 44,
   "metadata": {
    "execution": {
     "iopub.execute_input": "2023-02-21T08:39:33.335686Z",
     "iopub.status.busy": "2023-02-21T08:39:33.334985Z",
     "iopub.status.idle": "2023-02-21T08:39:33.347210Z",
     "shell.execute_reply": "2023-02-21T08:39:33.347712Z"
    },
    "papermill": {
     "duration": 0.06763,
     "end_time": "2023-02-21T08:39:33.347878",
     "exception": false,
     "start_time": "2023-02-21T08:39:33.280248",
     "status": "completed"
    },
    "tags": []
   },
   "outputs": [],
   "source": [
    "tags1_agg = questions_df.groupby('tags1')['content_correctness'].agg(['mean', 'var'])\n",
    "questions_df['tags1_correctness_mean'] = questions_df['tags1'].map(tags1_agg['mean'])\n",
    "questions_df['tags1_correctness_std'] = questions_df['tags1'].map(tags1_agg['var'])\n",
    "questions_df.tags1_correctness_mean=questions_df.tags1_correctness_mean.astype('float16')\n",
    "questions_df.tags1_correctness_std=questions_df.tags1_correctness_std.astype('float16')"
   ]
  },
  {
   "cell_type": "code",
   "execution_count": 45,
   "metadata": {
    "execution": {
     "iopub.execute_input": "2023-02-21T08:39:33.459811Z",
     "iopub.status.busy": "2023-02-21T08:39:33.458368Z",
     "iopub.status.idle": "2023-02-21T08:39:33.462561Z",
     "shell.execute_reply": "2023-02-21T08:39:33.463060Z"
    },
    "papermill": {
     "duration": 0.062807,
     "end_time": "2023-02-21T08:39:33.463205",
     "exception": false,
     "start_time": "2023-02-21T08:39:33.400398",
     "status": "completed"
    },
    "tags": []
   },
   "outputs": [],
   "source": [
    "questions_df.drop(columns=['content_correctness'], inplace=True)"
   ]
  },
  {
   "cell_type": "code",
   "execution_count": 46,
   "metadata": {
    "execution": {
     "iopub.execute_input": "2023-02-21T08:39:33.571172Z",
     "iopub.status.busy": "2023-02-21T08:39:33.570543Z",
     "iopub.status.idle": "2023-02-21T08:39:33.577420Z",
     "shell.execute_reply": "2023-02-21T08:39:33.578040Z"
    },
    "papermill": {
     "duration": 0.06243,
     "end_time": "2023-02-21T08:39:33.578195",
     "exception": false,
     "start_time": "2023-02-21T08:39:33.515765",
     "status": "completed"
    },
    "tags": []
   },
   "outputs": [
    {
     "data": {
      "text/plain": [
       "content_id                   int16\n",
       "bundle_id                    int16\n",
       "part                          int8\n",
       "part_bundle_id               int32\n",
       "tags1                        int16\n",
       "tags2                        int16\n",
       "tags3                        int16\n",
       "tags4                        int16\n",
       "tags5                        int16\n",
       "tags6                        int16\n",
       "content_correctness_std    float16\n",
       "part_correctness_mean      float16\n",
       "part_correctness_std       float16\n",
       "bundle_correctness         float16\n",
       "tags1_correctness_mean     float16\n",
       "tags1_correctness_std      float16\n",
       "dtype: object"
      ]
     },
     "execution_count": 46,
     "metadata": {},
     "output_type": "execute_result"
    }
   ],
   "source": [
    "questions_df.dtypes"
   ]
  },
  {
   "cell_type": "code",
   "execution_count": 47,
   "metadata": {
    "execution": {
     "iopub.execute_input": "2023-02-21T08:39:33.686953Z",
     "iopub.status.busy": "2023-02-21T08:39:33.686323Z",
     "iopub.status.idle": "2023-02-21T08:39:33.776462Z",
     "shell.execute_reply": "2023-02-21T08:39:33.775748Z"
    },
    "papermill": {
     "duration": 0.145378,
     "end_time": "2023-02-21T08:39:33.776591",
     "exception": false,
     "start_time": "2023-02-21T08:39:33.631213",
     "status": "completed"
    },
    "tags": []
   },
   "outputs": [
    {
     "data": {
      "text/plain": [
       "172"
      ]
     },
     "execution_count": 47,
     "metadata": {},
     "output_type": "execute_result"
    }
   ],
   "source": [
    "del bundle_agg\n",
    "del part_agg\n",
    "del tags1_agg\n",
    "gc.collect()"
   ]
  },
  {
   "cell_type": "code",
   "execution_count": 48,
   "metadata": {
    "execution": {
     "iopub.execute_input": "2023-02-21T08:39:33.889275Z",
     "iopub.status.busy": "2023-02-21T08:39:33.888665Z",
     "iopub.status.idle": "2023-02-21T08:39:33.891213Z",
     "shell.execute_reply": "2023-02-21T08:39:33.891736Z"
    },
    "papermill": {
     "duration": 0.061185,
     "end_time": "2023-02-21T08:39:33.891885",
     "exception": false,
     "start_time": "2023-02-21T08:39:33.830700",
     "status": "completed"
    },
    "tags": []
   },
   "outputs": [],
   "source": [
    "#pd.set_option(\"display.max_columns\",500)"
   ]
  },
  {
   "cell_type": "code",
   "execution_count": 49,
   "metadata": {
    "execution": {
     "iopub.execute_input": "2023-02-21T08:39:34.002724Z",
     "iopub.status.busy": "2023-02-21T08:39:34.002016Z",
     "iopub.status.idle": "2023-02-21T08:39:34.004986Z",
     "shell.execute_reply": "2023-02-21T08:39:34.005462Z"
    },
    "papermill": {
     "duration": 0.059781,
     "end_time": "2023-02-21T08:39:34.005617",
     "exception": false,
     "start_time": "2023-02-21T08:39:33.945836",
     "status": "completed"
    },
    "tags": []
   },
   "outputs": [],
   "source": [
    "#questions_df.drop(columns=['tags4','tags5','tags6'], inplace=True)"
   ]
  },
  {
   "cell_type": "code",
   "execution_count": 50,
   "metadata": {
    "execution": {
     "iopub.execute_input": "2023-02-21T08:39:34.119336Z",
     "iopub.status.busy": "2023-02-21T08:39:34.118652Z",
     "iopub.status.idle": "2023-02-21T08:39:34.123109Z",
     "shell.execute_reply": "2023-02-21T08:39:34.123763Z"
    },
    "papermill": {
     "duration": 0.062427,
     "end_time": "2023-02-21T08:39:34.123934",
     "exception": false,
     "start_time": "2023-02-21T08:39:34.061507",
     "status": "completed"
    },
    "tags": []
   },
   "outputs": [
    {
     "data": {
      "text/plain": [
       "99271300"
      ]
     },
     "execution_count": 50,
     "metadata": {},
     "output_type": "execute_result"
    }
   ],
   "source": [
    "len(train_df)"
   ]
  },
  {
   "cell_type": "code",
   "execution_count": 51,
   "metadata": {
    "execution": {
     "iopub.execute_input": "2023-02-21T08:39:34.236580Z",
     "iopub.status.busy": "2023-02-21T08:39:34.235920Z",
     "iopub.status.idle": "2023-02-21T08:39:36.929579Z",
     "shell.execute_reply": "2023-02-21T08:39:36.928858Z"
    },
    "papermill": {
     "duration": 2.751259,
     "end_time": "2023-02-21T08:39:36.929729",
     "exception": false,
     "start_time": "2023-02-21T08:39:34.178470",
     "status": "completed"
    },
    "tags": []
   },
   "outputs": [],
   "source": [
    "train_df['user_correctness'].fillna( 1, inplace=True)\n",
    "train_df['attempt_no'].fillna(1, inplace=True)\n",
    "#\n",
    "train_df.fillna(0, inplace=True)"
   ]
  },
  {
   "cell_type": "code",
   "execution_count": 52,
   "metadata": {
    "execution": {
     "iopub.execute_input": "2023-02-21T08:39:37.043400Z",
     "iopub.status.busy": "2023-02-21T08:39:37.042341Z",
     "iopub.status.idle": "2023-02-21T08:39:37.072443Z",
     "shell.execute_reply": "2023-02-21T08:39:37.071862Z"
    },
    "papermill": {
     "duration": 0.089272,
     "end_time": "2023-02-21T08:39:37.072587",
     "exception": false,
     "start_time": "2023-02-21T08:39:36.983315",
     "status": "completed"
    },
    "tags": []
   },
   "outputs": [
    {
     "data": {
      "text/html": [
       "<div>\n",
       "<style scoped>\n",
       "    .dataframe tbody tr th:only-of-type {\n",
       "        vertical-align: middle;\n",
       "    }\n",
       "\n",
       "    .dataframe tbody tr th {\n",
       "        vertical-align: top;\n",
       "    }\n",
       "\n",
       "    .dataframe thead th {\n",
       "        text-align: right;\n",
       "    }\n",
       "</style>\n",
       "<table border=\"1\" class=\"dataframe\">\n",
       "  <thead>\n",
       "    <tr style=\"text-align: right;\">\n",
       "      <th></th>\n",
       "      <th>timestamp</th>\n",
       "      <th>user_id</th>\n",
       "      <th>content_id</th>\n",
       "      <th>content_type_id</th>\n",
       "      <th>task_container_id</th>\n",
       "      <th>answered_correctly</th>\n",
       "      <th>prior_question_elapsed_time</th>\n",
       "      <th>prior_question_had_explanation</th>\n",
       "      <th>user_lecture_cumsum</th>\n",
       "      <th>user_lecture_lv</th>\n",
       "      <th>...</th>\n",
       "      <th>user_correct_cumcount</th>\n",
       "      <th>explanation_mean</th>\n",
       "      <th>explanation_cumsum</th>\n",
       "      <th>attempt_no</th>\n",
       "      <th>content_count</th>\n",
       "      <th>content_sum</th>\n",
       "      <th>content_correctness</th>\n",
       "      <th>task_container_sum</th>\n",
       "      <th>task_container_std</th>\n",
       "      <th>task_container_correctness</th>\n",
       "    </tr>\n",
       "  </thead>\n",
       "  <tbody>\n",
       "    <tr>\n",
       "      <th>0</th>\n",
       "      <td>0</td>\n",
       "      <td>115</td>\n",
       "      <td>5692</td>\n",
       "      <td>0</td>\n",
       "      <td>1</td>\n",
       "      <td>1</td>\n",
       "      <td>13005.081055</td>\n",
       "      <td>0</td>\n",
       "      <td>0</td>\n",
       "      <td>0.0</td>\n",
       "      <td>...</td>\n",
       "      <td>0</td>\n",
       "      <td>0.0</td>\n",
       "      <td>0</td>\n",
       "      <td>1</td>\n",
       "      <td>36514</td>\n",
       "      <td>27221</td>\n",
       "      <td>0.745605</td>\n",
       "      <td>208704</td>\n",
       "      <td>0.249268</td>\n",
       "      <td>0.527344</td>\n",
       "    </tr>\n",
       "    <tr>\n",
       "      <th>1</th>\n",
       "      <td>0</td>\n",
       "      <td>115</td>\n",
       "      <td>5716</td>\n",
       "      <td>0</td>\n",
       "      <td>2</td>\n",
       "      <td>1</td>\n",
       "      <td>37000.000000</td>\n",
       "      <td>0</td>\n",
       "      <td>0</td>\n",
       "      <td>0.0</td>\n",
       "      <td>...</td>\n",
       "      <td>1</td>\n",
       "      <td>0.0</td>\n",
       "      <td>0</td>\n",
       "      <td>1</td>\n",
       "      <td>23991</td>\n",
       "      <td>17631</td>\n",
       "      <td>0.734863</td>\n",
       "      <td>172342</td>\n",
       "      <td>0.245850</td>\n",
       "      <td>0.435791</td>\n",
       "    </tr>\n",
       "    <tr>\n",
       "      <th>2</th>\n",
       "      <td>0</td>\n",
       "      <td>115</td>\n",
       "      <td>128</td>\n",
       "      <td>0</td>\n",
       "      <td>0</td>\n",
       "      <td>1</td>\n",
       "      <td>55000.000000</td>\n",
       "      <td>0</td>\n",
       "      <td>0</td>\n",
       "      <td>0.0</td>\n",
       "      <td>...</td>\n",
       "      <td>2</td>\n",
       "      <td>0.0</td>\n",
       "      <td>0</td>\n",
       "      <td>1</td>\n",
       "      <td>19619</td>\n",
       "      <td>18969</td>\n",
       "      <td>0.966797</td>\n",
       "      <td>269233</td>\n",
       "      <td>0.217651</td>\n",
       "      <td>0.680176</td>\n",
       "    </tr>\n",
       "    <tr>\n",
       "      <th>3</th>\n",
       "      <td>0</td>\n",
       "      <td>115</td>\n",
       "      <td>7860</td>\n",
       "      <td>0</td>\n",
       "      <td>3</td>\n",
       "      <td>1</td>\n",
       "      <td>19000.000000</td>\n",
       "      <td>0</td>\n",
       "      <td>0</td>\n",
       "      <td>0.0</td>\n",
       "      <td>...</td>\n",
       "      <td>3</td>\n",
       "      <td>0.0</td>\n",
       "      <td>0</td>\n",
       "      <td>1</td>\n",
       "      <td>21733</td>\n",
       "      <td>20751</td>\n",
       "      <td>0.954590</td>\n",
       "      <td>214721</td>\n",
       "      <td>0.248169</td>\n",
       "      <td>0.542969</td>\n",
       "    </tr>\n",
       "    <tr>\n",
       "      <th>4</th>\n",
       "      <td>0</td>\n",
       "      <td>115</td>\n",
       "      <td>7922</td>\n",
       "      <td>0</td>\n",
       "      <td>4</td>\n",
       "      <td>1</td>\n",
       "      <td>11000.000000</td>\n",
       "      <td>0</td>\n",
       "      <td>0</td>\n",
       "      <td>0.0</td>\n",
       "      <td>...</td>\n",
       "      <td>4</td>\n",
       "      <td>0.0</td>\n",
       "      <td>0</td>\n",
       "      <td>1</td>\n",
       "      <td>19409</td>\n",
       "      <td>18501</td>\n",
       "      <td>0.953125</td>\n",
       "      <td>330079</td>\n",
       "      <td>0.249512</td>\n",
       "      <td>0.477051</td>\n",
       "    </tr>\n",
       "  </tbody>\n",
       "</table>\n",
       "<p>5 rows × 25 columns</p>\n",
       "</div>"
      ],
      "text/plain": [
       "   timestamp  user_id  content_id  content_type_id  task_container_id  \\\n",
       "0          0      115        5692                0                  1   \n",
       "1          0      115        5716                0                  2   \n",
       "2          0      115         128                0                  0   \n",
       "3          0      115        7860                0                  3   \n",
       "4          0      115        7922                0                  4   \n",
       "\n",
       "   answered_correctly  prior_question_elapsed_time  \\\n",
       "0                   1                 13005.081055   \n",
       "1                   1                 37000.000000   \n",
       "2                   1                 55000.000000   \n",
       "3                   1                 19000.000000   \n",
       "4                   1                 11000.000000   \n",
       "\n",
       "   prior_question_had_explanation  user_lecture_cumsum  user_lecture_lv  ...  \\\n",
       "0                               0                    0              0.0  ...   \n",
       "1                               0                    0              0.0  ...   \n",
       "2                               0                    0              0.0  ...   \n",
       "3                               0                    0              0.0  ...   \n",
       "4                               0                    0              0.0  ...   \n",
       "\n",
       "   user_correct_cumcount  explanation_mean  explanation_cumsum  attempt_no  \\\n",
       "0                      0               0.0                   0           1   \n",
       "1                      1               0.0                   0           1   \n",
       "2                      2               0.0                   0           1   \n",
       "3                      3               0.0                   0           1   \n",
       "4                      4               0.0                   0           1   \n",
       "\n",
       "   content_count  content_sum  content_correctness  task_container_sum  \\\n",
       "0          36514        27221             0.745605              208704   \n",
       "1          23991        17631             0.734863              172342   \n",
       "2          19619        18969             0.966797              269233   \n",
       "3          21733        20751             0.954590              214721   \n",
       "4          19409        18501             0.953125              330079   \n",
       "\n",
       "   task_container_std  task_container_correctness  \n",
       "0            0.249268                    0.527344  \n",
       "1            0.245850                    0.435791  \n",
       "2            0.217651                    0.680176  \n",
       "3            0.248169                    0.542969  \n",
       "4            0.249512                    0.477051  \n",
       "\n",
       "[5 rows x 25 columns]"
      ]
     },
     "execution_count": 52,
     "metadata": {},
     "output_type": "execute_result"
    }
   ],
   "source": [
    "train_df.head()"
   ]
  },
  {
   "cell_type": "code",
   "execution_count": 53,
   "metadata": {
    "execution": {
     "iopub.execute_input": "2023-02-21T08:39:37.184665Z",
     "iopub.status.busy": "2023-02-21T08:39:37.184011Z",
     "iopub.status.idle": "2023-02-21T08:39:37.187217Z",
     "shell.execute_reply": "2023-02-21T08:39:37.187851Z"
    },
    "papermill": {
     "duration": 0.060844,
     "end_time": "2023-02-21T08:39:37.188004",
     "exception": false,
     "start_time": "2023-02-21T08:39:37.127160",
     "status": "completed"
    },
    "tags": []
   },
   "outputs": [],
   "source": [
    "#train_df.drop(columns=['content_type_id'], inplace=True)"
   ]
  },
  {
   "cell_type": "code",
   "execution_count": 54,
   "metadata": {
    "execution": {
     "iopub.execute_input": "2023-02-21T08:39:37.301819Z",
     "iopub.status.busy": "2023-02-21T08:39:37.301159Z",
     "iopub.status.idle": "2023-02-21T08:39:37.308453Z",
     "shell.execute_reply": "2023-02-21T08:39:37.309094Z"
    },
    "papermill": {
     "duration": 0.066111,
     "end_time": "2023-02-21T08:39:37.309251",
     "exception": false,
     "start_time": "2023-02-21T08:39:37.243140",
     "status": "completed"
    },
    "tags": []
   },
   "outputs": [
    {
     "data": {
      "text/plain": [
       "timestamp                              int16\n",
       "user_id                                int32\n",
       "content_id                             int16\n",
       "content_type_id                         int8\n",
       "task_container_id                      int16\n",
       "answered_correctly                      int8\n",
       "prior_question_elapsed_time          float32\n",
       "prior_question_had_explanation          int8\n",
       "user_lecture_cumsum                     int8\n",
       "user_lecture_lv                      float16\n",
       "lagtime                                int32\n",
       "lagtime_mean                           int32\n",
       "delta_prior_question_elapsed_time      int32\n",
       "user_correctness                     float16\n",
       "user_correct_cumsum                    int16\n",
       "user_correct_cumcount                  int16\n",
       "explanation_mean                     float16\n",
       "explanation_cumsum                     int16\n",
       "attempt_no                              int8\n",
       "content_count                          int32\n",
       "content_sum                            int32\n",
       "content_correctness                  float16\n",
       "task_container_sum                     int32\n",
       "task_container_std                   float16\n",
       "task_container_correctness           float16\n",
       "dtype: object"
      ]
     },
     "execution_count": 54,
     "metadata": {},
     "output_type": "execute_result"
    }
   ],
   "source": [
    "train_df.dtypes"
   ]
  },
  {
   "cell_type": "markdown",
   "metadata": {
    "papermill": {
     "duration": 0.054192,
     "end_time": "2023-02-21T08:39:37.417742",
     "exception": false,
     "start_time": "2023-02-21T08:39:37.363550",
     "status": "completed"
    },
    "tags": []
   },
   "source": [
    "# SAKT Part I"
   ]
  },
  {
   "cell_type": "code",
   "execution_count": 55,
   "metadata": {
    "execution": {
     "iopub.execute_input": "2023-02-21T08:39:37.529837Z",
     "iopub.status.busy": "2023-02-21T08:39:37.529162Z",
     "iopub.status.idle": "2023-02-21T08:40:18.837081Z",
     "shell.execute_reply": "2023-02-21T08:40:18.837644Z"
    },
    "papermill": {
     "duration": 41.365504,
     "end_time": "2023-02-21T08:40:18.837837",
     "exception": false,
     "start_time": "2023-02-21T08:39:37.472333",
     "status": "completed"
    },
    "tags": []
   },
   "outputs": [
    {
     "name": "stdout",
     "output_type": "stream",
     "text": [
      "number skills 13523\n"
     ]
    },
    {
     "data": {
      "text/plain": [
       "0"
      ]
     },
     "execution_count": 55,
     "metadata": {},
     "output_type": "execute_result"
    }
   ],
   "source": [
    "#HDKIM \n",
    "\n",
    "MAX_SEQ = 160\n",
    "\n",
    "skills = train_df[\"content_id\"].unique()\n",
    "n_skill = len(skills)\n",
    "print(\"number skills\", len(skills))\n",
    "\n",
    "group = train_df[['user_id', 'content_id', 'answered_correctly']].groupby('user_id').apply(lambda r: (\n",
    "            r['content_id'].values,\n",
    "            r['answered_correctly'].values))\n",
    "\n",
    "for user_id in group.index:\n",
    "    q, qa = group[user_id]\n",
    "    if len(q)>MAX_SEQ:\n",
    "        group[user_id] = (q[-MAX_SEQ:],qa[-MAX_SEQ:])\n",
    "        \n",
    "import pickle\n",
    "pickle.dump(group, open(\"group.pkl\", \"wb\"))\n",
    "del group\n",
    "gc.collect()\n",
    "\n",
    "#HDKIMHDKIM\n"
   ]
  },
  {
   "cell_type": "markdown",
   "metadata": {
    "papermill": {
     "duration": 0.054586,
     "end_time": "2023-02-21T08:40:18.949517",
     "exception": false,
     "start_time": "2023-02-21T08:40:18.894931",
     "status": "completed"
    },
    "tags": []
   },
   "source": [
    "# Train"
   ]
  },
  {
   "cell_type": "code",
   "execution_count": 56,
   "metadata": {
    "execution": {
     "iopub.execute_input": "2023-02-21T08:40:19.074148Z",
     "iopub.status.busy": "2023-02-21T08:40:19.073104Z",
     "iopub.status.idle": "2023-02-21T08:40:19.076393Z",
     "shell.execute_reply": "2023-02-21T08:40:19.075736Z"
    },
    "papermill": {
     "duration": 0.069837,
     "end_time": "2023-02-21T08:40:19.076522",
     "exception": false,
     "start_time": "2023-02-21T08:40:19.006685",
     "status": "completed"
    },
    "tags": []
   },
   "outputs": [],
   "source": [
    "features = [\n",
    "#   'user_id',\n",
    "#HDKIM    'timestamp',\n",
    "    'lagtime',\n",
    "    'lagtime_mean',\n",
    "   # 'content_id',\n",
    "   # 'task_container_id',\n",
    "    'user_lecture_cumsum', # X\n",
    "    'user_lecture_lv',\n",
    "    'prior_question_elapsed_time',\n",
    "    'delta_prior_question_elapsed_time',\n",
    "    'user_correctness',\n",
    "    'user_correct_cumcount', #X\n",
    "    'user_correct_cumsum', #X\n",
    "    'content_correctness',\n",
    "   # 'content_correctness_std',\n",
    "    'content_count',\n",
    "    'content_sum', #X\n",
    "    'task_container_correctness',\n",
    "   # 'task_container_std',\n",
    "   # 'task_container_sum',\n",
    "    'bundle_correctness',\n",
    "    'attempt_no',\n",
    "    'part',\n",
    "    'part_correctness_mean',\n",
    "   # 'part_correctness_std',\n",
    "    'tags1',\n",
    "    'tags1_correctness_mean',\n",
    "  #  'tags1_correctness_std',\n",
    "#HDKIM    'tags2',\n",
    "#HDKIM    'tags3',\n",
    "#HDKIM    'tags4',\n",
    "#HDKIM    'tags5',\n",
    "#HDKIM    'tags6',\n",
    "    'bundle_id',\n",
    "  #  'part_bundle_id',\n",
    "    'explanation_mean', \n",
    "    'explanation_cumsum',\n",
    "    'prior_question_had_explanation',\n",
    "#     'part_1',\n",
    "#     'part_2',\n",
    "#     'part_3',\n",
    "#     'part_4',\n",
    "#     'part_5',\n",
    "#     'part_6',\n",
    "#     'part_7',\n",
    "#     'type_of_concept',\n",
    "#     'type_of_intention',\n",
    "#     'type_of_solving_question',\n",
    "#     'type_of_starter'\n",
    "]\n",
    "categorical_columns= [\n",
    "#   'user_id',\n",
    "  #  'content_id',\n",
    "  # 'task_container_id',\n",
    "    'part',        \n",
    "    'tags1',\n",
    "#HDKIM    'tags2',\n",
    "#HDKIM    'tags3',\n",
    "#HDKIM    'tags4',\n",
    "#HDKIM    'tags5',\n",
    "#HDKIM    'tags6',\n",
    "    'bundle_id',\n",
    "   # 'part_bundle_id',\n",
    "    'prior_question_had_explanation',\n",
    "#     'part_1',\n",
    "#     'part_2',\n",
    "#     'part_3',\n",
    "#     'part_4',\n",
    "#     'part_5',\n",
    "#     'part_6',\n",
    "#     'part_7',\n",
    "#     'type_of_concept',\n",
    "#     'type_of_intention',\n",
    "#     'type_of_solving_question',\n",
    "#     'type_of_starter'\n",
    "]\n",
    "\n",
    "\n"
   ]
  },
  {
   "cell_type": "code",
   "execution_count": 57,
   "metadata": {
    "execution": {
     "iopub.execute_input": "2023-02-21T08:40:19.198108Z",
     "iopub.status.busy": "2023-02-21T08:40:19.197342Z",
     "iopub.status.idle": "2023-02-21T08:41:03.463410Z",
     "shell.execute_reply": "2023-02-21T08:41:03.464172Z"
    },
    "papermill": {
     "duration": 44.332522,
     "end_time": "2023-02-21T08:41:03.464422",
     "exception": false,
     "start_time": "2023-02-21T08:40:19.131900",
     "status": "completed"
    },
    "tags": []
   },
   "outputs": [
    {
     "name": "stdout",
     "output_type": "stream",
     "text": [
      "sample end\n",
      "valid_df length： 2269575\n"
     ]
    }
   ],
   "source": [
    "flag_lgbm=True\n",
    "clfs = list()\n",
    "params = {\n",
    "'num_leaves': 350,\n",
    "'max_bin':700,\n",
    "'min_child_weight': 0.03454472573214212,\n",
    "'feature_fraction': 0.58,\n",
    "'bagging_fraction': 0.58,\n",
    "#'min_data_in_leaf': 106,\n",
    "'objective': 'binary',\n",
    "'max_depth': -1,\n",
    "'learning_rate': 0.05,\n",
    "\"boosting_type\": \"gbdt\",\n",
    "\"bagging_seed\": 11,\n",
    "\"metric\": 'auc',\n",
    "\"verbosity\": -1,\n",
    "'reg_alpha': 0.3899927210061127,\n",
    "'reg_lambda': 0.6485237330340494,\n",
    "'random_state': 47\n",
    "}\n",
    "trains=list()\n",
    "valids=list()\n",
    "num=1\n",
    "for i in range(0,num):\n",
    "  \n",
    "    #train_df=train_df.reset_index(drop=True)\n",
    "    train_df_clf=train_df.sample(n=20000*1000)\n",
    "    print('sample end')\n",
    "    #train_df.drop(train_df_clf.index, inplace=True)\n",
    "    #print('train_df drop end')\n",
    "    \n",
    "   \n",
    "    del train_df\n",
    "    \n",
    "    users=train_df_clf['user_id'].drop_duplicates()#去重\n",
    "    \n",
    "    users=users.sample(frac=0.025)\n",
    "    users_df=pd.DataFrame()\n",
    "    users_df['user_id']=users.values\n",
    "  \n",
    "  \n",
    "    valid_df_newuser = pd.merge(train_df_clf, users_df, on=['user_id'], how='inner',right_index=True)\n",
    "    del users_df\n",
    "    del users\n",
    "    gc.collect()\n",
    "    #\n",
    "    train_df_clf.drop(valid_df_newuser.index, inplace=True)\n",
    "   \n",
    "    #-----------\n",
    "    #train_df_clf=train_df_clf.sample(frac=0.2)\n",
    "    #train_df_clf.drop(valid_df_newuser.index, inplace=True)\n",
    "    train_df_clf = pd.merge(train_df_clf, questions_df, on='content_id', how='left',right_index=True)#\n",
    "    valid_df_newuser = pd.merge(valid_df_newuser, questions_df, on='content_id', how='left',right_index=True)#\n",
    "    \n",
    "#     train_df_clf = pd.merge(train_df_clf, user_lecture_stats_part, on='user_id', how=\"left\",right_index=True)\n",
    "#     valid_df_newuser = pd.merge(valid_df_newuser, user_lecture_stats_part, on='user_id', how=\"left\",right_index=True)\n",
    "\n",
    "    valid_df=train_df_clf.sample(frac=0.09)\n",
    "    train_df_clf.drop(valid_df.index, inplace=True)\n",
    "   \n",
    "    valid_df = valid_df.append(valid_df_newuser)\n",
    "    del valid_df_newuser\n",
    "    gc.collect()\n",
    "    #\n",
    "\n",
    "    trains.append(train_df_clf)\n",
    "    valids.append(valid_df)\n",
    "    print('valid_df length：',len(valid_df))\n",
    "    #train_df=train_df.reset_index(drop=True)"
   ]
  },
  {
   "cell_type": "code",
   "execution_count": 58,
   "metadata": {
    "execution": {
     "iopub.execute_input": "2023-02-21T08:41:03.659594Z",
     "iopub.status.busy": "2023-02-21T08:41:03.658622Z",
     "iopub.status.idle": "2023-02-21T08:41:03.663263Z",
     "shell.execute_reply": "2023-02-21T08:41:03.662639Z"
    },
    "papermill": {
     "duration": 0.141764,
     "end_time": "2023-02-21T08:41:03.663402",
     "exception": false,
     "start_time": "2023-02-21T08:41:03.521638",
     "status": "completed"
    },
    "tags": []
   },
   "outputs": [
    {
     "data": {
      "text/plain": [
       "20"
      ]
     },
     "execution_count": 58,
     "metadata": {},
     "output_type": "execute_result"
    }
   ],
   "source": [
    "#del train_df\n",
    "del train_df_clf\n",
    "del valid_df\n",
    "gc.collect()"
   ]
  },
  {
   "cell_type": "code",
   "execution_count": 59,
   "metadata": {
    "execution": {
     "iopub.execute_input": "2023-02-21T08:41:03.972926Z",
     "iopub.status.busy": "2023-02-21T08:41:03.971567Z",
     "iopub.status.idle": "2023-02-21T09:39:52.750952Z",
     "shell.execute_reply": "2023-02-21T09:39:52.750336Z"
    },
    "papermill": {
     "duration": 3529.031481,
     "end_time": "2023-02-21T09:39:52.751106",
     "exception": false,
     "start_time": "2023-02-21T08:41:03.719625",
     "status": "completed"
    },
    "tags": []
   },
   "outputs": [
    {
     "name": "stderr",
     "output_type": "stream",
     "text": [
      "/opt/conda/lib/python3.7/site-packages/lightgbm/basic.py:1295: UserWarning: categorical_feature in Dataset is overridden.\n",
      "New categorical_feature is ['bundle_id', 'part', 'prior_question_had_explanation', 'tags1']\n",
      "  'New categorical_feature is {}'.format(sorted(list(categorical_feature))))\n"
     ]
    },
    {
     "name": "stdout",
     "output_type": "stream",
     "text": [
      "Training until validation scores don't improve for 50 rounds\n",
      "[50]\ttraining's auc: 0.769371\tvalid_1's auc: 0.766478\n",
      "[100]\ttraining's auc: 0.77644\tvalid_1's auc: 0.770621\n",
      "[150]\ttraining's auc: 0.780862\tvalid_1's auc: 0.772146\n",
      "[200]\ttraining's auc: 0.784129\tvalid_1's auc: 0.772867\n",
      "[250]\ttraining's auc: 0.786599\tvalid_1's auc: 0.773263\n",
      "[300]\ttraining's auc: 0.788377\tvalid_1's auc: 0.773521\n",
      "[350]\ttraining's auc: 0.789752\tvalid_1's auc: 0.773721\n",
      "[400]\ttraining's auc: 0.790788\tvalid_1's auc: 0.773762\n",
      "[450]\ttraining's auc: 0.79168\tvalid_1's auc: 0.773742\n",
      "Early stopping, best iteration is:\n",
      "[406]\ttraining's auc: 0.790865\tvalid_1's auc: 0.773776\n"
     ]
    },
    {
     "data": {
      "image/png": "[encoded data removed]",
      "text/plain": [
       "<Figure size 432x288 with 1 Axes>"
      ]
     },
     "metadata": {
      "needs_background": "light"
     },
     "output_type": "display_data"
    }
   ],
   "source": [
    "\n",
    "for i in range(0,num):\n",
    "\n",
    "#     \n",
    "    tr_data = lgb.Dataset(trains[i][features], label=trains[i][target])\n",
    "    va_data = lgb.Dataset(valids[i][features], label=valids[i][target])\n",
    "    \n",
    "#     del train_df_clf\n",
    "#     del valid_df\n",
    "#     gc.collect()\n",
    "    del trains\n",
    "    del valids\n",
    "    gc.collect()\n",
    "\n",
    "    model = lgb.train(\n",
    "        params, \n",
    "        tr_data,\n",
    "#         train_df[features],\n",
    "#         train_df[target],\n",
    "        num_boost_round=5000,\n",
    "        #valid_sets=[(train_df[features],train_df[target]), (valid_df[features],valid_df[target])], \n",
    "        valid_sets=[tr_data, va_data],\n",
    "        early_stopping_rounds=50,\n",
    "        feature_name=features,\n",
    "        categorical_feature=categorical_columns,\n",
    "        verbose_eval=50\n",
    "    )\n",
    "    clfs.append(model)\n",
    "    #print('auc:', roc_auc_score(valid_df[target], model.predict(valid_df[features])))\n",
    "    #model.save_model(f'model.txt')\n",
    "    lgb.plot_importance(model, importance_type='gain')\n",
    "    plt.show()\n",
    "\n",
    "    del tr_data\n",
    "    del va_data\n",
    "    gc.collect()\n",
    "#    \n",
    "# del trains\n",
    "# del valids\n",
    "# gc.collect()"
   ]
  },
  {
   "cell_type": "markdown",
   "metadata": {
    "papermill": {
     "duration": 0.06188,
     "end_time": "2023-02-21T09:39:52.877579",
     "exception": false,
     "start_time": "2023-02-21T09:39:52.815699",
     "status": "completed"
    },
    "tags": []
   },
   "source": [
    "# Inference"
   ]
  },
  {
   "cell_type": "code",
   "execution_count": 60,
   "metadata": {
    "execution": {
     "iopub.execute_input": "2023-02-21T09:39:53.014034Z",
     "iopub.status.busy": "2023-02-21T09:39:53.013341Z",
     "iopub.status.idle": "2023-02-21T09:39:54.061207Z",
     "shell.execute_reply": "2023-02-21T09:39:54.061784Z"
    },
    "papermill": {
     "duration": 1.115112,
     "end_time": "2023-02-21T09:39:54.061945",
     "exception": false,
     "start_time": "2023-02-21T09:39:52.946833",
     "status": "completed"
    },
    "tags": []
   },
   "outputs": [
    {
     "data": {
      "text/plain": [
       "0"
      ]
     },
     "execution_count": 60,
     "metadata": {},
     "output_type": "execute_result"
    }
   ],
   "source": [
    "user_sum_dict = user_agg['sum'].astype('int16').to_dict(defaultdict(int))\n",
    "user_count_dict = user_agg['count'].astype('int16').to_dict(defaultdict(int))\n",
    "content_sum_dict = content_agg['sum'].astype('int32').to_dict(defaultdict(int))\n",
    "content_count_dict = content_agg['count'].astype('int32').to_dict(defaultdict(int))\n",
    "\n",
    "del user_agg\n",
    "del content_agg\n",
    "gc.collect()\n",
    "\n",
    "task_container_sum_dict = task_container_agg['sum'].astype('int32').to_dict(defaultdict(int))\n",
    "task_container_count_dict = task_container_agg['count'].astype('int32').to_dict(defaultdict(int))\n",
    "task_container_std_dict = task_container_agg['var'].astype('float16').to_dict(defaultdict(int))\n",
    "\n",
    "explanation_sum_dict = explanation_agg['sum'].astype('int16').to_dict(defaultdict(int))\n",
    "explanation_count_dict = explanation_agg['count'].astype('int16').to_dict(defaultdict(int))\n",
    "del task_container_agg\n",
    "del explanation_agg\n",
    "gc.collect()"
   ]
  },
  {
   "cell_type": "code",
   "execution_count": 61,
   "metadata": {
    "execution": {
     "iopub.execute_input": "2023-02-21T09:39:54.199710Z",
     "iopub.status.busy": "2023-02-21T09:39:54.198852Z",
     "iopub.status.idle": "2023-02-21T09:39:55.003715Z",
     "shell.execute_reply": "2023-02-21T09:39:55.003134Z"
    },
    "papermill": {
     "duration": 0.873792,
     "end_time": "2023-02-21T09:39:55.003845",
     "exception": false,
     "start_time": "2023-02-21T09:39:54.130053",
     "status": "completed"
    },
    "tags": []
   },
   "outputs": [
    {
     "data": {
      "text/plain": [
       "20"
      ]
     },
     "execution_count": 61,
     "metadata": {},
     "output_type": "execute_result"
    }
   ],
   "source": [
    "user_lecture_sum_dict = user_lecture_agg['sum'].astype('int16').to_dict(defaultdict(int))\n",
    "user_lecture_count_dict = user_lecture_agg['count'].astype('int16').to_dict(defaultdict(int))\n",
    "\n",
    "lagtime_mean_dict = lagtime_agg['mean'].astype('int32').to_dict(defaultdict(int))\n",
    "#del prior_question_elapsed_time_agg\n",
    "del user_lecture_agg\n",
    "del lagtime_agg\n",
    "gc.collect()"
   ]
  },
  {
   "cell_type": "code",
   "execution_count": 62,
   "metadata": {
    "execution": {
     "iopub.execute_input": "2023-02-21T09:39:55.164204Z",
     "iopub.status.busy": "2023-02-21T09:39:55.163531Z",
     "iopub.status.idle": "2023-02-21T09:40:10.863705Z",
     "shell.execute_reply": "2023-02-21T09:40:10.863152Z"
    },
    "papermill": {
     "duration": 15.786626,
     "end_time": "2023-02-21T09:40:10.863842",
     "exception": false,
     "start_time": "2023-02-21T09:39:55.077216",
     "status": "completed"
    },
    "tags": []
   },
   "outputs": [
    {
     "data": {
      "text/plain": [
       "0"
      ]
     },
     "execution_count": 62,
     "metadata": {},
     "output_type": "execute_result"
    }
   ],
   "source": [
    "attempt_no_agg=attempt_no_agg[attempt_no_agg['sum'] >1]\n",
    "attempt_no_sum_dict = attempt_no_agg['sum'].to_dict(defaultdict(int))\n",
    "\n",
    "del attempt_no_agg\n",
    "gc.collect()"
   ]
  },
  {
   "cell_type": "code",
   "execution_count": 63,
   "metadata": {
    "execution": {
     "iopub.execute_input": "2023-02-21T09:40:11.003159Z",
     "iopub.status.busy": "2023-02-21T09:40:11.002106Z",
     "iopub.status.idle": "2023-02-21T09:40:11.842975Z",
     "shell.execute_reply": "2023-02-21T09:40:11.842307Z"
    },
    "papermill": {
     "duration": 0.912032,
     "end_time": "2023-02-21T09:40:11.843114",
     "exception": false,
     "start_time": "2023-02-21T09:40:10.931082",
     "status": "completed"
    },
    "tags": []
   },
   "outputs": [
    {
     "data": {
      "text/plain": [
       "20"
      ]
     },
     "execution_count": 63,
     "metadata": {},
     "output_type": "execute_result"
    }
   ],
   "source": [
    "max_timestamp_u_dict=max_timestamp_u.set_index('user_id').to_dict()\n",
    "user_prior_question_elapsed_time_dict=user_prior_question_elapsed_time.set_index('user_id').to_dict()\n",
    "#del question_elapsed_time_agg\n",
    "del max_timestamp_u\n",
    "del user_prior_question_elapsed_time\n",
    "gc.collect()"
   ]
  },
  {
   "cell_type": "code",
   "execution_count": 64,
   "metadata": {
    "execution": {
     "iopub.execute_input": "2023-02-21T09:40:11.979654Z",
     "iopub.status.busy": "2023-02-21T09:40:11.978335Z",
     "iopub.status.idle": "2023-02-21T09:40:11.984409Z",
     "shell.execute_reply": "2023-02-21T09:40:11.984951Z"
    },
    "papermill": {
     "duration": 0.077886,
     "end_time": "2023-02-21T09:40:11.985127",
     "exception": false,
     "start_time": "2023-02-21T09:40:11.907241",
     "status": "completed"
    },
    "tags": []
   },
   "outputs": [
    {
     "data": {
      "text/plain": [
       "393656"
      ]
     },
     "execution_count": 64,
     "metadata": {},
     "output_type": "execute_result"
    }
   ],
   "source": [
    "len(max_timestamp_u_dict['max_time_stamp'])"
   ]
  },
  {
   "cell_type": "code",
   "execution_count": 65,
   "metadata": {
    "execution": {
     "iopub.execute_input": "2023-02-21T09:40:12.117691Z",
     "iopub.status.busy": "2023-02-21T09:40:12.116658Z",
     "iopub.status.idle": "2023-02-21T09:40:12.122816Z",
     "shell.execute_reply": "2023-02-21T09:40:12.123292Z"
    },
    "papermill": {
     "duration": 0.074467,
     "end_time": "2023-02-21T09:40:12.123475",
     "exception": false,
     "start_time": "2023-02-21T09:40:12.049008",
     "status": "completed"
    },
    "tags": []
   },
   "outputs": [],
   "source": [
    "def get_max_attempt(user_id,content_id):\n",
    "    k = (user_id,content_id)\n",
    "\n",
    "    if k in attempt_no_sum_dict.keys():\n",
    "        attempt_no_sum_dict[k]+=1\n",
    "        return attempt_no_sum_dict[k]\n",
    "\n",
    "    attempt_no_sum_dict[k] = 1\n",
    "    return attempt_no_sum_dict[k]"
   ]
  },
  {
   "cell_type": "code",
   "execution_count": 66,
   "metadata": {
    "execution": {
     "iopub.execute_input": "2023-02-21T09:40:12.322032Z",
     "iopub.status.busy": "2023-02-21T09:40:12.321018Z",
     "iopub.status.idle": "2023-02-21T09:40:12.325929Z",
     "shell.execute_reply": "2023-02-21T09:40:12.324830Z"
    },
    "papermill": {
     "duration": 0.073567,
     "end_time": "2023-02-21T09:40:12.326261",
     "exception": false,
     "start_time": "2023-02-21T09:40:12.252694",
     "status": "completed"
    },
    "tags": []
   },
   "outputs": [
    {
     "name": "stdout",
     "output_type": "stream",
     "text": [
      "30.7\n"
     ]
    }
   ],
   "source": [
    "print(psutil.virtual_memory().percent)"
   ]
  },
  {
   "cell_type": "markdown",
   "metadata": {
    "papermill": {
     "duration": 0.063685,
     "end_time": "2023-02-21T09:40:12.457203",
     "exception": false,
     "start_time": "2023-02-21T09:40:12.393518",
     "status": "completed"
    },
    "tags": []
   },
   "source": [
    "# SAKT Part II"
   ]
  },
  {
   "cell_type": "code",
   "execution_count": 67,
   "metadata": {
    "execution": {
     "iopub.execute_input": "2023-02-21T09:40:12.600299Z",
     "iopub.status.busy": "2023-02-21T09:40:12.599561Z",
     "iopub.status.idle": "2023-02-21T09:40:16.602773Z",
     "shell.execute_reply": "2023-02-21T09:40:16.603262Z"
    },
    "papermill": {
     "duration": 4.07786,
     "end_time": "2023-02-21T09:40:16.603465",
     "exception": false,
     "start_time": "2023-02-21T09:40:12.525605",
     "status": "completed"
    },
    "tags": []
   },
   "outputs": [
    {
     "name": "stdout",
     "output_type": "stream",
     "text": [
      "32.1\n"
     ]
    }
   ],
   "source": [
    "#HDKIM SAKT\n",
    "import torch\n",
    "import torch.nn as nn\n",
    "from torch.utils.data import Dataset, DataLoader\n",
    "\n",
    "class FFN(nn.Module):\n",
    "    def __init__(self, state_size=200):\n",
    "        super(FFN, self).__init__()\n",
    "        self.state_size = state_size\n",
    "\n",
    "        self.lr1 = nn.Linear(state_size, state_size)\n",
    "        self.relu = nn.ReLU()\n",
    "        self.lr2 = nn.Linear(state_size, state_size)\n",
    "        self.dropout = nn.Dropout(0.2)\n",
    "    \n",
    "    def forward(self, x):\n",
    "        x = self.lr1(x)\n",
    "        x = self.relu(x)\n",
    "        x = self.lr2(x)\n",
    "        return self.dropout(x)\n",
    "\n",
    "def future_mask(seq_length):\n",
    "    future_mask = np.triu(np.ones((seq_length, seq_length)), k=1).astype('bool')\n",
    "    return torch.from_numpy(future_mask)\n",
    "\n",
    "class SAKTModel(nn.Module):\n",
    "    def __init__(self, n_skill, max_seq=MAX_SEQ, embed_dim=128): #HDKIM 100\n",
    "        super(SAKTModel, self).__init__()\n",
    "        self.n_skill = n_skill\n",
    "        self.embed_dim = embed_dim\n",
    "\n",
    "        self.embedding = nn.Embedding(2*n_skill+1, embed_dim)\n",
    "        self.pos_embedding = nn.Embedding(max_seq-1, embed_dim)\n",
    "        self.e_embedding = nn.Embedding(n_skill+1, embed_dim)\n",
    "\n",
    "        self.multi_att = nn.MultiheadAttention(embed_dim=embed_dim, num_heads=8, dropout=0.2)\n",
    "\n",
    "        self.dropout = nn.Dropout(0.2)\n",
    "        self.layer_normal = nn.LayerNorm(embed_dim) \n",
    "\n",
    "        self.ffn = FFN(embed_dim)\n",
    "        self.pred = nn.Linear(embed_dim, 1)\n",
    "    \n",
    "    def forward(self, x, question_ids):\n",
    "        device = x.device        \n",
    "        x = self.embedding(x)\n",
    "        pos_id = torch.arange(x.size(1)).unsqueeze(0).to(device)\n",
    "\n",
    "        pos_x = self.pos_embedding(pos_id)\n",
    "        x = x + pos_x\n",
    "\n",
    "        e = self.e_embedding(question_ids)\n",
    "\n",
    "        x = x.permute(1, 0, 2) # x: [bs, s_len, embed] => [s_len, bs, embed]\n",
    "        e = e.permute(1, 0, 2)\n",
    "        att_mask = future_mask(x.size(0)).to(device)\n",
    "        att_output, att_weight = self.multi_att(e, x, x, attn_mask=att_mask)\n",
    "        att_output = self.layer_normal(att_output + e)\n",
    "        att_output = att_output.permute(1, 0, 2) # att_output: [s_len, bs, embed] => [bs, s_len, embed]\n",
    "\n",
    "        x = self.ffn(att_output)\n",
    "        x = self.layer_normal(x + att_output)\n",
    "        x = self.pred(x)\n",
    "\n",
    "        return x.squeeze(-1), att_weight\n",
    "    \n",
    "class TestDataset(Dataset):\n",
    "    def __init__(self, samples, test_df, skills, max_seq=MAX_SEQ): #HDKIM 100\n",
    "        super(TestDataset, self).__init__()\n",
    "        self.samples = samples\n",
    "        self.user_ids = [x for x in test_df[\"user_id\"].unique()]\n",
    "        self.test_df = test_df\n",
    "        self.skills = skills\n",
    "        self.n_skill = len(skills)\n",
    "        self.max_seq = max_seq\n",
    "\n",
    "    def __len__(self):\n",
    "        return self.test_df.shape[0]\n",
    "\n",
    "    def __getitem__(self, index):\n",
    "        test_info = self.test_df.iloc[index]\n",
    "\n",
    "        user_id = test_info[\"user_id\"]\n",
    "        target_id = test_info[\"content_id\"]\n",
    "\n",
    "        q = np.zeros(self.max_seq, dtype=int)\n",
    "        qa = np.zeros(self.max_seq, dtype=int)\n",
    "\n",
    "        if user_id in self.samples.index:\n",
    "            q_, qa_ = self.samples[user_id]\n",
    "            \n",
    "            seq_len = len(q_)\n",
    "\n",
    "            if seq_len >= self.max_seq:\n",
    "                q = q_[-self.max_seq:]\n",
    "                qa = qa_[-self.max_seq:]\n",
    "            else:\n",
    "                q[-seq_len:] = q_\n",
    "                qa[-seq_len:] = qa_          \n",
    "        \n",
    "        x = np.zeros(self.max_seq-1, dtype=int)\n",
    "        x = q[1:].copy()\n",
    "        x += (qa[1:] == 1) * self.n_skill\n",
    "        \n",
    "        questions = np.append(q[2:], [target_id])\n",
    "        \n",
    "        return x, questions\n",
    "\n",
    "device = torch.device(\"cuda\" if torch.cuda.is_available() else \"cpu\")\n",
    "SAKT_model = SAKTModel(n_skill, embed_dim=128)\n",
    "\n",
    "try:\n",
    "    SAKT_model.load_state_dict(torch.load(\"../input/sakt-with-randomization-state-updates/SAKT-HDKIM.pt\"))\n",
    "except:\n",
    "    SAKT_model.load_state_dict(torch.load(\"../input/sakt-with-randomization-state-updates/SAKT-HDKIM.pt\", map_location='cpu'))\n",
    "\n",
    "SAKT_model.to(device)\n",
    "SAKT_model.eval()\n",
    "\n",
    "import pickle\n",
    "group = pickle.load(open(\"group.pkl\", \"rb\"))\n",
    "\n",
    "print(psutil.virtual_memory().percent)\n",
    "\n",
    "#HDKIMHDKIM"
   ]
  },
  {
   "cell_type": "code",
   "execution_count": 68,
   "metadata": {
    "execution": {
     "iopub.execute_input": "2023-02-21T09:40:16.739963Z",
     "iopub.status.busy": "2023-02-21T09:40:16.739268Z",
     "iopub.status.idle": "2023-02-21T09:40:16.741885Z",
     "shell.execute_reply": "2023-02-21T09:40:16.742324Z"
    },
    "papermill": {
     "duration": 0.07352,
     "end_time": "2023-02-21T09:40:16.742503",
     "exception": false,
     "start_time": "2023-02-21T09:40:16.668983",
     "status": "completed"
    },
    "tags": []
   },
   "outputs": [],
   "source": [
    "# model = lgb.Booster(model_file='../input/riiid-lgbm-starter/model.txt')\n",
    "env = riiideducation.make_env()"
   ]
  },
  {
   "cell_type": "code",
   "execution_count": 69,
   "metadata": {
    "execution": {
     "iopub.execute_input": "2023-02-21T09:40:16.874938Z",
     "iopub.status.busy": "2023-02-21T09:40:16.874195Z",
     "iopub.status.idle": "2023-02-21T09:40:16.877506Z",
     "shell.execute_reply": "2023-02-21T09:40:16.876910Z"
    },
    "papermill": {
     "duration": 0.071251,
     "end_time": "2023-02-21T09:40:16.877648",
     "exception": false,
     "start_time": "2023-02-21T09:40:16.806397",
     "status": "completed"
    },
    "tags": []
   },
   "outputs": [],
   "source": [
    "iter_test = env.iter_test()\n",
    "prior_test_df = None"
   ]
  },
  {
   "cell_type": "code",
   "execution_count": 70,
   "metadata": {
    "execution": {
     "iopub.execute_input": "2023-02-21T09:40:17.035074Z",
     "iopub.status.busy": "2023-02-21T09:40:17.034021Z",
     "iopub.status.idle": "2023-02-21T09:40:17.958025Z",
     "shell.execute_reply": "2023-02-21T09:40:17.957454Z"
    },
    "papermill": {
     "duration": 1.015745,
     "end_time": "2023-02-21T09:40:17.958148",
     "exception": false,
     "start_time": "2023-02-21T09:40:16.942403",
     "status": "completed"
    },
    "tags": []
   },
   "outputs": [
    {
     "name": "stdout",
     "output_type": "stream",
     "text": [
      "32.1\n",
      "32.1\n",
      "32.1\n",
      "CPU times: user 1.28 s, sys: 61.1 ms, total: 1.34 s\n",
      "Wall time: 921 ms\n"
     ]
    }
   ],
   "source": [
    "%%time\n",
    "\n",
    "for (test_df, sample_prediction_df) in iter_test:    \n",
    "    if (prior_test_df is not None) & (psutil.virtual_memory().percent<90):\n",
    "        print(psutil.virtual_memory().percent)\n",
    "        prior_test_df[target] = eval(test_df['prior_group_answers_correct'].iloc[0])\n",
    "        prior_test_df = prior_test_df[prior_test_df[target] != -1].reset_index(drop=True)       \n",
    "        prior_test_df['prior_question_had_explanation'].fillna(False, inplace=True)       \n",
    "        prior_test_df.prior_question_had_explanation=prior_test_df.prior_question_had_explanation.astype('int8')\n",
    "        \n",
    "        #HDKIM SAKT State Update\n",
    "        prev_group = prior_test_df[['user_id', 'content_id', 'answered_correctly']].groupby('user_id').apply(lambda r: (\n",
    "            r['content_id'].values,\n",
    "            r['answered_correctly'].values))\n",
    "        for prev_user_id in prev_group.index:\n",
    "            prev_group_content = prev_group[prev_user_id][0]\n",
    "            prev_group_ac = prev_group[prev_user_id][1]\n",
    "            if prev_user_id in group.index:\n",
    "                group[prev_user_id] = (np.append(group[prev_user_id][0],prev_group_content), \n",
    "                                       np.append(group[prev_user_id][1],prev_group_ac))\n",
    "            else:\n",
    "                group[prev_user_id] = (prev_group_content,prev_group_ac)\n",
    "            if len(group[prev_user_id][0])>MAX_SEQ:\n",
    "                new_group_content = group[prev_user_id][0][-MAX_SEQ:]\n",
    "                new_group_ac = group[prev_user_id][1][-MAX_SEQ:]\n",
    "                group[prev_user_id] = (new_group_content,new_group_ac)\n",
    "\n",
    "        #HDKIMHDKIM\n",
    "    \n",
    "        user_ids = prior_test_df['user_id'].values\n",
    "        content_ids = prior_test_df['content_id'].values\n",
    "        task_container_ids = prior_test_df['task_container_id'].values\n",
    "        prior_question_had_explanations = prior_test_df['prior_question_had_explanation'].values\n",
    "        targets = prior_test_df[target].values\n",
    "       \n",
    "        for user_id, content_id,prior_question_had_explanation,task_container_id,answered_correctly in zip(user_ids, content_ids, prior_question_had_explanations,task_container_ids,targets):\n",
    "            user_sum_dict[user_id] += answered_correctly\n",
    "            user_count_dict[user_id] += 1         \n",
    "            explanation_sum_dict[user_id] += prior_question_had_explanation\n",
    "            explanation_count_dict[user_id] += 1\n",
    "            \n",
    "\n",
    "    prior_test_df = test_df.copy()\n",
    "    lecture_test_df = test_df[test_df['content_type_id'] == 1].reset_index(drop=True)\n",
    "    \n",
    "    for i, (user_id,content_type_id, content_id) in enumerate(zip(lecture_test_df['user_id'].values,lecture_test_df['content_type_id'].values,lecture_test_df['content_id'].values)):\n",
    "      \n",
    "        user_lecture_sum_dict[user_id] += content_type_id\n",
    "        user_lecture_count_dict[user_id] += 1\n",
    "        #\n",
    "        if(len(user_lecture_stats_part[user_lecture_stats_part.user_id==user_id])==0):\n",
    "            user_lecture_stats_part = user_lecture_stats_part.append([{'user_id':user_id}], ignore_index=True)\n",
    "            user_lecture_stats_part.fillna(0, inplace=True)\n",
    "            user_lecture_stats_part.loc[user_lecture_stats_part.user_id==user_id,part_lectures_columns + types_of_lectures_columns]+=lectures_df[lectures_df.lecture_id==content_id][part_lectures_columns + types_of_lectures_columns].values\n",
    "        else:\n",
    "            user_lecture_stats_part.loc[user_lecture_stats_part.user_id==user_id,part_lectures_columns + types_of_lectures_columns]+=lectures_df[lectures_df.lecture_id==content_id][part_lectures_columns + types_of_lectures_columns].values\n",
    "  \n",
    "        \n",
    "    test_df = test_df[test_df['content_type_id'] == 0].reset_index(drop=True)\n",
    "   \n",
    "    #HDKIM SAKT\n",
    "    test_dataset = TestDataset(group, test_df, skills)\n",
    "    test_dataloader = DataLoader(test_dataset, batch_size=51200, shuffle=False)\n",
    "    \n",
    "    SAKT_outs = []\n",
    "\n",
    "    for item in test_dataloader:\n",
    "        x = item[0].to(device).long()\n",
    "        target_id = item[1].to(device).long()\n",
    "\n",
    "        with torch.no_grad():\n",
    "            output, att_weight = SAKT_model(x, target_id)\n",
    " \n",
    "        output = torch.sigmoid(output)\n",
    "        output = output[:, -1]\n",
    "        SAKT_outs.extend(output.view(-1).data.cpu().numpy())\n",
    "    \n",
    "    #HDKIMHDKIM\n",
    "\n",
    "    test_df['prior_question_had_explanation'].fillna(False, inplace=True)\n",
    "    test_df.prior_question_had_explanation=test_df.prior_question_had_explanation.astype('int8')\n",
    "    test_df['prior_question_elapsed_time'].fillna(prior_question_elapsed_time_mean, inplace=True)\n",
    "    \n",
    "\n",
    "    user_lecture_sum = np.zeros(len(test_df), dtype=np.int16)\n",
    "    user_lecture_count = np.zeros(len(test_df), dtype=np.int16) \n",
    "    \n",
    "    user_sum = np.zeros(len(test_df), dtype=np.int16)\n",
    "    user_count = np.zeros(len(test_df), dtype=np.int16)\n",
    "    content_sum = np.zeros(len(test_df), dtype=np.int32)\n",
    "    content_count = np.zeros(len(test_df), dtype=np.int32)\n",
    "    task_container_sum = np.zeros(len(test_df), dtype=np.int32)\n",
    "    task_container_count = np.zeros(len(test_df), dtype=np.int32)\n",
    "    task_container_std = np.zeros(len(test_df), dtype=np.float16)\n",
    "    content_task_mean = np.zeros(len(test_df), dtype=np.float16)\n",
    "    explanation_sum = np.zeros(len(test_df), dtype=np.int32)\n",
    "    explanation_count = np.zeros(len(test_df), dtype=np.int32)\n",
    "    delta_prior_question_elapsed_time = np.zeros(len(test_df), dtype=np.int32)\n",
    "\n",
    "    attempt_no_count = np.zeros(len(test_df), dtype=np.int16)\n",
    "    lagtime = np.zeros(len(test_df), dtype=np.int32)\n",
    "    lagtime_mean = np.zeros(len(test_df), dtype=np.int32)\n",
    "   \n",
    "    \n",
    "    for i, (user_id,prior_question_had_explanation,content_type_id,prior_question_elapsed_time,timestamp, content_id,task_container_id) in enumerate(zip(test_df['user_id'].values,test_df['prior_question_had_explanation'].values,test_df['content_type_id'].values,test_df['prior_question_elapsed_time'].values,test_df['timestamp'].values, test_df['content_id'].values, test_df['task_container_id'].values)):\n",
    "         \n",
    "        user_lecture_sum_dict[user_id] += content_type_id\n",
    "        user_lecture_count_dict[user_id] += 1\n",
    "        \n",
    "        user_lecture_sum[i] = user_lecture_sum_dict[user_id]\n",
    "        user_lecture_count[i] = user_lecture_count_dict[user_id]\n",
    "        \n",
    "        user_sum[i] = user_sum_dict[user_id]\n",
    "        user_count[i] = user_count_dict[user_id]\n",
    "        content_sum[i] = content_sum_dict[content_id]\n",
    "        content_count[i] = content_count_dict[content_id]\n",
    "        task_container_sum[i] = task_container_sum_dict[task_container_id]\n",
    "        task_container_count[i] = task_container_count_dict[task_container_id]\n",
    "        task_container_std[i]=task_container_std_dict[task_container_id]\n",
    "      \n",
    "        explanation_sum[i] = explanation_sum_dict[user_id]\n",
    "        explanation_count[i] = explanation_count_dict[user_id]\n",
    "  \n",
    "        if user_id in max_timestamp_u_dict['max_time_stamp'].keys():\n",
    "            lagtime[i]=timestamp-max_timestamp_u_dict['max_time_stamp'][user_id]\n",
    "            max_timestamp_u_dict['max_time_stamp'][user_id]=timestamp\n",
    "            lagtime_mean[i]=(lagtime_mean_dict[user_id]+lagtime[i])/2           \n",
    "        else:\n",
    "            lagtime[i]=0\n",
    "            max_timestamp_u_dict['max_time_stamp'].update({user_id:timestamp})\n",
    "            lagtime_mean_dict.update({user_id:timestamp})\n",
    "            lagtime_mean[i]=(lagtime_mean_dict[user_id]+lagtime[i])/2\n",
    "            \n",
    "        if user_id in user_prior_question_elapsed_time_dict['prior_question_elapsed_time'].keys():            \n",
    "            delta_prior_question_elapsed_time[i]=prior_question_elapsed_time-user_prior_question_elapsed_time_dict['prior_question_elapsed_time'][user_id]\n",
    "            user_prior_question_elapsed_time_dict['prior_question_elapsed_time'][user_id]=prior_question_elapsed_time\n",
    "        else:           \n",
    "            delta_prior_question_elapsed_time[i]=0    \n",
    "            user_prior_question_elapsed_time_dict['prior_question_elapsed_time'].update({user_id:prior_question_elapsed_time})\n",
    "           \n",
    "        \n",
    "        \n",
    "    \n",
    "    #\n",
    "    #test_df = pd.merge(test_df, questions_df, on='content_id', how='left',right_index=True)    \n",
    "    #test_df = pd.concat([test_df.reset_index(drop=True), questions_df.reindex(test_df['content_id'].values).reset_index(drop=True)], axis=1)\n",
    "    test_df=test_df.merge(questions_df.loc[questions_df.index.isin(test_df['content_id'])],\n",
    "                  how='left', on='content_id', right_index=True)\n",
    "    \n",
    "    #test_df = pd.merge(test_df, user_lecture_stats_part, on=['user_id'], how=\"left\",right_index=True)\n",
    "    #test_df = pd.concat([test_df.reset_index(drop=True), user_lecture_stats_part.reindex(test_df['user_id'].values).reset_index(drop=True)], axis=1)\n",
    "#     test_df=test_df.merge(user_lecture_stats_part.loc[user_lecture_stats_part.index.isin(test_df['user_id'])],\n",
    "#                   how='left', on='user_id', right_index=True)\n",
    " \n",
    "    test_df['user_lecture_lv'] = user_lecture_sum / user_lecture_count\n",
    "    test_df['user_lecture_cumsum'] = user_lecture_sum\n",
    "    test_df['user_correctness'] = user_sum / user_count\n",
    "    test_df['user_correct_cumcount'] =user_count\n",
    "    test_df['user_correct_cumsum'] =user_sum\n",
    "    #\n",
    "    test_df['content_correctness'] = content_sum / content_count\n",
    "    test_df['content_count'] = content_count\n",
    "    test_df['content_sum'] = content_sum\n",
    "    \n",
    "    test_df['task_container_correctness'] = task_container_sum / task_container_count\n",
    "    test_df['task_container_sum'] = task_container_sum \n",
    "    test_df['task_container_std'] = task_container_std \n",
    "    #test_df['content_task_mean'] = content_task_mean \n",
    "    \n",
    "    test_df['explanation_mean'] = explanation_sum / explanation_count\n",
    "    test_df['explanation_cumsum'] = explanation_sum \n",
    "    \n",
    "    #\n",
    "    test_df['delta_prior_question_elapsed_time'] = delta_prior_question_elapsed_time \n",
    "    \n",
    "  \n",
    " \n",
    "    test_df[\"attempt_no\"] = test_df[[\"user_id\", \"content_id\"]].apply(lambda row: get_max_attempt(row[\"user_id\"], row[\"content_id\"]), axis=1)\n",
    "    test_df[\"lagtime\"]=lagtime\n",
    "    test_df[\"lagtime_mean\"]=lagtime_mean\n",
    "\n",
    "    test_df['user_correctness'].fillna( 1, inplace=True)\n",
    "    test_df['attempt_no'].fillna(1, inplace=True)\n",
    "    #\n",
    "    test_df.fillna(0, inplace=True)\n",
    "    \n",
    "\n",
    "    test_df['timestamp']=test_df['timestamp']/(1000*3600)\n",
    "    test_df.timestamp=test_df.timestamp.astype('int16')\n",
    "\n",
    "\n",
    "    sub_preds = np.zeros(test_df.shape[0])\n",
    "    for i, model in enumerate(clfs, 1):\n",
    "        test_preds  = model.predict(test_df[features])\n",
    "        sub_preds += test_preds\n",
    "    #HDKIM\n",
    "    #test_df[target] = sub_preds / len(clfs) #HDKIM\n",
    "    \n",
    "    lgbm_final = sub_preds / len(clfs)   \n",
    "    test_df[target] = np.array(SAKT_outs) * 0.5 + lgbm_final * 0.5\n",
    "    #HDKIMHDKIM\n",
    "\n",
    "    env.predict(test_df[['row_id', target]])"
   ]
  }
 ],
 "metadata": {
  "kernelspec": {
   "display_name": "Python 3",
   "language": "python",
   "name": "python3"
  },
  "language_info": {
   "codemirror_mode": {
    "name": "ipython",
    "version": 3
   },
   "file_extension": ".py",
   "mimetype": "text/x-python",
   "name": "python",
   "nbconvert_exporter": "python",
   "pygments_lexer": "ipython3",
   "version": "3.7.6"
  },
  "papermill": {
   "duration": 4057.787883,
   "end_time": "2023-02-21T09:40:18.333024",
   "environment_variables": {},
   "exception": null,
   "input_path": "__notebook__.ipynb",
   "output_path": "__notebook__.ipynb",
   "parameters": {},
   "start_time": "2023-02-21T08:32:40.545141",
   "version": "2.1.0"
  }
 },
 "nbformat": 4,
 "nbformat_minor": 4
}
